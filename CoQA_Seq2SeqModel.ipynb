{
 "cells": [
  {
   "cell_type": "markdown",
   "metadata": {
    "id": "wexvxzmC2LqV"
   },
   "source": [
    "# **Seq2Seq Model**"
   ]
  },
  {
   "cell_type": "code",
   "execution_count": null,
   "metadata": {
    "id": "vG5oB3k3dhaT"
   },
   "outputs": [],
   "source": [
    "!sudo apt-get install cuda"
   ]
  },
  {
   "cell_type": "code",
   "execution_count": null,
   "metadata": {
    "id": "NknxTT0nZKoT"
   },
   "outputs": [],
   "source": [
    "from google.colab import drive\n",
    "drive.mount('/content/drive')"
   ]
  },
  {
   "cell_type": "code",
   "execution_count": null,
   "metadata": {
    "id": "6sLI5xdgdhaa"
   },
   "outputs": [],
   "source": [
    "!pip install nltk\n",
    "!pip install torch==1.0.0\n",
    "!pip install spacy\n",
    "!python -m spacy download en_core_web_sm\n",
    "!pip install pandas"
   ]
  },
  {
   "cell_type": "code",
   "execution_count": null,
   "metadata": {
    "id": "a8WQNtvIZVj6"
   },
   "outputs": [],
   "source": [
    "#from google.colab import drive\n",
    "#drive.mount('/content/drive')\n",
    "import sys\n",
    "import gzip\n",
    "import pandas as pd\n",
    "import numpy as np\n",
    "from tqdm import tqdm\n",
    "import nltk\n",
    "import pickle\n",
    "import collections\n",
    "from pandas.io.json import json_normalize\n",
    "import torch\n",
    "from torch import nn\n",
    "import re, os, string, typing, gc, json\n",
    "import spacy\n",
    "from collections import Counter\n",
    "import time\n",
    "from torch import optim\n",
    "import random\n",
    "nlp = spacy.load('en_core_web_sm', exclude = 'tagger, parser, ner')\n",
    "device = torch.device(\"cuda\" if torch.cuda.is_available() else \"cpu\")\n"
   ]
  },
  {
   "cell_type": "code",
   "execution_count": null,
   "metadata": {
    "id": "DEzEAlvh6HGt"
   },
   "outputs": [],
   "source": [
    "device = torch.device(\"cuda\" if torch.cuda.is_available() else \"cpu\")\n",
    "!nvidia-smi"
   ]
  },
  {
   "cell_type": "code",
   "execution_count": null,
   "metadata": {
    "id": "_1yVRDaBSE66"
   },
   "outputs": [],
   "source": [
    "data=json.load((open('coqa-train-v1.0.json')))\n",
    "ans=json_normalize(data['data'], ['answers'],['id'])\n",
    "ans['id'] = ans.apply(lambda row: row.id + str(row.turn_id), axis=1)\n",
    "train_df=ans[['id','span_text','input_text']]\n",
    "train_df.rename({'span_text':'X_train','input_text':'Y_train'}, axis=1, inplace=True)\n",
    "train_df.head()\n"
   ]
  },
  {
   "cell_type": "code",
   "execution_count": null,
   "metadata": {
    "id": "CbvcJXPmVyBM"
   },
   "outputs": [],
   "source": [
    "data=json.load((open('coqa-dev-v1.0.json')))\n",
    "ans=json_normalize(data['data'], ['answers'],['id'])\n",
    "ans['id'] = ans.apply(lambda row: row.id + str(row.turn_id), axis=1)\n",
    "valid_df=ans[['id','span_text','input_text']]\n",
    "valid_df.rename({'span_text':'X_train','input_text':'Y_train'}, axis=1, inplace=True)\n",
    "valid_df.head()"
   ]
  },
  {
   "cell_type": "code",
   "execution_count": null,
   "metadata": {
    "id": "KiyCXsUOdHg-"
   },
   "outputs": [],
   "source": [
    "def normalize_spaces(text):\n",
    "    '''\n",
    "    Removes extra white spaces from the context.\n",
    "    '''\n",
    "    text = re.sub(r'\\s', ' ', text)\n",
    "    return text\n",
    "\n",
    "train_df.X_train = train_df.X_train.apply(normalize_spaces)\n",
    "train_df.Y_train = train_df.Y_train.apply(normalize_spaces)\n",
    "\n",
    "valid_df.X_train = valid_df.X_train.apply(normalize_spaces)\n",
    "valid_df.Y_train = valid_df.Y_train.apply(normalize_spaces)\n"
   ]
  },
  {
   "cell_type": "code",
   "execution_count": null,
   "metadata": {
    "id": "nTIRYoxgZUB8"
   },
   "outputs": [],
   "source": [
    "train_df=train_df[:10000]"
   ]
  },
  {
   "cell_type": "code",
   "execution_count": null,
   "metadata": {
    "id": "_2cAYM_iTtCL"
   },
   "outputs": [],
   "source": [
    "def gather_text_for_vocab(dfs:list):\n",
    "    '''\n",
    "    Gathers text from contexts and questions to build a vocabulary.\n",
    "    \n",
    "    :param dfs: list of dataframes of CoQA dataset.\n",
    "    :returns: list of contexts and questions\n",
    "    '''\n",
    "    \n",
    "    text = []\n",
    "    total = 0\n",
    "    for df in dfs:\n",
    "        unique_spans = list(df.X_train.unique())\n",
    "        unique_answers = list(df.Y_train.unique())\n",
    "        total += df.X_train.nunique() + df.Y_train.nunique()\n",
    "        text.extend(unique_spans + unique_answers)\n",
    "    \n",
    "    assert len(text) == total\n",
    "    \n",
    "    return text\n",
    "    \n",
    "# gather text to build vocabularies\n",
    "\n",
    "%time vocab_text = gather_text_for_vocab([train_df, valid_df])\n",
    "print(\"Number of sentences in dataset: \", len(vocab_text))"
   ]
  },
  {
   "cell_type": "code",
   "execution_count": null,
   "metadata": {
    "id": "zPDEturiXfOb"
   },
   "outputs": [],
   "source": [
    "def build_word_vocab(vocab_text):\n",
    "    '''\n",
    "    Builds a word-level vocabulary from the given text.\n",
    "    \n",
    "    :param list vocab_text: list of contexts and questions\n",
    "    :returns \n",
    "        dict word2idx: word to index mapping of words\n",
    "        dict idx2word: integer to word mapping\n",
    "        list word_vocab: list of words sorted by frequency\n",
    "    '''\n",
    "    \n",
    "    \n",
    "    words = []\n",
    "    for sent in vocab_text:\n",
    "        for word in nlp(sent, disable=['parser','tagger','ner']):\n",
    "            words.append(word.text)\n",
    "\n",
    "    word_counter = Counter(words)\n",
    "    word_vocab = sorted(word_counter, key=word_counter.get, reverse=True)\n",
    "    print(f\"raw-vocab: {len(word_vocab)}\")\n",
    "    #word_vocab = list(set(word_vocab).intersection(set(glove_words)))\n",
    "    print(f\"glove-vocab: {len(word_vocab)}\")\n",
    "    word_vocab.insert(0, '<unk>')\n",
    "    word_vocab.insert(1, '<pad>')\n",
    "    print(f\"vocab-length: {len(word_vocab)}\")\n",
    "    word2idx = {word:idx for idx, word in enumerate(word_vocab)}\n",
    "    print(f\"word2idx-length: {len(word2idx)}\")\n",
    "    idx2word = {v:k for k,v in word2idx.items()}\n",
    "    \n",
    "    \n",
    "    return word2idx, idx2word, word_vocab\n",
    "\n",
    "# build word vocabulary\n",
    "\n",
    "%time word2idx, idx2word, word_vocab = build_word_vocab(vocab_text)"
   ]
  },
  {
   "cell_type": "code",
   "execution_count": null,
   "metadata": {
    "id": "r0z_EhZ0XrAD"
   },
   "outputs": [],
   "source": [
    "def build_char_vocab(vocab_text):\n",
    "    '''\n",
    "    Builds a character-level vocabulary from the given text.\n",
    "    \n",
    "    :param list vocab_text: list of contexts and questions\n",
    "    :returns \n",
    "        dict char2idx: character to index mapping of words\n",
    "        list char_vocab: list of characters sorted by frequency\n",
    "    '''\n",
    "    \n",
    "    chars = []\n",
    "    for sent in vocab_text:\n",
    "        for ch in sent:\n",
    "            chars.append(ch)\n",
    "\n",
    "    char_counter = Counter(chars)\n",
    "    char_vocab = sorted(char_counter, key=char_counter.get, reverse=True)\n",
    "    print(f\"raw-char-vocab: {len(char_vocab)}\")\n",
    "    high_freq_char = [char for char, count in char_counter.items() if count>=20]\n",
    "    char_vocab = list(set(char_vocab).intersection(set(high_freq_char)))\n",
    "    print(f\"char-vocab-intersect: {len(char_vocab)}\")\n",
    "    char_vocab.insert(0,'<unk>')\n",
    "    char_vocab.insert(1,'<pad>')\n",
    "    char2idx = {char:idx for idx, char in enumerate(char_vocab)}\n",
    "    print(f\"char2idx-length: {len(char2idx)}\")\n",
    "    \n",
    "    return char2idx, char_vocab"
   ]
  },
  {
   "cell_type": "code",
   "execution_count": null,
   "metadata": {
    "id": "BSU_3QiDXuDM"
   },
   "outputs": [],
   "source": [
    "def context_to_ids(text, word2idx):\n",
    "    '''\n",
    "    Converts context text to their respective ids by mapping each word\n",
    "    using word2idx. Input text is tokenized using spacy tokenizer first.\n",
    "    \n",
    "    :param str text: context text to be converted\n",
    "    :returns list context_ids: list of mapped ids\n",
    "    \n",
    "    :raises assertion error: sanity check\n",
    "    \n",
    "    '''\n",
    "\n",
    "    context_tokens = [w.text for w in nlp(text, disable=['parser','tagger','ner'])]\n",
    "    context_ids = [word2idx[word] for word in context_tokens]\n",
    "    \n",
    "    assert len(context_ids) == len(context_tokens)\n",
    "    return context_ids\n",
    "    \n",
    "def question_to_ids(text, word2idx):\n",
    "    '''\n",
    "    Converts question text to their respective ids by mapping each word\n",
    "    using word2idx. Input text is tokenized using spacy tokenizer first.\n",
    "    \n",
    "    :param str text: question text to be converted\n",
    "    :returns list context_ids: list of mapped ids\n",
    "    \n",
    "    :raises assertion error: sanity check\n",
    "    \n",
    "    '''\n",
    "\n",
    "    question_tokens = [w.text for w in nlp(text, disable=['parser','tagger','ner'])]\n",
    "    question_ids = [word2idx[word] for word in question_tokens]\n",
    "    \n",
    "    assert len(question_ids) == len(question_tokens)\n",
    "    return question_ids"
   ]
  },
  {
   "cell_type": "code",
   "execution_count": null,
   "metadata": {
    "id": "ReTRJbI4XuA1"
   },
   "outputs": [],
   "source": [
    "# numericalize context and questions for training and validation set\n",
    "\n",
    "%time train_df['X_train_ids'] = train_df.X_train.apply(context_to_ids, word2idx=word2idx)\n",
    "%time valid_df['X_train_ids'] = valid_df.X_train.apply(context_to_ids, word2idx=word2idx)\n",
    "\n",
    "%time train_df['Y_train_ids'] = train_df.Y_train.apply(question_to_ids,  word2idx=word2idx)\n",
    "%time valid_df['Y_train_ids'] = valid_df.Y_train.apply(question_to_ids,  word2idx=word2idx)"
   ]
  },
  {
   "cell_type": "code",
   "execution_count": null,
   "metadata": {
    "id": "DtkPFYIS6r5d"
   },
   "outputs": [],
   "source": [
    "X_train_ids=[]\n",
    "for index,row in train_df.iterrows():\n",
    "    X_train_ids.append(row[3])\n",
    "Y_train_ids=[]\n",
    "for index,row in train_df.iterrows():\n",
    "    Y_train_ids.append(row[4])"
   ]
  },
  {
   "cell_type": "code",
   "execution_count": null,
   "metadata": {
    "id": "pjIcEVZg3YFD"
   },
   "outputs": [],
   "source": [
    "vocab_size=0\n",
    "for index,row in train_df.iterrows():\n",
    "  vocab_size=max(vocab_size,max(row[3]))\n",
    "print(vocab_size)"
   ]
  },
  {
   "cell_type": "code",
   "execution_count": null,
   "metadata": {
    "id": "ZAY60Sqf4cPP"
   },
   "outputs": [],
   "source": [
    "for index,row in valid_df.iterrows():\n",
    "  vocab_size=max(vocab_size,max(row[3]))\n",
    "print(vocab_size)"
   ]
  },
  {
   "cell_type": "markdown",
   "metadata": {
    "id": "rw6KXdAYgit3"
   },
   "source": [
    "Converting both X_train and Y_train to same size of length 128"
   ]
  },
  {
   "cell_type": "code",
   "execution_count": null,
   "metadata": {
    "id": "9pOw0IQN1vyS"
   },
   "outputs": [],
   "source": [
    "N=128\n",
    "for i in range(len(X_train_ids)):\n",
    "  if len(X_train_ids[i])>N:\n",
    "    X_train_ids[i]=X_train_ids[i][:N]\n",
    "  else:\n",
    "    X_train_ids[i]+=[1] * (N - len(X_train_ids[i]))"
   ]
  },
  {
   "cell_type": "code",
   "execution_count": null,
   "metadata": {
    "id": "8Vk-wrRk2Gy2"
   },
   "outputs": [],
   "source": [
    "N=128\n",
    "for i in range(len(Y_train_ids)):\n",
    "  if len(Y_train_ids[i])>N:\n",
    "    Y_train_ids[i]=Y_train_ids[i][:N]\n",
    "    print(len(Y_train_ids[i]))\n",
    "  else:\n",
    "    Y_train_ids[i]+=[1] * (N - len(Y_train_ids[i]))"
   ]
  },
  {
   "cell_type": "markdown",
   "metadata": {
    "id": "kmrF3Xhrgxa-"
   },
   "source": [
    "Making pairs of each X_Train and Y_train"
   ]
  },
  {
   "cell_type": "code",
   "execution_count": null,
   "metadata": {
    "id": "DBGYBhDpdhal"
   },
   "outputs": [],
   "source": [
    "pairs=[]\n",
    "for i in range(len(X_train_ids)):\n",
    "    pairs.append((X_train_ids[i], Y_train_ids[i]))"
   ]
  },
  {
   "cell_type": "markdown",
   "metadata": {
    "id": "Zzc9a9Jtg6dV"
   },
   "source": [
    "Converting X_Triain and Y_train to tensors"
   ]
  },
  {
   "cell_type": "code",
   "execution_count": null,
   "metadata": {
    "id": "R8xCU1ZYdham"
   },
   "outputs": [],
   "source": [
    "X = torch.tensor(X_train_ids, dtype=torch.long).view(-1,1)\n",
    "Y = torch.tensor(Y_train_ids, dtype=torch.long).view(-1,1)"
   ]
  },
  {
   "cell_type": "markdown",
   "metadata": {
    "id": "ywqfAslfhKYV"
   },
   "source": [
    "# **Model**\n",
    "\n",
    "A Recurrent Neural Network, or RNN, is a network that operates on a sequence and uses its own output as input for subsequent steps.\n",
    "\n",
    "A Sequence to Sequence network, or seq2seq network, or Encoder Decoder network, is a model consisting of two RNNs called the encoder and decoder. The encoder reads an input sequence and outputs a single vector, and the decoder reads that vector to produce an output sequence.\n",
    "\n",
    "\n",
    "![WhatsApp Image 2021-05-01 at 8.23.32 PM.jpeg](data:image/jpeg;base64,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)"
   ]
  },
  {
   "cell_type": "markdown",
   "metadata": {
    "id": "YhBDXmSn3vwM"
   },
   "source": [
    "**Encoder**:\n",
    "\n",
    "Encoder is a RNN that outputs some value for every word in input sentence. For every input word, the encoder outputs a vector and a hidden state. The hidden state is used along with the  next input word."
   ]
  },
  {
   "cell_type": "code",
   "execution_count": null,
   "metadata": {
    "id": "UgIoFih8dJ4V"
   },
   "outputs": [],
   "source": [
    "##Seq-to-seq Encoder-Decoder layers\n",
    "\n",
    "class EncoderRNN(nn.Module):\n",
    "    def __init__(self, input_size, hidden_size):\n",
    "        super(EncoderRNN, self).__init__()\n",
    "        self.hidden_size = hidden_size\n",
    "\n",
    "        self.embedding = nn.Embedding(input_size, hidden_size)\n",
    "        self.gru = nn.GRU(hidden_size, hidden_size)\n",
    "\n",
    "    def forward(self, input, hidden):\n",
    "        embedded = self.embedding(input).view(1, 1, -1)\n",
    "        output = embedded\n",
    "        output, hidden = self.gru(output, hidden)\n",
    "        return output, hidden\n",
    "\n",
    "    def initHidden(self):\n",
    "        return torch.zeros(1, 1, self.hidden_size, device=device)"
   ]
  },
  {
   "cell_type": "markdown",
   "metadata": {
    "id": "esLC1stL4k1j"
   },
   "source": [
    "**Decoder**:\n",
    "\n",
    "Decoder takes the context vector as the input to the first decoder unit. Then, the output of every decoder is taken as input to the next decoder unit to produce one sentence."
   ]
  },
  {
   "cell_type": "code",
   "execution_count": null,
   "metadata": {
    "id": "s3dJJIoidyXO"
   },
   "outputs": [],
   "source": [
    "class DecoderRNN(nn.Module):\n",
    "    def __init__(self, hidden_size, output_size):\n",
    "        super(DecoderRNN, self).__init__()\n",
    "        self.hidden_size = hidden_size\n",
    "\n",
    "        self.embedding = nn.Embedding(output_size, hidden_size)\n",
    "        self.gru = nn.GRU(hidden_size, hidden_size)\n",
    "        self.out = nn.Linear(hidden_size, output_size)\n",
    "        self.softmax = nn.LogSoftmax(dim=1)\n",
    "\n",
    "    def forward(self, input, hidden):\n",
    "        output = self.embedding(input).view(1, 1, -1)\n",
    "        output = F.relu(output)\n",
    "        output, hidden = self.gru(output, hidden)\n",
    "        output = self.softmax(self.out(output[0]))\n",
    "        return output, hidden\n",
    "\n",
    "    def initHidden(self):\n",
    "        return torch.zeros(1, 1, self.hidden_size, device=device)"
   ]
  },
  {
   "cell_type": "markdown",
   "metadata": {
    "id": "XaVeTapc4q3m"
   },
   "source": [
    "**Attention**:\n",
    "\n",
    "Attention helps decoder to choose the right output word and to focus only on a specific range in input sequence.\n"
   ]
  },
  {
   "cell_type": "code",
   "execution_count": null,
   "metadata": {
    "id": "4tWClD6Od1BE"
   },
   "outputs": [],
   "source": [
    "MAX_LENGTH=10\n",
    "class AttnDecoderRNN(nn.Module):\n",
    "    def __init__(self, hidden_size, output_size, dropout_p=0.1, max_length=MAX_LENGTH):\n",
    "        super(AttnDecoderRNN, self).__init__()\n",
    "        self.hidden_size = hidden_size\n",
    "        self.output_size = output_size\n",
    "        self.dropout_p = dropout_p\n",
    "        self.max_length = max_length\n",
    "\n",
    "        self.embedding = nn.Embedding(self.output_size, self.hidden_size)\n",
    "        self.attn = nn.Linear(self.hidden_size * 2, self.max_length)\n",
    "        self.attn_combine = nn.Linear(self.hidden_size * 2, self.hidden_size)\n",
    "        self.dropout = nn.Dropout(self.dropout_p)\n",
    "        self.gru = nn.GRU(self.hidden_size, self.hidden_size)\n",
    "        self.out = nn.Linear(self.hidden_size, self.output_size)\n",
    "\n",
    "    def forward(self, input, hidden, encoder_outputs):\n",
    "        embedded = self.embedding(input).view(1, 1, -1)\n",
    "        embedded = self.dropout(embedded)\n",
    "\n",
    "        attn_weights = F.softmax(\n",
    "            self.attn(torch.cat((embedded[0], hidden[0]), 1)), dim=1)\n",
    "        attn_applied = torch.bmm(attn_weights.unsqueeze(0),\n",
    "                                 encoder_outputs.unsqueeze(0))\n",
    "\n",
    "        output = torch.cat((embedded[0], attn_applied[0]), 1)\n",
    "        output = self.attn_combine(output).unsqueeze(0)\n",
    "\n",
    "        output = F.relu(output)\n",
    "        output, hidden = self.gru(output, hidden)\n",
    "\n",
    "        output = F.log_softmax(self.out(output[0]), dim=1)\n",
    "        return output, hidden, attn_weights\n",
    "\n",
    "    def initHidden(self):\n",
    "        return torch.zeros(1, 1, self.hidden_size, device=device)"
   ]
  },
  {
   "cell_type": "markdown",
   "metadata": {
    "id": "JoUcmlm44weZ"
   },
   "source": [
    "**Teacher Forcing**:\n",
    "\n",
    "We use real target outputs as each next input instead  of using decoder's guess as the next input"
   ]
  },
  {
   "cell_type": "code",
   "execution_count": null,
   "metadata": {
    "id": "QQLhwtMXg02d"
   },
   "outputs": [],
   "source": [
    "teacher_forcing_ratio = 0.5\n",
    "\n",
    "\n",
    "def train(input_tensor, target_tensor, encoder, decoder, encoder_optimizer, decoder_optimizer, criterion, max_length=MAX_LENGTH):\n",
    "    encoder_hidden = encoder.initHidden()\n",
    "\n",
    "    encoder_optimizer.zero_grad()\n",
    "    decoder_optimizer.zero_grad()\n",
    "\n",
    "    input_length = input_tensor.size(0)\n",
    "    target_length = target_tensor.size(0)\n",
    "\n",
    "    encoder_outputs = torch.zeros(max_length, encoder.hidden_size, device=device)\n",
    "\n",
    "    loss = 0\n",
    "\n",
    "    for ei in range(input_length):\n",
    "        encoder_output, encoder_hidden = encoder(\n",
    "            input_tensor[ei], encoder_hidden)\n",
    "        encoder_outputs[ei] = encoder_output[0, 0]\n",
    "\n",
    "    decoder_input = torch.tensor(device=device)\n",
    "\n",
    "    decoder_hidden = encoder_hidden\n",
    "\n",
    "    use_teacher_forcing = True if random.random() < teacher_forcing_ratio else False\n",
    "\n",
    "    if use_teacher_forcing:\n",
    "        # Teacher forcing: Feed the target as the next input\n",
    "        for di in range(target_length):\n",
    "            decoder_output, decoder_hidden, decoder_attention = decoder(\n",
    "                decoder_input, decoder_hidden, encoder_outputs)\n",
    "            loss += criterion(decoder_output, target_tensor[di])\n",
    "            decoder_input = target_tensor[di]  # Teacher forcing\n",
    "\n",
    "    else:\n",
    "        # Without teacher forcing: use its own predictions as the next input\n",
    "        for di in range(target_length):\n",
    "            decoder_output, decoder_hidden, decoder_attention = decoder(\n",
    "                decoder_input, decoder_hidden, encoder_outputs)\n",
    "            topv, topi = decoder_output.topk(1)\n",
    "            decoder_input = topi.squeeze().detach()  # detach from history as input\n",
    "\n",
    "            loss += criterion(decoder_output, target_tensor[di])\n",
    "            if decoder_input.item() == EOS_token:\n",
    "                break\n",
    "\n",
    "    loss.backward()\n",
    "\n",
    "    encoder_optimizer.step()\n",
    "    decoder_optimizer.step()\n",
    "\n",
    "    return loss.item() / target_length"
   ]
  },
  {
   "cell_type": "markdown",
   "metadata": {
    "id": "3z944Iax6Gl-"
   },
   "source": [
    "**Helper Functions**:\n",
    "\n",
    "This is a helper function to print time elapsed and estimated time remaining given the current time and progress percentage."
   ]
  },
  {
   "cell_type": "code",
   "execution_count": null,
   "metadata": {
    "id": "m1Ln2uo16FTN"
   },
   "outputs": [],
   "source": [
    "import time\n",
    "import math\n",
    "\n",
    "\n",
    "def asMinutes(s):\n",
    "    m = math.floor(s / 60)\n",
    "    s -= m * 60\n",
    "    return '%dm %ds' % (m, s)\n",
    "\n",
    "\n",
    "def timeSince(since, percent):\n",
    "    now = time.time()\n",
    "    s = now - since\n",
    "    es = s / (percent)\n",
    "    rs = es - s\n",
    "    return '%s (- %s)' % (asMinutes(s), asMinutes(rs))"
   ]
  },
  {
   "cell_type": "markdown",
   "metadata": {
    "id": "voyU4R4K487n"
   },
   "source": [
    "**Training**:\n",
    "\n",
    "Then we call train many times and occasionally print the progress (% of examples, time so far, estimated time) and average loss. This method will train and generate predictions which we save as result.json file."
   ]
  },
  {
   "cell_type": "code",
   "execution_count": null,
   "metadata": {
    "id": "Xxau6sDid3Wk"
   },
   "outputs": [],
   "source": [
    "def trainIters(encoder, decoder, n_iters, print_every=10, plot_every=10, learning_rate=0.01):\n",
    "    start = time.time()\n",
    "    plot_losses = []\n",
    "    print_loss_total = 0  # Reset every print_every\n",
    "    plot_loss_total = 0  # Reset every plot_every\n",
    "\n",
    "    encoder_optimizer = optim.SGD(encoder.parameters(), lr=learning_rate)\n",
    "    decoder_optimizer = optim.SGD(decoder.parameters(), lr=learning_rate)\n",
    "    #training_pairs = [tensorsFromPair(random.choice(pairs))\n",
    "                      for i in range(n_iters)]\n",
    "    criterion = nn.NLLLoss()\n",
    "\n",
    "    for iter in range(1, n_iters + 1):\n",
    "        training_pair = training_pairs[iter - 1]\n",
    "        input_tensor = training_pair[0].to(device)\n",
    "        target_tensor = training_pair[1].to(device)\n",
    "\n",
    "        loss = train(input_tensor, target_tensor, encoder,\n",
    "                     decoder, encoder_optimizer, decoder_optimizer, criterion)\n",
    "        print_loss_total += loss\n",
    "        plot_loss_total += loss\n",
    "\n",
    "        preds = evaluate(encoder1, attn_decoder1)\n",
    "\n",
    "        p1, p2 = preds\n",
    "        for i in range(batch_size):\n",
    "            predictions={}\n",
    "            id = ids[i][:30]\n",
    "            turn_id=ids[i][30:]\n",
    "            pred = context[i][s_idx[i]:e_idx[i]+1]\n",
    "            pred = ' '.join([idx2word[idx.item()] for idx in pred])\n",
    "            predictions['id'] = id\n",
    "            predictions['turn_id']=int(turn_id)\n",
    "            predictions['answer']=pred\n",
    "            prediction.append(predictions)\n",
    "            \n",
    "            \n",
    "        with open('result-{}.json'.format(epoch), 'w') as fp:\n",
    "            json.dump(prediction, fp)\n",
    "        print('result saved')         \n",
    "\n",
    "        if iter % print_every == 0:\n",
    "            print_loss_avg = print_loss_total / print_every\n",
    "            print_loss_total = 0\n",
    "            print('%s (%d %d%%) %.4f' % (timeSince(start, iter / n_iters),\n",
    "                                         iter, iter / n_iters * 100, print_loss_avg))"
   ]
  },
  {
   "cell_type": "markdown",
   "metadata": {
    "id": "ybv8Rbnu7B5z"
   },
   "source": [
    "**Evaluation**:\n",
    "\n",
    "Evaluation is mostly the same as training, but there are no targets so we simply feed the decoder’s predictions back to itself for each step. \n",
    "\n",
    "Every time it predicts a word we add it to the output string, and if it predicts the EOS token we stop there. We also store the decoder’s attention outputs for display later."
   ]
  },
  {
   "cell_type": "code",
   "execution_count": null,
   "metadata": {
    "id": "EUhGOGhLhXfP"
   },
   "outputs": [],
   "source": [
    "def evaluate(encoder, decoder, sentence, max_length=MAX_LENGTH):\n",
    "    with torch.no_grad():\n",
    "        input_tensor = tensorFromSentence(input_lang, sentence)\n",
    "        input_length = input_tensor.size()[0]\n",
    "        encoder_hidden = encoder.initHidden()\n",
    "\n",
    "        encoder_outputs = torch.zeros(max_length, encoder.hidden_size, device=device)\n",
    "\n",
    "        for ei in range(input_length):\n",
    "            encoder_output, encoder_hidden = encoder(input_tensor[ei],\n",
    "                                                     encoder_hidden)\n",
    "            encoder_outputs[ei] += encoder_output[0, 0]\n",
    "\n",
    "        decoder_input = torch.tensor([[SOS_token]], device=device)  # SOS\n",
    "\n",
    "        decoder_hidden = encoder_hidden\n",
    "\n",
    "        decoded_words = []\n",
    "        decoder_attentions = torch.zeros(max_length, max_length)\n",
    "\n",
    "        for di in range(max_length):\n",
    "            decoder_output, decoder_hidden, decoder_attention = decoder(\n",
    "                decoder_input, decoder_hidden, encoder_outputs)\n",
    "            decoder_attentions[di] = decoder_attention.data\n",
    "            topv, topi = decoder_output.data.topk(1)\n",
    "            if topi.item() == EOS_token:\n",
    "                decoded_words.append('<EOS>')\n",
    "                break\n",
    "            else:\n",
    "                decoded_words.append(output_lang.index2word[topi.item()])\n",
    "\n",
    "            decoder_input = topi.squeeze().detach()\n",
    "\n",
    "        return decoded_words, decoder_attentions[:di + 1]"
   ]
  },
  {
   "cell_type": "markdown",
   "metadata": {
    "id": "TnVRw4Nr-j2H"
   },
   "source": [
    "Initialize the Encode and Attention Decoder with hidden size of 128. Then run the model for 10 epochs , result will get saved as result.json."
   ]
  },
  {
   "cell_type": "code",
   "execution_count": null,
   "metadata": {
    "id": "Uk1jHIwfhX9Z"
   },
   "outputs": [],
   "source": [
    "hidden_size = 128\n",
    "encoder1 = EncoderRNN(1000, hidden_size).to(device)\n",
    "attn_decoder1 = AttnDecoderRNN(hidden_size, 18692, dropout_p=0.4).to(device)\n",
    "\n",
    "import time\n",
    "import torch.nn.functional as F\n",
    "train_losses = []\n",
    "valid_losses = []\n",
    "epochs = 10\n",
    "\n",
    "for epoch in range(epochs):\n",
    "    print(f\"Epoch {epoch+1}\")\n",
    "    \n",
    "    start_time = time.time()\n",
    "    \n",
    "    train_loss = trainIters(encoder1, attn_decoder1, 750, print_every=5000)\n",
    "    valid(model, valid_dataset)"
   ]
  }
 ],
 "metadata": {
  "colab": {
   "collapsed_sections": [],
   "name": "CoQA_Seq2SeqModel.ipynb",
   "provenance": []
  },
  "kernelspec": {
   "display_name": "Python 3",
   "language": "python",
   "name": "python3"
  },
  "language_info": {
   "codemirror_mode": {
    "name": "ipython",
    "version": 3
   },
   "file_extension": ".py",
   "mimetype": "text/x-python",
   "name": "python",
   "nbconvert_exporter": "python",
   "pygments_lexer": "ipython3",
   "version": "3.9.5"
  }
 },
 "nbformat": 4,
 "nbformat_minor": 1
}
