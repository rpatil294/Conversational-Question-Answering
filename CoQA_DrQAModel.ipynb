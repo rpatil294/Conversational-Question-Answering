{
  "nbformat": 4,
  "nbformat_minor": 0,
  "metadata": {
    "colab": {
      "name": "CoQA_DrQAModel.ipynb",
      "provenance": [],
      "collapsed_sections": []
    },
    "kernelspec": {
      "display_name": "Python 3",
      "language": "python",
      "name": "python3"
    },
    "language_info": {
      "codemirror_mode": {
        "name": "ipython",
        "version": 3
      },
      "file_extension": ".py",
      "mimetype": "text/x-python",
      "name": "python",
      "nbconvert_exporter": "python",
      "pygments_lexer": "ipython3",
      "version": "3.6.9"
    }
  },
  "cells": [
    {
      "cell_type": "markdown",
      "metadata": {
        "id": "YEbbjC-NVOYe"
      },
      "source": [
        "# **DrQA**\n",
        "\n",
        "This notebook implements the DrQA model. Specifically, DrQA is an end-to-end system for open domain question answering which involves an information retrieval system as well. This notebook however only explains the deep learning model to predict the span of answers.\n"
      ]
    },
    {
      "cell_type": "code",
      "metadata": {
        "id": "dd-ytDd2DSVV"
      },
      "source": [
        "import gzip\n",
        "import pandas as pd\n",
        "import numpy as np\n",
        "from tqdm import tqdm\n",
        "import nltk\n",
        "import pickle\n",
        "import collections\n",
        "from pandas.io.json import json_normalize\n",
        "import torch\n",
        "from torch import nn\n",
        "import re, os, string, typing, gc, json\n",
        "import spacy\n",
        "from collections import Counter\n",
        "nlp = spacy.load('en_core_web_sm')\n"
      ],
      "execution_count": null,
      "outputs": []
    },
    {
      "cell_type": "markdown",
      "metadata": {
        "id": "Mv6MkTWXVa9F"
      },
      "source": [
        "Importing necessary Libraries"
      ]
    },
    {
      "cell_type": "code",
      "metadata": {
        "id": "0dMLKp9eUjz2"
      },
      "source": [
        "!pip install nltk\n",
        "!pip install torch==1.0.0\n",
        "!pip install spacy\n",
        "!python -m spacy download en_core_web_sm\n",
        "!pip install pandas"
      ],
      "execution_count": null,
      "outputs": []
    },
    {
      "cell_type": "markdown",
      "metadata": {
        "id": "pn8SE7qcVkt8"
      },
      "source": [
        "**Preprocessing**\n",
        "\n",
        "Following are the major steps involved in the pipeline.\n",
        "\n",
        "\n",
        "1.   Load the dataset files 2 JSON files.\n",
        "2.   Parse the JSON files to get the data in the desired format.\n",
        "3.   Filter large examples: Based on sequence lengths, drop some of the outliers.\n",
        "4.   Gather text to build vocabularies. Vocabularies in NLP are just a mapping from words to integers. The integers then represent that word and are subsequently converted into word embeddings.\n",
        "5.   For each example in the dataset, map the word to its corresponding id. This process is also known as numericalization of text.\n",
        "\n",
        "\n",
        "\n",
        "\n",
        "\n",
        "\n",
        "\n",
        "\n"
      ]
    },
    {
      "cell_type": "code",
      "metadata": {
        "id": "blk5_K-ZbyXE"
      },
      "source": [
        "def load_json(path):\n",
        "    '''\n",
        "    Loads the JSON file of the Squad dataset.\n",
        "    Returns the json object of the dataset.\n",
        "    '''\n",
        "    with open(path, 'r', encoding='utf-8') as f:\n",
        "        data = json.load(f)\n",
        "        \n",
        "    print(\"Length of data: \", len(data['data']))\n",
        "   \n",
        "    return data"
      ],
      "execution_count": null,
      "outputs": []
    },
    {
      "cell_type": "code",
      "metadata": {
        "colab": {
          "base_uri": "https://localhost:8080/"
        },
        "id": "wAnLYcG-b8f9",
        "outputId": "ae11114a-5a04-4ca8-86d9-fbf4ef115b6b"
      },
      "source": [
        "# load dataset json files\n",
        "\n",
        "train_data = load_json('coqa-train-v1.0.json')\n",
        "valid_data = load_json('coqa-dev-v1.0.json')"
      ],
      "execution_count": null,
      "outputs": [
        {
          "output_type": "stream",
          "text": [
            "Length of data:  7199\n",
            "Length of data:  500\n"
          ],
          "name": "stdout"
        }
      ]
    },
    {
      "cell_type": "code",
      "metadata": {
        "colab": {
          "base_uri": "https://localhost:8080/",
          "height": 346
        },
        "id": "SjUZ3SfxeGbT",
        "outputId": "037e8867-1ece-4094-f4e9-c73ad00223c7"
      },
      "source": [
        "data=json.load((open('coqa-train-v1.0.json')))\n",
        "qas=json_normalize(data['data'], ['questions'],['source','id','story'])\n",
        "ans=json_normalize(data['data'], ['answers'],['id'])\n",
        "df1 = pd.merge(qas,ans, left_on=['id','turn_id'],right_on=['id','turn_id'] )\n",
        "df1['id'] = df1.apply(lambda row: row.id + str(row.turn_id), axis=1)\n",
        "df1['label'] = df1.apply(lambda row: [row.span_start] + [row.span_end], axis=1)\n",
        "train_df=df1[['id', 'story','input_text_x','label','span_text']]\n",
        "train_df.rename({'story': 'context', 'input_text_x': 'question','span_text':'answer'}, axis=1, inplace=True)\n",
        "train_df.head()"
      ],
      "execution_count": null,
      "outputs": [
        {
          "output_type": "stream",
          "text": [
            "/anaconda/envs/azureml_py36/lib/python3.6/site-packages/pandas/core/frame.py:4238: SettingWithCopyWarning: \n",
            "A value is trying to be set on a copy of a slice from a DataFrame\n",
            "\n",
            "See the caveats in the documentation: http://pandas.pydata.org/pandas-docs/stable/user_guide/indexing.html#returning-a-view-versus-a-copy\n",
            "  return super().rename(**kwargs)\n"
          ],
          "name": "stderr"
        },
        {
          "output_type": "execute_result",
          "data": {
            "text/html": [
              "<div>\n",
              "<style scoped>\n",
              "    .dataframe tbody tr th:only-of-type {\n",
              "        vertical-align: middle;\n",
              "    }\n",
              "\n",
              "    .dataframe tbody tr th {\n",
              "        vertical-align: top;\n",
              "    }\n",
              "\n",
              "    .dataframe thead th {\n",
              "        text-align: right;\n",
              "    }\n",
              "</style>\n",
              "<table border=\"1\" class=\"dataframe\">\n",
              "  <thead>\n",
              "    <tr style=\"text-align: right;\">\n",
              "      <th></th>\n",
              "      <th>id</th>\n",
              "      <th>context</th>\n",
              "      <th>question</th>\n",
              "      <th>label</th>\n",
              "      <th>answer</th>\n",
              "    </tr>\n",
              "  </thead>\n",
              "  <tbody>\n",
              "    <tr>\n",
              "      <th>0</th>\n",
              "      <td>3zotghdk5ibi9cex97fepx7jetpso71</td>\n",
              "      <td>The Vatican Apostolic Library (), more commonl...</td>\n",
              "      <td>When was the Vat formally opened?</td>\n",
              "      <td>[151, 179]</td>\n",
              "      <td>Formally established in 1475</td>\n",
              "    </tr>\n",
              "    <tr>\n",
              "      <th>1</th>\n",
              "      <td>3zotghdk5ibi9cex97fepx7jetpso72</td>\n",
              "      <td>The Vatican Apostolic Library (), more commonl...</td>\n",
              "      <td>what is the library for?</td>\n",
              "      <td>[454, 494]</td>\n",
              "      <td>he Vatican Library is a research library</td>\n",
              "    </tr>\n",
              "    <tr>\n",
              "      <th>2</th>\n",
              "      <td>3zotghdk5ibi9cex97fepx7jetpso73</td>\n",
              "      <td>The Vatican Apostolic Library (), more commonl...</td>\n",
              "      <td>for what subjects?</td>\n",
              "      <td>[457, 511]</td>\n",
              "      <td>Vatican Library is a research library for hist...</td>\n",
              "    </tr>\n",
              "    <tr>\n",
              "      <th>3</th>\n",
              "      <td>3zotghdk5ibi9cex97fepx7jetpso74</td>\n",
              "      <td>The Vatican Apostolic Library (), more commonl...</td>\n",
              "      <td>and?</td>\n",
              "      <td>[457, 545]</td>\n",
              "      <td>Vatican Library is a research library for hist...</td>\n",
              "    </tr>\n",
              "    <tr>\n",
              "      <th>4</th>\n",
              "      <td>3zotghdk5ibi9cex97fepx7jetpso75</td>\n",
              "      <td>The Vatican Apostolic Library (), more commonl...</td>\n",
              "      <td>what was started in 2014?</td>\n",
              "      <td>[769, 879]</td>\n",
              "      <td>March 2014, the Vatican Library began an initi...</td>\n",
              "    </tr>\n",
              "  </tbody>\n",
              "</table>\n",
              "</div>"
            ],
            "text/plain": [
              "                                id  \\\n",
              "0  3zotghdk5ibi9cex97fepx7jetpso71   \n",
              "1  3zotghdk5ibi9cex97fepx7jetpso72   \n",
              "2  3zotghdk5ibi9cex97fepx7jetpso73   \n",
              "3  3zotghdk5ibi9cex97fepx7jetpso74   \n",
              "4  3zotghdk5ibi9cex97fepx7jetpso75   \n",
              "\n",
              "                                             context  \\\n",
              "0  The Vatican Apostolic Library (), more commonl...   \n",
              "1  The Vatican Apostolic Library (), more commonl...   \n",
              "2  The Vatican Apostolic Library (), more commonl...   \n",
              "3  The Vatican Apostolic Library (), more commonl...   \n",
              "4  The Vatican Apostolic Library (), more commonl...   \n",
              "\n",
              "                            question       label  \\\n",
              "0  When was the Vat formally opened?  [151, 179]   \n",
              "1           what is the library for?  [454, 494]   \n",
              "2                 for what subjects?  [457, 511]   \n",
              "3                               and?  [457, 545]   \n",
              "4          what was started in 2014?  [769, 879]   \n",
              "\n",
              "                                              answer  \n",
              "0                       Formally established in 1475  \n",
              "1           he Vatican Library is a research library  \n",
              "2  Vatican Library is a research library for hist...  \n",
              "3  Vatican Library is a research library for hist...  \n",
              "4  March 2014, the Vatican Library began an initi...  "
            ]
          },
          "metadata": {
            "tags": []
          },
          "execution_count": 6
        }
      ]
    },
    {
      "cell_type": "code",
      "metadata": {
        "colab": {
          "base_uri": "https://localhost:8080/",
          "height": 346
        },
        "id": "IAV28472mCt-",
        "outputId": "6678fb8c-4b43-44d2-ad05-6117b77cc401"
      },
      "source": [
        "data=json.load(open('coqa-dev-v1.0.json'))\n",
        "qas=json_normalize(data['data'], ['questions'],['source','id','story'])\n",
        "ans=json_normalize(data['data'], ['answers'],['id'])\n",
        "df1 = pd.merge(qas,ans, left_on=['id','turn_id'],right_on=['id','turn_id'] )\n",
        "df1['id'] = df1.apply(lambda row: row.id + str(row.turn_id), axis=1)\n",
        "df1['label'] = df1.apply(lambda row: [row.span_start] + [row.span_end], axis=1)\n",
        "valid_df=df1[['id', 'story','input_text_x','label','span_text']]\n",
        "valid_df.rename({'story': 'context', 'input_text_x': 'question','span_text':'answer'}, axis=1, inplace=True)\n",
        "valid_df.head()"
      ],
      "execution_count": null,
      "outputs": [
        {
          "output_type": "execute_result",
          "data": {
            "text/html": [
              "<div>\n",
              "<style scoped>\n",
              "    .dataframe tbody tr th:only-of-type {\n",
              "        vertical-align: middle;\n",
              "    }\n",
              "\n",
              "    .dataframe tbody tr th {\n",
              "        vertical-align: top;\n",
              "    }\n",
              "\n",
              "    .dataframe thead th {\n",
              "        text-align: right;\n",
              "    }\n",
              "</style>\n",
              "<table border=\"1\" class=\"dataframe\">\n",
              "  <thead>\n",
              "    <tr style=\"text-align: right;\">\n",
              "      <th></th>\n",
              "      <th>id</th>\n",
              "      <th>context</th>\n",
              "      <th>question</th>\n",
              "      <th>label</th>\n",
              "      <th>answer</th>\n",
              "    </tr>\n",
              "  </thead>\n",
              "  <tbody>\n",
              "    <tr>\n",
              "      <th>0</th>\n",
              "      <td>3dr23u6we5exclen4th8uq9rb42tel1</td>\n",
              "      <td>Once upon a time, in a barn near a farm house,...</td>\n",
              "      <td>What color was Cotton?</td>\n",
              "      <td>[59, 93]</td>\n",
              "      <td>a little white kitten named Cotton</td>\n",
              "    </tr>\n",
              "    <tr>\n",
              "      <th>1</th>\n",
              "      <td>3dr23u6we5exclen4th8uq9rb42tel2</td>\n",
              "      <td>Once upon a time, in a barn near a farm house,...</td>\n",
              "      <td>Where did she live?</td>\n",
              "      <td>[18, 80]</td>\n",
              "      <td>in a barn near a farm house, there lived a lit...</td>\n",
              "    </tr>\n",
              "    <tr>\n",
              "      <th>2</th>\n",
              "      <td>3dr23u6we5exclen4th8uq9rb42tel3</td>\n",
              "      <td>Once upon a time, in a barn near a farm house,...</td>\n",
              "      <td>Did she live alone?</td>\n",
              "      <td>[196, 215]</td>\n",
              "      <td>Cotton wasn't alone</td>\n",
              "    </tr>\n",
              "    <tr>\n",
              "      <th>3</th>\n",
              "      <td>3dr23u6we5exclen4th8uq9rb42tel4</td>\n",
              "      <td>Once upon a time, in a barn near a farm house,...</td>\n",
              "      <td>Who did she live with?</td>\n",
              "      <td>[281, 315]</td>\n",
              "      <td>with her mommy and 5 other sisters</td>\n",
              "    </tr>\n",
              "    <tr>\n",
              "      <th>4</th>\n",
              "      <td>3dr23u6we5exclen4th8uq9rb42tel5</td>\n",
              "      <td>Once upon a time, in a barn near a farm house,...</td>\n",
              "      <td>What color were her sisters?</td>\n",
              "      <td>[428, 490]</td>\n",
              "      <td>her sisters were all orange with beautiful whi...</td>\n",
              "    </tr>\n",
              "  </tbody>\n",
              "</table>\n",
              "</div>"
            ],
            "text/plain": [
              "                                id  \\\n",
              "0  3dr23u6we5exclen4th8uq9rb42tel1   \n",
              "1  3dr23u6we5exclen4th8uq9rb42tel2   \n",
              "2  3dr23u6we5exclen4th8uq9rb42tel3   \n",
              "3  3dr23u6we5exclen4th8uq9rb42tel4   \n",
              "4  3dr23u6we5exclen4th8uq9rb42tel5   \n",
              "\n",
              "                                             context  \\\n",
              "0  Once upon a time, in a barn near a farm house,...   \n",
              "1  Once upon a time, in a barn near a farm house,...   \n",
              "2  Once upon a time, in a barn near a farm house,...   \n",
              "3  Once upon a time, in a barn near a farm house,...   \n",
              "4  Once upon a time, in a barn near a farm house,...   \n",
              "\n",
              "                       question       label  \\\n",
              "0        What color was Cotton?    [59, 93]   \n",
              "1           Where did she live?    [18, 80]   \n",
              "2           Did she live alone?  [196, 215]   \n",
              "3        Who did she live with?  [281, 315]   \n",
              "4  What color were her sisters?  [428, 490]   \n",
              "\n",
              "                                              answer  \n",
              "0                 a little white kitten named Cotton  \n",
              "1  in a barn near a farm house, there lived a lit...  \n",
              "2                                Cotton wasn't alone  \n",
              "3                 with her mommy and 5 other sisters  \n",
              "4  her sisters were all orange with beautiful whi...  "
            ]
          },
          "metadata": {
            "tags": []
          },
          "execution_count": 7
        }
      ]
    },
    {
      "cell_type": "code",
      "metadata": {
        "colab": {
          "base_uri": "https://localhost:8080/"
        },
        "id": "HKEPfTztfjJD",
        "outputId": "a4e637da-6407-49ee-a744-db3c952943db"
      },
      "source": [
        "def normalize_spaces(text):\n",
        "    '''\n",
        "    Removes extra white spaces from the context.\n",
        "    '''\n",
        "    text = re.sub(r'\\s', ' ', text)\n",
        "    return text\n",
        "\n",
        "train_df.context = train_df.context.apply(normalize_spaces)\n",
        "valid_df.context = valid_df.context.apply(normalize_spaces)"
      ],
      "execution_count": null,
      "outputs": [
        {
          "output_type": "stream",
          "text": [
            "/anaconda/envs/azureml_py36/lib/python3.6/site-packages/pandas/core/generic.py:5208: SettingWithCopyWarning: \n",
            "A value is trying to be set on a copy of a slice from a DataFrame.\n",
            "Try using .loc[row_indexer,col_indexer] = value instead\n",
            "\n",
            "See the caveats in the documentation: http://pandas.pydata.org/pandas-docs/stable/user_guide/indexing.html#returning-a-view-versus-a-copy\n",
            "  self[name] = value\n"
          ],
          "name": "stderr"
        }
      ]
    },
    {
      "cell_type": "code",
      "metadata": {
        "colab": {
          "base_uri": "https://localhost:8080/"
        },
        "id": "-8d_-XnHnPNr",
        "outputId": "27818f80-455f-4ddd-a97a-d6596910c779"
      },
      "source": [
        "def gather_text_for_vocab(dfs:list):\n",
        "    '''\n",
        "    Gathers text from contexts and questions to build a vocabulary.\n",
        "    '''\n",
        "    \n",
        "    text = []\n",
        "    total = 0\n",
        "    for df in dfs:\n",
        "        unique_contexts = list(df.context.unique())\n",
        "        unique_questions = list(df.question.unique())\n",
        "        total += df.context.nunique() + df.question.nunique()\n",
        "        text.extend(unique_contexts + unique_questions)\n",
        "    \n",
        "    assert len(text) == total\n",
        "    \n",
        "    return text\n",
        "    \n",
        "# gather text to build vocabularies\n",
        "\n",
        "%time vocab_text = gather_text_for_vocab([train_df, valid_df])\n",
        "print(\"Number of sentences in dataset: \", len(vocab_text))"
      ],
      "execution_count": null,
      "outputs": [
        {
          "output_type": "stream",
          "text": [
            "CPU times: user 537 ms, sys: 11 ms, total: 548 ms\n",
            "Wall time: 546 ms\n",
            "Number of sentences in dataset:  102126\n"
          ],
          "name": "stdout"
        }
      ]
    },
    {
      "cell_type": "code",
      "metadata": {
        "colab": {
          "base_uri": "https://localhost:8080/",
          "height": 505
        },
        "id": "I_Rhg1CQn031",
        "outputId": "b8b07f15-bc56-4f9d-b2cd-6915398c0385"
      },
      "source": [
        "def build_word_vocab(vocab_text):\n",
        "    '''\n",
        "    Builds a word-level vocabulary from the given text.\n",
        "    \n",
        "    :param list vocab_text: list of contexts and questions\n",
        "    :returns \n",
        "        dict word2idx: word to index mapping of words\n",
        "        dict idx2word: integer to word mapping\n",
        "        list word_vocab: list of words sorted by frequency\n",
        "    '''\n",
        "    \n",
        "    \n",
        "    words = []\n",
        "    for sent in vocab_text:\n",
        "        for word in nlp(sent, disable=['parser','tagger','ner']):\n",
        "            words.append(word.text)\n",
        "\n",
        "    word_counter = Counter(words)\n",
        "    word_vocab = sorted(word_counter, key=word_counter.get, reverse=True)\n",
        "    print(f\"raw-vocab: {len(word_vocab)}\")\n",
        "    #word_vocab = list(set(word_vocab).intersection(set(glove_words)))\n",
        "    print(f\"glove-vocab: {len(word_vocab)}\")\n",
        "    word_vocab.insert(0, '<unk>')\n",
        "    word_vocab.insert(1, '<pad>')\n",
        "    print(f\"vocab-length: {len(word_vocab)}\")\n",
        "    word2idx = {word:idx for idx, word in enumerate(word_vocab)}\n",
        "    print(f\"word2idx-length: {len(word2idx)}\")\n",
        "    idx2word = {v:k for k,v in word2idx.items()}\n",
        "    \n",
        "    \n",
        "    return word2idx, idx2word, word_vocab\n",
        "\n",
        "# build word vocabulary\n",
        "\n",
        "%time word2idx, idx2word, word_vocab = build_word_vocab(vocab_text)"
      ],
      "execution_count": null,
      "outputs": [
        {
          "output_type": "stream",
          "text": [
            "raw-vocab: 79815\n",
            "glove-vocab: 79815\n",
            "vocab-length: 79817\n",
            "word2idx-length: 79817\n",
            "CPU times: user 56.7 s, sys: 181 ms, total: 56.9 s\n",
            "Wall time: 56.9 s\n"
          ],
          "name": "stdout"
        }
      ]
    },
    {
      "cell_type": "code",
      "metadata": {
        "id": "jgMAUWIgoG-L"
      },
      "source": [
        "def build_char_vocab(vocab_text):\n",
        "    '''\n",
        "    Builds a character-level vocabulary from the given text.\n",
        "    \n",
        "    :param list vocab_text: list of contexts and questions\n",
        "    :returns \n",
        "        dict char2idx: character to index mapping of words\n",
        "        list char_vocab: list of characters sorted by frequency\n",
        "    '''\n",
        "    \n",
        "    chars = []\n",
        "    for sent in vocab_text:\n",
        "        for ch in sent:\n",
        "            chars.append(ch)\n",
        "\n",
        "    char_counter = Counter(chars)\n",
        "    char_vocab = sorted(char_counter, key=char_counter.get, reverse=True)\n",
        "    print(f\"raw-char-vocab: {len(char_vocab)}\")\n",
        "    high_freq_char = [char for char, count in char_counter.items() if count>=20]\n",
        "    char_vocab = list(set(char_vocab).intersection(set(high_freq_char)))\n",
        "    print(f\"char-vocab-intersect: {len(char_vocab)}\")\n",
        "    char_vocab.insert(0,'<unk>')\n",
        "    char_vocab.insert(1,'<pad>')\n",
        "    char2idx = {char:idx for idx, char in enumerate(char_vocab)}\n",
        "    print(f\"char2idx-length: {len(char2idx)}\")\n",
        "    \n",
        "    return char2idx, char_vocab"
      ],
      "execution_count": null,
      "outputs": []
    },
    {
      "cell_type": "code",
      "metadata": {
        "id": "BEwbAiP0oIc2"
      },
      "source": [
        "def context_to_ids(text, word2idx):\n",
        "    '''\n",
        "    Converts context text to their respective ids by mapping each word\n",
        "    using word2idx. Input text is tokenized using spacy tokenizer first.\n",
        "    \n",
        "    :param str text: context text to be converted\n",
        "    :returns list context_ids: list of mapped ids\n",
        "    \n",
        "    :raises assertion error: sanity check\n",
        "    \n",
        "    '''\n",
        "\n",
        "    context_tokens = [w.text for w in nlp(text, disable=['parser','tagger','ner'])]\n",
        "    context_ids = [word2idx[word] for word in context_tokens]\n",
        "    \n",
        "    assert len(context_ids) == len(context_tokens)\n",
        "    return context_ids\n",
        "    \n",
        "def question_to_ids(text, word2idx):\n",
        "    '''\n",
        "    Converts question text to their respective ids by mapping each word\n",
        "    using word2idx. Input text is tokenized using spacy tokenizer first.\n",
        "    \n",
        "    :param str text: question text to be converted\n",
        "    :returns list context_ids: list of mapped ids\n",
        "    \n",
        "    :raises assertion error: sanity check\n",
        "    \n",
        "    '''\n",
        "\n",
        "    question_tokens = [w.text for w in nlp(text, disable=['parser','tagger','ner'])]\n",
        "    question_ids = [word2idx[word] for word in question_tokens]\n",
        "    \n",
        "    assert len(question_ids) == len(question_tokens)\n",
        "    return question_ids"
      ],
      "execution_count": null,
      "outputs": []
    },
    {
      "cell_type": "code",
      "metadata": {
        "id": "zXCUci2Tn9zf",
        "outputId": "0410ad3a-a899-4104-fd37-1f8ea4dca51d"
      },
      "source": [
        "# numericalize context and questions for training and validation set\n",
        "\n",
        "\n",
        "%time train_df['context_ids'] = train_df.context.apply(context_to_ids, word2idx=word2idx)\n",
        "%time valid_df['context_ids'] = valid_df.context.apply(context_to_ids, word2idx=word2idx)\n",
        "\n",
        "%time train_df['question_ids'] = train_df.question.apply(question_to_ids,  word2idx=word2idx)\n",
        "%time valid_df['question_ids'] = valid_df.question.apply(question_to_ids,  word2idx=word2idx)"
      ],
      "execution_count": null,
      "outputs": [
        {
          "output_type": "stream",
          "text": [
            "CPU times: user 5min 18s, sys: 253 ms, total: 5min 18s\n",
            "Wall time: 5min 18s\n"
          ],
          "name": "stdout"
        },
        {
          "output_type": "stream",
          "text": [
            "/anaconda/envs/azureml_py36/lib/python3.6/site-packages/ipykernel_launcher.py:1: SettingWithCopyWarning: \n",
            "A value is trying to be set on a copy of a slice from a DataFrame.\n",
            "Try using .loc[row_indexer,col_indexer] = value instead\n",
            "\n",
            "See the caveats in the documentation: http://pandas.pydata.org/pandas-docs/stable/user_guide/indexing.html#returning-a-view-versus-a-copy\n",
            "  \"\"\"Entry point for launching an IPython kernel.\n"
          ],
          "name": "stderr"
        },
        {
          "output_type": "stream",
          "text": [
            "CPU times: user 22.4 s, sys: 28 ms, total: 22.4 s\n",
            "Wall time: 22.4 s\n",
            "CPU times: user 40.7 s, sys: 7.94 ms, total: 40.7 s\n",
            "Wall time: 40.7 s\n",
            "CPU times: user 3 s, sys: 0 ns, total: 3 s\n",
            "Wall time: 3 s\n"
          ],
          "name": "stdout"
        }
      ]
    },
    {
      "cell_type": "markdown",
      "metadata": {
        "id": "-EG2oqQjXRkk"
      },
      "source": [
        "Purpose behind this test was to ensure that the label for each example was correct. Two ways to test this.\n",
        "\n",
        "First is to calculate spans of the context and check if start and end indices from the label are present in the calculated spans. Index value of the example which fails the start and end tests are appended in separate lists.\n",
        "\n",
        "Second is to get the start and end indices of the answer in the context_ids list. Get the ids corresponding to those positions, convert them to string using word2idx and compare them with the start and end tokens from the given answer. \n",
        "\n",
        "Examples which fail this test have their position added to a list.\n",
        "The reason why some examples fail here is largely due to the absence of a ' ' or a space before and after the answer in the context. There are some spans that the tokenizer fails to capture or is simply a case where the example is not cleaned.\n"
      ]
    },
    {
      "cell_type": "code",
      "metadata": {
        "id": "ZnXJUEiVoioJ"
      },
      "source": [
        "def test_indices(df, idx2word):\n",
        "    '''\n",
        "    Performs the tests mentioned above. This method also gets the start and end of the answers\n",
        "    with respect to the context_ids for each example.\n",
        "    \n",
        "    :param dataframe df: SQUAD df\n",
        "    :returns\n",
        "        list start_value_error: example idx where the start idx is not found in the start spans\n",
        "                                of the text\n",
        "        list end_value_error: example idx where the end idx is not found in the end spans\n",
        "                              of the text\n",
        "        list assert_error: examples that fail assertion errors. A majority are due to the above errors\n",
        "        \n",
        "    '''\n",
        "\n",
        "    start_value_error = []\n",
        "    end_value_error = []\n",
        "    assert_error = []\n",
        "    for index, row in df.iterrows():\n",
        "\n",
        "        answer_tokens = [w.text for w in nlp(row['answer'], disable=['parser','tagger','ner'])]\n",
        "\n",
        "        start_token = answer_tokens[0]\n",
        "        end_token = answer_tokens[-1]\n",
        "        \n",
        "        context_span  = [(word.idx, word.idx + len(word.text)) \n",
        "                         for word in nlp(row['context'], disable=['parser','tagger','ner'])]\n",
        "\n",
        "        starts, ends = zip(*context_span)\n",
        "\n",
        "        answer_start, answer_end = row['label']\n",
        "\n",
        "        try:\n",
        "            start_idx = starts.index(answer_start)\n",
        "        except:\n",
        "            start_value_error.append(index)\n",
        "        try:\n",
        "            end_idx  = ends.index(answer_end)\n",
        "        except:\n",
        "            end_value_error.append(index)\n",
        "\n",
        "        try:\n",
        "            assert idx2word[row['context_ids'][start_idx]] == answer_tokens[0]\n",
        "            assert idx2word[row['context_ids'][end_idx]] == answer_tokens[-1]\n",
        "        except:\n",
        "            assert_error.append(index)\n",
        "\n",
        "\n",
        "    return start_value_error, end_value_error, assert_error"
      ],
      "execution_count": null,
      "outputs": []
    },
    {
      "cell_type": "code",
      "metadata": {
        "id": "gkHUIApIonQK"
      },
      "source": [
        "def get_error_indices(df, idx2word):\n",
        "    '''\n",
        "    Gets error indices from the method above and returns a \n",
        "    set of those indices.\n",
        "    '''\n",
        "    \n",
        "    start_value_error, end_value_error, assert_error = test_indices(df,idx2word)\n",
        "    err_idx = start_value_error + end_value_error + assert_error\n",
        "    err_idx = set(err_idx)\n",
        "    print(f\"Error indices: {len(err_idx)}\")\n",
        "    \n",
        "    return err_idx"
      ],
      "execution_count": null,
      "outputs": []
    },
    {
      "cell_type": "code",
      "metadata": {
        "id": "0FyQegt4ovDe"
      },
      "source": [
        "def index_answer(row, idx2word):\n",
        "    '''\n",
        "    Takes in a row of the dataframe or one training example and\n",
        "    returns a tuple of start and end positions of answer by calculating \n",
        "    spans.\n",
        "    '''\n",
        "    \n",
        "    context_span = [(word.idx, word.idx + len(word.text)) for word in nlp(row.context, disable=['parser','tagger','ner'])]\n",
        "    starts, ends = zip(*context_span)\n",
        "    \n",
        "    answer_start, answer_end = row.label\n",
        "    start_idx = starts.index(answer_start)\n",
        " \n",
        "    end_idx  = ends.index(answer_end)\n",
        "    \n",
        "    ans_toks = [w.text for w in nlp(row.answer,disable=['parser','tagger','ner'])]\n",
        "    ans_start = ans_toks[0]\n",
        "    ans_end = ans_toks[-1]\n",
        "    assert idx2word[row.context_ids[start_idx]] == ans_start\n",
        "    assert idx2word[row.context_ids[end_idx]] == ans_end\n",
        "    \n",
        "    return [start_idx, end_idx]"
      ],
      "execution_count": null,
      "outputs": []
    },
    {
      "cell_type": "code",
      "metadata": {
        "colab": {
          "base_uri": "https://localhost:8080/"
        },
        "id": "D3e_NLRHowPY",
        "outputId": "c8d715d3-8d05-49d2-ee99-2c7dea89e2cd"
      },
      "source": [
        "# get indices with tokenization errors and drop those indices \n",
        "\n",
        "train_err = get_error_indices(train_df, idx2word)\n",
        "valid_err = get_error_indices(valid_df, idx2word)\n",
        "\n",
        "train_df.drop(train_err, inplace=True)\n",
        "#valid_df.drop(valid_err, inplace=True)"
      ],
      "execution_count": null,
      "outputs": [
        {
          "output_type": "stream",
          "text": [
            "Error indices: 39932\n",
            "Error indices: 2786\n"
          ],
          "name": "stdout"
        }
      ]
    },
    {
      "cell_type": "code",
      "metadata": {
        "id": "EkdIuPNmUj0F",
        "outputId": "ab154f65-b98b-4bc0-c67e-83d9b932a20f"
      },
      "source": [
        "valid_df.drop(valid_err, inplace=True)"
      ],
      "execution_count": null,
      "outputs": [
        {
          "output_type": "stream",
          "text": [
            "/anaconda/envs/azureml_py36/lib/python3.6/site-packages/pandas/core/frame.py:4117: SettingWithCopyWarning: \n",
            "A value is trying to be set on a copy of a slice from a DataFrame\n",
            "\n",
            "See the caveats in the documentation: http://pandas.pydata.org/pandas-docs/stable/user_guide/indexing.html#returning-a-view-versus-a-copy\n",
            "  errors=errors,\n"
          ],
          "name": "stderr"
        }
      ]
    },
    {
      "cell_type": "code",
      "metadata": {
        "colab": {
          "base_uri": "https://localhost:8080/",
          "height": 370
        },
        "id": "zwhQuOIko9MJ",
        "outputId": "21f3e665-02e8-4db3-da1b-60ef780eac13"
      },
      "source": [
        "# get start and end positions of answers from the context\n",
        "# this is basically the label for training QA models\n",
        "\n",
        "train_label_idx = train_df.apply(index_answer, axis=1, idx2word=idx2word)\n",
        "valid_label_idx = valid_df.apply(index_answer, axis=1, idx2word=idx2word)\n",
        "\n",
        "train_df['label_idx'] = train_label_idx\n",
        "valid_df['label_idx'] = valid_label_idx"
      ],
      "execution_count": null,
      "outputs": [
        {
          "output_type": "stream",
          "text": [
            "/anaconda/envs/azureml_py36/lib/python3.6/site-packages/ipykernel_launcher.py:8: SettingWithCopyWarning: \n",
            "A value is trying to be set on a copy of a slice from a DataFrame.\n",
            "Try using .loc[row_indexer,col_indexer] = value instead\n",
            "\n",
            "See the caveats in the documentation: http://pandas.pydata.org/pandas-docs/stable/user_guide/indexing.html#returning-a-view-versus-a-copy\n",
            "  \n"
          ],
          "name": "stderr"
        }
      ]
    },
    {
      "cell_type": "code",
      "metadata": {
        "id": "ZZ2uwlwcU2m2"
      },
      "source": [
        "train_df['label_idx'] = train_label_idx"
      ],
      "execution_count": null,
      "outputs": []
    },
    {
      "cell_type": "markdown",
      "metadata": {
        "id": "yO0KqxxeXsiu"
      },
      "source": [
        "**Dump data to pickle files**\n",
        "\n",
        "This ensures that we can directly access the preprocessed dataframe next time.\n"
      ]
    },
    {
      "cell_type": "code",
      "metadata": {
        "id": "aBc-9ND8sIze"
      },
      "source": [
        "import pickle\n",
        "with open('drqastoi.pickle','wb') as handle:\n",
        "    pickle.dump(word2idx, handle)\n",
        "    \n",
        "train_df.to_pickle('drqatrain1.pkl')\n",
        "valid_df.to_pickle('drqavalid1.pkl')"
      ],
      "execution_count": null,
      "outputs": []
    },
    {
      "cell_type": "markdown",
      "metadata": {
        "id": "3xErqfRVXyow"
      },
      "source": [
        "**Read data from pickle files**\n",
        "\n",
        "We only need to run the preprocessing once. Some preprocessing functions can take upto 150 mins since our dataset is very large. Therefore, pickling preprocessed data can save a lot of time. Once the preprocessed files are saved, we can directly start from here.\n"
      ]
    },
    {
      "cell_type": "code",
      "metadata": {
        "id": "SsdWrJiBsjWN"
      },
      "source": [
        "train_df = pd.read_pickle('drqatrain1.pkl')\n",
        "valid_df = pd.read_pickle('drqavalid1.pkl')"
      ],
      "execution_count": null,
      "outputs": []
    },
    {
      "cell_type": "code",
      "metadata": {
        "colab": {
          "base_uri": "https://localhost:8080/",
          "height": 279
        },
        "id": "i0KomTmRAtcq",
        "outputId": "678e23b6-6f1f-4559-ddd5-7489ec2f25de"
      },
      "source": [
        "train_df.head()"
      ],
      "execution_count": null,
      "outputs": [
        {
          "output_type": "execute_result",
          "data": {
            "text/html": [
              "<div>\n",
              "<style scoped>\n",
              "    .dataframe tbody tr th:only-of-type {\n",
              "        vertical-align: middle;\n",
              "    }\n",
              "\n",
              "    .dataframe tbody tr th {\n",
              "        vertical-align: top;\n",
              "    }\n",
              "\n",
              "    .dataframe thead th {\n",
              "        text-align: right;\n",
              "    }\n",
              "</style>\n",
              "<table border=\"1\" class=\"dataframe\">\n",
              "  <thead>\n",
              "    <tr style=\"text-align: right;\">\n",
              "      <th></th>\n",
              "      <th>id</th>\n",
              "      <th>context</th>\n",
              "      <th>question</th>\n",
              "      <th>label</th>\n",
              "      <th>answer</th>\n",
              "      <th>context_ids</th>\n",
              "      <th>question_ids</th>\n",
              "      <th>label_idx</th>\n",
              "    </tr>\n",
              "  </thead>\n",
              "  <tbody>\n",
              "    <tr>\n",
              "      <th>0</th>\n",
              "      <td>3zotghdk5ibi9cex97fepx7jetpso71</td>\n",
              "      <td>The Vatican Apostolic Library (), more commonl...</td>\n",
              "      <td>When was the Vat formally opened?</td>\n",
              "      <td>[151, 179]</td>\n",
              "      <td>Formally established in 1475</td>\n",
              "      <td>[29, 7409, 15677, 2914, 55, 53, 3, 86, 1430, 1...</td>\n",
              "      <td>[81, 12, 2, 23438, 3772, 695, 5]</td>\n",
              "      <td>[31, 34]</td>\n",
              "    </tr>\n",
              "    <tr>\n",
              "      <th>2</th>\n",
              "      <td>3zotghdk5ibi9cex97fepx7jetpso73</td>\n",
              "      <td>The Vatican Apostolic Library (), more commonl...</td>\n",
              "      <td>for what subjects?</td>\n",
              "      <td>[457, 511]</td>\n",
              "      <td>Vatican Library is a research library for hist...</td>\n",
              "      <td>[29, 7409, 15677, 2914, 55, 53, 3, 86, 1430, 1...</td>\n",
              "      <td>[22, 35, 2676, 5]</td>\n",
              "      <td>[88, 97]</td>\n",
              "    </tr>\n",
              "    <tr>\n",
              "      <th>3</th>\n",
              "      <td>3zotghdk5ibi9cex97fepx7jetpso74</td>\n",
              "      <td>The Vatican Apostolic Library (), more commonl...</td>\n",
              "      <td>and?</td>\n",
              "      <td>[457, 545]</td>\n",
              "      <td>Vatican Library is a research library for hist...</td>\n",
              "      <td>[29, 7409, 15677, 2914, 55, 53, 3, 86, 1430, 1...</td>\n",
              "      <td>[8, 5]</td>\n",
              "      <td>[88, 103]</td>\n",
              "    </tr>\n",
              "    <tr>\n",
              "      <th>4</th>\n",
              "      <td>3zotghdk5ibi9cex97fepx7jetpso75</td>\n",
              "      <td>The Vatican Apostolic Library (), more commonl...</td>\n",
              "      <td>what was started in 2014?</td>\n",
              "      <td>[769, 879]</td>\n",
              "      <td>March 2014, the Vatican Library began an initi...</td>\n",
              "      <td>[29, 7409, 15677, 2914, 55, 53, 3, 86, 1430, 1...</td>\n",
              "      <td>[35, 12, 283, 11, 1301, 5]</td>\n",
              "      <td>[145, 163]</td>\n",
              "    </tr>\n",
              "    <tr>\n",
              "      <th>6</th>\n",
              "      <td>3zotghdk5ibi9cex97fepx7jetpso77</td>\n",
              "      <td>The Vatican Apostolic Library (), more commonl...</td>\n",
              "      <td>how many?</td>\n",
              "      <td>[1048, 1128]</td>\n",
              "      <td>Scholars have traditionally divided the histor...</td>\n",
              "      <td>[29, 7409, 15677, 2914, 55, 53, 3, 86, 1430, 1...</td>\n",
              "      <td>[84, 62, 5]</td>\n",
              "      <td>[196, 207]</td>\n",
              "    </tr>\n",
              "  </tbody>\n",
              "</table>\n",
              "</div>"
            ],
            "text/plain": [
              "                                id  \\\n",
              "0  3zotghdk5ibi9cex97fepx7jetpso71   \n",
              "2  3zotghdk5ibi9cex97fepx7jetpso73   \n",
              "3  3zotghdk5ibi9cex97fepx7jetpso74   \n",
              "4  3zotghdk5ibi9cex97fepx7jetpso75   \n",
              "6  3zotghdk5ibi9cex97fepx7jetpso77   \n",
              "\n",
              "                                             context  \\\n",
              "0  The Vatican Apostolic Library (), more commonl...   \n",
              "2  The Vatican Apostolic Library (), more commonl...   \n",
              "3  The Vatican Apostolic Library (), more commonl...   \n",
              "4  The Vatican Apostolic Library (), more commonl...   \n",
              "6  The Vatican Apostolic Library (), more commonl...   \n",
              "\n",
              "                            question         label  \\\n",
              "0  When was the Vat formally opened?    [151, 179]   \n",
              "2                 for what subjects?    [457, 511]   \n",
              "3                               and?    [457, 545]   \n",
              "4          what was started in 2014?    [769, 879]   \n",
              "6                          how many?  [1048, 1128]   \n",
              "\n",
              "                                              answer  \\\n",
              "0                       Formally established in 1475   \n",
              "2  Vatican Library is a research library for hist...   \n",
              "3  Vatican Library is a research library for hist...   \n",
              "4  March 2014, the Vatican Library began an initi...   \n",
              "6  Scholars have traditionally divided the histor...   \n",
              "\n",
              "                                         context_ids  \\\n",
              "0  [29, 7409, 15677, 2914, 55, 53, 3, 86, 1430, 1...   \n",
              "2  [29, 7409, 15677, 2914, 55, 53, 3, 86, 1430, 1...   \n",
              "3  [29, 7409, 15677, 2914, 55, 53, 3, 86, 1430, 1...   \n",
              "4  [29, 7409, 15677, 2914, 55, 53, 3, 86, 1430, 1...   \n",
              "6  [29, 7409, 15677, 2914, 55, 53, 3, 86, 1430, 1...   \n",
              "\n",
              "                       question_ids   label_idx  \n",
              "0  [81, 12, 2, 23438, 3772, 695, 5]    [31, 34]  \n",
              "2                 [22, 35, 2676, 5]    [88, 97]  \n",
              "3                            [8, 5]   [88, 103]  \n",
              "4        [35, 12, 283, 11, 1301, 5]  [145, 163]  \n",
              "6                       [84, 62, 5]  [196, 207]  "
            ]
          },
          "metadata": {
            "tags": []
          },
          "execution_count": 14
        }
      ]
    },
    {
      "cell_type": "markdown",
      "metadata": {
        "id": "Z1xj01DZX__K"
      },
      "source": [
        "\n",
        "## **Dataset/Dataloader**"
      ]
    },
    {
      "cell_type": "code",
      "metadata": {
        "id": "tY7qU3QBtJr-"
      },
      "source": [
        "class CoQADataset:\n",
        "    '''\n",
        "    -Divides the dataframe in batches.\n",
        "    -Pads the contexts and questions dynamically for each batch by padding \n",
        "     the examples to the maximum-length sequence in that batch.\n",
        "    -Calculates masks for context and question.\n",
        "    -Calculates spans for contexts.\n",
        "    '''\n",
        "    \n",
        "    def __init__(self, data, batch_size):\n",
        "        \n",
        "        self.batch_size = batch_size\n",
        "        data = [data[i:i+self.batch_size] for i in range(0, len(data), self.batch_size)]\n",
        "        self.data = data\n",
        "    \n",
        "    def get_span(self, text):\n",
        "        \n",
        "        text = nlp(text, disable=['parser','tagger','ner'])\n",
        "        span = [(w.idx, w.idx+len(w.text)) for w in text]\n",
        "\n",
        "        return span\n",
        "\n",
        "    def __len__(self):\n",
        "        return len(self.data)\n",
        "    \n",
        "    def __iter__(self):\n",
        "        '''\n",
        "        Creates batches of data and yields them.\n",
        "        \n",
        "        Each yield comprises of:\n",
        "        :padded_context: padded tensor of contexts for each batch \n",
        "        :padded_question: padded tensor of questions for each batch \n",
        "        :context_mask & question_mask: zero-mask for question and context\n",
        "        :label: start and end index wrt context_ids\n",
        "        :context_text,answer_text: used while validation to calculate metrics\n",
        "        :context_spans: spans of context text\n",
        "        :ids: question_ids used in evaluation\n",
        "        '''\n",
        "        \n",
        "        for batch in self.data:\n",
        "                            \n",
        "            spans = []\n",
        "            context_text = []\n",
        "            answer_text = []\n",
        "            \n",
        "            max_context_len = max([len(ctx) for ctx in batch.context_ids])\n",
        "            padded_context = torch.LongTensor(len(batch), max_context_len).fill_(1)\n",
        "            \n",
        "            for ctx in batch.context:\n",
        "                context_text.append(ctx)\n",
        "                spans.append(self.get_span(ctx))\n",
        "            \n",
        "            for ans in batch.answer:\n",
        "                answer_text.append(ans)\n",
        "                \n",
        "            for i, ctx in enumerate(batch.context_ids):\n",
        "                padded_context[i, :len(ctx)] = torch.LongTensor(ctx)\n",
        "            \n",
        "            max_question_len = max([len(ques) for ques in batch.question_ids])\n",
        "            padded_question = torch.LongTensor(len(batch), max_question_len).fill_(1)\n",
        "            \n",
        "            for i, ques in enumerate(batch.question_ids):\n",
        "                padded_question[i,: len(ques)] = torch.LongTensor(ques)\n",
        "                \n",
        "            \n",
        "            label = torch.LongTensor(list(batch.label_idx))\n",
        "            context_mask = torch.eq(padded_context, 1)\n",
        "            question_mask = torch.eq(padded_question, 1)\n",
        "            \n",
        "            ids = list(batch.id)  \n",
        "            \n",
        "            yield (padded_context, padded_question, context_mask, \n",
        "                   question_mask, label, context_text, answer_text, ids)"
      ],
      "execution_count": null,
      "outputs": []
    },
    {
      "cell_type": "code",
      "metadata": {
        "id": "fnZ6v7q6tJlW"
      },
      "source": [
        "train_dataset = CoQADataset(train_df, 32)\n",
        "valid_dataset = CoQADataset(valid_df, 32)"
      ],
      "execution_count": null,
      "outputs": []
    },
    {
      "cell_type": "code",
      "metadata": {
        "colab": {
          "base_uri": "https://localhost:8080/"
        },
        "id": "Mk8bxO1ftZn6",
        "outputId": "e65ebb49-dc7a-40aa-e13e-52e56489400a"
      },
      "source": [
        "a = next(iter(train_dataset))\n",
        "a[0].shape, a[1].shape, a[2].shape, a[3].shape, a[4].shape"
      ],
      "execution_count": null,
      "outputs": [
        {
          "output_type": "execute_result",
          "data": {
            "text/plain": [
              "(torch.Size([32, 349]),\n",
              " torch.Size([32, 12]),\n",
              " torch.Size([32, 349]),\n",
              " torch.Size([32, 12]),\n",
              " torch.Size([32, 2]))"
            ]
          },
          "metadata": {
            "tags": []
          },
          "execution_count": 17
        }
      ]
    },
    {
      "cell_type": "markdown",
      "metadata": {
        "id": "8mizcQWLYP_Q"
      },
      "source": [
        "## **Model**\n",
        "An input example during training is comprised of\n",
        "\n",
        "\n",
        "\n",
        "*   a paragraph / context $p$ consisting of $l$ tokens { $p_{1}$, $p_{2}$,..., $p_\n",
        "{l}$ }\n",
        "*   a question $q$ consisting of $m$ tokens { $q_{1}$, $q_{2}$,..., $q_{m}$ }\n",
        "*   a start and and end position that comes from the context itself. More specifically, the start and end indices of the answer from the context\n",
        "\n",
        "\n",
        "\n",
        "\n",
        "\n",
        "\n",
        "The following flowchart shows the flow of the model.\n",
        "![drqaflow.png](data:image/png;base64,iVBORw0KGgoAAAANSUhEUgAACKgAAAXnCAYAAABivtPvAAAAAXNSR0IArs4c6QAAAARnQU1BAACxjwv8YQUAAAAJcEhZcwAAJOgAACToAYJjBRwAAP+lSURBVHhe7N0FmK1V3T5gC8HGTxFRDEJKEERKGgnplu6QEKQbVJDukBSkU7obJCUUxQBp6VIBO2B98yzOy5kz7jl7n5E5M2ef+76u5wLO7Hlnx3z//1k/n7XedxQAAAAAAAAAABhECioAAAAAAAAAAAwqBRUAAAAAAAAAAAaVggoAAAAAAAAAAINKQQUAAAAAAAAAgEGloAIAAAAAAAAAwKBSUAEAAAAAAAAAYFApqAAAAAAAAAAAMKgUVAAAAAAAAAAAGFQKKgAAAAAAAAAADCoFFQAAAAAAAAAABpWCCgAAAAAAAAAAg0pBBQAAAAAAAACAQaWgAgAAAAAAAADAoFJQAQAAAAAAAABgUCmoAAAAAAAAAAAwqBRUAAAAAAAAAAAYVAoqAAAAAAAAAAAMKgUVAAAAAAAAAAAGlYIKAAAAAAAAAACDSkEFAAAAAAAAAIBBpaACAAAAAAAAAMCgUlABAAAAAAAAAGBQKagAAAAAAAAAADCoFFQAAAAAAAAAABhUCioAAAAAAAAAAAwqBRUAAAAAAAAAAAaVggoAAAAAAAAAAINKQQWo3njjjfKf//ynvPbaa+XZZ58tv/vd78p9991Xbr/99nLrrbeWO++8s/ziF78ojzzySHnhhRfK3//+9/L666+P+O72cv1//vOf5ZVXXilPPvlk+e1vf1vuvffecscdd9Tr//SnP63Xf/jhh+v1//KXv9Tr5/tayZ//7W9/K0888UT9vrvvvrte989//vOIR/Qv3/vvf/+7vs5f/epXNc8880z9s3wt18h18/xuueWWASXvV96/vJZ//OMf9bU8//zz5de//nV9T1t9z+iS691///3lxRdfrJ9Tnmc+g1w/rz8/K5/Zq6++Wr/eTj6LXCvPJ+/9Y489Vv74xz/W9/TRRx8tP/vZz1o+j05y22231evm9Y7uMwQAAADGT5nBZAb19NNPlwceeKD8/Oc/r7OPZkbUzDkyW8icpt18Idf7wx/+UOdN+f7f//73Hc2IGn/605/qzCvf++CDD9bvbeYr+bl//etf6zXz/FrNQtols5LMWzIXa/U68voyP3rppZfq4zIDuuuuu976/mYul7lZ3pPMhPrOf5r3IO9n7589kOQ9yOeTn5HrZk730EMP1eeV55DXkec8On3ngPfcc0+dieW9yDywmTPm9TRzwNH517/+Va+X55DP6Te/+U19v5p53ujk6/ne/Lx8hnkN+czb/UwAAN5+CipAlQVZFp5ZHJ566qllu+22K0sttVSZYYYZypRTTlm+9KUvlRVXXLHsscce5fzzz6+Ly5QZOpXFYgoRWVAfffTR5Zvf/Gb52te+VmacccZ6/dlmm61ef+edd67Xz2I6C9n+Foq53uOPP14OPfTQstJKK5V55pmnHHXUUXWR2k6+N4vS0047ray99to1p5xySv2zfC2FlYMOOqgstNBC5bOf/eyAkvdr6aWXrq8l5Ze8V+edd15Zf/31yzTTTNPye0aXL3/5y2X11Vcvl112Wf2c8r5kMHLhhRfW922ZZZapn1kW++0GMFmU57O45JJLynrrrVdmnXXWss8++5Sf/OQn9T3dc889yyKLLNLyeXSSL3zhC/W655xzTsuBCQAAADD+asoCmUH98Ic/LN/61rfK4osvXmaeeea3ZkTLLbdc2WabbepsIZtg2s0XUja47rrryqabblrnHIcddlj55S9/OeKr7aU0sfvuu9fv3Xrrrev3NvOV/NyUM3LNz33ucy1nIe0y9dRT13lLSietZl0pp2R+dOWVV5a99tqrrLrqqmWOOeZ46/tnmWWWssIKK5Tddtut/PjHP64zoZRmest7ev3115fNNttslJ89kHz729+u70FmUNkMlYLJDjvsUFZbbbU6u0tBJHO7/ooh+fMUT1JE+cEPflA22WSTssACC5Tpp5++TDXVVGWmmWaq86y855mXZQ7YbjPcyy+/XN+/zMe+8pWvlA022KC+X3l+o/u+yLwvM8n8vHyGu+66a31ueQ0AAIxdCipALSvkBJJjjjmmLkCXXXbZsuSSS5YllliillQyJPj6179e/5lkkfzd7363XHHFFfUUktEt5rK7IUOCG264oRx88MG1DJJrppyy2GKL1evl56TMkX9feOGF64I7Q4gf/ehHdTGchWbfBW+um90O3/nOd8pcc81VPvaxj5VvfOMbtVyT3SKje05ZlOa0kLzevK4ki+X8Wa6bAcm+++5bSxopW/TN5JNPXiaeeOLy7ne/u3zkIx+pC9sMGno/JoWSvJ4ssp966qk6NMjryXub751kkknKFFNM8V/f118ynFl55ZXLxRdf/NbCO883i+utttqqLvIzuDjiiCPqe5av9zckyO6Sm2++uWy++eb1OWbo0wwDsksnJaR8Dn2fQ55rXvsHP/jB8v73v7/f157SUT7nM844Q0EFAAAAqDKPSeEhJ1hkk9GGG25Y50GZEWU21CR/lplRZh2ZWWTukSJLTlVpNSOKzIIuvfTSOjv5xCc+Ub73ve/VTTydSrEjRZlJJ520zjTyvflZkblGChq55rve9a7yoQ99qEw22WQdz3SSbADL96cU0bdMkVNk8vMza1tllVXqnCtlnZQ58r35OdNOO2354he/WOacc86y/PLLl5122qnOiHIibmZZkfnbNddcU+c9fX9+kjnUpz71qfK+972vTDTRRPU15M9aPTYlnZxqk88r182sLJ9XPqtsOssmp5RqWs3rMnfKHPDAAw8sa665Zp0DZsa26KKL1hlcPuPMHZuZXDZdbbvttuXkk0+uZaQUbVrJ/DKnu2Rm9YEPfKC+LymcpCyTuVt/c7DI87rpppvqZ/zOd76zFpluvPFGBRUAgCGgoALjsSywm8FAChlZKGYBPPvss9cdEbvssks57rjjygknnFBPKklpJIWG7HJIMiDIwjcLxAwZ+sr187UsFHfcccd6ykkKDVlMp+SSRWQKFRkyHH744W9dPwvwLLozjMhpK1kE5wSS3kWH3gWVFDPe+9731h0YW265ZS3bpLzR38K0XUEl183pKtlNkR0efZOFdZ5fFvN5rhl+ZNdG78dsscUWdViQxW9uw9MUVFK++fSnP12++tWv1kX6RhttNMr39ZcUh/Ja81k1x54meX+zcyafV4YM+efpp59eF/PNgKKRx+fPMmTJCTH5nHP6zJFHHllPTsl1s1vnxBNPrJ9X3+eQ15ihQYYXeQ157SkFZUDR+3EZhOy33371dyML/b6DFwAAAGD8kplOigu5pXA2xiy44IL1pI6cWJKTNHIySGZDzYwoBYlmRpRyR0oJKbWkNNF3RhRjs6CS+VNmaH3nIaNLZiWZNeXU3mZOkn9mbpJNRJlBZdaU9ySvOYWOzHhSBtl4443rqSH5mTmxN6fMJLlmTsfNPCvPMSe+5ISR5sSSvskcKtf45Cc/WT7+8Y/Xk4Nz3VaPPf744+upMZlndVpQyevJDCyzq5zyO++889b5UQo3+TmZA2YGlWvns8xnnBlbThrOa8+/H3vssW99xn3nSb0LKu94xztqmpleSj7tNtApqAAADA8KKjAea8op22+/fS2czD///PXfr7322rpgzm18chxnFpc5KSUlhnxt7733rovL+eabry7ocv/YLFZ7ywI118+CNWWNueeeu35PSi8XXXRRXdjn+s8991y9fv6ZXR/33ntvLcSkDDHddNPVhXMGACmN9L51Td+CShaXKYykBLP//vvX+9D2LWg02hVUcupHhiZ5fnlOfZPbAWVhnZNQUrTJbXeyw6P3Y/Je5bjVDDOyYM/COgWVPD4loAwe8t7nfsq9v6+/5Ho5iSXvae8Feq6d55kiT4YEWdBncJFSUF5Pb3lsPscMerIbKZ9Jjo3NbZHy3jaDkXweee59n0Ne49lnn113ueSzz2Dj6quvru9178fluabokpLM6HavAAAAAN2vmRGliJEZUeZD2TSTjU/nnntunTdkDtF7RpQTXpsZUW6XnBNEmhlRZim5Xm9js6CSE0AyW8lJtL3nIe2SWVPv2/I0c5psCssmrZyem+dwwQUX1CJPCiL5vrwX+fe8TymkpMyTk3szB8ptdzKXyVynKalkltf3Zycpd+Q2RSkFpfSTzUU56aTVY/M5NLfc6aSgksfl8bnNUk5Dyc9ICSlzxszNWs0BMz9KoSYnp6y77rr1tj2Z62XumNeUjVS9tSqopNCTWVs+v7zu/iioAAAMHwoqMJ7KojGL2xy3mVMxsgMjuxsuv/zyt4oarWQxnUVoTjtJoSUDhex6SKGlWZTmn/n+LOZTFskCM7tecipHvjeL7yya+5YXspjN4jbPK7eHyUAgp63k+eW/U0hpyhm5flNQyYI3uz9yskfKHxkUnHXWWXW40Uq7gko7KWVkMf5///d/9QSUDA16l2f6ymttCioptmTgkNsdPfHEE//zQrh5z3JEbBbwOZklu2xSPMkgp1nM5zmk4HLhhRfWwU6Oyc1OldymKQOXfL2dvMYMk3JqSt6z3NM4w5HewxUAAACA3jJzyOaYzEJyW+DMLVJiSJkhs4rMaVrNiJrZVWZC6623Xp0RZcNN5isPPvjgKLOMsVlQyWm0mTvl+f0vUvzIKcA5sSQbx/JzzzzzzFreaDUvynuScseVV15ZNydlLpeTetuVMxophOS9zIalWWaZpZZ/UvZpp5OCSmZGueV03qNcP59xNmdljpTn3Ork5XxvZkopxOSW3bl+fj9ym6N8xpmb9Z7T9S6o5PbTOXklp9lkFrbnnnuW2267reXJK5HrKKgAAAwPCiownsqiLoOALGSzcMziOgvcLBpHJ4vHlFRSbMhRo5/5zGfqQvqqq656a6CQhXt2suRWMbluFvfZMZETQzpZvOcaWYTm1jUptmRXSH5GFo75/ny9d0ElBZYMKfJamuNDm0FHFpp9F6bdVFBp5Lnn1JScPJOdSNlxkh0oWeTn9ec0kwwP8j7mCNdll1227mDJEaidUlABAAAAxkRmEpkbnHfeeWWttdYqH/jAB+qGmRQNUnBoJzOgnLxx8cUX1xNdU+TIdTKbyXXz9RgXCyopleR15dY22XSVTV733XffiK+2ltebDVn5+TnZNrdHyqkqKfq0M1gFlXzGOUk3Jw7ntWQul5Nd8pi8d81nNDqZkZ1zzjn1+plpZXNVNmP1Pimnd0Fl8sknL2ussUbdtJbTWvJnmfPlfWg1a1NQAQAYPhRUYDyVhXVuC5MjPbOYyyI4R5N2sjBL2SLlkAMOOKAuPHOaSsoO+fMsPFNkyA6XnMiSMkSS++w2J6d0Itd45JFH6v1pc8xpFqcnnXRSXfCmYNK7oJLCxHLLLVeOOOKIugDOKSopUOREkSxw+x4J2o0FlTzvDDZOP/30ukBPcSjPLSWfpliS9zL3KM5uo/z8lFfGZJiioAIAAACMicwMMv/YY4896om3OfVjTGdEmetkhpFrpMCQkkpO803hojmZY1wsqDSnoWTj1ec///ny/e9/v56G205+bk5ZyWnGKY6kuNHJcxmsgkpmXvl6ikcpiuQxuXVTijSdlFMivyc5ZSenruT7c2JzZlx5zo3eBZXc4jq3KMrvRDMHy+eW24q//PLL/7VZTUEFAGD4UFCB8UyzsyELutxyJwu4nDySBVy701MaWZhnB0OOzkzpIvfGzSIyi7pcO9fJQjW7OOaYY4666Ou9cO1EfkYGENl9kZNasjMiZZQsePNzehdU8vUUP3KqSwYEOfY1p4ikSJEdOhli9B56dGNBJfL+ZjiR2zZlIZ/b+Gy55Zb1+X73u98tyy+/fL2VU+5VfPvtt9f3t9PPIxRUAAAAgDGRskBOfF111VXrrVgyR8lsIYWKMZkRZfaQckXmKpnHZINSrtucwjKu3uLnrrvuqu/J9NNPX9ZZZ506B8uGrczdes+y3g6DVVDJe3/ttdfWok3z9dy6aHSzsr5ynWy8yvPL/Crzyty+uvdn2LugktOWjz/++Lox67DDDqv/nQ1y+b1IyScnCfemoAIAMHwoqMB4JgWSLL5yhOi6665bPve5z9WFY44Q7X1s5v+iOZYzt93JgjdljN/85jcjvtq5PNcMCDbffPPy3ve+t96+5pprrqllj74FlRzveuedd9b73ea+tdmRk5+d15YFaO8yxlAWVPJcc/ToPvvsU8sdGdTkfW+XDGLy3PruAOktry/DgQx6tthii7qjKMkAIYWdfB55L2+44YYxGgQ1FFQAAACAMZFbrmQGlblEZhQ5JSSzmzGdSWS2kltH5xTfCSaYoM6BUkhpZhJjs6CSU3xzym8KE61mOH2TeUrmQplH9X7dmc3k/cmpxvPNN1+ZccYZa0klc61mZpTvy6wnM6E8jzF933obrIJKTkrJdVMSWXTRRcu+++77X5vFOpH3Krf1ye19Pvaxj9WfkxNmmtfct6CSW4v//Oc/r0WlFE5SgMpryy2vc7Jz7/dKQQUAYPhQUIHxTBaHWbxnp0fKErkdzk477VQefPDBt61okFsF5ajVLHZzWkgWvFkYjqksJFP+yK1pJpxwwlqMyBGhWdj3V1DJEbEpw+yyyy510ZxbGOVWRFlIN+WToSyoZBdIBiV5XllQ5xZJ2WHSLjkmNbtRcouj0UmBJfdmzmkyeV+mm266ekxsfl52K+WknAwkxnRIEAoqAAAAwJh49NFH661aMh9KjjvuuAHNiDLvSLElJ8RmE1NO7T3zzDPfmseMzYLKZJNNVjcfLbnkki1nOH2Tk35TzMn8KPOhRjMvygnFuV1NTgDJLO0rX/lKnRnleWQmlpNCUtTIqbkvvfRSR7OrVgaroNLMATN/yvM+/PDDa/Gmd0GkE5kv5X3OTC9zrJR1cjJySiT5/FsVVPL4p59+up6kktlgs1Hr/PPPr59fcwsoBRUAgOFDQQXGM1mYZUdCdnpkx0duwZPFfQYGvRfJ/4sMDPbee++68yOL3iwSs5tiTGUhm4VmThuZaKKJ6vPNLpI8//4KKll85uvZnbPJJpvUWwPla/m+LGSz8BzKgsqyyy5bPvzhD9dkYPLJT36yoyyyyCL1NeSY13ayoM9OlZ133rkOHLLwzlGxud1PCiXNgGVMKagAAAAAYyJznSOOOKLecjinqGS2kZnFmEpBIUWIzIhSUFliiSVqcSPliXxtbBZU3ve+95WJJ564PrbVDKdv8tqzaei6665rOT/KvConh+Tkkcyw5plnnjLttNPWWU5Ow83mppQuMgM79thj68wrM7AUM5qSSCcGq6CSr6Vgk9eaeVFOMMntesZUTpTJ70Zmirl19RprrFGfb/48n0GrgkrKTpm5ZV6WDWop+eQ9S8kl87p8hnmOCioAAMOHggqMZ7IgSxEjhYws6LIr4+0uqOR4zT322KMupLMwzALwhRdeGPHVzmUBmZNdssjttKCSW/lk0ZpFehbEWZQmKatkYZrXPtQnqEwyySR10JDbEKV4kuNP2yU/L7tGMkxoJ68hx8DmHrwZHGThnZ09u+66a13oD7RQoqACAAAAjInMTHIKSE54fTsLKgsssEC9pXTmTZnzjO0TVHIiceZqrWY4fbPCCivUGUrKFZlbtdLMjvJzstErtzLK9T/zmc/UQkxmO/nZ73//++u8LbftTlElrz/f24nBKqjce++9Zc8996zv3UorrVQ/h8ylxlRTUMlnnA11a665ZkcFlTyHfD3zx7xv+XwWXHDBOvfLbcjzu6OgAgAwfCiowHgmC7YUDU455ZR6HOpgnKBy33331WvmOM7cQ/fyyy+vhZExlQXmmJ6gkoV+vi+lidyDNl/P0CI58MAD62AkX8vgYigKKil3ZJCQhXCOor3qqqvqEKRd8lqyqB7dz2nkGNUMAzIAyfGq2cHy6U9/upZh8hwyfMjifEwpqAAAAABjIrdhHowTVBZbbLFy9NFH1/nO2D5BJRuOdtttt3rbnb7zm1bJLOWuu+56q0zTSlOyyM/MKcQpfeRWz9mslJNicougzJIyj0m5ZOqpp67zmby3mfN0Mi8arIJK5mJ5fnnvll566Xpb8ZRJxlTvgsqYnKASeR553y644IJ6evG8885bVllllXLZZZfV24ErqAAADB8KKjCeyaI9C8jsxsi9XLOgy61gsiB9u4oGKS1kF0szfDj99NMHNHzI4rI5jWXCCSesQ4ZzzjmnLrpHV1BpPPfcc+WGG26oX8t9jnPf3zyXLFizqM0gY2wXVFZfffX6XPL+pHDydi6E89lmkJHXvO2229af0xwjm3/mlksZslx44YX1nsV5XmNCQQUAAAAYE9kQddppp9UZRZJb1DSlgjGRmUduKZ0NUSmo5ITalF2aW7i8XQWVT33qU/V0khRE+iuo5JSQlDBSnBhMvUsrmYFl3nPUUUeVjTfeuM7zMufJ+5A5T2ZMefzoDFZB5Ve/+lU55JBDyuc+97k6LzruuOPKM8880/b59NWcIJMTgL/4xS/WGda5555bZ2f5/EdXUIl8Hvnv/fffv94WKbOwnOxy22231Xlh3j8FFQCAoaegAuOZZnF7xRVX1AXtFFNMUW9/k1NPcjLJ2yEL3rPPPrveWicL3ixSs8AcU1l8ZkCw+eab1+HDeuutV08cSSGik4JKHvPKK6/Uk1JSTslJIltssUXdgZJTRrqtoJLBwP3331/v1ZvTa7Jgz46eDGSyuM/ukRxzmvJK7m08psUSBRUAAABgTGT+klvRZANTChUpeaTsMKblhcxWbr311noLlwkmmKDOgS655JK3ZhL/S0ElzyWzopQXchJtM+tp5mRDVVBp5Pnl5JXMkDKbyak0P/zhD+vtg2aaaaay0047ldtvv73O0UZnsAoq2QiWDWG5Zp5TCiLZqJb3bUzk/c68aoMNNigf+9jH6s/LqczN70q7gkoel2tkPpjZ1zTTTFOWXHLJWurJKSrXXHONggoAwDCgoALjoSzYcsuY7DrJ7obcCibDgk6P32wWxlkQ5/vOP//8er0MA1LwyHWyOyFHaX71q1+tRYbeC9dOZFGdUkcWuDnSM7eoyUkqOVEl1+mkoNI8zxyjuu+++9b7A+eo0QwUsuDNLX+6paCS9yS3Ucqxr3m/8lpzj+frrruuvq4Ue7bbbrs6aMnrzfuRo3F7v1/tKKgAAAAAYyKzohRFMqtIMSLlg5xkkTnJmM6Icqpu5j+Zx2y//fZ1DpR5SGSDUmYW+frHP/7xOgPJLKqdPIfMgi666KKy/vrr11M3cu0UUpqZyWAUVDIPSokjG7xyEkyKGDnttr9bADXyfDPnyXwsZYvcbijzmRRs8jpG954OVkEln3E2mGW+mIJKNsLdfffdo52V9ZXr5BZIeT9yncknn7y+35npNdoVVKKZS+Y6mcHldeZ3IvPLfGZ5rxRUAACGloIKjKceeeSRWpjITossLlPWyKKuk4JGFstZ+Gexl4JGFqa5VgoSWZynsJBFb07tyD2Bc/0UTXLLnU53T2QIkGukRJMyRBbPWXjmiND8/DzPdgWVRhbSKWrklkZZuGf3RIoc2U2RRW2e47hcUMmgJu9LXmOOoc37ncV8dg41paN8PfctzqAgi/gUdXKbpwxD2u2waSioAAAAAGMic6KcopKyQW67Mt9889X5yJNPPvlfZYz8d2YPmQdlXpE5UmYOORUjf7bXXnvVGU5OYjnyyCPrY5prZB6U04FzCm9u05MiTE5YyddHV9rI13P9U045pZ6+kueXTT05FaQpoAxGQSVzomz2ymwlP3fLLbesJZBOSh0phjz//PPl+9//fn1PM5vKSclNYaQ/g1VQyT9zm5+c5JJ5UWZtmUHlMx7d8+kt70dmTNmclu/P7Cy3hspzbnRSUIn8zFwrs7455pijbp7LDDCfa2aDCioAAENLQQXGUyljZDG56qqrlgUXXLAWJ7Iwy6KznQwHcvpGbh8z66yz1tvnZFHbFDyycM+COqWU7JDJrXV22GGHeqpKJ4v3LCQzCLjgggtqmSSLzix+e++wGZOCSp5PyiAZHuS5Tj311HWYkKFGFqpZ2I6rBZWUS/Keppyy1VZb1cJR3rMc9Zr3pxnU5HU9+OCD5YgjjqglnZykkqFNjjfN93dSUlFQAQAAAMZE5g2ZG5x77rl1dvPBD36wnvyREzeaGU/j1VdfLb/85S9r8SJlkMyVMn/KCb7ZZJN5R06MXXPNNetJsZkBNd+f2UY2Y+255571Mcsuu2zdnJRrNrORVlKuyIarAw44oM7HsqEnM67Mx5rvG4yCSuZBOQUltyzKz11kkUXqCcWZh7WT9zOPy1wuG5Eym7ryyiuHrKCSpEyUjWzLL798+cxnPlPLKimT5L0b3XNq5PXkdyTvwzzzzFNv853bFuXza3RaUIl8X57zt7/97ToHy+vNZq4FFlhAQQUAYIgpqMB4KovILNxTlFhuueXqwm6XXXap5YssPPsrauRrWUAfeuihdTAw3XTT1cV0jhLNNTN4yMIzi/g87qCDDqolljw218/9gpuTVPouUPO9uUaKFVno5zSQOeecs+4GyXGnWXTm+2JMCiqR3TAZauTxWehOP/305bOf/Wy9xVEWquNqQSVDiQxq9ttvv/q6stMn73MGOjnlprd8dvfee289qjbFnDyP3AYoR+12skNHQQUAAAAYU5kRZU6RGdEXv/jFWnLILCkllZRD8vXMiFL4yKwkJYqUQXKqyM4771w35OQ20pljZEaUYkJmPM2MKDLPefnll8vJJ59cSyaZc+UUlRRZcoJLq/lLZjWZjWUGlQ1ceW4pYeTklWbGFfk5b3dBJdfMCTApieQ1TTvttHXWlJJHiiSZtfTdTJT3KLOZnFaSGVMKF5kD5WSZ3Aon1xxdGWSwCiqReVxmRCkI5cSSFGdyGkoKJbl1T+/PqpHvzetsntfGG29cN17lRJk8t/x57zndmBRU8juVWyblJJc872zUynucW4i/4x3vUFABABhCCiowHktpIwvKrbfeuhZNUnBIeSELtCz0n3322bqYS3J0aI7mTMEkp3BkR0MWjdl5kEV5Fo29ZZGZ66fQkJM6svhNUoi47LLL6gIy18/iMtfPP7NbIgveLLJT/MjCMYvOLGjzfHrvmhjTgkoW9Vl05sjTLEJzqssEE0xQd+7keY2tgkoGHtnJk/fhjjvuqIOQvO5Ok+eY15H3N//MZ5LyTgY1U045ZX1efQcpjeZ55L7KGdLkPcjAIJ/no48+2nZRrqACAAAAjKlmRnTTTTfVGVE2I80+++z1tis5PTcnvqaokiJDyiSZl+y///5loYUWqsWCiSeeuM5vMofKDCsbdXrPiCI/IzOdzC222267Ms0009QSwxZbbFF/xv3331/LL5mt5J8ph2TDzumnn15PZPnSl75UCyrZAJQ5T67XyDyld0Elm7COOuqoOtvqO7fpL5nfZMNWNhM185oUP1IsyYkyeb7ZTJV5TW5tk9v/pDzSfH+ec2ZIeW+OO+64suKKK9YNYYsvvng9eSVfb2cwCyp5TSnsZANbykd5bvn8dtxxx1oSynuV1997Dpj3JO91PoP111+/fs9cc81V3+cUmvrO2sakoBL5fcjnnLlXPt+PfOQjtZyioAIAMLQUVGA8lt0EKTxk8ZijNzMcSCkkOx1ylGZ2PZx00kn1djGHHHJI3bGSRXgGAjmuM4vhLIqzQG61ayQL+Cwe77777lrIyCJ2qqmmqgvhtddeu977Nd+fn5GFfcox2eWS6ye5BU/+PIvVlCB677YY04JKZNGcxXgKNXkuk0466VgvqOQ9y26NlIFy39ssiDOc6TTZ+ZGhQ55nhjeXXnpp3bmTBXyGEjkONYOLDAZ6D1Mi/50/z+I991ZOuSgL+tz2KKWVDIFGR0EFAAAAGIjMRlJMyMmumeWkZJDySU54zaab/FlmQJlB5aSVnKo7wwwz1FLBe97znrrJaN55562zpMxDMmfpK3OPlB6yMSobhPL9n/rUp2oZIzOTFCwyh8lJHbkldeYiKYZMMskkda6SwkwKIylk9Na3oJJbR2cusskmm7Sc3bRKijIp3eRWPHnumc9ktpPCSmY7OS0mm8dy2m/+mdlcbpeT+VPmL5k/Zf6VeVKec+Zy+frhhx9eZ12t3o++BrOgEnlNmQOmRJPbD+WxeT353DJnTPnn2GOPrcWSo48+uhaJcqpzPqfMATNzzHwuvyOZ7/WeA8aYFlTy3DKvzPfkZ33hC19QUAEAGAYUVGA8l8XjM888U4sHe++9d901knvfZrGXgsgSSyxRF/E5MSW3wsnXUmjI4jolhyzQU1DoW4ZopASTXTJZDGbRnGJKFpy5fsooSY4yzTXzc7J4zeI094jNQjML4OyK6Xv9gRRUIs811/zud79bhw8f/ehH6+J+bBVUcg/k7Pz5xCc+UU88yVBhTJLFfI5yzQDjhhtuqLfzaW6hlEFHCiPthhL5PLLY33XXXeswJoOA7Ghp7v/cdwDQUFABAAAABiozosxtbrvttnLkkUfW0kLmGTlpI/OnzIeaGVFmUplD5eu5lU1KLClkpFiQ2/hkFpM5Tt8ZRmYUKWKcc845ZYcddqizpq985St19pETSrIxK8m/589SkMlmohRfMmfJbYL6XjP/3bug8uEPf7gWX1J4aDW7aZX8vJRiMhvKfCXXzKwrc7lsNMqsKScI53VmXpXn1jzP5p8pcaRYktlZyiIp8+T22pnl9DeX622wCyrRbIbLHDCb3TJnzGeYz7P5fJtkttT8eTbFZQ6YmVffglBjTAsqjWzIajZ4TTbZZAoqAABDTEEFqLKAzFGqWYzvs88+9XSPLFizcEuymM4iNEep5qjRLGBTdOhUFtx/+MMf6mkq2SWRRW3uk5tFdnZ95LY3KW9kePDjH/+4LvyzSMz3tZLnm2M6s6smi8rsREnpopOyRBbKKVrkCNUc8ZlCTAYEKX3kuu3kSNo8zwwHsgMjx8SOrhiToUN2bGQ4kvc1xZTmfR3T5L7C+Xk5FjUFoZRzshMlZZMMZ/oecduffBY5OSfvXd6DlE4y4Mkgpr+STl5jdsFkELH66qvX+0DnGN5OdukAAAAAREoNKSHcd9995fjjj68nkWRjVEoZzYwopYVsXsrs47rrrqtznMykUnZIgSUncWTTTKuSRP47c5jcLjqzmJzYm+/LHCcnekwxxRS1tJJTVrJZKxt2cipLfyWPzHVShDj44INrMaXVvKZd8royw8nraXU6SGZgub12ZjUpy2SDV+ZmOa1l8sknr3O5/Hfeq5xGnFvgZL7V33NuJafL5HZHef/yfqeskls+t5NZU26rlBNmVl555ToTyyaxPOf+fn7+vDlVOSfjZINXNojl9eQzyGeROWA2XuUzyhwwn1l/c8DIzCq3PkqJJ7esPvPMM+tssJ3mvT3ssMPq71U+w5wknaKUggoAwNinoAJUWThmUZbiQhanKUFk0ZfdBEl2KGRRmcV9TlzJYrqTMkcj12+OLs3OkOyIyLGpuW4KH1kUpmCRwkPKF9lNkkXp6Ba6KUZkIZqBRBayWTD3XeC3kueR15nFdX5udptkEJHX09/P6y3fm+d566231n+mqDO6n5tr5rU8++yz9X3NLpPmfR3T5HZK+XkZwOQ5ZwdLc1/ivP5OP5O8B1nY573Le5ChUK6XP+/vPchrzAAp35Ofm5+Z34PRDQ8AAAAA+sr8IvONlCYyZ8jMKXOWzIhuv/32ugkps57MKjK/yCwmpYwLL7ywbt458MADy/nnn1/nTK3mEvmzzCwyi8nsJtfL9VN0yVwmG3Ay28icJddvdevqRuYkuVZOIMnzazWvaZd8X35eXk/mK31nL3m+mcvluWQul9eaeU+ea74387PM0fJe5T3Le9ffBqP+5DWmqJH5W97vzPc62eiVzypzuswEMz/K+5n5ULt5UF5P7zlg83ryGeSzyPPIbKn3HHB08nqbYtM999xTP9tONk01721umZ3fg3we+bkp+LT7mQAAvP0UVAAAAAAAGNZSUEgpIQWHK664opYcbJwBAIBxi4IKAAAAAAAAAACDSkEFAAAAAAAAAIBBpaACAAAAAAAAAMCgUlABAAAAAAAAAGBQKagAAAAAAAAAADCoFFQAAAAAAAAAABhUCioAAAAAAAAAAAwqBRUAAAAAAAAAAAaVggoAAAAAAAAAAINKQQUAAAAAAAAAgEGloAIAAAAAAAAAwKBSUAHowJ///Ofy8ssvv5VXXnml/Oc//xnxVQAAAAAYXH3nU6+++mp5/fXXR3wVAACGPwUVgA7cdNNN5YQTTngrF198cR0CAAAAAMBgSxHl+uuvH2U+ddlll5W//OUvIx4BAADDn4IKQAdOOumkstZaa5Ull1yyrLrqqmWfffYpL7744oivAgAAAMDgyUm+xx13XFlzzTXLEkssUVZbbbVy4IEHlj/96U8jHgEAAMOfggpAB/bdd9/ypS99qUwwwQRl6qmnLptttll55plnRnwVAAAAAAbPv//97/K9732vzDjjjOXd7353mXbaacvWW29dXnrppRGPAACA4U9BBaADCioAAAAADBUFFQAAuoGCCkAHFFQAAAAAGCoKKgAAdAMFFYAOKKgAAAAAMFQUVAAA6AYKKgAdUFABAAAAYKgoqAAA0A0UVAA6oKACAAAAwFBRUAEAoBsoqAB0QEEFAAAAgKGioAIAQDdQUAHogIIKAAAAAENFQQUAgG6goALQAQUVAAAAAIaKggoAAN1AQQWgAwoqAAAAAAwVBRUAALqBggpABxRUAAAAABgqCioAAHQDBRWADiioAAAAADBUFFQAAOgGCioAHVBQAQAAAGCoKKgAANANFFQAOqCgAgAAAMBQUVABAKAbKKgAdEBBBQAAAIChoqACAEA3UFAB6ICCCgAAAABDRUEFAIBuoKAC0AEFFQAAAACGioIKAADdQEEFoAMKKgAAAAAMFQUVAAC6gYIKQAcUVAAAAAAYKgoqAAB0AwUVgA4oqAAAAAAwVBRUAADoBgoqAB1QUAEAAABgqCioAADQDRRUADqgoAIAAADAUFFQAQCgGyioAHRAQQUAAACAoaKgAgBAN1BQAeiAggoAAAAAQ0VBBQCAbqCgAtABBRUAAAAAhoqCCgAA3UBBBaADCioAAAAADBUFFQAAuoGCCkAHFFQAAAAAGCoKKgAAdAMFFYAOKKgAAAAAMFQUVAAA6AYKKgAdUFABAAAAYKgoqAAA0A0UVAA6oKACAAAAwFBRUAEAoBsoqAB0QEEFAAAAgKGioAIAQDdQUAHogIIKAAAAAENFQQUAgG6goALQAQUVAAAAAIaKggoAAN1AQQWgAwoqAAAAAAwVBRUAALqBggpABxRUAAAAABgqCioAAHQDBRWADiioAAAAADBUFFQAAOgGCioAHVBQAQAAAGCoKKgAANANFFQAOqCgAgAAAMBQUVABAKAbKKgAdEBBBQAAAIChoqACAEA3UFAB6ICCCgAAAABDRUEFAIBuoKAC0AEFFQAAAACGioIKAADdQEEFoAMKKgAAAAAMFQUVAAC6gYIKQAcUVAAAAAAYKgoqAAB0AwUVgA4oqAAAAAAwVBRUAADoBgoqAB1QUAEAAABgqCioAADQDRRUADqgoAIAAADAUFFQAQCgGyioAHRAQQUAAACAoaKgAgBAN1BQAeiAggoAAAAAQ0VBBQCAbqCgAtABBRUAAAAAhoqCCgAA3UBBBaADCioAAAAADBUFFQAAuoGCCkAHFFQAAAAAGCoKKgAAdAMFFYAOKKgAAAAAMFQUVAAA6AYKKgAdUFABAAAAYKgoqAAA0A0UVAA6oKACAAAAwFBRUAEAoBsoqAB0QEEFAAAAgKGioAIAQDdQUAHogIIKAAAAAENFQQUAgG6goALQAQUVAAAAAIaKggoAAN1AQQWgAwoqAAAAAAwVBRUAALqBggpABxRUAAAAABgqCioAAHQDBRWADiioAAAAADBUFFQAAOgGCioAHVBQAQAAAGCoKKgAANANFFQAOqCgAgAAAMBQUVABAKAbKKgAdEBBBQAAAIChoqACAEA3UFAB6ICCCgAAAABDRUEFAIBuoKAC0AEFFQAAAACGioIKAADdQEEFoAMKKgAAAAAMFQUVAAC6gYIKQAcUVAAAAAAYKgoqAAB0AwUVgA4oqAAAAAAwVBRUAADoBgoqAB1QUAEAAABgqCioAADQDRRUADqgoAIAAADAUFFQAQCgGyioAHRAQQUAAACAoaKgAgBAN1BQAeiAggoAAAAAQ0VBBQCAbqCgAtABBRUAAAAAhoqCCgAA3UBBBaADCioAAAAADBUFFQAAuoGCCkAHFFQAAAAAGCoKKgAAdAMFFYAOKKgAAAAAMFQUVAAA6AYKKgAdUFABAAAAYKgoqAAA0A0UVAA6oKACAAAAwFBRUAEAoBsoqAB0QEEFAAAAgKGioAIAQDdQUAHGS6+//vpb6cRACypvvPHGWz8n/w4AAAAAvWdGncyn/peCivkUAADDhYIKMN75z3/+U/7yl7+UP//5z+Wvf/1rR0OAgRZU/v73v9efk/zrX/8a8acAAAAAjM/GdD410IJKCil/+9vf3ppP5ToAADBUFFSA8U4W/CmO/PSnPy1nnXVWueWWW8rjjz9e/vnPf/Y7DOi0oJJFf4oozz33XLnrrrvKBRdcUK677joDAAAAAADekhlUiiO33357Oeecc8ptt91Wfv/739f5VKtTTsakoNLMpzK7uvPOO8uPf/zjcuONN9afl2IMAAAMFQUVYLx1zDHHlK997Wtliy22qIOAp556qrz66qt1Ad93ENCuoJLHZ1CQHS/PPvtsufrqq8sOO+xQll566bLTTjvV4QIAAAAA9HbYYYeVRRZZpHz729+uRZLMp1577bX/mk91UlBpiik5mSVzq8svv7xst912ZYkllijf+c53RjwKAACGjoIKMN66/vrry1ZbbVVmn3328tWvfrWsscYa5fDDD687VrKQ772jZHQFlWbHyy9+8Yty0kknlU022aQsuOCCZbrppisbbLBBLb84PQUAAACAvq666qq6eWrWWWct88wzT1l77bXLUUcdVU8+yUaoZj7VrqDSzKd+/vOflxNOOKFstNFGZf755y9f/OIXy8Ybb1zOP//8+jgAABhKCirAeCu39TnttNPKTDPNVD7wgQ+U//u//6vFkm222aaceuqpo9z6Z++99x6loLLpppuWJ554opZU7r777nLuueeWPfbYo56Y8pnPfKZe76Mf/WgttvzmN7/p99ZBAAAAAIy/Hn300XLiiSeWaaaZps6TJplkkrLwwgvXk09OP/30upEqM6iUT3IKSu+CSk5dyUm+Tz/9dL2V9dlnn1123XXXemLKpz/96Xq9SSedtBxyyCHlgQceGPETAQBg6CioAOO13/3ud3XRnjLJO97xjpr3vve9dRiwzjrrlDPPPLO8/PLLdYdK74JKdp789re/LVdeeWU9hSVDhPe9731vXeODH/xg/bPsggEAAACA/vzyl78sCy20UJl44onfmi1NOOGEZbLJJivrr79+3RiVk1JSPuldUPnWt75VHnnkkXLppZfWf59qqqnKRBNN9NY1PvShD9WNWTfeeOOInwQAAENLQQUYrz333HPl4IMPLvPNN99bi/d3vetddQgwxRRT1KNQU1TJPz/3uc/VAUCGA3PMMUdZddVVy6KLLloHAlnw52vNNTIs2HHHHeuAAQAAAAD68+STT5b99tuv3oK693wqm6GmnHLKeuJvbv0z77zzls9+9rP1a5/61KfKXHPNVVZfffWyyCKL1I1S2TDVez41yyyzlN12261usgIAgOFAQQUYr/35z3+uR6ButtlmdYdJFvjNIj55z3ve89btf7KLJV9PGeXjH/94/WdOW+n9+He+85213LLMMsvU3SkvvPDCiJ8EAAAAAP/t1VdfLXfccUfZcMMNRzuf+tjHPlY+8pGP1PnThz/84TqfSiklJ/72fnwzn1p55ZXLzTffXE9fAQCA4UBBBRivvfHGG+Vf//pXOeqoo+rOkyzeey/om0V9BgP5Z6v/7p3sUvnEJz5Rttlmm3rd119/fcRPAgAAAID/1syncspvTu7tuyEqGZP5VAotk046adlll13MpwAAGFYUVAB6XHvttWXdddetJZW+i/oxyfvf//6y3HLLldNPP33ElQEAAACgvSuuuKKsueaadfNTq7lTp8mpvyuuuGI599xzR1wZAACGBwUVgB6PPvpoOe2008qss85ad5m0Wty3S05Pye6U/fffv9x///0jrgwAAAAA7T388MPlxBNPLDPOOOP/NJ/6zGc+Uw499NDy61//esSVAQBgeFBQAeiR404feeSRsvzyy5eJJ5645QK/XXLP35lnnrlcd9115R//+MeIKwMAAABAe//85z9rqWSJJZYoH/nIR1rOn9olp6fMMccc5ZZbbjGfAgBg2FFQARjhj3/8YznggAPKPPPM03KB3y7Z3bLNNtuU3/72tyOuCAAAAACde/7558vee+9d5pprrpbzp3bJ5qkdd9yxbsQCAIDhRkEFYIS//e1v5dZbby3f+ta3ygQTTFDe9a53tVzo98073/nOeuzqCiusUK666qry4osvjrgiAAAAAHTuL3/5S7n55pvLN7/5zTqfytyp1Tyqb5r51Kqrrlquueaa8oc//GHEFQEAYPhQUAEY4fXXXy+vvfZaOe6448onP/nJMtFEE7Vc8PdNFv8f//jHy84771z+9Kc/1dsFAQAAAMCYynzq1VdfLUceeWSZdNJJy4QTTthyHtU3KbNMMskk5bvf/W555ZVXyr///e8RVwQAgOFDQQWgjxtuuKGsssoqZfLJJ2+54O+bD3/4w2XxxRcvZ5xxxogrAAAAAMDAXX311WWllVYqk002Wct5VN989KMfLUsttVQ577zzRlwBAACGHwUVgD4effTRctppp5U55pij7W1+8vXPfOYz5YADDii/+MUvRlwBAAAAAAbuoYceKieeeGL58pe/3NF8aqqppiqHHnpo+dWvfjXiCgAAMPwoqAD08be//a089thj9Z69E088ccuFf5MPfvCDZc455yw33nhjvT0QAAAAAPyv/vrXv5YHHnigLL/88uUjH/lIy7lUkw996ENlgQUWKLfffnv585//POIKAAAw/CioALTw97//vey33371FJV3vvOdLRf/yQwzzFC23HLLeuoKAAAAALxdXn311bLXXnuV2WabreVcqslMM81Utttuu/Lkk0+O+E4AABieFFQAWvj3v/9dbr755lo+ec973tOypJI/W3nllcull15a/vCHP4z4TgAAAAD43/3jH/8oN9xwQ9lkk03qbXz6m0+tscYa5YorriivvPLKiO8EAIDhSUEFoIU33nijvPTSS/Vev5NNNlmZaKKJRln8TzDBBOVjH/tY2WOPPcqzzz5b/vnPf474TgAAAAD4373++uvlxRdfLEcffXSZZJJJyoQTTthyPrX33nuX5557rvzrX/8a8Z0AADA8KagAjMYtt9xSll122TL55JOPMgCYeOKJy0ILLVTOOuusEY8EAAAAgLffddddV5Zccsm6iar3fCrllIUXXrhccMEFIx4JAADDm4IKwGg89thj5eSTTy5zzz33KAOAKaecsuy///7lvvvuG/FIAAAAAHj7PfTQQ+WEE04os88++yjzqWmnnbYccsgh5f777x/xSAAAGN4UVABG489//nN55JFHytprr10+/OEP1/v9fuADHygLLLBAufnmm8sf//jHEY8EAAAAgLffa6+9Vh588MGy6qqrlg996EPlne98Z/ngBz9YFltssXLnnXeWP/3pTyMeCQAAw9t4V1D5199eKn975WERkTHKnrtvWWaa4fNlgve8u0w1xafKxuuvWB594NaWjxUR6S///Msz5Y03/jPibyUAAIyv/vW3F1v+fVFEpL/8+eUHy+47bVJmmPZz5d3velf5wlSfLltsslp56pG7Wj5eRKS//PMvz5Xyxhsj/lYCAGPXeFdQ+dOT15cn7z1ARGSMcvYxG5Z1vzFnef/73luWWnjGctwBq5ff3Lxny8eKiPSXFx86r7z+77+P+FsJAADjqz/+/pqWf18UEekvT9y9fznjqPXLmivMVt47wbvL8l//Ujnx4LXKg7d+v+XjRUT6y0uPXFTeeP1fI/5WAgBj13hXUPnDE1eVx+/YrTx807fKQzduKiLSUW47d81y8C4Llhmm/r+yw8azlxvPXK385pqNWz5WRKRVHrttp/LCA2eU1//9txF/KwEAYHz18mOXlcdv39V8SkQ6zw2blFvPWaPst8N85Quf/0jZbfM5y01nrV5+e+03Wz9eRKRFHrt95/Li785RUAFgyIyXBZX8D0QPXLNWeeDq1cuD16wtItJRrjhx2bLRql8qpx309ZZfFxFplQeuXqP89spVyiM/2UZBBQCAKgWVx27bsefvimvWvy+2+nukiEirXHLcMmW9lWYsZx+2RMuvi4i0ypvzqVXLo7dsq6ACwJAarwsqD92wYXn81q1FRDrK727cstx96ablN9dt0fLrIiKt8siNmyioAAAwit4FlYdv2Kjl3yNFRFrlwRu2LHdf0rPOvN58SkQ6z8M3flNBBYBhYbwuqDx848blyZ/uVv7wwHHllUdOFREREXnb8qeHTy7P3LtXefTmzRVUAAAYxSgFlRu/WZ66a/fyhwePb/n3ShEREZGB5o8PnVSevud75ZGbNlNQAWBYGO8LKs/cu2f55wvXlvLavSIiIiJvW15/5aflhV8dqqACAMB/6VtQefZne5d/vXhDy79XioiIiAw0//njbeX5Xx6soALAsKGgoqAiIiIigxAFFQAA+qOgIiIiImMjCioADDcKKgoqIiIiMghRUAEAoD8KKiIiIjI2oqACwHCjoKKgIiIiIoMQBRUAAPqjoCIiIiJjIwoqAAw3CioKKiIiIjIIUVABAKA/CioiIiIyNqKgAsBwo6CioCIiIiKDEAUVAAD6o6AiIiIiYyMKKgAMNwoqCioiIiIyCFFQAQCgPwoqIiIiMjaioALAcKOgoqAiIiIigxAFFQAA+qOgIiIiImMjCioADDcKKgoqIiIiMghRUAEAoD8KKiIiIjI2oqACwHCjoKKgIiIiIoMQBRUAAPqjoCIiIiJjIwoqAAw3CioKKiIiIjIIUVABAKA/CioiIiIyNqKgAsBwo6CioCIiIiKDEAUVAAD6o6AiIiIiYyMKKgAMNwoqCioiIiIyCFFQAQCgPwoqIiIiMjaioALAcKOgoqAiIiIigxAFFQAA+qOgIiIiImMjCioADDcKKgoqIiIiMghRUAEAoD8KKiIiIjI2oqACwHCjoKKgIiIiIoMQBRUAAPqjoCIiIiJjIwoqAAw3CioKKiIiIjIIUVABAKA/CioiIiIyNqKgAsBwo6CioCIiIiKDEAUVAAD6o6AiIiIiYyMKKgAMNwoqCioiIiIyCFFQAQCgPwoqIiIiMjaioALAcKOgoqAiIiIigxAFFQAA+qOgIiIiImMjCioADDcKKgoqIiIiMghRUAEAoD8KKiIiIjI2oqACwHCjoKKgIiIiIoMQBRUAAPqjoCIiIiJjIwoqAAw3CioKKiIiIjIIUVABAKA/CioiIiIyNqKgAsBwo6CioCIiIiKDEAUVAAD6o6AiIiIiYyMKKgAMNwoqCioiIiIyCFFQAQCgPwoqIiIiMjaioALAcKOgoqAiIiIigxAFFQAA+qOgIiIiImMjCioADDcKKgoqIiIiMghRUAEAoD8KKiIiIjI2oqACwHCjoKKgIiIiIoMQBRUAAPqjoCIiIiJjIwoqAAw3CioKKiIiIjIIUVABAKA/CioiIiIyNqKgAsBwo6CioCIiIiKDEAUVAAD6o6AiIiIiYyMKKgAMNwoqCioiIiIyCFFQAQCgPwoqIiIiMjaioALAcKOgoqAiIiIigxAFFQAA+qOgIiIiImMjCioADDcKKgoqIiIiMghRUAEAoD8KKiIiIjI2oqACwHCjoKKgIiIiIoMQBRUAAPqjoCIiIiJjIwoqAAw3CioKKiIiIjIIUVABAKA/CioiIiIyNqKgAsBwo6CioCIiIiKDEAUVAAD6o6AiIiIiYyMKKgAMNwoqCioiIiIyCFFQAQCgPwoqIiIiMjaioALAcKOgoqAiIiIigxAFFQAA+qOgIiIiImMjCioADDcKKgoqIiIiMghRUAEAoD8KKiIiIjI2oqACwHCjoKKgIuN4/vOnu8pfnr+1/P63l5f7bjur3Hj5ceXisw8p55yyXznjxL3L+acfUK44/4hyy9U/LA/+7Pzy0uPXl3/94afljVfvaXm91575SXn4FxeVK3u+55qLflAe+9Wl5c/P3drysWOa//zp7vLXF24rTz1wRfnF7WeVm67Icz2453l+v+bCMw8qN1x2bPn5rWeW3//m8vLX528r/+55fX2vk+f+zENXl5/eeEp9fbdec2J57uFryj9fvvO/Hju6/PnZW8ojv7y4XP7jw+v7ltedn/m3F2+v17v24h+89dzGNNddcnR54teX1eu1+tntkvfqT0/dVH738wvLbT2v79JzDy1nnrR3ueCMA8u1Pdf+xR1nv/Wa+/ssk3zt9VfuLi8+dl359V3n1eeVa5x98r719+S2a08qD913Uf3cW73XvfOPl+4ozz9ybbn3ltPL1RceVc47bf9y7qn71d+vO68/uTzxm8vKaz3vaavvHZO8/MQN5Zc9ry+fyd03n1Ze7Xlu+Z1t9ViR4RwFFQAA+qOgIt2WzBQyP8psIHOdzHfenE/tW86s86kDy5UXHFlnOL/7+QV17f/vP/Y/n3r16ZvrTOTy8w7/n2csfZNZWuZTT/72inLfbWfW+cNFZ42cT+Xf82f5Wh6Tx+Z7+l4nz/3pB68sd95wcjnv1P3L7df9qDz/yDVjPMPITOah+y6ss5+brzy+zqoym/rbC7eXp393VbnqwqNGmTmNSfI5ZMb2t57X0Opnt0vmU3988sby4M8uqLPFS845tH6emS1df+kx5f47z6mzok7mU3kPX3j02vKrn55brrn4B/V34pyT9+255iH1vXv4Fxf3/A7d0vK97p3Mp557+Oo6M7qq53eqzqdO2a/OMjMrzGeW67T63jFJZqiZX+Y9/NktZ7w5O/vj6J+byHCMggoAw42CioKKjOPJIjmL9B/3LMZ23mbdsvgiXy1TTvHp8sEPvK+8853vLJN8/KNllpmmLSstt3A57IDtyh3X/6i80rPI729BlQXxCUftVr78pWnLV+f4Ujn9h3vVkkqrx45psrh+6sEr6kJ/l+3WL0suNk/5/GcnK+98xztqJv/0J8qiX5uz7LDVOuXcnoV9Sjd/6TN8eHNBe3ddnG+83gr19X1jhUXKdZccU/7w+xtHeWy7PNKz8P3R0d8pM80wdVli0bnLCUfuVp584Iq6yM315v3qLOUdPc9rIFlg3lnL2Sfv07Movrzlzx5d8hr/3vNepaTxg4N3KquttFiZZurPlXe/+93lk5/4WJl/nlnL7jtsWK679M3XPLrFcd6rLNwzANr3u9+q35trvO99E5YpP//pstrKXy/HHrZLHfq0G/S89Ph15cYrjitbbb56mXO2GctHJ/5Q+fCHPlC+NOMXynprLlPOOXm/WnYZ3UCik9xz82lljx03Kl/v+V3+1jdXqUOQlFRaPVZkOEdBBQCA/iioSLcl85tH77+kFg522GrtstjX5ipTfO5T5QMfeF9517veVT4xyf+VWWeers5wjjp4h1okeO3Zn/RbRvjtvT8uRx+6U/ni9FO+NWPJnKjVY8c0tZzywBXl/DMOLDtts26dP3x28knfmk999jOfrPO1fC2PyWP7Fjya+dRl5x1W1l972TLxRz5U1lx1iXLD5cfVuVvvx7ZLZjLHHbZLmfYLnyvLLDFf+dEx3ynPPnR1eeZ3V9VNVXN85YstZ0+dZNGF5qzlmVyr1c8eXfIaM8v7+W1nliMO2L6svPzC5QtTfabOGyf75MfL1+afrXx3l2/WWVFKLKMrluS9ytzp5qtOKHvtvmmZZ66Zyyc+/tHy/vdPVKaacvKyVs97d8KRu5dHfnlJz+dze8trNHnhsWvLtZf8oM6MZvvy9G/NpzLL3HCd5Wvx5dGe6/yv86k7rj+57LrdBmWRnvdwm2+tWT+nbHZr9ViR4RwFFQCGGwUVBRUZR5NTU37103PKiT/YoxY1sihMoSIFjxWWWbCsutKitXyw6kqL9Sxu569lk/nm/nJZabmv1aJCCgtZVP3nlbtHue7bXVBpFuw5veWsk/YpG627XF3kZyG68AJzlGUWn698Y/lFyiorLNLzvBeqRZE8z7yOtVdbsvzwqN3LfbefNcqpL/lndlscfsB2ZYbppqzfc/QhO9WiTn5W3+fQKq+/ck89PWS3HTYsM04/VVlvzaXr7pg//P6GejJJU1B530QT1kX3NFN/tsz0xak7zjqrL1UuPOvgupOm1c/vL9lxktNOsvtjy01XK7PPOkNZYN6v1DJPhjj5/JZafN4yf897tOYqi5cDv//tWmRpVeBIcSWFkVOP27Osu8bS9X1dZME5ynJLLVCvk/ctQ54stHfaZr26k+m1Z275r8JLTkXJ78VRB+3Q8zOXqO9LBk0rLvu1Opz4+sJfrX+2+CJzl+/t+s1y102nlj8+edMo1xiTKKhIt0RBBQCA/iioSLckM4PMJY4/Ytey4TrLlQXn/cqIucGcZcVlFxplPrX04vOVuWafqc4nVllx0bL/nlvWEkBOXsnpr72v+3YXVN6cT91VfnvPj8tpJ+xVN9ostvBcZd65ZikLLzhHnZ29OZ9atCy/9IJ1djXf3LOUr/c8Jo/90THfraeFZO7Uez6VEzYO2nurWtxIueS4w3ets6C+r6dV3nj1zflUShspw6SgsvF6y9f/zqm6zzw0sqDyvvdNVD71yY+Xaaf+XMs5VH/ZYO3l6qknmXW1eg79JfOpbOA6+0f7lG9t/I0ye89zyGe71Nfnre/RSst+reff56nv0VqrLVkO3Xeb8pu7z6unjPS+Tl5j5kwP3Ht+Oeno79QiyvzzfLnOojKfymypzqfmmbXOl3bdfoN6cnB+r/oWXjIbyozosP22Lat/4+tl7jlnrt/TzKfyeeb55Hp7f2fzcs9PTqsn8fS+xphEQUW6JQoqAAw3CioKKjIOJou9LIqzIMvpGtmBMvecX6qL+9122KAcc9jO5ayT9i4/Pu2AcnrPovuQfbYpm26wUll4gdnLLF+atg4CUlL52a1n1oVVs7BO3u6CSnZHZKdJFqEpSaQMkueassVOW69bjjpox3q7mRzFmWFGdl6keJECxnTTfL6e/HLwPlvXRe4rT91cF7a5bo5Mvey8w2tRIq9rm2+tUW9xlJ0dfZ9D3zS7NvIz11p1yTLXHDOVPXbaqB6hml00vQsq2eGz0PyzlU163r+UJjrN8UfsVosaY3qqS464zS6i/LwMbfJ5bbzuCuWQnoV+hgInHb1H2XO3TcpySy5Q38csuvMZ5fZEvT/H/HuulSHEyj3vYa6V15GF/nGH71KHMRkerL/WMvU6KQx9Z6eNa/Gn92168l49/utL6w6oNb6xeD05ZcVlFqqPzXDm1OP3LHvvsVktrsw84xfqsOmw/betg6QxveVSEwUV6ZYoqAAA0B8FFemGZK2e0zVS0MicZ9ZZpqvzhdVWXqzsvuOGdf6QzUqZT2UOcdD3tyrfXH+FstB8s5UvzzxtPeU135uNSZnT9J5rvN0FlWz0yu2HcnpuZkHTT/v5+lxTnNl52/XrCbbNfCrPO3Oi1Vf+ep0NfXG6KWsp4/ADti+/GzGjaOZTzz58db1l9YLzfaUWGXIqcG6xnJNx+z6HvsnMJSfP5FY8mbnMMduM9XSRx351Sf3+3N66KahMNunHa5Fms41WLn1nUKNLNralqJHCS6vn0F9ye5tbrjmxFlwyU/rKl6evs8VD99u2vkcn/mD38p2dNy5LLz5vnR8uu+T8dXaUU3R6f44p6uRaOdUkG9PyWvI+5blldpa5UmZe2ejVzKe+v/tm5dd3n1c/s+Y6ea8yt8vthbLJLc8pM8Pv7bJJnU+ddsKedV6Wz2ymGaaqJaNstMqcc6DzKQUV6ZYoqAAw3CioKKjIOJjs9siJISkE5PY0GQJkwZ/Fe+6xmnvU5rYuyd978pfnbn2rrLDFJqvWo0qzkyVDgJw60vvEjLezoJIFaXNkanaiZDdJChXH9iz0UzrI4rj3c025JOWILDjzc3PKR25Dk0VwnmtKOdlZkmv/tWeR+vNbzyibbrhSXSguv9SCdYdFJ4WQ/KzsZjlgr2/XoUiGDFkQN/e57V1QyQktu22/QS2NZGHcaTJIyL2UX++1KO8k2VGSzzbvfxblGYqkNJJr1s+z57rZwXLDZceVb663Yi0npZyT+/5m0d8MSHLv51/ccXbZa7dNy8c/NnFdoJ9y3PfKC49eV4c+f3/xjvrP3Cc5ZaUZp5+y7vTJY57qeW/y2b3Rc518JjltZ5MNVqyFkQwMcnRr3r9cI79fLz52fX1/Nt/oG3VnUYYSV5x/RP2d6/v6OomCinRLFFQAAOiPgop0Q35117nlsP23KzNMO0W9/W9KFjkRNuv4Op96cdT5VP7s5Seur4WOzHM+PdkkZYnF5q7XyC1oes+n3s6CSmYcdfPNKfvVuVROIVny6/OWH/5g91o6yC15ej/X/HvmENkMdPKx3y0rLL1g+dxnJ6uliMOzKeeeH781n8q85q6bTqlFjpxam1NYbr7yhHrLm77Po28y43nygSvL3ntsXr42/+xl1RUXK2f9aJ96zRQyehdUMgP87s7fLPf+5PS3Zk+d5M351F2jlEY6ST7bw3s+ly9OP1V9/3PCcV53rtnMp57u+cwyP1t/rWXL7LN+sWy/1dr1tfeeT6UckhJTblWdW/qkHJRCTuZ32SSW62Q+ddu1J9aCST6bFFkyF8x8rs6nepL5YeZRG62zfN2sltN68j35vWnmU5l53XrNSfWk6ZymklNVrrs0s8KB/b+tCirSLVFQAWC4UVBRUJFxKFlQ5mjK7EhYb61laokhp5KcedLePYukNxf/rb4vC7ksbLNTJEOA7A7JLYGyoyULx95FgreroJKfmetedcGR9SjUhRecve5sOPnY79WiSUozrY47zfdlgZphRu6Rm2Ngc2pHbnGTXRLPPXJNLZHkvcjrOeLA7eupHTPOMFU59rCd6/f1vWbfpBiT2/t8s2fBmkFHjlG9+crj31qw9y6o5Lrf2+Wb9bjaVtd6u9IceXr3zafV3TI5ojTPL6ewZHiT59U8NgvvDGVS2sltdVI+OeOH3y/ZdZPPOUOSLO7zWWdnzTQ9i/t9vrN5PTEng4He13r+0Wt7FuvHlDVWWbzuLtn+22vXk2gybMjjMgzJ4OCrOaFnhUXraTYpHWXh31wjt1/Ke3Zmz+Py+5jS1JE9n8tv7vnxW48ZkyioSLdEQQUAgP4oqMi4nMwBUurIvCAbWVJO2XDt5eq8KpuOMvNp9X2ZM2Ru8fivLq2ncGRjUk57zTXuuP5H5Y+9Nh29XQWV5gSPS889tJYj6jxspcXK6T/8fj3pJLOUpmwyyvf1PNfMpzLbyKaw5nTa3OIm86rMU3LtzHIe7XnNOQVk8UXnrifDnHj0HiW3XO57zb5JSeOWq39Y52YzzzRNLXFkk1Azn+pdUMmcLkWWnDDc6lpvV/Jz8/NTzsgpxzm1Jbf4yawmn0/vmVJKI0/85vK68SnFnxSU8rlmJpVbiuf9yTwn71dKIyky5VbVv7j97BGvceTPzWas3Ho6m/BSUNll2/Xr55P5VK6VMsyPjvlOfS/y+WUemO/J15tr5Pcym65OPe579XTmnOiTTXIP/Oz8tx4zJlFQkW6JggoAw42CioKKjEPJLoUUUXKblpQ28j/g/+DgHetpFr0XZP0lxY7H7r+kHnGZ+wBnCJBF4u97FpPNY96ugkoGDjn5IwvPqaaYvC7g8+9P/nbUckN/+cfLd9YBwg8O2akWJz47+Sfr67775lPf+v4UTa65+Ae1FJFTYXbYep1aNHlzp0brnSEZMOT9OvX475Vll1qgFlB+2PN687qbxwxNQeWeupDOz8mpKd/bdZN6qkveg76fbRbxWeDntknZDZITS3KP4z89dXP9Wq7zcs/35djVLNqzC+fcns/5pSeu/6+hS055SdEnw4TcImrZJReo7+kfn7ypDgDu/+k59WuTfuJj5Zvrr1gHI3974bZRrpFkx0ue+y7brV9Pvdlhq7Xrzpa+n0OumUFFhiw5LSYDjtuvO6nuAEoR5cXHrqvDmVpQWVhBRcbtKKgAANAfBRUZl5P/kT5r+tzOJqWNbJ7JbZtzmkUnt1PJfOqhn19YbxGcOUTmWxedfUh56oEr3nrM21VQaWYtKXd8/nOfqif85pbZzz58TUeztDzm2Yeurqe85Hs//alPlO/t+s3ys1tOr9fOY7JBK+WKFDQyA8v86tZrT2w7n8o8LrOdbMpKmSLFihR8mscMVUElr+tnt55RN4KlpJINY3mNfT/bzKBSVDqu57Ov86me9yevJ3+Wk31zned6XsOBe327zpxy8smFZx1cr9X3ffnXH39aT6zZc9dNeq61SN3kdtOVx9fZX76WUkvmczklOLOiqy88quXvWmZO9912Ztluy7XqaSyZU/3k6hP+ez71p9xe6db6O5uTYbJhLJvZ7r3ljFpEyTzuxsuPK7v2fL+CiozrUVABYLhRUFFQkXEoOary8h8fVncSZFG91earlxsuO7Yu+Ppb8PZOdibkiNEUAHbbYYO6cM79dXsvft+ugkqe08VnH1LLIxNNNGG9Rcy1Fx9dd6Z09lzf3LGRW9DkuU7y8Y/Wk1+yO+eVp3Ov33tqUSX3tt33e1uUuWafsay16hJ1B0yOYs1Cs9V1//mHO+t9bLNAXW6pBerOjJRaet8aaCgKKkleUwYfWXxnIZwFfYY2fd+vLMDzu5BBzuKLfLUu8k+rtyjKEbB31R0++cx23HqdWl5ZZ42lyg2XH1vfl77Xyn/nZ+XI2pzEks89n3lOScn7n9+vLPwnfO8EtXTys56FeqsBQD7vpx68ohx18A71nsEbr7d83TmVP+9divnrC7fXBX1+Xu5dnNsY5dZPGTZ9e7PVyyVnH1pLU9k1pKAi43oUVAAA6I+CiozLefbhq8sl5xxSll583rqmz2msP7nqhDGaT2UWkQJCTrXNCSo/Pv2AUeZPb1dBJZtszj/9wLLmKkvU2cYW31ylzjoyf+nsub45q0l5IXOWiT/yoTp/yu2CUobI13OSyMO/uLiWKzJLy+vJ1zOHSUml1XUzn/rFHWfV926ZJeevJ37ccd2P6oah5jFDUVBJ8poyc8tzyef06tM/qXO2vu/XP166szz/yLV1Q1pOj1l1xUXrLYrenE+9WQD53c8uKLk1dWZwuS1PZpJ5X3pfJ8m1M4/LrYQyq5tjti+Wc0/d781NeS/fWTdT5VbX73nPe+rM6L7bz6olmL7XyczqyQcuryfaZK6XeeT5Pb9b/zWf6vnsUkw58Qd71NNdMsuaasrJ62a+bbdYs1x+3uF1rpX5oYKKjOtRUAFguFFQUVCRcSRZ2KVIcvgB29fb5cz0xanrQj2LqVaP7y9Z1GXnRxbWl513WD2qtPd9cd+OgkpKEikUZKdFU6bZf68t6+6a7Hpo9T2tksXpE7++rGexuHs9LjansOQ0j6cfvKouLFOgSJnj9BP2Kiv2/JwUGvL15v6zra6Z13r9pcfU3Rj1yNCeheYD95xfhw3NY4aqoNIueT9yG6econN2z4J/3TWWqp/RLtuuV08raQZBr/W89xlY5PY+uf1Rdo1kJ0g+l1bXzXt4wRkHltW/sXg9iSan1uQo2pyucsnZh9STU7JD6ICez/DNP//v62QokFsRpXiSey5nWJNFfgop+bn5ngwoMgTK7YYymMjjFl5g9vq5ZRdSBhC5Z3OKU/mzOWabUUFFxukoqAAA0B8FFRlXk/lU1um5BXCKI1/58vS1VJA/a/X4/pICRAoYKSxccf4RdWaU+UTz9bejoPLmrOKGcuSBO9STWqb43KfKofttU+cq/W1sapWcBpvZ2DGH7lymn3aKsswS89XbLmfzUDOfSpkjp4dk1rTYwnOVg/feus7fes+beucPv7+hXHXhkXU+suKyXyvf2Xnj8sgvLh7l8UNVUGmXOnt69pY6k8wtp1OumW/uWcruO25YP89mPpWNV7mN9IbrLl/f/522Wa/8/LYz+51PpQyTE4Azs5t6ys/U36vMQjPjy9wqM6NPTTZJPc0mf57Ppe818lnkOjnRZ9GvzVnWXm3Jcspx36slonzmdT717K3l2kuOLnvttmlZZvH5/ms+lVtc55ZV2ciVU1/y/iuoyLgcBRUAhhsFFQUVGUeSHQBZ1KXFP/88s9aSyhXnH16ee+Salo8faN6OgkoW03lee+62SVlisbnLfF+dpZ58ktu39LdzpL9kOJFBxdI9i/9FF5qzbLnJqnVo0ZzEkkVvSg9bb75GPVZ2s42+UX5265nlladubnm9nLiSEkVukbT6N75e71+b55prNY/pXVDJTqDNe655wRkH1VsWtUvuj5tFcl5rFty9rzvQpFSU6+X6N191Qjnp6D3qyTQLzvuVeo/fs07au76u5vEp4eSWOWv1LMJzzG528Nx/5zmjXLN3Uv7ITpQ8/mP/95Gy/55b1lv75HcuO182Wnf5eg/l3EYoJ6u0GiRkKJDr5ESeNxfzi5QjD9qh/lk+owwuspD/zk4b19+HGaabopaKciufDHhy3Gs+2wV6frczhPjEJP9Xpp3m8woqMk5HQQVgVC+++GJ57LHHRESkJw/de2p54Iatym+vWkNBRcapZFaQTTBb9KzhMzfJ3Oe6S48uLzz69s5X346CSkowT/Z8T4oTOeFj/nm+XE/lSIFhTOY1eeyfnrypXHz2wfV2RJlPbbvFWnUW89cXRs6nrr7oqLLlpquV2WedoWy12ep1jtffPCO3sznhyDfnbylRnHbCnuXlx0e99U3vgsp003y+fLvn2jmtuO8sqlVSZHn0l5fU15pixtsyn+p5P/M5Z8aU02/y/HMyTWY5OcH3x6ftXx7/9cgZYspBd1z/o3oicjad7fOdb412o11KPrlVUk4K/uSkH6u3rs7ryGknOTl4/bWWLbP0vF8/Oua79WSVVjPGvNac+HLa8XvVWw6lbHLsYbvUuVQ2zeVrD9x7Qd2wNu9cM9fC0crLLVznVXlcZmKZA8771S/X2zXlltd57xVUZFxO34LKAzdsWR6667jy2KMPtfw7isjYzGuvvTZiYgCMTxRUFFRkHEkWYzn1JCWCry0we1kjR3/2LPJ67y55O/J2FFRyhOej919ctttyzbLQfLPVozBznGpKI72P0+wkOfbztmtPrMeA5jo5JjWDkOZ1Z4GdwsoJR+xWBwDLLblAOfeU/cvTv7vqv66Vx956zYl1MDHD9FPWYUFuIZRFau/H9S6oTDTRe+tidJqpP1dmnvELbTPbl2eoJ4Dk9JDsFMmAove1xzQ59vbxX19WizQp1Xxxuinr4jknu+SY0gxWcs/i3ifGZAfPzVeeUO9hnCNK2xVU8nnddeMpZZP1VywfnfjDZY+dNup5X06pO0oybMjryQBgdAWVfK75rHIqTwYryy+9YF3U59ZJza2Y8p5kIJHPKT8jg5sMl55/5Jp66k2GDnmdq660aM/z+FDPe/5ZBRUZp6OgAjDSG2+8UU444YSy4YYbiohIT47Zf+1y81mrlV9dvoqCioxTyQwhp7iuuuJi9XYo6625TLn3ltPrDKTV4weat6OgklNoMzPactNV63PNCRmXnHNofa5jUtjIYzPzyOvOhqGFF5ijngryizvOfut15zHZtHT0ITuVWWaappYeMgvLzKPV9XK76Z23Xa/Om7bfau1y102n1s1YvR/Xu6DyvokmrKWNab/Q2Xwq35PTbU89fs+e5/iTklNye197TJMyyGP3X1JPJsnMcIYR86mZZpi6bL7xN8r5Zxzw5u14ep0Akw1h1178g3pCyfxzf7ltQeW1Z39SZ535ncrGpe/vsdmbM8Anb+r5Xdi5Fl3aFVTyZ3994bZy4ZkH1Rnq8kstWG/3k/JLbkn00M8vrK8hvwtfnWOmurnuukuOrkWm3K4o88TM0H74g93LSst+rfzfRz9c33MFFRmX07ug8psrVim3nLNa+dEha5Vvbtz67ygiYzO33nrriKkBMD5RUFFQkXEkuT1K7uebXQTZqZFTLXIsZv681eP/9NTNPQvjc8tpJ+xVb6/TKkccuH3deZECQI64zAL57SiopEyQBWcWqAvO95V665arLjjyrXvztvqe/pKdOT+98ZTyrW9+oxZUchualEpSfGgek9NFbrz82Hokam5pk1vyZDHZuxySEz7+/uLt9R7Aee9SnMmRoE89eEX9Gc3jkt4Flfe+d4K6GM0tbnIUbLt8YarP1kXuYfttW59j32uPafJ+pbhx7OG71AFIFs/5bLKLI7t/9thxw3L9ZceMWJi/+d5mAHDdpcfUE1ZmnXm6tgWVLNx/fuuZ9fNKMWTX7TeoZajsKsnpJvmda1dQyfNMESXH06ZMtNxSC9Zb+WS3TH4f7rrx1FoIWnyRr5bVVlqsntiSo257XyNDjPze5Jjcr8wyff2ZCioyLkdBBWCkFFS+//3vlznnnLNMPfXUZcoppxQRGa+z3UZfLZefsHT55aXfUFCRcSr5H+gzM1lh6YXqfCqnTaSYkeJKq8fnlNdf3nl2vc1Kq9lUctRBO5RLzz20zqSa+dTbUVBJeeQXt5/15hxo/tnqPCLzkjGdT73Rk5xue+u1J9bNPbkdzLprLl1+dssZtTzRPO75R68t11x0VL1tTG5pk1vy1Ntd955P/enN+VRujbPBOsvV15bX+fTvrvyvTU69CyoT1vnUR8rkHc6nUqrIqbu5jXM+g/91A1Wed05mOergHevJzjnFOEWcKT//6boZ6Xu7frOWbjLraeZTzfPP5qm8hnYFlcw4cyLwhussXz4xyUfrNesM8IkbyxEHbF9WXn7hDgoqb86n8vu0wdrL1s/hwO9vVedTrz1zS513Zf6VW/dkg1VKR31LRCkj/fru8+ptxJv5lIKKjMvpW1C56qRlyne+PW+ZdlrrMhm6zDjjjGWBBRYoV1xxxYipATA+UVBRUJFxJL0LKilAbLrBSrV0kHJBq8enVHJ6z2J3vrm/XCaa8L1vZcKkZ1H7nve8u3z8YxPXW7HkCM6cwJGF3dtRUMkAIM9t4/VWqAOAjdZdrtx0xfG1gDCQgkp2kWyxySr13rGtCiq5bm6rk2JFSiopxKS08VqvUkNzm5yUH3K6R0oU2TXz95duf2vh3KR3QSWFjVm+NE1dbOckkXbJ4jZHruaWRnkf/vcTVO6pi/csrHPP5JxKsvXma5T55561njAy0wxTlR22Wrtcf+kx9X66+Qzz/K+9+Ogyz1wzly/N+IWOCio5djZlkL4Flez8yfvZSUEln8PVFx5VBz/ZodIUVPK+X5nbNC0+Xz1aNQv87Ejp+97kGhkipLySIUKGNAoqMi5HQQVgpKagMtNMM/X8PfQ9NRNOOKGIyHibDb8xQ7no6K+XX1yysoKKjFPpXVDJfCq3tMm6PTOJVo/PrWxyWmoKDS3nU+9+d5n0E/9Xb8OcW+i8OZ96ewoqKY+k8FBPPVlwjnoSbeYdOUmj1eP7SwoqmU/lezfdcKV6rVYFlcw0HvjZ+XVOk/nUmqsuUW65+oejnNyb2Uluk5PZyArLLFRnKLmtTb6378ysd0El5ZRsQspspdU8qm/WWW2pulEoG7Vefebm//kElRRUUkTKRrfDD9i+zqcy/8rsKbfHzhxxl23Xq/O/FDwyn8ppuTlpd/ZZv1i+Mst0HRVU8p7mPeldUMlsKZvMVlruax0XVPJz6waqXgWVzKfy/Bf72lfLqisuWmeEOYW473zq9RHzqbz3Oc0ls1UFFRmX07egctlxi5dt1pu5fOiD7/uvv5+IjI28613vKpNMMkmZf/75FVRgPKWgoqAi40h6F1TS8v/m+iuUX95xdt310erxue3L+acfUG+Jk1uqNPnKl6cvM880Tfn0ZJPU5HYqb3dB5dWn3zy9ZZMNVqpDhOxQye1cUoQY04JKiiU5QSW7G/o7QSXPO4vME47avS7CZ+1Z9GZnTsoUzWMyMLjnJ6fVRe5cs89YT1nJbWxaLWZ7F1SyyM7PvuCMA2vJo12ym+TBn51fnn346rd2/fS9/pgmu5Dy+jKIebzns8hAIIWUnbdZr97nN6eqfHeXjetJK3/p+T3Jzo98/Wvzz1Zm6/m8Oymo/OzWM+qup1EKKs/8pBxz2BieoHLBkWWDtXOCygJvFVTyvM8+ed86tMjvY24blKNVW703+TzuvunUeu/f3NdZQUXG5SioAIzUt6Ay+eSTl1lmmUVEZLzNrlssVK48cTknqMg4l94FlcyntuhZt6d0kNlCq8dnppSZQOY1o8ynZpm+zDzjNGWyT368fHbyT9ZbWb/tBZWnbqonxq6/1rL1hN/8jBsuO7b8bQznU2+doHLNiXUel1tvtyqo5PTezIMyS0kBIqWcs360Ty1TNI/5w+9vqBuxMh/JnCSnrNzzk9Nbzqd6F1Smm+bztRCSgkXfWVSrvDmfuqCesvt2zKfy/ZlN1vnUb96cT+VnXHvJ0WX7b69dT1XJfGrvPTZ76/chp6lccf4Rdb6WWVz7gsotdXaXYsl/naBy4JidoHLJuYfWz705QeWlx6+vzzu3PMrvX4onuU5+n/ubT91+3Y/KbjtsUE8KUlCRcTl9CyrXnrxc2WeHhcvss83a8u8oIoOZmWeeuUw88cQKKjCeU1BRUJFxJNmJ8tMbTikbrbN8XRhlZ8kdPQulLLZbPT7Hd+ZUjLNO2qfubGhy0N5b1//xP7dayeI2i/O3u6CSQsWj919SF6jZVbLEYnPXe7/mufY9raRdcq3svsiuk1xr/bWXrbc2au7x2ySL5AwZcrpI7oGbBX7uU5uvZaH51ANXlHNO3rd8Y/lFanEjJ5w88stLRrlGk94FlRlnmKqWWVIGavXYoUgKIlkQ5wSY7P7JcaopAWV3SBbcSQomOSkmBZZ2BZW8dzmmNgOA3M4o99/NcCTlpyzW1159qfLlmUdfUMnvTj6ri846uD6X7BTK71qKKPmdOvawXeptifJ7m2FA79Nt+uZXd51bf1eXWWJ+BRUZp6OgAjBS34LKF77whbLiiiuWvffeuxxyyCEiIuNdLjh5+/LTC9crv75iVQUVGaeS+dQtV59Y1ll96bJIThJZY+l6SknfOU2TbFxJkSO3tBllPvX9rcoeO21UNyOlhJITad/ugkrmHTnR5NubrVaf61KLz1tnJ3muY1RQGVHOyImvKZ6koJJNWdlA1He+kflFTrXNPCOn2h6w17fr62+u88SvLytnnrh3ndkstvBc5dxT9y+P9/xZ72s06V1QyZwus65sTmr12KFIii85HSYzv8yUPvuZT9bPMSfC/PH3N9aTYm68/Liy5GLz1PesXUElG96yOS/XyKk6+31vi1owygm/xx+5W1lzlSU6KKi8OZ86r+d9XTXzqWUWqr9v2ej2u59fUG8VNPmnJ60/IzPTnPbS9xpNcnuoQ/bdpj5/BRUZl9O7oJL51F0XrVsuPW3rctihB7X8O4rIYGWrrbaqpZSUUxRUYPymoKKgIuNIctxkdibssv36PYvqOcuiX5urXH7e4XU3QqvH95fsEsntcFJS+eqcXyprr77k215Q+ecf7qwlif323KIsvcR8dZfEycd+tzz38NX1SNBW39Mqb7z65iAjpYdFFpqjLLzg7GXrzVevz7Hv0bF5f7KgP2y/7eqRp7kFUk49yWvKgjn3jk3xIgWV7KBIAaO/4clwL6g0yTG5+axS/MhOoB8cvGMtkPzpqTfvsZyTTHL0a33+d/b//PM+XHH+4XU3U277dPA+W5ff3PPj+p7mdyNDl5y6k5LJk79tXVDJ5/pKz8/NwGnxReauQ4BjDt25vPrMLXVgk6Nf3//+ieqtf9oVVDIwOPHoPepRtwoqMi5HQQVgpFYFlS233LI8//zzIx4BMH55+bHLymO37VgeuHpNBRUZp5JZQUoD22+1dvna/LOXpb4+Xy1k5DTXVo/vLykRZK6x87br1ZNEciLJ211QyW15nnnoqrLX7pvWWzfnhI9sWMpzHZMNVLnlS+Zc5526X30u2UC1w9br1LJJ34JDTlp57P5LazElJ3V8a+NVyiXnHPLWfOoXd5xdiznZ2PPN9Vcsv7zznH5nHsO9oNIkc5zMpFL8SOEoG5xykkw2z91902ll7dWWqiftvvn8+y+opESSk09yUsqnJpukHHnQDnUmlPc4ZZKcipzSz0lH71GeeqB1QSUzq2yQS4lliUXnKautvFg9yTezr8xVMxvMbaVWXm7htgWVlGmOO2LXuoFKQUXG5YxaUFm1PHrLtuXF351T3nj9XyP+VgJjx5VXXqmgAlQKKgoqMo4kC+cUMI49fJd6gsoXp5+qHHXQjmO8MB0bBZVcJ6dvpKyw2spfr6WH3XfcsJ58kvJKq+9plewsefi+i3pe5w61hJGyy6H7bVuef+Tauqjv/dj8zCzoU2ZZvedn5hSP7HLI4jb3k80ul2+ssEhZa7Ula1kiRYt/9rnHbJNxpaCSe/nm9eYY1dxT98gDd6jDmmbIs9Xmq9cBwFabrVaPRO37njXJwODcU/erp5tMPeVnyvE9i+9H77+4Pv7qi35QvrXxN+rJKt/ffbM6GPhXi/sW57EvPHZdOfEHe9QTatZdY6laSkqRKIOZDAOm/cLn6m6XdgWVlGOOPmSnsmzPc1dQkXE5CioAIymoAIxKQUXG1WQ+9fAvLi5HHbxjWahn/Z/5UeYID957fsvH95exUVDJrCjFhMwnMhPKfGqv3TatM55Wm2/6Szbl/O5nF5RD9tm63o4os5a8/syc/t3nOnUDT8/PzAkezXwq85pmPnX5j4+op6fktNrMrTKDSumn9zWajCsFlacevLKce8p+9ZZGObEkG5ayoS6nzqTkkVtnr7DMgmW7Ldeqp+30N5/K7YPOPGnv+llNP90U9XPLrYT+8dId5Yqe9y23V5r4Ix8qB37/2+Wh+y6q73Xfa+S9fP7Ra+tzSJEot/LJfDJzykd/+ebv7RSf+1S9xVK7gkpOI86thVJuUlCRcTkKKgwXCipAQ0FFQUXGoWS3Ru7tmv+RP7fn2Xyjb9SFau7R2unJJGOjoJJksZkjX3fYau3ysY9NXBd+WZznli+dDAHyev7a81yvuuDIeo/dT076sXpcaHadZDHY9yjW/Hd+5l03nlJf2xKLzl223HTVOiDJ4OFHx3ynLuhTeEipI8eD9r1Gk6EoqOS5ZMH95G8vL3dcf3L5ac/ryKAmryk7dVp9T0o2eU/zPHPv55xwkh0k2a2T02r22m2Tuuskx89efeFRLd+3fOZ5vUf3LNxz6kmGQuf1/D5kp0s+g9wXeZft1i8f/OD7yzZbrNnz3H5Un2fvayTZlZTfq5R/vvTFqctmG61cB0t1MPDINfXI2vnm/nI9pSXDgPwu597Mfa+T55OjbzN0WWKxeRRUZJyOggrASAoqAKNSUJFxOSkAXHXhUWWVFRatc5MtN12tXH3RUbWQ0Gqt3ypjo6CSZIZx05XH1008H/3oh8sGay9bLjjjoPLaM53N0jLDym1sLj/vsLLZhivXksumG65U53EpN/Q3n8qtl3fbYYN6G59tt1izPDBiPpUyT2ZuW222ern03EN73ofb+p1PDUVBJTOovGc5HSabnTKfevSXl9TX1N/zfOI3l9WTafI8M4f64VG711lTrpPPbI8dNyzf6PnzNVdZvFx/2bH19ySnJve+RuZBORU4hZBcIycFZwaYmVI2mGUelYLL+983Udlpm/XKXTeeWp9T72skf+/5mfm9yqk5uV31FpusUm/rlA1zmZWlrDLn7DOVtVZdsp70ktOA87P7Xid/lhljbpu92MJfVVCRcToKKgwXCipAQ0FFQUXGoWThm4Xd9/fYrMw955fKV3sWVPt+91u1GDC6xn/vjK2CSha0uR/sycd+r8w6y/R110KKDtllk10Lrb6nd/J6nvnd1fXUjoXmm63ubtjve9+q9w7ub2dJktd22vF71uFGbm9z/aXHlMvOPayWNaac4tO1bJLjRFPiaPX9yVAUVLKozk6RnGSSBXt2eKRwkiFIqwV38qu7zq0nynzuM5PV2+pkkd0US1LoyNAj99TNDpbTTtirnjzTd9Gd9yG7Tnbdfv16vOlqK329/OSqH9YFdx6b9zPDgc9MPmlZf+1ly49PP6AOkXpfI0mZKGWW7Ir58Ic+UHbaZt06PMjXclpKCjI55WXZJeevvweP/eqSOjTofY0MOv71hzvLTZcfV09tWWj+2RVUZJyOggrASAoqAKNSUJFxOZkBpJTwnZ03rvOpzB0O2nur8uj9l7Tc1NIqY6ugkhlJig/HH7lbvX1xTiXO8/79by7/r9tHt0oe88SvL6+35cnzyAwmJ6nktjZ9T0/pnZQZcspsShs5VSTzqRRScp3MWDLPS2ml1Sm1TYaioPLvnufzwqPXljNP/H5Zc9U351M/PGqPWirpbz6VmVk2LE32yY/X2+GcffK+dcaV9/4PT9xQT8nNrCtztnN6vpbr9y27/OOlO+u8LhvdVlr2a/W2QCnI1J/b8z5nXpnfsU9N9vGy8XorlIt6flf+8fJ//65lE98dPd+34brL1zJR3u+7bjql/rzMli4997B6659ll1yg/h489eAV//U7m8dmI9a1F/+glpEWmPcrCioyTkdBheFCQQVoKKgoqMg4lOzayAI+i9rdtt+gDgCy8MuugNuv+1E9laK/3Qz58yyisvhNgeMbyy9Sb7myxje+PigFleyESBElpYXdd9yoDgCy++F7u2xSbrri+HpbmVYnqWQIkaNQs0MjC8+vLTB7mXWW6cq6ayxdF+W5j2zfkkXvvNyz8M0JJOussVQdABy67zZ10Z/TVFJ0yX1qs/tidEOEoSio5DX9pWfRnRNjNu5ZRM839yxlg7WXK7dc/cN665zej80iOQv903+YYcES9XZPuadx3rO8d/msU/5oTp/J4CML/BuvOK5+Js37l8c9/utLaynm6wt/tRZ6UgjK8aspAeXr+Z06/4wDy8ILzl7LJbvvsGH9Heq9IM9CPkeuHn7AdmWl5b5WvtLzeZ3Y8z5nMJWv51r33XZm2a3nexf92pz1aNSc0pLfq96fZcoyWeynEJPh1FdmmV5BRcbpKKgAjKSgAjAqBRUZl9PMp6656Ad1g8psX56hLL/UgnX+kjlQZjOjm0+99uxPyq/vOrfewiW3u5lhuinrLZkHo6CSn5fnevt1J9UNM5kzZRNVNn9l5tLfnCl/9srTN5Xbrz2p7Pe9LertlWefdYay/lrL1tedkzf6e41J5jY/ueqEepufnB6S2/nk/cmcI9fKRqIUNUZ34syQnKDS83xS8kiZJnOpeeacuWyywYr1RJiXn7h+lMdmjpPXkM1peZ057Xnrzdcod998Wt1wVd/7526tJ5jkpN3Pf/ZT9TPIxqjMkvI55zp5XGZIOYUlt43OLZTynqfAlAJPnlPez7N+tE8ti+SW0DnZ5JFfXFyv3zyf5vSUg/fZuv5efXWONzdsZfaVr+cUlTy3/M4u3PN7kMdcfPYhtWzVPJd6nRdvr7OoXCevPxvvFFRkXI6CCsOFggrQUFBRUJFxMLmP65UXHFl3MWRhnf/RPzsCzu5ZqOXUil/99Nzy8H0X1QJAFmtZvN5986n1aMycuJFFf3a4ZIGbRdkNlx9b/vlyFnz3jFJQ+dKMX+hZ/G5WF6W5R+zoct/tZ71ZJHj65rpDoj7XngVmFqoppORkjZQO8nyzGE3pIYWKlCGyCE1SfLjnJ6fVxWEWmim1pKSwwjIL1TJGFpmthga9k8XoUw9cUQcNWRyv/o2v19LEKisuWjZad4V65GxOkRndEKF3QWXqKSevC/Hs/mj1uvvLL+88p54+ktNDei9y+0ueT3ai/OyW0+siPLfDyQBm9x037PncDi33//TN6+U9zvuWHSdZ3Oc5LrPk/OWYw968v29zMkyGRfncs6snA4KUT7IzJEOAX991Xv2ccy/dLP5z3Gk+79z/OD8rR/U2zyuL8uw02XHrdeotd7LDJCe73HzlCXW3UK5z5w2n1M8nR/vm1kobrbt8ufmqE2pZprlOTtO54MwD62cy52wz1mNxTz1+z/LzW8+s18hnn50xJxy5W/29nmbqz5UZZ5haQUXG6SioAIykoAIwKgUV6YY8/eBV5dJzDq23ok6xYPFF567znHNP2a+u8VNCySwn86mcqPvru8+rBZYUUfI//uc2wNl8lSLBrttvUAsdmU9lRtK7oJKNMPt+71u1rNFqBtM7v7j9rFokSAmmmU/lejlx9vrLjinfXH/FMu9cs9SCQmYuF555ULm75zn1nk/l3/NnF511UPnOThuVRRaco8w683RllRUWKWf/aN/y2P2jbrhplcxTHuu5VmYxdT7Vk5wMsupKi9YTQDKLa3WLoN7pXVDJJrOcNpsNP61ed3/J7CevKcWK0f2sJm/Op35ab6GTTUz5bDLL+27P68hzycwx18usJp/xWSft0/OerlDnWJkZNbf3SRkk18umpXxPZl2ZT2Xz0167bVqLP5lbZSb0yzvPrjOizLly2+jchik/K5ummueU9yolmW23XLNuslqx573Mz0rJKJ93rpMNaynLZMPakovNU693+/U/emumlOvk5Jy8h7mNUGajmTudceLedWNVZqn57FNmOvbwXer8NO/7TD3PSUFFxuUoqDBcKKgADQUVBRUZB5PyQRZpN1x2bNn+22uXWWaapkz6iY+Vqaf8TC2r5NSM7Mo44oDtywF7bdnzmLXK8ksvUKafdorykQ9/sLzvfRPV4sdWm61WiwQpkTT3fs2Crimo5CjM3AYoi7rc/mV0SakgJ6VkQffXF0bewifDgCzKU1LZo+frWdTlONQZep7LSj3ft+NW65RD99umZpdt1yurrbRYXYx+erJJyqc++fFadvjxaQeUPz5502hv7dMki83sjMmpINnV8plPT9rz3vxf3fFw2H7b1kVxuwV574LKxB/5YH3Oi31trpavu79ssv6K5YDvf7v+vE6ed5PsRvlpzwI/hZ4MYHI8aj7TLXoWzAfvvVUdjKy7xlJlhummqLc9yik3KaH87JYz6u9F89qa9yGnpuQ9zG6kz/c8Ps9t523WK/t8Z/M62Jh/7i+Xz392srLQfF+p78/Tv7tqlFvv5Dp5P669+Og6OMrvWE5syb/nZJkUmPLZZxdRPrMMGs48ae/y5G+vGGVYkx1QGQbllJW8l/ndyoBlw3WWq88lg6jcjujLM09Xn2vdHdTz7woqMi5HQQVgJAUVgFEpqEg3JHOIbHLJzCAnZ8w84xfKJyb5aJlm6s+Wry/y1fpn+353i3L4AduX/ffasmy7xZp1bpD/0f/DH/5Aed/7Jqzr/+22XKuWAl56/LrSzKd6F1Q+Mcn/lbnn+lI9kbXv/KVvMgtKSSa3Re59C58818yrMkvbZdv164ws86mcnJviSTZwNfOp/Ps3ev5sxumnKp+abJLy2cknrRttLjrr4PLaM7d0PJ/Kxp3MSNZZfak351M9r2OBeWYtRx3c83/7957/1gynv/QuqHx04g/XjWQpZ7R63f0lzzunt+Tnjcl8KieW3HrND2uZJjPCT3/qE2Xxns80JxTnenvsuGFZa9Ul6mc5xec+XQsqORE3BaG+86mcyHLNxT/o+WyWqY+faorJ6yanbGDLXCnPMZvapvz8p2sZ5gc9709ee+/bc+c6mVlddcFR9VTozKfy+eRWQHU+9Z3N6vs825enr7O0bFY755T9eq5z1SjzqfxO5NopSKWklPc1Jam8zpRo8pzWWGXxejuozL9mr/OpaRVUZJyOggrDhYIK0FBQUVCRcTS5zUuKA7dec2I5/ohdayll5Z4F2mILzzXidjqzlbnnnLkWEHJrnRxfmqJJigW7br9++dEx36nfm9vd9L7Xau+CyoQTvrdM8vGP1uLBZyf/5Ggzx2wz1rJBTnBJMaL3c80iMj/nzutPrqdvbLXZ6nWnQ07byHNLySLJiSEZYOSIzU02WKkWPLKAffzXl42yuG2X7NLIroksKj856cdqMSNlmKsv+kE9ZaTV9/RO74LKeyeYoEw88Yfq4rbV6+4vWZhvv9Xa5Z6bT6u7f1r9nFbJ4jtDgAx3cv/eLNjzmeaWP3mP8pzynn29589SMMmOjp/dekY9PrfvtfKe5eSSay85uhZA8r4uNP9s9RrZJZJ/ZriQgkl+h7KzJjtS+h4vmz975ndX1R1QKUQtudi8ZcF5v1K/P8lwJbukMlDI8bzZHdX3dyDXTPHl57edWe/BvN4aS9ffx3xvfk8zgMjzy0Agvx9JfmcVVGRcjoIKwEgKKgCjUlCRbklmSpm15PSTnO6adXyKEZllLDJiPpXywfzzfLlujnlzPjVvLTfstsMG5ZTjvldvW51ZyD9eHjmf6l1QmWiiEfOpT32i5Qymd1I22HTDlcs9Pzm93ua493PNXCkzn5zE8YODd6plixWXXajORjKT6j2fyp+tsPSC9RSOlBlyu+2cvpGyQ1OiaZds2Lr12hPrLOWTk368bjRabeWvlxsvP648/0j7eXTvgsp73ztBLVNkM1er191fMkPaebv1anFkjOZTPZ9r3qurLjyy7POdb9XCTjYc9Z5P5VbameNtucmq5YQjd68/4w+/v/G/rpX5VDYyXXXhUbX8k1v45Ht7z6cyI8xcMTOjzI4yi+p7Sk0KRk89eGU9tSVlp8UXmXvU+VTP55ZZUzZ95dY+OYm49ya65M2NdHeUe285vc7C1lp1yZ6fPU+97VKeS34/cwJLTtrZavPV62vLLE1BRcblKKgwXCioAA0FFQUVGceT28L88ckb621WUg7Yedv16uIqOyqyKM8iKmWQLTdZrd7eJ/d9zb1Xs3uhVeEjC8aLzzmk7jrI93ea3IannqDSsxjtvUOld7JTIwvVDAKyCMxiMqWE5hrLLDF/LdpkJ0l2tGQXTu/TPDpNFpu5L3FuO7PU4vOWNVdZvByw17frkbJ/6TOcaJWUPe6+6bS6GO39Gsckq664aDl4n63qcbZjskMlyeeS55mjTrPTJov3fIZZKGcYkHJHTsZJiSZDoNFdP4v5f7x0Z70t0HGH71o23WClt4ohuWZuDZXjbPO5t3uvX3j0uvrZHbT31nVHUopQ2W2SoVKOfb3u0mPKUw9cOdoiUZ7r07+7slzx4yPqySk5BjgDhPz+7NjzOs8//cCe13V03ZW049brloP22boOgPoWXkTGhSioAIykoAIwKgUV6bb8648/rfOUlE1OOvo7dU2fNX/mGHPlNjHzz1aLK9mQcvj+25Urzj+izm7+8tytLecI2ayU20Pn1s2t5i79JbfRyQkqub1xSg59r5tk01eea24Pc+xhO5etN1+9liaaa+Tf82dHH7JTPRE4Jw/33tzVaTKze6LndWRet/QS85U1V12iHLrvNuXJB674r+JEq+T05Mxhcsub3q9xTJL377D9ty0P3nvBGM+ncsvqfD45Hfj0E/aqG7Eyv8nnmbnjBmstWw7ae6tauEmZJa+31XWSzOoyL8yGsmMO3bluUMpmpxRMctpJTkHJbadzSkq79zrlntzCOhu71l1j6TqfysanzDJzovSNPZ9ZrtNuPpXfv9zWfK/dN63vUzab5blkw1vmUtnwld/B7b69Vj0FKLOzTj43keEWBRWGCwUVoKGgoqAi43iy2MoiLwuk3AbnuUeuqQvdx391ad0pkPvd5n/gz66LLGxfe+Yn9YSRvrsQmmSBltMqnuq5Rr6/0+RnZIGY3SGv97MAfPO53lV3sKSoklu+PNHzfc01nvjNZbVwkSHBn3sWwFnYjm4xObrkdfzpqZvqICDvx4uPXV8HEFlct3p87+Q5ZtGcxWzv1zgmebJnkZv3O6WPgbyGPM8syPMassjP+5vr5nNNCSQ7i1Iy6uQ9ytfz+5H3PCehZMiT+wU3n1k+77xf7a6Tn5XPLq8rO1ZS+Eny/qa8ks+s3bAjPyNDq9eevaW+hnxv81zyOl99+ub6uvKc8t/5WblmJ5+byHCLggrASAoqAKNSUJFuS9b7zcwnG6myph9lPvWrnrX/by8fMfe5vs4F3lzvt55P/bPna5kRpBTQe97SLpkvpFAyunlM81yzGeYPv7+hPqfMpJpr9J5PpaAx0PlUvievI/O6Zj41JnOOf494PzOD6f0axyTNz8yMaSCvIZ9P3suW86me55Vrd/oe5TXX+VTP+5oTf7OBrplb5jOr86k/djafymeXuVJmZM18KrPM/FmeT67T6nub5Gfkc8icNDOt/J6NnJVdU59LnU/1/A4+9/CbvwvmUzKuRkGF4UJBBWgoqCioiIiIyCBEQQVgJAUVgFEpqIiIiMjYiIIKw4WCCtBQUFFQERERkUGIggrASAoqAKNSUBEREZGxEQUVhgsFFaChoKKgIiIiIoMQBRWAkRRUAEaloCIiIiJjIwoqDBcKKkBDQUVBRURERAYhCioAIymoAIxKQUVERETGRhRUGC4UVICGgoqCioiIiAxCFFQARlJQARiVgoqIiIiMjSioMFwoqAANBRUFFRERERmEKKgAjKSgAjAqBRUREREZG1FQYbhQUAEaCioKKiIiIjIIUVABGElBBWBUCioiIiIyNqKgwnChoAI0FFQUVERERGQQoqACMJKCCsCoFFRERERkbERBheFCQQVoKKgoqIiIiMggREEFYCQFFYBRKaiIiIjI2IiCCsOFggrQUFBRUBEREZFBiIIKwEgKKgCjUlARERGRsREFFYYLBRWgoaCioCIiIiKDEAUVgJEUVABGpaAiIiIiYyMKKgwXCipAQ0FFQUVEREQGIQoqACMpqACMSkFFRERExkYUVBguFFSAhoKKgoqIiIgMQhRUAEZSUAEYlYKKiIiIjI0oqDBcKKgADQUVBRUREREZhCioAIykoAIwKgUVERERGRtRUGG4UFABGgoqCioiIiIyCFFQARhJQQVgVAoqIiIiMjaioMJwoaACNBRUFFRERERkEKKgAjCSggrAqBRUREREZGxEQYXhQkEFaCioKKiIiIjIIERBBWAkBRWAUSmoiIiIyNiIggrDhYIK0FBQUVARERGRQYiCCsBICioAo1JQERERkbERBRWGCwUVoKGgoqAiIiIigxAFFYCRFFQARqWgIiIiImMjCioMFwoqQENBRUFFREREBiEKKgAjKagAjEpBRURERMZGFFQYLhRUgIaCioKKiIiIDEIUVABGUlABGJWCioiIiIyNKKgwXCioAA0FFQUVERERGYQoqACMpKACMCoFFRERERkbUVBhuFBQARoKKgoqIiIiMghRUAEYSUEFYFQKKiIiIjI2oqDCcKGgAjQUVBRUREREZBCioAIwkoIKwKgUVERERGRsREGF4UJBBWgoqCioiIiIyCBEQQVgJAUVgFEpqIiIiMjYiIIKw4WCCtBQUFFQERERkUGIggrASAoqAKNSUBEREZGxEQUVhgsFFaChoKKgIiIiIoMQBRWAkRRUAEaloCIiIiJjIwoqDBcKKkBDQUVBRURERAYhCioAIymoAIxKQUVERETGRhRUGC4UVICGgoqCioiIiAxCFFQARlJQARiVgoqIiIiMjSioMFwoqAANBRUFFRERERmEKKgAjKSgAjAqBRUREREZG1FQYbhQUAEaCioKKiIiIjIIUVABGElBBWBUCioiIiIyNqKgwnChoAI0FFQUVERERGQQoqACMJKCCsCoFFRERERkbERBheFCQQVoKKgoqIiIiMggREEFYCQFFYBRKaiIiIjI2IiCCsOFggrQUFBRUBEREZFBiIIKwEgKKgCjUlARERGRsREFFYYLBRWgoaCioCIiIiKDEAUVgJEUVABGpaAiIiIiYyMKKgwXCipAQ0FFQUVEREQGIQoqACMpqACMSkFFRERExkYUVBguFFSAhoKKgoqIiIgMQhRUAEZSUAEYlYKKiIiIjI0oqDBcKKgADQUVBRUREREZhCioAIykoAIwKgUVERERGRtRUGG4UFABGuN9QeXpe75X/v7cleX1P90hIiIi8rblP3+4pbxw/yEKKgA9FFQARtW3oPLMz75f/vH81S3/XikiIiIy0Pz75ZvK8784UEGFIaegAjTG+4LK7+/cuTx33/71f0ASERERedvyy4PLU3ftrqAC0ENBBWBUfQsqT965S3nuFwe0/nuliIiIyADz/C8PKk/etZuCCkNOQQVojNcFld9dt1555ObNRERERAYtD12/oYIKMN5TUAEYVe+CivmUiIiIDHYeun4DBRWGlIIK0BivCyr5H4tERERExkYUVIDxmYIKwKh6F1Ra/d1RRERE5O2PggpDR0EFaIyXBZXH79yjPHrrduWRW7YREekod124Trn2lOXK5ccvUa750bLltnNXLw/esGXLx4qItMrjd+ymoAKMtxRUAEaVgsrjd+xeHr3FfEpG5uGbty6/vmazOnO47LjFa246Y+Xyq6s3Kb+78dstv0dERKTTpJyS+ZSCCkNBQQVojHcFlT+/cG954cEzRUTGKBefvEXZb8eFy3YbzlL22mb+ctqR65ZH7z2+5WNFRPrLn566sbz+n3+O+FsJwPhDQQVgVK89f1fLvy/K+J2nf3VK+eXNh5TTjlinbLPeTDVH771Cufe6/csT953Y8ntERETGNK88fUt54/V/j/hbCYwdCipAY7wrqOT/0339P/8QERmjHLj/3mWO2WYpH/7Q+8qMX5y2fHuLTcvTTz3e8rEiIv3lzd0pb7z5lxKA8YiCCsCozKekVf782h/LvXffUbb81iblfRO9p2aF5Zcut/zkhvLi80+3/B4REZExjdNTGAoKKkBjvCuoAAzEvvvuW770pS+VCSaYoEw99dRls802K88888yIrwIAMDoKKgDQ3l/+8pdyzz33lE033bS84x3vqFlqqaXKT37yk/LSSy+NeBQAwLhHQQVoKKgAdEBBBQBg4BRUAKA9BRUAoFspqAANBRWADiioAAAMnIIKALSnoAIAdCsFFaChoALQAQUVAICBU1ABgPYUVACAbqWgAjQUVAA6oKACADBwCioA0J6CCgDQrRRUgIaCCkAHFFQAAAZOQQUA2lNQAQC6lYIK0FBQAeiAggoAwMApqABAewoqAEC3UlABGgoqAB1QUAEAGDgFFQBoT0EFAOhWCipAQ0EFoAMKKgAAA6egAgDtKagAAN1KQQVoKKgAdEBBBQBg4BRUAKA9BRUAoFspqAANBRWADiioAAAMnIIKALSnoAIAdCsFFaChoALQAQUVAICBU1ABgPYUVACAbqWgAjQUVAA6oKACADBwCioA0J6CCgDQrRRUgIaCCkAHFFQAAAZOQQUA2lNQAQC6lYIK0FBQAeiAggoAwMApqABAewoqAEC3UlABGgoqAB1QUAEAGDgFFQBoT0EFAOhWCipAQ0EFoAMKKgAAA6egAgDtKagAAN1KQQVoKKgAdEBBBQBg4BRUAKA9BRUAoFspqAANBRWADiioAAAMnIIKALSnoAIAdCsFFaChoALQAQUVAICBU1ABgPYUVACAbqWgAjQUVAA6oKACADBwCioA0J6CCgDQrRRUgIaCCkAHFFQAAAZOQQUA2lNQAQC6lYIK0FBQAeiAggoAwMApqABAewoqAEC3UlABGgoqAB1QUAEAGDgFFQBoT0EFAOhWCipAQ0EFoAMKKgAAA6egAgDtKagAAN1KQQVoKKgAdEBBBQBg4BRUAKA9BRUAoFspqAANBRWADiioAAAMnIIKALSnoAIAdCsFFaChoALQAQUVAICBU1ABgPYUVACAbqWgAjQUVAA6oKACADBwCioA0J6CCgDQrRRUgIaCCkAHFFQAAAZOQQUA2lNQAQC6lYIK0FBQAeiAggoAwMApqABAewoqAEC3UlABGgoqAB1QUAEAGDgFFQBoT0EFAOhWCipAQ0EFoAMKKgAAA6egAgDtKagAAN1KQQVoKKgAdEBBBQBg4BRUAKA9BRUAoFspqAANBRWADiioAAAMnIIKALSnoAIAdCsFFaChoALQAQUVAICBU1ABgPYUVACAbqWgAjQUVAA6oKACADBwCioA0J6CCgDQrRRUgIaCCkAHFFQAAAZOQQUA2lNQAQC6lYIK0FBQAeiAggoAwMApqABAewoqAEC3UlABGgoqAB1QUAEAGDgFFQBoT0EFAOhWCipAQ0EFoAMKKgAAA6egAgDtKagAAN1KQQVoKKgAdEBBBQBg4BRUAKA9BRUAoFspqAANBRWADiioAAAMnIIKALSnoAIAdCsFFaChoALQAQUVAICBU1ABgPYUVACAbqWgAjQUVAA6oKACADBwCioA0J6CCgDQrRRUgIaCCkAHFFQAAAZOQQUA2lNQAQC6lYIK0FBQAeiAggoAwMApqABAewoqAEC3UlABGgoqAB1QUAEAGDgFFQBoT0EFAOhWCipAQ0EFoAMKKgAAA6egAgDtKagAAN1KQQVoKKgAdEBBBQBg4BRUAKA9BRUAoFspqAANBRWADiioAAAMnIIKALSnoAIAdCsFFaChoALQAQUVAICBU1ABgPYUVACAbqWgAjQUVAA6oKACADBwCioA0J6CCgDQrRRUgIaCCkAHFFQAAAZOQQUA2lNQAQC6lYIK0FBQAeiAggoAwMApqABAewoqAEC3UlABGgoqAB1QUAEAGDgFFQBoT0EFAOhWCipAQ0EFoAMKKgAAA6egAgDtKagAAN1KQQVoKKgAdEBBBQBg4BRUAKA9BRUAoFspqAANBRWADiioAAAMnIIKALSnoAIAdCsFFaChoALQAQUVAICBU1ABgPYUVACAbqWgAjQUVAA6oKACADBwCioA0J6CCgDQrRRUgIaCCkAHFFQAAAZOQQUA2lNQAQC6lYIK0FBQAeiAggoAwMApqABAewoqAEC3UlABGgoqAB1QUAEAGDgFFQBoT0EFAOhWCipAQ0EFoAMKKgAAA6egAgDtKagAAN1KQQVoKKgAdEBBBQBg4BRUAKA9BRUAoFspqAANBRWADiioAAAMnIIKALSnoAIAdCsFFaChoALQAQUVAICBU1ABgPYUVACAbqWgAjQUVAA6oKACADBwCioA0J6CCgDQrRRUgIaCCkAHFFQAAAZOQQUA2lNQAQC6lYIK0FBQAeiAggoAwMApqABAewoqAEC3UlABGgoqAB1QUAEAGDgFFQBoT0EFAOhWCipAQ0EFoAMKKgAAA6egAgDtKagAAN1KQQVoKKgAdEBBBQBg4BRUAKA9BRUAoFspqAANBRWADiioAAAMnIIKALSnoAIAdCsFFaChoALQAQUVAICBU1ABgPYUVACAbqWgAjQUVAA6oKACADBwCioA0J6CCgDQrRRUgIaCCkAHFFQAAAZOQQUA2lNQAQC6lYIK0FBQAeiAggoAwMApqABAewoqAEC3UlABGgoqAB1QUAEAGDgFFQBoT0EFAOhWCipAQ0EFoAMKKgAAA6egAgDtKagAAN1KQQVoKKgAdEBBBQBg4BRUAKA9BRUAoFspqAANBRWADiioAAAMnIIKALSnoAIAdCsFFaChoALQAQUVAICBU1ABgPYUVACAbqWgAjQUVAA6oKACADBwCioA0J6CCgDQrRRUgIaCCkAHFFQAAAZOQQUA2lNQAQC6lYIK0FBQAeiAggoAwMApqABAewoqAEC3UlABGgoqAB1QUAEAGDgFFQBoT0EFAOhWCipAQ0EFoAMKKgAAA6egAgDtKagAAN1KQQVoKKgAdEBBBQBg4BRUAKA9BRUAoFspqAANBRWADiioAAAMnIIKALSnoAIAdCsFFaChoALQAQUVAICBU1ABgPYUVACAbqWgAjQUVAA6oKACADBwCioA0J6CCgDQrRRUgIaCCkAHFFQAAAZOQQUA2lNQAQC6lYIK0FBQAeiAggoAwMApqABAewoqAEC3UlABGgoqAB1QUAEAGDgFFQBoT0EFAOhWCipAQ0EFoAMKKgAAA6egAgDtKagAAN1KQQVoKKgAdEBBBQBg4BRUAKA9BRUAoFspqAANBRWADiioAAAMnIIKALSnoAIAdCsFFaChoALQAQUVAICBU1ABgPYUVACAbqWgAjQUVAA6oKACADBwCioA0J6CCgDQrRRUgIaCCkAHFFQAAAZOQQUA2lNQAQC6lYIK0FBQAeiAggoAwMApqABAewoqAEC3UlABGgoqAB1QUAEAGDgFFQBoT0EFAOhWCipAQ0EFoAMKKgAAA6egAgDtKagAAN1KQQVoKKgAdEBBBQBg4BRUAKA9BRUAoFspqAANBRWADiioAAAMnIIKALSnoAIAdCsFFaChoALQAQUVAICBU1ABgPYUVACAbqWgAjQUVAA6oKACADBwCioA0J6CCgDQrRRUgIaCCkAHFFQAAAZOQQUA2lNQAQC6lYIK0FBQAeiAggoAwMApqABAewoqAEC3UlABGgoqAB1QUAEAGDgFFQBoT0EFAOhWCipAQ0EFoAMKKgAAA6egAgDtKagAAN1KQQVoKKgAdEBBBQBg4BRUAKA9BRUAoFspqAANBRWADiioAAAMnIIKALSnoAIAdCsFFaChoALQAQUVAICBU1ABgPYUVACAbqWgAjQUVAA6oKACADBwCioA0J6CCgDQrRRUgIaCCkAHFFQAAAZOQQUA2lNQAQC6lYIK0FBQAeiAggoAwMApqABAewoqAEC3UlABGgoqAB1QUAEAGDgFFQBoT0EFAOhWCipAQ0EFoAMKKgAAA6egAgDtKagAAN1KQQVoKKgAdEBBBQBg4BRUAKA9BRUAoFspqAANBRWADiioAAAMnIIKALSnoAIAdCsFFaChoALQAQUVAICBU1ABgPYUVACAbqWgAjQUVAA6oKACADBwCioA0J6CCgDQrRRUgIaCCkAHFFQAAAZOQQUA2lNQAQC6lYIK0FBQAeiAggoAwMApqABAewoqAEC3UlABGgoqAB1QUAEAGDgFFQBoT0EFAOhWCipAQ0EFoAMKKgAAA6egAgDtKagAAN1KQQVoKKgAdEBBBQBg4BRUAKA9BRUAoFspqAANBRWADiioAAAMnIIKALSnoAIAdCsFFaChoALQAQUVAICBU1ABgPYUVACAbqWgAjQUVAA6oKACADBwCioA0J6CCgDQrRRUgIaCCkAHFFQAAAZOQQUA2lNQAQC6lYIK0FBQAeiAggoAwMApqABAewoqAEC3UlABGgoqAB1QUAEAGDgFFQBoT0EFAOhWCipAQ0EFoAMKKgAAA6egAgDtKagAAN1KQQVoKKgAdEBBBQBg4BRUAKA9BRUAoFspqAANBRWADiioAAAMnIIKALSnoAIAdCsFFaChoALQAQUVAICBU1ABgPYUVACAbqWgAjQUVAA6oKACADBwCioA0J6CCgDQrRRUgIaCCkAHFFQAAAZOQQUA2lNQAQC6lYIK0FBQAeiAggoAwMApqABAewoqAEC3UlABGgoqAB1QUAEAGDgFFQBoT0EFAOhWCipAQ0EFoAMKKgAAA6egAgDtKagAAN1KQQVoKKgAdEBBBQBg4BRUAKA9BRUAoFspqAANBRWADiioAAAMnIIKALSnoAIAdCsFFaChoALQAQUVAICBU1ABgPYUVACAbqWgAjQUVAA6oKACADBwCioA0J6CCgDQrRRUgIaCCkAHFFQAAAZOQQUA2lNQAQC6lYIK0FBQAeiAggoAwMApqABAewoqAEC3UlABGgoqAB1QUAEAGDgFFQBoT0EFAOhWCipAQ0EFoAMKKgAAA6egAgDtKagAAN1KQQVoKKgAdEBBBQBg4BRUAKA9BRUAoFspqAANBRWADiioAAAMnIIKALSnoAIAdCsFFaChoALQAQUVAICBU1ABgPYUVACAbqWgAjQUVAA6oKACADBwCioA0J6CCgDQrRRUgIaCCkAHFFQAAAZOQQUA2lNQAQC6lYIK0FBQAeiAggoAwMApqABAewoqAEC3UlABGgoq8P/snQWYVdX+v696pQQ7QSWlu7u7u7tLWgQBke7ulO7u7kbFjqtix/X+9Br/q9f8/vdnwYEzhzMzZwZmLpx53+f5POCcHWuvvfaekfXOdwGEAIIKAAAAQOxBUAEAAIgeBBUAAAAIVxBUAMAHggoAQAggqAAAAADEHgQVAACA6EFQAQAAgHAFQQUAfCCoAACEAIIKAAAAQOxBUAEAAIgeBBUAAAAIVxBUAMAHggoAQAggqAAAAADEHgQVAACA6EFQAQAAgHAFQQUAfCCoAACEAIIKAAAAQOxBUAEAAIgeBBUAAAAIVxBUAMAHggoAQAggqAAAAADEHgQVAACA6EFQAQAAgHAFQQUAfCCoAACEAIIKAAAAQOxBUAEAAIgeBBUAAAAIVxBUAMAHggoAQAggqAAAAADEHgQVAACA6EFQAQAAgHAFQQUAfCCoAACEAIIKAAAAQOxBUAEAAIgeBBUAAAAIVxBUAMAHggoAQAggqAAAAADEHgQVAACA6EFQAQAAgHAFQQUAfCCoAACEAIIKAAAAQOxBUAEAAIgeBBUAAAAIVxBUAMAHggoAQAggqAAAAADEHgQVAACA6EFQAQAAgHAFQQUAfCCoAACEAIIKAAAAQOxBUAEAAIgeBBUAAAAIVxBUAMAHggoAQAggqAAAAADEHgQVAACA6EFQAQAAgHAFQQUAfCCoAACEAIIKAAAAQOxBUAEAAIgeBBUAAAAIVxBUAMAHggoAQAggqAAAAADEHgQVAACA6EFQAQAAgHAFQQUAfCCoAACEAIIKAAAAQOxBUAEAAIgeBBUAAAAIVxBUAMAHggoAQAggqAAAAADEHgQVAACA6EFQAQAAgHAFQQUAfCCoAACEAIIKAAAAQOxBUAEAAIgeBBUAAAAIVxBUAMAHggoAQAggqAAAAADEHgQVAACA6EFQAQAAgHAFQQUAfCCoAACEAIIKAAAAQOxBUAEAAIgeBBUAAAAIVxBUAMAHggoAQAggqAAAAADEHgQVAACA6EFQAQAAgHAFQQUAfCCoAACEAIIKAAAAQOxBUAEAAIgeBBUAAAAIVxBUAMAHggoAQAggqAAAAADEHgQVAACA6EFQAQAAgHAFQQUAfCCoAACEAIIKAAAAQOxBUAEAAIgeBBUAAAAIVxBUAMAHggoAQAggqAAAAADEHgQVAACA6EFQAQAAgHAFQQUAfCCoAECC5M8//7ySUIitoKLJGN959HcAAACAhAiCCgAAQPQgqAAAAEC4gqACAD4QVAAgwfHHH3+4f/T56aef7D//+U9IkkpsBZVffvnFnUf57bffLn8VAAAAIGGBoAIAABA9CCoAAAAQriCoAIAPBBUASHBISJE4cvbsWVu9erUdP37cPv74Y/v1118jlVVCFVQ0+SIR5auvvnLH37hxo+3fv98JKr///vvlrQAAAAASFggqAAAA0YOgAgAAAOEKggoA+EBQAYAEy+zZs61MmTLWvXt3W7dunX3++ef2448/OsEkcDme6AQVbS8B5eeff3YTLfv27bP+/fu7f0jSn5JfAAAAABIqCCoAAADRg6ACAAAA4QqCCgD4QFABgATLgQMHrGfPnlawYEErWrSoNWvWzKZNm2YnT550/yikpYB8RCWoqOqKxJTXXnvNFi9ebJ06dXLiS+bMma1NmzauSgvVUwAAACAhg6ACAAAQPQgqAAAAEK4gqACADwQVAEiwXLx40ZYuXWrZs2e3u+66y+6//34nlvTp08eWL18eYemfkSNHRhBU9I9F+uzLL790/3i0fv16e/7556169er2xBNPuOPdd999Tmx56623Il06CAAAACAhgKACAAAQPQgqAAAAEK4gqACADwQVAEjQvPvuu1a5cmUnk/j+8Sdx4sT28MMPW8uWLW3VqlX27bff2gsvvBBBUOnYsaO98847tnv3bleFJVOmTJYsWbIrx0iePLllzJjR/dAFAAAAkNBBUAEAAIgeBBUAAAAIVxBUAMAHggoAJGi++uormzBhgpUoUeLKP/7cfvvtliRJEkubNq37IUmiiv5MnTq13XHHHfbYY49ZoUKFrHHjxlaxYkUnp9x9993uM98xsmXLZv3793fL/gAAAAAkdBBUAAAAogdBBQAAAMIVBBUA8IGgAgAJmp9++slOnz7t/vFHUorkFN8/AimaQNFyPQ888IDde++97vMUKVLYgw8+6P5MlChRhO1vu+02V4GlRo0advDgQfvnP/95+UwAAAAACRcEFQAAgOhBUAEAAIBwBUEFAHwgqABAgkaTJb/99pvNmDHDUqZM6eQSf+FEkXQiMUV/Bvtv/6iKin646t27t/3666/2559/Xj4TAAAAQMIFQQUAACB6EFQAAAAgXEFQAQAfCCoAAB579+51S/lIUvEXTmKapEmTWs2aNW358uWXjwwAAAAACCoAAADRg6ACAAAA4QqCCgD4QFABAPD44IMPbNmyZZY3b143aeIvnYQaVU955JFHbMyYMfbaa69dPjIAAAAAIKgAAABED4IKAAAAhCsIKgDgA0EFAMBDy/G8//77Vrt2bbv33nsjiCehJnny5JYrVy7bt2+f/fe//718ZAAAAABAUAEAAIgeBBUAAAAIVxBUAMAHggoAwGW+++47Gzt2rBUtWjSCeBJqsmXLZr169bK333778hEBAAAAQCCoAAAARA+CCgAAAIQrCCoA4ANBBQDgMj///LMdP37cunXrZnfeeafdfvvtEQSUyHLbbbe5iZY6deq4H7K++eaby0cEAAAAAIGgAgAAED0IKgAAABCuIKgAgA8EFQCAy/z555/2ww8/2Ny5c+3RRx+1JEmSRBBRIosmWR588EEbMGCA/fvf/7bffvvt8hEBAAAAQCCoAAAARA+CCgAAAIQrCCoA4ANBBQAggIMHD1rDhg0tVapUEUSUyHL33Xdb5cqVbfny5ZePAAAAAAD+IKgAAABED4IKAAAAhCsIKgDgA0EFACCADz74wJYuXWoFCxaMdpkfff7EE0/Y2LFj7cKFC5ePAAAAAAD+IKgAAABED4IKAAAAhCsIKgDgA0EFACCA//znP/bhhx9ao0aN7J577okgpAQmefLkVqhQITt06JD9+OOPl48AAAAAAP4gqAAAAEQPggoAAACEKwgqAOADQQUAIAi//PKLjRkzxlVRue222yJIKf7JmjWrde/e3QktAAAAABAcBBUAAIDoQVABAACAcAVBBQB8IKgAAATh999/t8OHDzv5RJMo/lKKLxJX6tWrZ1u3brVvv/328p4AAAAAEAiCCgAAQPQgqAAAAEC4gqACAD4QVAAAgqBJlG+++cYWLlxojz32mCVJkiSCnHLnnXfaAw88YEOGDLEvv/zSfv3118t7AgAAAEAgCCoAAADRg6ACAAAA4QqCCgD4QFABAIgC/SNQjRo1LFWqVBEElXvvvddKly5tq1aturwlAAAAAEQGggoAAED0IKgAAABAuIKgAgA+EFQAAKLg4sWLtnjxYitSpEgEQSVdunQ2ZswYu3DhwuUtAQAAACAyEFQAAACiB0EFAAAAwhUEFQDwgaACABAFP/30k33wwQfWokULu/vuu+3222+3u+66y/3wdOTIEfv2228vbwkAAAAAkYGgAgAAED0IKgAAABCuIKgAgI8EJ6j84v3P3A8fvE8IITHKqN69rGSWLJb5wQesSIb01r1RQ3vv5Img2xJCSGT5z5df2F9//nH5pxIAgIQDggoAAED0IKgAAABAuIKgAgA+Epyg8tmB/fbKuNGEEBKj7Oz1tC1sWN+Glyhqs2vXtM1dO9nZkcOCbksIIZHlg3Vr7I9ffrn8UwkAQMIBQQUAACB6EFQAAAAgXEFQAQAfCU5Q+WTXTjvz3LN2tGsnO9KpHSGEhJS9rZvb1kb1bWX1KrapQR3b07KZHerQNui2hBASLKf697X3li+133/++fJPJQAACQcEFQAAgOhBUAEAAIBwBUEFAHwkSEFFE0T7mza0fY3q2f5mjQghhBBC4iz7Gte3PfVr2/Ge3RFUACDBgqACAAAQPQgqAAAAEK4gqACAjwQtqBxu08JO9exGCCGEEBJnOdqhDYIKACR4EFQAAACiB0EFAAAAwhUEFQDwkaAFlSPtW9tLz/W39+fOtI+XLiaEEEIIuWH56MUFdmHYEDvWuT2CCgAkeBBUAAAAogdBBQAAAMIVBBUA8JHgBRVNHH13YK/995WXCCGEEEJuWH4+e9renjwBQQUAwANBBQAAIHoQVAAAACBcQVABAB8IKggqhBBCCImDIKgAAFwFQQUAACB6EFQAAAAgXEFQAQAfCCoIKoQQQgiJgyCoAABcBUEFAAAgehBUAAAAIFxBUAEAHwgqCCqEEEIIiYMgqAAAXAVBBQAAIHoQVAAAACBcQVABAB8IKggqhBBCCImDIKgAAFwFQQUAACB6EFQAAAAgXEFQAQAfCCoIKoQQQgiJgyCoAABcBUEFAAAgehBUAAAAIFxBUAEAHwgqCCqEEEIIiYMgqAAAXAVBBQAAIHoQVAAAACBcQVABAB8IKggqhBBCCImDIKgAAFwFQQUAACB6EFQAAAAgXEFQAQAfCCoIKoQQQgiJgyCoAABcBUEFAAAgehBUAAAAIFxBUAEAHwgqCCqEEEIIiYMgqAAAXAVBBQAAIHoQVAAAACBcQVABAB8IKggqhBBCCImDIKgAAFwFQQUAACB6EFQAAAAgXEFQAQAfCCoIKoQQQgiJgyCoAABcBUEFAAAgehBUAAAAIFxBUAEAHwgqCCqEEEIIiYMgqAAAXAVBBQAAIHoQVAAAACBcQVABAB8IKggqhBBCCImDIKgAAFwFQQUAACB6EFQAAAAgXEFQAQAfCCoIKoQQQgiJgyCoAABcBUEFAAAgehBUAAAAIFxBUAEAHwgqCCqEEEIIiYMgqAAAXAVBBQAAIHoQVAAAACBcQVABAB8IKggqhBBCCImDIKgAAFwFQQUAACB6EFQAAAAgXEFQAQAfCCoIKoQQQgiJgyCoAABcBUEFAAAgehBUAAAAIFxBUAEAHwgqCCqEEEIIiYMgqAAAXAVBBQAAIHoQVAAAACBcQVABAB8IKggqhBBCCImDIKgAAFwFQQUAACB6EFQAAAAgXEFQAQAfCCoIKoQQQgiJgyCoAABcBUEFAAAgehBUAAAAIFxBUAEAHwgqCCqEEEIIiYMgqAAAXAVBBQAAIHoQVAAAACBcQVABAB8IKggqhBBCCImDIKgAAFwFQQUAACB6EFQAAAAgXEFQAQAfCCoIKoQQQgiJgyCoAABcBUEFAAAgehBUAAAAIFxBUAEAHwgqCCqEEEIIiYMgqAAAXAVBBQAAIHoQVAAAACBcQVABAB8IKggqhBBCCImDIKgAAFwFQQUAACB6EFQAAAAgXEFQAQAfCCoIKoQQQgiJgyCoAABcBUEFAAAgehBUAAAAIFxBUAEAHwgqCCqEEEIIiYMgqAAAXAVBBQAAIHoQVAAAACBcQVABAB8IKggqhBBCCImDIKgAAFwFQQUAACB6EFQAAAAgXEFQAQAfCCoIKoQQQgiJgyCoAABcBUEFAAAgehBUAAAAIFxBUAEAHwgqCCqEEEIIiYMgqAAAXAVBBQAAIHoQVAAAACBcQVABAB8IKggqhBBCCImDIKgAAFwFQQUAACB6EFQAAAAgXEFQAQAfCCoIKoQQQgiJgyCoAABcBUEFAAAgehBUAAAAIFxBUAEAHwgqCCqEEEIIiYMgqAAAXAVBBQAAIHoQVAAAACBcQVABAB8IKggqhBBCCImDIKgAAFwFQQUAACB6EFQAAAAgXEFQAQAfCCoIKoQQQgiJgyCoAABcBUEFAAAgehBUAAAAIFxBUAEAHwgqCCqEEEIIiYPEt6Ciyd/ffvvNfv/998tfAQC4eUBQAQAAiB4EFQAAAAhXEFQAwAeCCoIKIYQQQuIg8SGo+KSUn71j/vjjj/b999+7vwMA3GwgqAAAAEQPggoAAACEKwgqAOADQQVBhRBCCCFxkPgQVH744Qc7deqUzZo1y4YOHWpvvPEGggoA3JQgqAAAAEQPggoAAACEKwgqAOADQSWBCio/nj1tH+/bY4dfXGTLx462zdOn2ktr19h3J0/Yf86fDbqPf746csheWb/O1k2eaPsXzrcPdu+0H86cCrptVPnp3Bn7aO9u145V48fZ+TWr7YtDB4Ju6x+18f9OHLP3d+2wM6tW2N55c2395Em2dPRIl9UTxtm2mdPtyJLF9sbmjfbPo4fdNQc7lvL/vOOpP44uedH1x/4F8+2dbVvtPy+ds19ePh90H/98fvCA146VtmHKJDvg9YeuIarzRZafvfP989gRO7dm1ZVriS7rJk203XPn2NnVK+3inl3uPug4wY6v6HrU729t3WJ7vP1WjRtre+bNsbe3bbF/nzoRdB///Ozt/83lNqqPg7UpWHR/dJ5TK5a7+/btyeNRttM/2k79+fqmDbZrzixbMXaMu0fv7tgWq3Hny/fevrpXr23c4MaKrmel1x9q77LRo2zjlMm2d/5cO+2NsQ+9vv3O65+oxsO/T5307sFu7zgzrrn+YFk2ZpQ37sfa1hnT3DOgsfrFoYMhjztF9/KT/Xtd+5eP8Z7laVPt/NrVrn9DeZa/87Z7b8d22zR1StA2Bkbt1fUdX7bEjRk9h3p+/I+pMaJxrOdZ/Xho8SJ3z0O93/86ftQbn5u9fpluO2fP8tq3zV1PsG2jivpQY/qd7VvdvT24aIEbQxozofZvdPlJ71Kv/699l17b/7pXenceX7bUNnr9vd3rx9e89mjbUPtGY1bvTF3LBm986p2lsal7oPPps6PeWNB7Idj9iyp6rnbMmun6SM+b7qP6Scd+c8tm9yws88ZYsH0Ds2bCeNs+a4YdXfqi21f3VNcf7JrCOXElqEhA+fjjj+3EiRO2bNky69OnjzVp0sTatWtnr776qv3666+XtwQAuHlAUAEAAIgeBBUAAAAIVxBUAMAHgkoCFVS+PnrYdsyeaQ0rV7IkiRNb1vTpbXDHjvb+zh3279Mng+7jH8kYw7t3s8cfecSqlyrlJkM/O7g/6LZRRZPYW6ZPs0aVK9t9d99tA9q1s2NLlwTd1hffpLMmx1eOG2O9mjezCkWKWOqUKe22225zeeDeey1v1izWrFpVm9z/GXtp3Rr7+sihSCelvz1x3LbPmmktalT3+iORd00lbf4Lz7u+kCwQbB//HHlxsfVu2cK1oWbp0u4avjp8KOi2UUUTuK+sX2v927S5ci3RJZV3D8oULGh9W7WyjVMn25fRyDGabFa/zx48yMp6+92dPLnbf86QwW6iO7qJe7Xx1Y3rrX/bNpYnS+agbQqW1Ckfs7KFClrXxo1s9fhx9g9vrIUq8eicGrMT+va14nnyWFJvzFbzfnhZPHKEE0xiIxton88O7HMT6OP69Lam3ljJkyWL6w+194477rB0TzxuFYsWsZ7eGJOsIskiUMbwj+QAiR75sma95vqD5c6//93uTZHCcmbM6D0Dlbyx2t+OLVviJIRQxp0iWWjX3NnWpGoVS5wokWVJl84GtG/n+jcU4UjP/NJRI+2p1KmDtjEw93jtzetdX9s6dWzO80Ps7a2bnWDhf0zdrwvr17nnWf1Yv2JFWzFubMiCwhubN9ksb3zmypTJiuTOZS9691mSSrBto4oECwlDC4a94O5tnXJlbUK/Pva5N2aiuo8xicblzjmz3P3zvUsHdexwuf8jvkslykmoa1u3jmV48kk3TsZ7Y+8fO7eH/Cx86o1ZiTu6lnSPp7Lm3jtLoooEHr2vtsyY5t57qR5+OOj9iyp3JU1qhXLmdM+ZRBrdLycDesee8dxA9yxozAbbNzAP3XefFciezb1TZwwcYK9v2ugklWDXFM6JK0Hlyy+/tDVr1jgpJaX3fSeR9+yX8r4XT5s2zT777LPLWwEA3FwgqAAAAEQPggoAAACEKwgqAOADQSUBCiqacNREu8SNaqVKWsqHH7I0qVJZq1o1bcfsWfZ5CKKJT1CRHCGZ43oFFYkymqh/tl3bSAUVVRj44expO71yuc0cNNBa1qph5YsUtiK5cjlBpUbp0lavQnlrULGi1SlfzqqVLGHF8uS2Evnyev9d1k0Eq8pEsCoYPkGlefXqdscdt1vaVCmtTZ3arvJDKP1x+MXF1kuCymOPee0oZceWvBg7QeXsJUHlmTat3SSvpB2JHdkyZLDsTwXE+1q2DOktS7q0ljltWsvx1FNOFtLkuCooaOI82DkkE2iyeGD7du64jz/6iBXOldO6N23i9e2KaKUGf0FF+z3m/SBRKn8+q1W2jDWoVPGa1K9Ywd2PcoULW8Ec2Z1AUbFoUW9/3esX7cvDB4Oexz+a2Jbw0KNZU8uaPp037h5291VtUAWK70OQqnyRmPDR3j22edoUe65De6tZppQVz5vbXUPVEiXcxL/arLbXLFPaa3chy5ctq1UqVtTro8ZOrlF1nWAVL3yCSt4sWez+e+6x3JkzWZXixa/pE180Xqu6cZrHyRiFcuRw4sclIWN7tBKFJBZJRdMGPuvG3aVnOaUbx6rOIZkh2H7+kaCyRILKk086QSHlww9bprRprh1vXtx48/o/U5o0buzoHnRp1NDWTBzvzuUTUHyCip7n22+/3fXninFjYiCobHSCisQdPd+xFlReuiyovPCC5cmc2WqXLWsT+t44QUX9r3fplGf7R3iXtqzpvUu990ngO1ESyhfeeJ89ZLAbWxL8JOepcolkqeiqqEhC0ftRwlSZQgXd+2/e0OddBSD1rcQmvU+bVa/mxsGD991rGb17JWkm2P0MjKQ+tUt9r/eHjukvqOj5kPwnsUbjzfecRIj3/q1bvrxVLl7MiubO7d5Leg+rT/R9Qvcj1Gox4ZAbKajoH6OPHz9uU6ZMsTZt2lgJ736kTp3a7rrrLkuWLJl16tTJLly4YD/99NPlPQAAbi4QVAAAAKIHQQUAAADCFQQVAPCBoJIABRUJGmdWr3QTy1VKFLfiefO4ScTa5cralP7P2Ntbt0Q7gRjfgoqEElWKeHndGhvbu5fVKFXKTf6r7Q0rV7QB7dvatAHPuoleLdEy/4WhNrpXD2tTp5aVLpjfnkr9pFX1rlVtllzxrxPHIhzfX1C57ba/WeJEd7rf/h/xdHfXV9EtCRIXgoom9iUE1C1fzvq3a+OqYkRMW9dfuo+aKFaFiIypU3v9ktmmPPuMXdiw7po2/+JFFUe09EaHevUsu3ffS+bP56pUSMRQBRZNlPvvExhNWvsEldIFCriJf8kumijX8i+BkZiwdPQoG92zh5Mv8mfLZukef9zJKq66zdo1US5pozZLKJH4oYn3nJkyeve0gJNjNJmu5Z1CWRZKx9e4/sB7B+hY7evVdVKKxlHl4kWtU4P6bsyo2obGkdqtMdWvTSur5Z0nX9Ysbky0rFnjipARKDn4Cyq6RlVlmfhMv6D9oqhfJFv1a93KjRtV1ZCUoWooqooSmWTki55lLecjuUjjW8KI9q9VpoxN7NfX3tyyKdpn2V9QeeLRR61C0SKuys21462dG289WzSzFl4f6Fwab4rEIclfekZ1zIQiqKj/tbSW+uvSuzTvpXepdx6NbS2j5d//Gsuq6qIlfl7o2sX1ncaxhBO9U7Vckv/x/aPxq/s55/nBTviQlNenVUvv/Ktcv+tzvaf0PlVVlWzp07tnrFPDBtbX2y7Y/QyM5LaxfXrZrjmzrywR5S+o6DlI643rtnVqe+P2ObekUeCY1vtXywBJ2lFVqXKFCjmhSSJbn5Yt3dJcEsoie97DLdcrqOgfpz/99FM7d+6crVy50vr27WtFvHt/3333uWdL/1gtOSWzN76nTp1q//nPf+zPP/+8vDcAwM0FggoAAED0IKgAAABAuIKgAgA+EFQSoKCiifXN06e5CU5VttAkp37rvV6FCtalcSM7uXyZfX/6VNB9fYlvQeX/nTvjqgTonJqw1kS6JmGXjLo0ca2JfE0Wq92qIqClLjTB+sHunbZ+8iQnCkhsKJontxMp3tiyKcLx/QUV/c+/JJWH77/fTcIvHT3SPt63J8qJ/rgQVP5+xx3u/iweMdxdnyavg0VLF721ZbNNHfCsq/KR4q5kblmN9ZMnXiN+aHL8Xa+/JC9I9tCkuvq8UrFirvqDJtVVXcW/TYHxF1S0X6WiRW3jlCmur9X3QePdD7VV4sHCYUO98xZzFR4aValsaydOcPcrsv5Vm3U+yUIaJ5JSBnfqaCXz53cT35KRVNEk2L7+0fFVwWKd1y+STHR/tVzQkM6dXCWXT/btvbJMim8caUxJfpEYoPNL4lE/SQraO3+e297/HP6CiiqiPN+ls51bs+ra/vDFO5cq1mh8HVq80Do2qOeWTUqT8jHvHvVx1WH8jx+Yzw7sd5VSVKVFUkTf1q2sYaVKrjJLxwb13bMU3bPsL6gUzJHDRvZ42slNgePMF8kQqiq0ZsJ4V2VIS7mUKVjAyTwf7N7l7ldCEVT0LtX7SxWB6pSL+C7t7I2RE5G8S7V8jsQqiUgaK6o0onfZu9uDj2M9w2qvnhVVunr0wQfcnxu9saZ3g8a2v6DSqmZNd0yNUwksGtvB7mWwqMKSnhPfe8NfUNG40rie2K+fe+f8n/fejGxc69nQsyPprUP9unZ38ruc/CRh64tDB29I/98KuV5B5YMPPrClS5dagwYNLH369JY8eXK78847r8gpyqPe98MOHTrYvn373OQvAMDNCoIKAABA9CCoAAAAQLiCoAIAPhBUEpigoklHTZhP6NvXLVuiihaaGB3cqZOb/FdFjNUTxtsn+6OuohHfgoqWMVk5boyVK1zQiubO5bZfPWGcvblls5uU1aR44D6KJlolL2jbxlUqu327Nm7sKgRoEtW3X8Qlfu6wp1KndktePPnYY9atSWPbMmOam7yV8BF4DiWuBBUtmaGqBFFN5uqeajL45IplrpJJ5nRp3T2RsKKJZf99dQ1HvbbpvqsPVflhxbix9nSzpm7JIFU82DlnltvHN0EdGH9BRct4SI6QJBHd/dfxvjl+1F5au9qdR8uEOLFh4ABXtSUyeUHL++h+6f418trcq0VzJx21q1vXjWFVfji4aEGUbVb+dfyYvbphvevbwjlzuGV1JKccX7bELTMkCSrYfpqgl0Ry+MVFNqxbV8udJbMThzTRrnHp325/QUWVbC5V7IlaMlF0jIvesSRlaBmVe+9O4apq7F84P+j2iq5V1WckFUksaVWrlqvI8nznzq6vVM1jxdix9vG+qN9v/oKKKumM79vHLS8UbFtF59VzIIlEspdEiFIF8rv7orGrZbh0PeEuqKgfzq1ZbRP69XVVgSTrqB81pjROS+XPb6vH6116bf/rOdd7ac7lpX6ypEtnXRs1cu9CCSKB7xk9N5KVNHb1jtbyPnpu3t62xb3jtI3ac0VQqVXTVZfq0ayZ15eb3HPvf7yYJFBQ0biWjPS+9700uj7U529v3ey2173UmNSz/5b3NV1nsH3CLbERVL788ks7cuSIq4jSsWNHK1OmjD3pPZ9Jkya98g/UvkhWyZkzp61YscI++uijy0cAALg5QVABAACIHgQVAAAACFcQVADAB4JKAhJUNIGpSfitM6Y7SUOT6JpAltigJRla167llhjREjqa+NZyFMGOo8SXoKI2qzqApIrnOrT3zvewVS9dyi0vIRkglElm/Ub/J/v22KiePdy+dcuXd9erygOafNU2/oJK4kSJ3BIpmoxN93gqK1uooA3q1MFV0Yhsovd/Kagoug5JFlqexk1gFyzoJspV6UKT1r7tLnp9piU4JGeo0oMqqWiJkukDB7iKOqq+MXvwIFclIzJhQ5JBbAQVRfuq36c+299VXimQPbuN8MbRezu3R2inL7r/mghXlRRVbmhWrZrNeG6AE03G9OrpKsZIxpBkJZHFdz+DHUcyyerx49x4zZIurRNA9sybG6Xg5J9/eu2WKKOxWqtsGVctQ/2gKiu+bWIrqCiSjPbMnePkgmRJkrgqOKo+EWxb37OsMavlfSRIaJmgUyuXu+WJJO+kSZXKRvV42kkU2j7YcZSYCiq+qL8l7agKjkSjJlWruudUz0i4Cyq+/t/mvUslsOXNmtVd6ynvXbrce7dIVkn/xBNujJ6P5F2qftLyTHqONF6K5c7txosqk/iPKY3pd7ZtcZWcJLNICJKUpXeOZCDfvdWfN5ugojbp3GpT9VKl3DW2qV3bSZJ69wfbJ9wSqqCif4T+4osv7PXXX7c1a9ZY7969LW/evHbPPfdEEFIC8/DDD1udOnXszTfftF9//fXy0QAAbk4QVAAAAKIHQQUAAADCFQQVAPCBoJKABBVNJuo38ec+P8QtQaFKDRI9VLlBE9uaYNWkdof69dzEeODyMP6JL0FFbZBgoglqbaOKJvoNfEk1mtCPrH3+8S05oqob/dq0dtVDNImv5Tl8E+b+gspdSZPawPbtTZUpJAnkzpzJLe2i6hTvbN8a9Jz/c0HF6yf1pUSDcoULu6WJdAwtu+M/2S3xSKLOY943fy0vsnnaFFfhQVKFBCXt17dVKzdJHrh8jS/qs9gKKmqn2rNw+DAnLUhQeaFrV3t3+7agS6Gor097Y1NyUoq77rL29erajtkznYyjijq6XxIYtJSO7o2W5wk8hqI2n12zyrW5WJ7cl6uLjHHSQyhjSNFEvZY/Uv9JSlCbJBjomfJtcz2Citqu51BVbZImSeKWYNKYDbatxoMEEYk79b1nuZr3LEsakIB0etUKe65jB/esSFTRMf7f+cif5dgKKhofJ5YvdfdA1UJUVWbv/LlOQFJ/h7OgEvRd+txA1/+6hxJI0qRMeeldOiX4u9T3LKyfMsk9e49ffpcu894zWvJJ2ysSPCRGtahRw4lnGhfqZz23/sfU329GQUXv730L5rlltVRpR8sP6fuHxkmwfcItoQoqEkzmz59vdb1nNmvWrHb//fdbEu894L+UT7CUKlXKJk2a5CZ3Wd4HAG52EFQAAACiB0EFAAAAwhUEFQDwgaCSgAQVTSi/fnmZCC11o8l+Tabr65pYnz1ksJXMn89VD9Ek7peHD11ZPiIw8SWoaMJVIsmIp7tbhSKFrXDOnG7pGk06hzrZ7YuWwziwaIGrIHNhw3p33arOos/8BZXkyZK5yhNbZ0xzlTlUtaBQzhxef9VzX9PEqm8/X/7Xgoo+11IumkRWW1XRYmjXzq7vNEHsk3Q2T5tqXRo3dMsAPdO2tRMsNHl9euUKd82FcuRw59R2n0SyNIyOE1tB5Yczp+3T/ftsXJ/eVt67nxJFtNyUJuQDx5r6WNKKlmdqW7eOpX08lVti58KGdW55piNLFtuQTh0tZ8an3IT8jtmznLjifwxfNM52zp7pJtg1xnWfjy9bGuNJcm0vOWr33Dl2YOEC17/+lV9iK6hoIl/Cg8Zms2pVnSTVqWEDJyYE215igySOAd7zUjhXTiddSURxz7LXl/NeeN5K5Mvnjd0yriLSF4cORvosx1ZQ+erIIVfxReco6Z2reY3qroLKv7zxFO6CinuXem3Uc6r2SQTa6PcunfP81Xep+jOyd6meSy3do+1VGUXyVOeG3vcm733iqhh5bTy3epWN7tnDjXM9m1Oe7e/EMz0D/se6GQUVXZ/GydqJE1y1I4lMErAkel1Pm26lRCWofPrpp3b48GGbOXOmdevWzcqVK2epUqVyYoq/hBIseq4SJ05sXbt2tdOnT7t/xAYAuNlBUAEAAIgeBBUAAAAIVxBUAMAHgkoCEVQ0eSmBYNvM6dawUkXLniGDDevWzU6tWH5lYlMT/BIBJA1ocvyV9evcJGmw48WXoKIqEZoI7tKooRXMkd1NdK+fPNFN0IeyLEuo8RdUUiRLZuN697Kz3jVqUvy5Dh3csjmamB35dHdXhUSTw+o33/7/K0FFS4fos38ePWInvXs5oF07y5g6tdUoVcqmDXzWyQL6XGKAJopVFUZCgeSQ2UMGuXumpUo04b120gRXQaV0wQI2ssfTTkLR5HTgOWMjqKid2k9ChySGLo0aOYlDbVk8YrgbZ4Hn0vIlWqJIclKNMqUvV7EZaV8cOuCqT7zr3ZvFI4ZZniyZrZLXjknP9HP3S5/5H0eRNLBk5AjLnzWrE52e69jeLSsUmbQR28RUUFG/SMSR2PDW1s1O3KlQtIg9+uCD9nznzk4cCraP+mDHrBmuCo6WK1IFGVUz8T3LEmja1avrxBGJVRqzGiOBx1JiKqiof3WO1zZtdBVcJI1JPOjjjf+XvbGrzwIFlYpFi7prkxAlOSy66J0wpFMny5gmzU0nqER4l3rvrWwZ0tsL3bq658/X/zvnzLJ23rtUz1OnBpfepXrXBTueRA0ts9W1SWMnlaiq0Jwhg90zpn107Vra6olHH3GVWfR+DDZufedW36laScEcOdz7bOv06U6qCtbPgZHMomfOX36JjaDiey9pXGvsSZLSONUyYi907eKeE7U12L7hlkBB5ejTXe2l2TPtvTffsLVr11qPHj0si/e+SOF9//MXUKLLnXfeaffee68NGTLE3nrrLbt48aJ9/PHHhBByU+ejjz6yAQMGIKgAAABEAYIKAAAAhCsIKgDgA0ElgQgqmmR8c8sm95v4VUuWsLKFCtnaiROdmKDPJXtoklQygKoWlPM+XzlurJuEDDyWEl+CiioPnFi21FUieCr1k26yd+/8eW7y018Qud4EE1Re27jh0oTvjGnut/4ff+Rhq1OurKs0o+U1/Cdn/xeCiiaBJQt8fvCAqwYioUFCwn133+2WFtnq9auvnyT6XNi43ok+qpLS0ftc1ysJRJ/rPmgSWxPbZQsVtMZVKtueeXPcfoHnjamgouOrnR/t3WM7Z8+y3i1aOKkhx1NP2ZDOnezo0heD3k9VKzm3ZpVb2kQT91pW5+CiBW5yXttKuNk3f67VrVDOySsSAo4vW+Ldy2srM7y9dYtN7NfXHrzvPjdJLlFH7Q0ms1xPYiqo6Pw+QUHLbZXz+l7CTdUSxV1FFFWbCbaPqgGN69PLPXtaNmXluHFXnlU9y+fXrHbPuo6lz5ePGW3/2BlcOomJoCKZRtLTW15/zh482AkLD99/v1UuVszmPT/ELRembfwFFf1jmp7t1Ckfc1VAcmbKGG0yp03rlrxJmjjxTSeoqP/1Lh3Tq6dVc+/SgrZmwoSAd+kqJ7PlypTJfb5y7Bjv/uy45liKjvfZgf22esJ4Jxw9+dij1rZubVs8crirntK9SROr5PWv3pFaek1VggIrOCl6JnyCipYBSpMqpT3kjXf1ZfanMgTt58Co8pLGoaoU+Y4bG0FF16R39/m1a2xMz55uPD9w7z2XKs1MmezElWDXEI4JFFR2t2ttc9u2tjre95o8efLYY973jKRJk9od3vve94/PoURVVlKmTOmqrrRp08batWtn7du3J4SQmz41vJ/rEFQAAAAiB0EFAAAAwhUEFQDwgaCSQAQVTQhq2Yg2tWtblRLFrVWtWnZi+TL75thVAUETqFqKoXzhwlYsTx4b2L6dq+CgyWb/YynxJaioUoTarQnwtKlSWa8Wzd3SLoEyg6KJYVVWkWihCXlNIEeWTdOm2jvbt5qWnNG+wQQVVRPQZ9puwbAX3ES/luDQ8hmSZFQNxHfuuBBUVHlCk8ZNq1V1y+8EXsPoXj3c1wd2aO+qZGgiX3KRZA5VYNAyKb5+0hI6m6ZNsdrlylq+rFlsrLe/Jr99n0v6kMCge6rxkSPjU67Cyrvetfu3T/EXVFQhQhPgGleDOna8po2unT0vtVPbt65dy1WjkdgiWUbCiqSOwHMoGo+atFdFEV2TJsV1Xl+bNRmv/9Y4VUUYXf+y0aOCigC6l2qHls7RZL+WVJHgEmwcaXL9Hzt3uAoZswY9F/SaFIlKGmsShHz7+gsqKR9+2CoWK2q9vXERbH9F/TK0S2dXsUjPkZbe0v3W8jZajktLHPm3TdGzLBGng3fPda98S+v4V+j4cPcuJwJoWRX1i/r+pPe8O7nH71iKv6CSOmVKq+a1Q9sHba/Xh6rW0rN5c3cPJT5IWNBzq2pMPqEpUFBJniypE1meTPmYO0d0SfXIw06uSHTnnTedoOLepd47SMsqXXqX1nSCmH+1qQ+87zN6J2pcFsud2y3FdGrl8qDvUkUVSzRG1cd6x5QtWNDJYhobVUuUsAYVK7rxpuWAImu3xvIVQcUbQ09676K7kyd372j9PVg/Byav3g2qHrV65ZXj+gsqerdJHJIwqHurSkuBY2S0F42TQR07WNfGjZ3EU75wISf3LRo+zFUKim3f34oJFFTW1q9jA8qWtlTe+0FL9Pj+wTmm8VVQ0ZJA6dOnJ4SQWyqS8/RzLoIKAADAtSCoAAAAQLiCoAIAPhBUEoig8vG+vbZ6/HhXYUOTjEO7dnFLnPhPmP7r+DG3FIWqlEgi0MSoJtv/efTwNRP5/wtBJd3jj1vf1q3s2LKrn/tHk55qw4R+fVzVgsSJEkWIJrtVleQ273/uG1Wu7M7rm9SPSlBRH2lpksEdOziBIHfmTG4CVhPOWh5HfRMXgor+EeKO22+3O//+92uuxZckiRM76eKe5MntgXvvdRUQVAVH99G3DIgqFUh20OSxJBvJHlrOx1fxwRfJBRJCGlSqZMm9PpBYcWjxwmuWUvIXVCRiqE+TJU1iKe66y+5Ofin6u46hPldlAEX/rcntwrly2nMd2tu++fNc/wceX5EkoioUGqeqtlK5eFG3bIpEG//tdL8lV2gMPvLAAza4c8crS934b+cvqGhca2kaf6HDFzfJ7/XbnnlzrW2d2pbhyScD+vxOdz80qaLxqGVrXlq35sr+/oKK7l0Sbx9dt69f7r7cL7pv6jcdR3/X2NfxVEFDk/iq0BPZEij6TM+bxnj1UqVcFRpVVPF/llWV5fVNG50goOV39PxoaSxVpQnsG39B5fbbb3O/0az7FvG6LyVJ4kSWLEkSdx3333OPZU2f3lW22TF7ppMsfFUx1BafoHLbbbc5+UHjThWBGlWpHG10PzVOVA3oZhNU9C5d4z0n6tfql9+lWm4q8F2qJXM6N2zovUvzuypDqn4S7F2q6GvaX89Ez+bN3PjReJAoVjR3buvnvfcknAWraOSLG7uXBZXm1atZxjSpLVPaNE44qlehQtB+Dkz7enXdWJAI4zuuv6BSsWiRy+MgsXtPahxEGNfeZ77nXdVv9E7KlSmjq260zht/Er/0bPu3O9wTKKgsqlLROuXJZSm850jPhu8fnGMa7at+lqgi0YUQQm7FZPa+NyOoAAAARARBBQAAAMIVBBUA8IGgkkAEldMrl7uJVFUm0CSxKoxoqQj/yVIJDRIAVNVBE5FaIkKTuW9s2XTNcgz/K0GlT6uW3ucvBp3k1YTzF941qfqElrjIly1rhGRNn8791rrEgJgIKjrX5961aXkZLZ2TP1s2N+k7b+jzTkjQxHJcCCqagNQEb4Ynn3CVDQKvJ3/2bG5Jllply1jXJo3d0ixbpk91soIEBZ/4ob/vnT/XVVXQUjiq+HBm1YoIFR8UCQaqqqM+fuTBB61+xQq2cPgw+7f3df9JZV2vT1CRsPPEo4+6CXj1nZbwUFrUrGF1y5d3AoPEkce842l5EAkdWjro9c0bXQUT3bPAih7qb03Eb5421e1TpmBBt8SSJuh1Lf7bajuNj44NGrgqEbrvK8ePte/PnIowZv0FFVW90L2TrOF/LEXn1nMgMad3i+auAol/n2uyXUtN3XNZKIlKUFEFkEI5c3j9WPFKv0h6aVipkqtQ9Jj3A5hEnsK5cjkZaPWEcXZqxTInVKgNkS2BomdvhPfsacmcul7/LB09yj17/s/ET97+WjZGUpKuQcvGjO3d0/V7oJjhL6ioPTquxAj/6/ZFspAq2rSuXdu9T1SxRsswSfhQe3330l9QkYSjfdQWVWSS7BVdJHOoAocki5tNUNE1vOBd++OPPuLurd6lek/597/un0QiiWwVixZ1fTq+b283hiMTNLS/BA6JHLW8dkqO0rJikkbWeu9Xjf2o2qz9fYKKqq8UzJHdVePZ6I1HLaMVrJ8Do6V9PvK+B6hKjO+4/oKKqqGoEo6qvEimUhUZjWtVRpLgovGu5/1R73mXwCMRTVW5dGxVnNI7xr+fEkICBZVN3s8eQ6tUsrTe+yOZ973GXzqJSRIlSmQPe9/PVH0gd+7chBByS6ZIkSIIKgAAAAEgqAAAAEC4gqACAD4QVMJcUJGkoMniDVMmuUnLu5IltQLZs7uqB5P7P+OWjfBl5qDnbGK/vm6iUUt3qCpG54YNXOUKTXz6TyzGl6AiieCsdy4JJWqTlkLZO2+uu6bAiU5NkGti9fDiRW5CW5VU/NOjeTO35EbSJEliJKgomnDW9Ul+kXihtnRp3MhVjpDoc3DRwqCCikSJT/fvc8vF+Pe1fzTJL3FAE9CBS/zkyZLZWtaq4USIwOuZ+ExfmzqgvxMUJH2o6kGgdKRouZeFw19wlV+ypEvnlg/RBLuWzPFvx/TnBtjznTu7+6nqGPmyZrUB7du5SitaOsl3PH9BRfKIhJ3h3brairFj3HUqmhTXf6u6h/o6f7asVs/rN1V30fIhklP82+gfTYhruaGpXvu0fJDEosrFizvBYfrAARHarG20tJDu60P3328Fc+Sw4d45Lu7dbf7L40hu0L6SWCSoTOrfz02YB8oCEiwkAUjyWTdpgne/n4vQ51reRoKPKlNEJ6hILNLEvdrp65etM6Y5EUV9r8l9VTRSZZGnmzV1UoZkCo0B/zb54nuWtTxVG++4Wr5F/Sp5Z9Iz/SL0i55lfU0SQY6nnnKVTyRXbZ81wwlH/mPEX1BJ+3gqJzw917FDhOv2Zcqzz7jqM3p2znj3UUKbno3AMRcoqEh2WjFujPu6/3aRRSKHnjUtWeUvqOgZ17vopbVrbP3kSU408r9uZeGwF+zAwvluqacbKahcfZdOdmNAFUOuvkuv7X+9SxtffpcmTZLYe3fVt53e+yLwXeofvQNeXrfWujdp4o6d7onHneQiwSOyfXzR5z5BRe3TuOrRrJl7jwWKXTGJv6CisaFxreW5Xhw53DZPn+rGtc65ZuJ49zyoWoqvas/TTZt4n8/wnouIlY8SUgIFlX0d29maPr1s8LPPWqNGjSy/11cPPPCAE078BZToosoDj3jffxs0aGCjR4+28ePH24QJEwgh5JbLqlWr7Icffrj0P2oAAACAoAIAAABhC4IKAPhAUAlzQUUTqt8cO2pTnu3vZAJVkNASJVrCI7LceeffXZURRZUPNLH/z6NH3ESl77jxJahIOHln2xbr3aKFm8xX9RedS1+PrMJEZNFxn23b1p0npoKKL6dXrXCSRfonHrfi+fK6iXwtnyNBpJfXxkBBxVcBRlUU/CcX/SNpQhPtmoD3F1TU/7reVePHxrragyatz61eZYM7dXRijlsSIrr7732uaHkVyTiqDvP5wQNXjqkx5RNUKhcv5qqnbJ8545r7r3NLRHH317uObBnSu2Vbpg0Y4JYg+s/5qxU3/CPh4eTyZdareXNXRUb9EEqb9acqzkjEOrFsqX195GqFFMko6scS3j2ToKL79u72bfbDmUvLIIUaTbSvGj/OCTHRCSq5M2d2z8irG68ul+Li9YvGrqrYjO75tGVJl9bJQ5rYP7RoYYR2++f/nTvrnmWJAqqEk+KuZFeW44ksWv5D/SdJRPtIMPnq8MEI48lfUFFFHlXieW/H9gjnjmniSlDR/hpTY3v1cgKHlpoJfJ603IwEDVXguZGCiu9dOlXv0kIxe5dquacKRYo4MUnL/Pi/S/2jNmmMjfLGRc0ypa1Qjhy21Ls3oQge8SGoqKKRxrWu433ve2lgH+o8r6xba31btXTPuirA9PPeZQcWLnDbRifZhGMCBZXjPbvbe8uX2u8//2znzp2zsWPHugoCkk0kqeh5CWXpHz37d3vv6HHjxtl3331nf/zxx+WfcgAAAAAA4FYGQQUAAADCFQQVAPCBoBLmgoqWQHlt4wb3W/6a7FVFDlWj0FIowdLU+59eVVApW6igpUmVylXReLppU3t900b7l98kZ3wJKpIVVBVkbO9eTizQkjLTBg64VGkixMluX26EoPLFoYOugkubOrXcBLD6afHI4bZo+DDr1aK5k01uFkFFEoT6T0tstK5Vyy3NoWU/6pYvZ02qVg16/5Xa5cpaiXz53DIdWrJDVUp0/32Ty+r3UAQVRed/d/tW1wZV89BSRZqo12S3qpToc//t1WYtPaRJeVWfUCWXorlzu4lxjc1g7VVqliljRbztHrzvPitTsIDNfX6I609fmzVxrmWOGntt0D1rUUMSy7Kgy/xElRsiqHjxyTtaekVLKkmcUaUYTeZLdpJoEChg6Rp0H3o2b+b3LBcL2h+K71mWmJImZUqv77Nal0aNnDii94LvuAgqoeVfx4+5d6mqm8Sk/8sWutT/epdqXx1Dxwp2jltdUNF/6/5oDPdt3cqyZ8jgqqloHOi9JtHRf/uEkKgEFYkl7777rh06dMimT59urVu3toze2EqePPk14zowklgkoDVv3tz9TxzVBwAAAAAAwgMEFQAAAAhXEFQAwAeCShgLKqpOoaVONk6Z7CY7NVmoZT5UTUXLY0SW1RPGu2Ulqpcq5fap5n2T2Dx9ml3cs+vKseNLUNEkvSZdV44ba61q17KMaVK7Sdf9C+Y7kSFwEj+q3AhBRUvCfLh7p1veQpPuWr5D8k+/1q3dpHBK75uqv6AiEeCNTRtdX9WrUCFofMsWfXZg/w0VVNRvn3v3ZLR3LyX35MmSxUk0S0aOsLWTJgS998rC4cPsha5dnQCgiXhV9ti3YN6VpWFiIqgo2k/jUEvOVC1Zwgk5zWtUd/f0k/177f/5SQvfe9tKjlDFl4rFiro2D/DGhCbp102eGLS9ipadGdCunXc/nnJLDkkEOLF86ZVlftTml9etcUv0lCtc2EoXKOD2kfChCXifyBJdbpSgouicXxw+6JZIaev1sZbXkVSg5ZckaPhLBXqWtZyOlvepU76ck1na1atjWqYrWH/4omdZSyPVKF3atNRPpWLF3BI1WrbJd+xbSVDRc6DqSVpCSs+ypKfA50lja/pzA121oxslqFx5l3rnlQylakAd6teN8bu0aokSTpz50O9d6h+16VYWVHzb672jJX8aV6ninklJUhIL9W6TlBasclK4JipBxZ+LFy/atm3bbNCgQVavXj3LkyeP+5+06Jb+yZs3rz333HP2ySefUEUFAAAAACAMQFABAACAcAVBBQB8IKiEsaDy88vn3YTg0C6dXSWMIrlzOtlBE70SOyKLJhg16a6J1ZyZMlq2DBlsZI+n7fza1Vcm8uNLUPHl9MoVNrRrF0v58EOuQoba9o+d20Oe8FZuhKCiSKJ4f9cOt9SPlrEolDOnqxKgaFkcf0FF26vP1Kdqa7BI0FC/a7sbKaioWsHL69Za2zq13SR/k2pVbeuM6W6CX+0JvO++aAmSl9ausfb16jlJpWCOHLZ4xAj7dP8+97naHBNBRdG1nVq53I3FVN491AS/pIzT3tf8q3moWs5Rr+8aVqpkxfPmtZa1atr+hfPtu1MnnBwU2FZfvvT6Wvs1qVLFtVnLWWlM+i9NJBlm0zQJBqXdEk1aCkj/LYFGx/BtF1VupKCi6L6qiosq8FQqVtQtUVTWa/uLI4Y7icT3vOlZVp8P79bVVRFSJZxlo0e56jSBfeEf3ecLG9a5CkSq+JE5bVob5rXp7OpVV459Kwkqvs91beo73zMUGI0VXd+NElQuvUvXOXmosPcu1XOv6wnlXapncHSvnpYrUybLmj69e2+cX3P1XeoftelWF1QUteWdbVvdfSuWJ7elSZXSLYu02nt29IyrP4PtF44JVVD566+/7M8//7Tff//dXn31VZs6daqVKlXKHnjggQhCSmCSed+vtN0rr7xiv/zyy+WjAQAAAADArQqCCgAAAIQrCCoA4ANBJUwFFf2GukQELWui5SZK5svrqg0cW/qimyAMto9/NNG+beYMq1m6tJsk1pIwmvjURKcmF+NbUNGE8q45s53UoIlXySCSA7REigQHTaIG7qOorfr8zS2b3ARrrTJl7K6kSa9LUNHk93de32p733IrqR552B554AFLdOed1wgqMcmNFFQkOOi+SKbQ0jqDO3dykkhkfeWLKhx8emCf69+KRYu4ZXNUneTk8mVXBICYCiqKPpcg08i71+qzfNmy2njvHOdWr3KT+RqzvkltiRJa2kdilMQA9XmwY/ryg9fmd3dscxKTqqOoSsuI7t3dsX3b/PvUCfvHrh2ukovGrCqKqDrM6gnj7B87dzjxyP+YvlwSHc65Cia75syyPi1bWo6MT90QQUXHVn9KwJJEon107ObeM7tz9qwrz6qe5QML5zupplT+fG5cHFq8MKRn+eN9e92x6pQr5yr+aOkktdE9y9513YqCSqi5UYKK712q+1LS63/14dEli0N8l+5x7wpVXtG91Xt4y/SpV96l/tuGi6CifOO9d/Uu69e6lXcPc9qjDz7gtaep7Z47x7732qn2Btsv3BKqoOLPv//9b3v77bdt9+7dNmXKFGvTpo3l8MZCCu97pJb28RdU7vC+T2TKlMkJLW+88cblIwAAAAAAwK0KggoAAACEKwgqAOADQSVcBZWXz7tlJFSZIX/2bK46w6BOHdwkb2QT8f7RhOZbWzdbj+bNXLWGq5OSO9ykpL+gUiJfXjdRv2vubDfRHlVUheWd7VudLKDJ8VAFFU3kaomNNRMnOIkkV6aMbrmYQR07uKU0jixZ7EQGCQ7vbt/mtX2LkyiOL1tiG6ZMsgn9+ljTqlVddQ1VkdCkqeQWTTzr+DERVHx5b+d2WzF2jFu+4qH777vyDwc3g6CiSeVza1bbCO8eqQJKyXz5bNno0U7iCLa9fzR2NEbUby1qVHft0P3RkjzqL8kgsRFU1Cbde4kHFYsWtdQpH7NaZcvY4pHD7YtDB9w5db+e69DBiQk6ru6tBINgx/OP2qxKJCvHjXGT6Mm9e6hJei1vpb7T54pElxPLlznxRWNBk/jabvaQQU4+Obt6pbvvaqfGkUQJVRs5sGiBLRz+ghs3quCj8SfxZ+nokW7M+doRU0HFF4kOEk5a1KjhKm1ojKqNembUfj3LS0aNcJU71HcD27ezt7dtCelZ1th+x7uW3i1buGdZosbk/v2clCNhJCEJKuULF3bLXEmS0BJQge+nwLzpvQO1lJjOvWjEMNd/7l3qvXc0PkJ9l+peSWbzvUunDuh/6V0a0B+61zdCUJHIpPGtJXYkqR1ctDDo9UUWtfdfXrvVntgKKnq/f+sdY/3kida6di33fi9dIL97JlT9SpWLgu0XbomNoOLP559/7v7HTcv4VPe+P0lUefjhh93SPz5Z5cEHH7S6devahg0bXAUWVWMBAAAAAIBbEwQVAAAACFcQVADAB4JKmAoqmhw8uWKZ9W/XxpIlSeImFpeOHuWqiWgiM9g+/tHEo34Dfsqz/Z2AoWN0b9LEySPfnz4VQVBR9RBN9EvM0HmiiiqgSGbRBLh+iz5UQUXR5LYkhA1TJluXxo0sc9o09rh37oxpUluVEiWsW5PGNtY79sRn+tmIHt2td6uWVq1UCcuaIb1beufBe+91y5z0a9Pa9syb4yaefZU5YiOoaDJYEo+qdhTOmfOmEVR0fyWSqAJOg4oVrUTevNa2Th23rIiW/Qm2T2B0Pi3zM6RzJ0txVzJ3f3W/tUyOjh0bQUXRvqpmI8FCy0dpyaZODRvYkRcXO7ljzYTxVrd8OVc95elmTd09CLX6g2QBTa73btHcu98prGyhgt5Y6OvGsb8Y8e2pE/bKhnU2oV9fb9wUd2144rFH3D1sWq2aDerU0UkaGkeSuiSwSAxRVZb77rnbHr7/PtdGCRQSfvwn2mMrqOh5/dzrvwXDXrAapUpZsqRJXdskzqj9x5y4097uTn6X1S5X1gkbehZCfZYlGEwfOMBVxFEFoc6NvPffksVOFEtIgorEH90XPaO6h8HeUf55oVtXO7tmlZPvdC3qO31d0ojeH6H2v2SPqd67VFKT3qV6V0mQCxRctO2NEFRU6eWp1E96Se2eUYlggdcWVcb06uneQ2p3bAUVRft+sGuHzRv6vBMl06ZK6cbg5mlTQxLPwiHXK6j88ccfbume77//3i5cuGAzZ860KlWquP+BU/UUfc+588473X+PGDHCfvzxR7cPAAAAAADcmiCoAAAAQLiCoAIAPhBUwlBQ0WS3Js0lNmiiUnJGzxbN7fCLi90EZrB9AqPJzh/PnbFN06a4337X0jVaImTZmFFuYlxLxfgEFU24Pnz//e7vTzz2aJSR6NC3dSsnKWhyNiaCitqkCVFNjO5bMM9UBaJrk0Zu8lVVJcoULOiWMiqWJ7er6iJBQalaorhb5mhgh/auCoaOr+VadCzfBHNsBBVVdVFf7J031004P/Hoo5YkcaL/uaAi6UbVGTShnDV9Otc3w7t1c9cc6v3XGNL2qsCTL2tWJ1xoHKiaiESU2Aoqug4JJ6qM0q5eXa/PHrFSBfLb81062Q6v/4d16+qW3tE9m9ivr3115JBbcijYsQKjahSqNDJt4LNuSSO1uVuTJt5Y22z/On5VctG1fXPs0vIjkiZUDaNptapWzfthqFyhQq49GqeSZPR3jSFVTalbvrwTo8b16eUm2F/ftNEJNzqe79ixFVQUPQ+SgrSP5B3du+Y1qrtqHzMHPeeqYjxw773umlRt5d+nQqtA4XtutsyY5pY0Suo9r5IfJH2ocovEj4QiqDzm/dCr96GkOj2vwd5R/tF748DCBa4tuhf333OPqyp1+MVF18glkUX9r+vWmGlTp7YlTpTISUYSBr/2xrf/+NF9uhGCSjNvPD/ptT/FXXdZSu+aH/ees2DXF1k61K/n3vF6P1+PoKI2fXfqhHvnSrDKny2rZfPGtd6XkgRVYcX/+sMx1yuo+PPDDz/YO++8Y9u3b7eJEyda69atLW/evHaPNy6TJk1qTZs2tf3799t33313eQ8AAAAAALjVQFABAACAcAVBBQB8IKiEoaAiQUFVIlaNH+eWs1AlBokZvuV5gu0TLJpcVKUJLUch6aNTgwa2fMxoJw28umG9LXhhqFUtUcLyZ8sWcjRRPbZXL7fEgyZT/+/EcTfZO6B9OyeYTH9uoL28fm3Q9vhHE76fHzrg9tXkcd9WraxhpYpOUCmUM4dbSkKTqd2bNLYJffu4aiJatkVVW3RdgcfTZP+xpS+6iiEl8+dzE/bqr8DtAiMpQpUvtLSMJrAlNGgplZfXrXUSRLB9osr/O3fWLRmjCeBCOXO6CX4JCr5KL6HEt5TOnOcHX2mPltnQRHGok8HqI1XXOLrkRde3jSpXdhPzJ1cst08P7HOVQySCqMpJDy/a7usjh4MeK1i0hIgm6OuUK2t1K5SzPq1a2rqJE2xUj6etQpHCTn7ZNnO6u88SgYIdIzDa7ruTx23PvLnWq3lzq1+hghtXWvpJE+3B9rm0lNUWtwyKltRpV7euVSlezIp6413LsejZUQWVAd59WDxiuFseSMeKTLTQWNByKhLDJL2oIkqoYoXujdq/d/5cd8+0lEzLmjXdc6xKRvqalrVSNQo9P4HLw0QXSUWSDCRvSUDQGNfSShI4JBhJQJNAscy7L5KTgh0j1Og9o3E8Y+AAt8RU/7Ztbdec2SG/f/Ts6Z40qVrF2tSu7cZCKJJGYDSOJU5JDmlWrZqTjYK9lyKLqkadWLbU9fmld2kJd09j+i5VLnjvUj0zxfLksY4N6jvZT4KQ/7OtZ1fvNS0npGeida1a7t7oa/7HChZdq6RCvRMHd+rgxLFg1xRK9PxJMNLzofZJeFwzcbz7uqoMaUx+sn+fa2+wtgRG74z9C+Y7MUVjuH29urZl+lQn+MXk3XYr5kYKKv7oH6b37dtngwYNsgreuy5z5sxWqVIlGz58uH344Yf2559/Xt4SAAAAAABuJRBUAAAAIFxBUAEAHwgq4brEz8vn3US6Jpo1QS55QJPqweSMqCKJ5IvDB51QcHHvbvunJhTPn3Vfl6iiY2uZm1Cjid3PDx640hY3KX/qhFs6RlKFJmwlkQRri3+0r9qhfb88fMi7zr3u2JoUf3vrFncs/bcqWmgSXktVqBJHZNfv5AbvWJpI1b6aOI1MQvCPjqeJavX1B7t3un3V57qG2FQG0PHUTvWDrkP9okniX4JsG1l+efkldwzdH197tExMqKKHL74+8fXtR95xJPLoen1tlDSgr2u7mEw0a3+NJYkW//CO7dro9aFkgne3b7t63TFts9cGVTXR8dRmHUdjNbK2aXu1RTKRzq0KLBrTGu8SV/T3D3fvcsfRmJC0o2NF1i71jSQTjQUlJhVgFP/2SwL60DuGxtYXhw66r6myiY4Z22dZ90zPyEXvOp0c4LVXx1Jf/2PnDnf9ui8xlV8C4z+O1Y8xvZ9qk+7JB977Wm3S8xvbNumeaGkz3Y93vech2Hspsuj9oXuuPr/U/3qXXl//u3fpnqvvUv9t9Jyrvbo3Op/GnpNEAraLLGqT7z0W03ezf3zPje8dpneBnk99Xf2oMal2hvpe0rYa1+pPtUvjT/ck3OUUJa4Eld9//91++ukn+/rrr+2VV16x2bNnW9u2ba1+/fp27pz3jvrll8tbAgAAAADArQSCCgAAAIQrCCoA4ANBJUwFFUIIIYT8bxNXgoo///nPf9zSPzt27LAVK1bYBx98YD/fwOMDAAAAAED8gaACAAAA4QqCCgD4QFBBUCGEEEJIHCQ+BBV/tLSP/kGbCioAAAAAALcmCCoAAAAQriCoAIAPBBUEFUIIIYTEQeJbUBF//PGHE1UAAAAAAODWA0EFAAAAwhUEFQDwgaCCoEIIIYSQOMj/QlABAAAAAIBbFwQVAAAACFcQVADAB4IKggohhBBC4iAIKgAAAAAAEBMQVAAAACBcQVABAB8IKggqhBBCCImDIKgAAAAAAEBMQFABAACAcAVBBQB8IKggqBBCCCEkDoKgAgAAAAAAMQFBBQAAAMIVBBUA8IGggqBCCCGEkDgIggoAAAAAAMQEBBUAAAAIVxBUAMAHggqCCiGEEELiIAgqAAAAAAAQExBUAAAAIFxBUAEAHwgqCCqEEEIIiYMgqAAAAAAAQExAUAEAAIBwBUEFAHwgqCCoEEIIISQOgqACAAAAAAAxAUEFAAAAwhUEFQDwgaCCoEIIIYSQOAiCCgAAAAAAxAQEFQAAAAhXEFQAwAeCCoIKIYQQQuIgCCoAAAAAABATEFQAAAAgXEFQAQAfCCoIKoQQQgiJgyCoAAAAAABATEBQAQAAgHAFQQUAfCCoIKgQQgghJA6CoAIAAAAAAH/99Zf99NNPLtFxvYLKz97/a3z//ff2+++/X/4KAAAAQNzw66+/up89lFB+9oitoKJj+86jcwLArQ+CCoIKIYQQQuIgCCoAAAAAAPDHH3/Yxx9/bG+99Zb94x//sG+++cZNsEhcCSQ2gsp///tf+/bbb+3DDz+0t99+29577z13fAAAAIC45JdffrGvvvrKXn75Zfczjn5WkUDy559/Xt4iIjERVHQMHUvH1LF1Dp1L5wSAWx8EFQQVQgghhMRBEFQAAAAAAOC3336z48eP25QpU6xVq1a2fPlyJ5EE+03j2Agqn3zyiW3fvt169OhhI0eOdJM/ElYAAAAA4hJJJC+99JI1a9bM+vfvb2vWrLEvvvjCybPBiImgomPoWGvXrnXH1jn0M1Jk8gsA3FogqCCoEEIIISQOgqACAAAAAACqoPLBBx/YnDlzLE+ePFa7dm3r16+fLVq0yE6dOuV+G9gnq4QqqOjvFy5csNWrV9vzzz9vjRo1skKFCtnQoUNdpZb//Oc/l7cEAAAAiDvefPNN6927t9WpU8dq1aplAwcOtGXLltnZs2ft//7v/yIIudEJKtpW+2hfHUPH0s9NOrbOoXMBQHiAoIKgQgghhJA4CIIKAAAAAAD42L17txNU7rvvPrv33nstf/789uyzz9qOHTvc8jzfffedq3xy7ty5oIKKfov4hx9+sC+//NIOHTpkY8eOtTJlytijjz5qyZIlsyxZsjgJBgAAACC++Prrr23btm1WvXp1S5QokaVIkcJKlSrlBFr9vHLx4kX7/vvv3XI9klECBRX9HKTPtI221T7aV8fQsXRMHVvn0LkAIDxAUEFQIYQQQkgcBEEFAAAAAAB86Ld+R4wYYbly5bK///3vbtLlySeftMKFC1vbtm1dRRVVTzl27Ng1gsqRI0fcbxNv2LDBunfvbmXLlrV06dI50UUTN6lSpbJevXo5kQUAAAAgvpBcoqonffr0sQcffND9XKKfT/RzSpEiRaxLly62YsUKV01u06ZN1wgqGzdudJ9pm65du7p9/H/G0TF1bJ1D5wKA8ABBBUGFEEIIIXEQBBUAAAAAAPChiZUzZ864UvVJkya12267zQkoSZIksTRp0ljVqlVd+Xr91nClSpWuCCr58uWzYcOGuWWBGjRoYBkzZrS77777yueJEyd21Vgkr3z22WeXzwYAAAAQfyxevNjKlStnyZMndz+f6Occ/Yyin1v0s49+vpFkq2pykk8U/V1f02faRttqH9/PSDqWjqljA0B4gaCCoEIIIYSQOAiCCgAAAAAABNK/f3974okn7I477rgimfiiSZkMGTK4ZXt8X7v//vstW7ZsEaQU/zzyyCNOXPnoo48unwEAAAAgfnnppZdcpbjHHnvsimDii/77rrvuctVQ9DOQliZU9HdVUtFnwfbRsYYPH+6ODQDhBYIKggohhBBC4iAIKgAAAAAAEMi6deusUaNGrnKK/0SMcvvtt7tJGokqvq/deeedbjkgLQvkv60vFSpUsNmzZ9u//vWvy2cAAAAAiF++//5727Nnj+XNm9f9LBP484rEXC3Zoypy+ruiv+trwaRdHUPH2r17tzs2AIQXCCoIKoQQQgiJgyCoAAAAAABAIO+++65NmjTJVT6RfBI4IRNqNJmj3z7u06ePXbhwwX7m/zMAAADgf8h7771nHTt2dEv1BPvZJSbRMXQs/dwEAOEHggqCCiGEEELiIAgqAAAAAAAQjMOHD1uuXLkiXbYnlOi3jp988klbvHjx5aMCAAAA/O9QNbeNGzdarVq1gv7sEpPoGDrWN998c/noABBOIKggqBBCCCEkDoKgAgAAAAAAwXjnnXds8ODBlidPnqCTMqEkderU1qVLFzt27NjlowIAAAD87/jvf/9rn332mQ0YMMDuu+++SJcnjCraR/vqGDqWjgkA4QeCCoIKIYQQQuIgCCoAAAAAABCM//u//7OjR49agwYNLHHixHbbbbcFnaSJLIkSJbKiRYu63yz+9NNPLx8VAAAA4H/P0qVLrVixYrGqFKd9tK+OAQDhC4IKggohhBBC4iAIKgAAAAAAEIy//vrLfvvtNxs0aJA98sgjMf4N4/vvv9+aNGliX331lf3555+XjwoAAADwv+f8+fM2bNgwtxRhsJ9joor20b46BgCELwgqCCqEEEIIiYMgqAAAAAAAQFSsXbvW6tWrF+PfMC5XrpzNmDHDfvzxx8tHAgAAALg5+Ne//mX79u1z1d6SJUsW9GeZYNG22mfv3r3uGAAQviCoIKgQQgghJA6CoAIAAAAAAFHx1ltv2ZQpU9xvC4dSReX22293SwI988wzdu7cOfv1118vHwkAAADg5kFLELZv397SpUsX9GeaYNG22ueTTz65fBQACFcQVBBUCCGEEBIHQVABAAAAAICokGBy/PhxK1SokKVIkSLoZI1/kiZNaqlSpbLly5fbL7/84pYKAgAAALjZ+O6772z16tVWu3btoD/TBIu21T7aFwDCGwQVBBVCCCGExEEQVAAAAAAAIDo++OADGzBggOXOnTvoZI1/0qZNa23atLGTJ09e3hsAAADg5uO///2vvf/++zZ48GC75557oqwUp8+0zaBBg9w+2hcAwhsEFQQVQgghhMRBEFQAAAAAACA6vv32W9u3b581btzY7rzzTrvtttsinbwpWbKkbdiwgdL3AAAAcEuwcuVKy5Mnj919991Bf75R9Jm20bYAkDBAUEFQIYQQQkgcBEEFAAAAAACi4/fff7fvv//ehg0bZg899JCTVAInbiSt3Hfffda6dWv75z//6ZYGAgAAALjZOXfunKuikiFDhmt+vvFFn2kbbQsACQMEFQQVQgghhMRBEFQAAAAAACBU1q9fb9WrV7f777//mokbVU8pVaqUTZ8+3QktAAAAALcCX3/9te3fv99Kly5tSZMmveZnHH1Nn2kbbQsACQMEFQQVQgghhMRBEFQAAAAAACBU3njjDZsyZYr7LeLbb7/9ysSNqqckS5bM+vfvb6dOnbI///zz8h4AAAAANz//+te/rEOHDvb4449HkFMUfU2faRsASDggqCCoEEIIISQOgqACAAAAAACh8tNPPzkBRb9FnCJFiisTN/rN4jRp0tiqVavcUkB//fXX5T0AAAAAbn70M86yZcusdu3aEeQUpVatWu4zbQMACQcEFQQVQgghhMRBEFQAAAAAACAmfPbZZ9avXz/LkSPHlYmbtGnTWtOmTe3s2bOXtwIAAAC4dfjtt9/srbfesqFDh1ry5Mnd0oWK/q6v6TNtAwAJBwSVFwbb/+3eaf85e5oQQggh5IblpxPH7O1J4xBUAAAAAGLNX/bXH7/Yn7//P0ISRL77vy9sx7b11qJpfUuW+G8uFcuXsFUrFtknF98Jug8h4Zn/eN8CWM4KwhdVw/rjz9/ttz9+tV//+C8hCSJr1q22DBnT27333+Oiv69etyrotoSEY/TO17ufiogIKnbu2b72xrhR7jecCSGEEEJuWCaNs5cGPYugAgAAABBL/vr9Z/v+vRftm3MDCUkQ+eJUP3tje1tbNbqAPdsokcu8gZntwuYW9snRXkH3ISQc8+1rE+y3nz69/N0AIPz4/udv7YNv3rQj7221g+9sIiRBZNHuydZ5eFOr3bWsi/6urwXblpBwjN75evfre0BCJ0ELKgdbNnWTRoQQQgghcZXDbVogqAAAAADEgj9/+9G+OdvfPt5a2C6uz0pIgsnLCx6zvWPudDk968Gg2xASrvloSwH74lAT+++/37r83QAg/Pjmpy/t3EeHbMGxkTb78FBCEkSm7h1oozf3sGcWt3DR3/W1YNsSEo7RO1/vfn0PSOgkaEFFk0WEEEIIIfERBBUAAACAmOETVD5cn8XeWfA3QgghCSAfrE6NoAJhjyYnT3yw28buftqGb+9ICCEkAUTv/BPv70ZQ8UiQgsrZwQPtRJ8edqJXd0IICSlbmjexZTWr2YJK5W1J9Sq2vlF9O9ytc9BtCSEkWM4M7I+gAgAAABADAgWV95c/ZB+uTksIISQM88HKlPbuojsRVCBBECiojNrZ1Sbve8am7H+WEEJIGEXvdr3jEVQikuAElW/On7P3ViwjhJAYZWm3LjagbGlrnyuH9S1Z3Ga0bG4vz50ddFtCCIksnx86YH/8+t/LP5UAAAAAQFQECioXV6e1z7eXtn8ebGHfHGpFCCEkTPLFzkr20bos9t7iJAgqkCAIFFTG7ellL56caKvOzbK1L80jhBASBtE7Xe/28d47HkElIglOUPnzt9/cby4TQkhMMm7kCCuQO7fdnTSpZc+UyZ7u3Nk+u/hh0G0JISSy/PHrr2Z//XX5pxIAAAAAiIpggso/D7W03z/aZ39+eowQQkiY5LuTfRFUIEERKKhMOTDAdr253k5/fMxe++IVQgghYRC90/Vun+q94xFUIpLgBBUAgNgwevRoy5kzp915552WIUMG69Kli33xxReXPwUAAAAAAIAbTTBB5ZvDbezPz06YffkSIYSQMMl3pwcgqECCIlBQmXpgoO15e7Od//S0vfX1m4QQQsIgeqfr3a53PIJKRBBUAABCAEEFAAAAAAAgfkFQIYSQhBEEFUhoIKgQQkj4B0ElchBUAABCAEEFAAAAAAAgfkFQIYSQhBEEFUhoIKgQQkj4B0ElchBUAABCAEEFAAAAAAAgfkFQIYSQhBEEFUhoIKgQQkj4B0ElchBUAABCAEEFAAAAAAAgfkFQIYSQhBEEFUhoIKgQQkj4B0ElchBUAABCAEEFAAAAAAAgfkFQIYSQhBEEFUhoIKgQQkj4B0ElchBUAABCAEEFAAAAAAAgfkFQIYSQhBEEFUhoIKgQQkj4B0ElchBUAABCAEEFAAAAAAAgfkFQIYSQhBEEFUhoIKgQQkj4B0ElchBUAABCAEEFAAAAAAAgfkFQIYSQhBEEFUhoIKgQQkj4B0ElchBUAABCAEEFAAAAAAAgfkFQIYSQhBEEFUhoIKgQQkj4B0ElchBUAABCAEEFAAAAAAAgfkFQIYSQhBEEFUhoIKgQQkj4B0ElchBUAABCAEEFAAAAAAAgfkFQIYSQhBEEFUhoIKgQQkj4B0ElchBUAABCAEEFAAAAAAAgfkFQIYSQhBEEFUhoIKgQQkj4B0ElchBUAABCAEEFAAAAAAAgfkFQIYSQhBEEFUhoIKgQQkj4B0ElchBUAABCAEEFAAAAAAAgfkFQIYSQhBEEFUhoIKgQQkj4B0ElchBUAABCAEEFAAAAAAAgfkFQIYSQhBEEFUhoIKgQQkj4B0ElchBUAABCAEEFAAAAAAAgfkFQIYSQhBEEFUhoIKgQQkj4B0ElchBUAABCAEEFAAAAAAAgfkFQIYSQhBEEFUhoIKgQQkj4B0ElchBUAABCAEEFAAAAAAAgfkFQIYSQhBEEFUhoIKgQQkj4B0ElchBUAABCAEEFAAAAAAAgfkFQIYSQhBEEFUhoIKgQQkj4B0ElchBUAABCAEEFAAAAAAAgfkFQuf78/tlZ+/Efx+zAujm2bPpwl7ePrrf/fnzK/vrifNB9osq/3jxgxzYvtLnjnvMy0N45tsE7/tErn//w3lF768g6mzX6WZs6vK9tWDDeLp7d5p3vdITjBMsvH52y905ssvXzx9nY57rbwfVz7POXd135/A/vWn6+eNKObprvzj+sXycb2qdDjDJlWF/b+uIk+8hrk47nf/7A/Ndrz9ev7bNtSya7a3mhb0fbs2qGffrSTvvz83NB9/FFfav93zi81pZMfcHGDe4RtD2BGdG/i80aM8D126lti+2LC7tdvwQ7R2zyx2fn7N/vHnb3bf/aWbZ02jCbMKSnd97ONuyZzjbx+V62YOJg2+L10av7V9nXr+9z/RQ4VvTfv3961l49sNpWzR5lowZ0DXo9UWXsoKftRa9vXj+4xl2jjvnbp2fsn945ty+d4sbqunlj7eNz2+3XT6IfP/5R275+ba/tXjkj6Lmjy5yxA13//PP1/fZHNPea3JggqEBCA0GFEELCPwgqkYOgAgAQAggqAAAAAAAA8QuCyvVHE/+SHAb1bGuVShdx2bRogv3wj6P2ZywEFYkNYwZ2t3w5s1jeHJmdyPD5K7uvfC55Q4JJ9swZ7ImUj1itSqWcECLRw/84wSJxYsfyqda4VkW7/967bXCvdnZ255Irn//68Wn7v7cO2shnu1j+XFktSeJEljjRnZYsaZKQk+WptNapRV0nuUiaiUrS+fbtQ975l1rrRjUsXepU7nxPt21kh9bPccJEVPtKYPn+vaO2Zu4YK1eioD32yIN2V7Ik9sB999iD998bNPrs0YcftDzZM1mdqmVs4NNtXH98eGar/fbJGe+YMb9fvviEEt2H09tftNljBrh+KFk4j7tP992Twu65O7mlfvwxK5A7m9WvXs7GDX7a9q6eYZ+9vNP+3wfHI0g5kjZ+uXjSSSS1Kpeyu1PcZYnuvNOSJkkctN+D5XHvvBVLFbbVc0Z7fXXEHfM/H56wNw6ttc4t67mx2rBGBXevfvLO73890UXj/rWDq613x6b2t7/9zf7+9zsssXf/grUjWArnze6eGclW6vtg5yA3NggqkNBAUCGEkPAPgkrkIKgAAIQAggoAAAAAAED8gqBy/flfCiqJEyWylI8+ZP27trQjG+c5wSEqqSMmgkqhvNm9be6xDGked7KK/ltSQXSpXqGEa8+p7S9GK5l8eHqrrZw10iqVKeLEjTRPPGb1q5e3eeOfs+/fPeKq0wTbT/EXVCqULOT1R3ornC+HtW9Wx7q0qm/d2za8JhJGmtWtbKWK5LOsGdNZuidTWbXyxV31FkkiP1+M/biXjPPNGwds8eTnrUX9qpYpfWp3TRJvdB8L5slmhfJk9/oyi6X3+lTCTFrv/FXLFXPVUV7Zu8JJKr7j+QsqdaqUsYcfvM+eTPXolWMF6/vAlC1ewLveKm4MufEYR4LK7bff7rXvfsucIU3QdgSLzjvmuW727vGNrqpLsHOQGxsEFUhoIKgQQkj4B0ElchBUAABCAEEFAAAAAAAgfkFQuf78LwUVVa5QVY0yRfO7pWM+e3mXExD8j+efmAgqpQrnteyZ0lvbxjVtyrA+riKIlhyKLkunD7Ody6e5ZWO03I3/+X1x1UY+O2tnvHO/0K+jk1pKeuerXr6EVS5T1Pp3a+WqmvgLG4HxF1RUJaRYgdyuEsvmxRPdMkEH1825JntXz7TN3r2ZObq/k1UktGRM96Q1rl3J9csXF/ZEKdREla9e3eudY661aljd3bfCeXNY83pV3LjQskdaVkh9OG1EPxvSu721bVLL3bcCubJaiUJ5nJQjWcN3PH9BpUGN8vZU2iedqDJqQDebOap/0L4PzMJJQ1z1lDePrHPLIena4kJQ0Rgs4vVl11YNgrYjWLRs0aH1c+2bN1jiJ76CoAIJDQQVQggJ/yCoRA6CCgBACCCoAAAAAAAAxC8IKtef/6Wgcscdd7glX7RsTaOaFW3fmln2ZRSSRUwEFd+1qMKJb3kY/2NdTySXSIjQtTWtW9laNqhm3ds0tGH9Oln5EgXdtRzfutDJC8H2V/wFFV9bX/D2/9ebB1w1k2D7KOobVew4veNFG9q3o6t0on5+vk8He/3gmkilmqiitrx2YLWrhKLlg3JlfcpGeH14btcyNz4C74dkkU/O77D5EwZZjYol3fI9HZrVsZ3evdGxtL2/oNK0TmUrmDubjXnuafvo7Dbv+k5FOF5MEheCipbsaVG/mm1ZPCnotuTmCIIKJDQQVAghJPyDoBI5CCoAACGAoAIAAAAAABC/IKhcf/6XgkqqRx9y1Te0tEqxgrmtZ/vGdmzTAvvp/eNBJZWbRVDR0j8Xz2x1VV/y5szsluSZMaq/bVs6xWpXLm3lSxa6UlEkMtkmtoKKovuifpcWXGoAAP/0SURBVNT5tMSPqp1IkpGo8fPFk0H3iSxqn5YGkhykiimli+azdk1q2ekdS5xgo3YG7qOvqTrM64fW2GjvXktqkaij5YEkkPzx2VkEFXLDg6ACCQ0EFUIICf8gqEQOggoAQAggqAAAAAAAAMQvCCrXn/+loJI7Wybr2b6J1a9WzkoVyee2nza8n711ZJ399skZ++uLiMe+WQQVyRnHNy+0Xh2aWvo0j9vzvTvY7pUz7O0j661Ly/pWrkRB69GusR3ZOC9oBRLlegQVRdf0yr6VbgkjLS8kMUZLAP30/rGg20cWtU37bF86xWpWKmkVSxe2/t1aevdpR5Syi9r/ozdGjm9ZaGMHPe2W/9EyRLpeVXFBUCE3OggqkNBAUCGEkPAPgkrkIKgAAIQAggoAAAAAAED8gqBy/flfCipaDufFKUNt+oh+1qxOZbv99tudfCJpQ9JEYPWOm0FQkdDx3duHbMXMEdasbhXLlCGNzRs/yN49ttH+/c5hGz+kh5NFyhUvYMtnjHDCSbBld65XUJGooQotT7dtZBVKFrKaFUvZnlUz7cdYCCoSbnatmG4NapS3iqUKW59Ozez9U5vdPQgm14QSBBVyo4OgAgkNBBVCCAn/IKhEDoIKAEAIIKgAAAAAAADELwgq15//paAisUICyeEN82zWmGetYJ7sVrJwHiddnN+93L59+1CEY98Mgoqki3+c2OT6SyJKjQolnNzxf28edOffsHC8WyIn1WMP2+Ce7ezC/pVBhYzrFVT++fo+O7h+jtWtWsaKF8xtbb1zqpqJ7mew7aPK75+etXO7l9lzPdpaobzZrWj+nDZ6YDd3X772zvP7p6pmE7OxgKBCbnQQVCChgaBCCCHhHwSVyEFQAQAIAQQVAAAAAACA+AVB5frzvxZU1s4bY++f3Gwnti6yZ7q2tBKF8lj5EoVs1uhn7fWDa+xXt9TPpXbERFApUzS/O78EBFU72bhwvLuu6HJs80L75g1JIsElCn12aMNcq1u1rFUuU9S1WUvt6Nxq59ldS21I7/b20AP3WssG1dwxJcgE9mVsBBUd/7dPz9h37xxy/TV+cA8rWiCXlS9Z0MY+193ePLzWySbB9o0qOu4n53e4PmpQvbzlzp7JLVOkSirzJwxyy/8c27zAXj2wyj48vcXrg/1u+Z9glWF88RdUGtasYFkypLUW9ara3HHPefd87DX9HixaMujimW0Rli2KC0ElcaI7rXSRfDage+ug7fCPxt/ZnUvdmNY1xlTcIbEPggokNBBUCCEk/IOgEjkIKgAAIYCgAgAAAAAAEL8gqFx//teCyrp5Y+0L7/OvX9tnhzfOs0a1KlrOrE+56iTa7ru3D1+pfhITQSV/rqyWJHEiS+T9P3qSJIktaYjREjdHNs23f76+/8px/aPqKQsmDrbMGdI4iWPptGHumvTZX14+Ob/TFk8earmzZbRq5Yu7SiS6fokl/seJjaCifpDsouoyowd0c5VTMqVP7ap/HN4434kjwfYLJb99ckl8WTL1BXcPHrz/XrsrWRK75+7kliHNE07G6dWhqc0eM8BVVtE9k4ASmaDhL6jUqlzK7k5xl93597+7exKs34OlQO6srq/f8/rcd9y4EFT+9re/2R133GGJEt0ZtB3+SfXoQ9asbmX3jOgYgctQkbgLggokNBBUCCEk/IOgEjkIKgAAIYCgAgAAAAAAEL8gqFx/bgpBxTu/KnJ8eWGPTRnWxy2bkz7149a3c3M7snG+/fT+cSdCxERQKZgnm5MrtNSOZJKsGdNZthCiqieqThIoe+j8v3921lUSGfh0G8uTPZO1blTDLavjvxSR+u3AutluWZsyxfJbi/pV7cyOJfZdwHJF/oJKea8fsjyV1vVX83pVrU2jmta+ae1romV8JKPUqlTKynrHLlUkr1sOac2c0fbVq3vdvfQ/R0yiey1J5f1Tm23PqhnuPnRt3cBJNurLbJnSe32Y1orkz2lVyxVz7VT1mMWTn7eX965w1/fn51fHi7+gUqdKaXvg/nvskYcesIzpUltW71qD9X1ganrXuXT6MNcm33HjQlC5/fbb7L577rbUjz8atB3+KZw3h3VqUde2LZls/0VQidcgqEBCA0GFEELCPwgqkYOgAgAQAggqAAAAAAAA8QuCyvXnZhFUJIBoyZhLAkhreyLlI1albFGbMKSnfXh6qxNYYiKoqLpI+tSprHr5EtazfRN7pksL69+1ZbRRhZC3j663H947cuW4yh+fnXV9snr2KFdhREsIDe3b0T46u91JE/7baamdkc92tZKF81jRAjltxYwR9sHpLd41Xj2ev6CiSiy63vvvu8fSPpnS0nntTp/mcZcnUz1qDz9wnyW+XHnkAW8bySxVyhZzS/DsWDbVLc9zw5aa8Y7zy0cn7evX9jrxQ0v89O/W0i3To+WXCubO5mQftTNThtRWvUIJG96/i7ftAld1xtcOf0GlfvVyluaJx6xUkXxOLOnbqXnQvg/MxOd7ueWUJC752hcXgooqu+TwxmO9qmWDtsM/Wr5pztgBbpkfCT03rN9JtEFQgYQGggohhIR/EFQiB0EFACAEEFQAAAAAAADiFwSV68/NIqj4PtcSN5Iu6lYtawXzZLeaFUvZdu+/P395d4wEFS3VU7Z4AZs3fpCTSHRcVTqJLrpuiQeBlTHUTxfPbLNRA7q5dknY0HI4/++D405K8d/285d3edc41l2fZJP+3VrZya2LIlQY8RdUtF2urBmtdNF81qdTcxvQvbW7H0rXVvWtevnilvKRhyzN449Z2WIFXHUTVXmREKLz//5pxPNfb3yykESVH73+UL/oHr59dIMdWDvHZo7qbx2a1Xb3V+167JEH7el2jW3v6pmuLW5/P0GlSe1Kbjw836eDXdi/yr58dc81/R4s3797xIlJ/v0bF4KKxJ9GNSs6kShYO/yjZZA0Rv778SnklHgOggokNBBUCCEk/IOgEjkIKgAAIYCgAgAAAAAAEL8gqFx/bjZBRZKJjqFKJjUqlnQyyLPdWtnB9XPtC+8425ZODklQ8V3Lylkj7fv3jjhhwrddbCJZ4vCGeW6pnYcfvN+yPJXGqpUrbr06NHVSSb/OVyN5onbl0k4oeeiB+9x1rJo9yv79jteOy7KFv6AimUbVSTo2r2v71sxy8snZXUtdjmyabxsWjLOR/bu4yi2qytKqYXVbNHmIfXR2mxM4/Nvplur59Izbd9GkITbg6dYR2qao35ZMe8Fe2bfSbRuKaKH2aqxo6SNVmNEyRnPHDbR2TWpZzixPWeUyRW3soKddtRMnlfgJKlruSJVXxjz3tGuz5I5g5wglcSGoJEuaxC2dtGXxpKDbRhdJPO+d2GQzRvW/pq99mfB8L3e+f3vjKNgxSPRBUIGEBoIKIYSEfxBUIgdBBQAgBBBUAAAAAAAA4hcElevPzSaoKD+8d9ReP7TG+nVpYYXzZreShfPa5Bf62Mt7VtiGBeOdqBGfgorkDLVx4aQhVrVcMSc0SDxR9ZBUj0aeB++/1x5xMktaGzmgq5MY1N++Y/oEFV9bX+jXyVV6+a93Hf7n1z4fn9tus0Y/652/uBNCWjeq4e6T+lOSiW9bVT6RICI5pVr54q46yN/+9rcIuSdFcqtbtYyt8vrmPx+edP0t+efNw+vsq9f2uv3/8jt/sKg/VU1k8+KJ1qxuFXe/1abXDqyxf79zOEEJKl+9utdVjylaINc1fe1L9kzp3bjX/Qp2DBJ9EFQgoYGgQggh4R8ElchBUAEACAEEFQAAAAAAgPgFQeX6czMKKpIsJCJIfmjXtJYTQbSkjpbreXHKUCclxKegoqVu3ji81vp1buGW4VHbm9WrYj3aNXbVUyKL2lwgd1a75+7kToDYtXK6q8SiY8ZEUNF90LW9un+Vq9JRrEAud9zmXhv2rJrhqpr4to2poKL7fH73MicAVShV2OZPGOTuodrn34bA/PWFznXWtWn8kJ6WK1tGq16+hJ3e/qK7BgSViEFQuf4gqEBCA0GFEELCPwgqkYOgAgAQAggqAAAAAAAA8QuCyvXnZhRUfHn3+EZbMHGwEzJKF83vpJBnurS0ssULxKug8vVre23n8qmuekoZrx1tGtXwjjvKLflzbPOCSLN02jDr3raRpXz0IbeMjySQT87vsN8/PRMjQcWX7945bGd2LHHLChUvmNtVZtF9O7JxvttHx9Q90/Ff3rvCls8YbsO8Yw7p1T5CRj7b1S05JEFDwse53ctcXz728INO/Ni6ZLL97H09OklFkbgz+YXeljt7JifEnNq2OMEJKj+9f8zeP7XFyT2Bfe3LjJHPuAo1GovBjkGiD4IKJDQQVAghJPyDoBI5CCoAACGAoAIAAAAAABC/IKhcf25mQUWVQFSh45muLV3lkozpU1u5EgUtc4Y08SqovHVknU0f+YxlypDaKpcparPHDLDPXtplf0XTP7pWnb9A7mxWKE9269Csjr20Z7kTGmIjqCi+ZXUkfdx/3z2uXyY+38u+fHWPq/QSbJ+o8vunZ50INOa57vbYIw86+WdE/y528cxW+9EbA8H6zVVP8b4uWUQizrPdW7uKLo1rVXTX9+3bhxKUoELiJwgqkNAIF0Hlza/esAufvmLnPjhrx986ZocuHLR95/fa3nN73J8HXzlgR18/YqffPWUvf/ySvf7Fa24f//3f+PJ1O/OP03b41UO275y379k9sYr2P/3eKXv9c53j2na+dPG8HX/zWMRtA9oTk6jdFz55xc7+48zVa1f7vex/aZ8dfu2wnXznhJ3/8Jy99vmrkZ5HbVDb1E8HXj7g+uLVTy8E3dY/2u/8xXNuP51P59e+vnP5jquvB/ZVqNGxdYw3vnj9ynlf/eyC67tg20eINwb2v7Tf9bX6R2NE1xXb/g6Mu36vb3X8/ef3BW/D5Wgsqh90/8++f8bdt6ja8crHL9vJt0+49msfjXHd72DbRpU3v3zDXv7oJXcMteHUuyfduYNtG5O4see1SdeiYx965eClPvB77o69cdTdJ12Ltg+8Xt99vJ7x4evXs++fdeNO51Gb3LPsfaZxecR7DjSGdL/8zx9V1DYd58DL+915dBz9t84RbPubOQgqkYOgAgAQAggqAAAAAAAA8QuCyvXnZhZUJHFo+Rotn9K+aW17IuUj9tAD9zmhID4EFYkYf35+3g6tn2t9OjWztE+mtOb1q7j2SMIIto9/JKKc3LbY2jSuaflzZ3WVYNbNG+P1wY5YCyq6xo/Pb7eZo/tbicJ5LM0TKa1OlTK21evnL7x+jk6aCYzaoWvZuHC8q4Ai+adEoTxOetFyPf9+97BbNsh/Hy3to6WKTm1fbMOf6WyF8+WwMsXy29A+Hdy9lFiEoEJudBBUIKERDoLKpUnyC7b9+Hab8eJ0e/rZp612o1pWpGQRy1swj/uzcs1K1qpTKxs28QVbs2e1nXjreISJak04n/3gjE2YO8HqNatnBYsVsFz5c8UqDZrXt1HTRjqpInAyXFLAixsXW5e+XSx3gdxWt2ldGzFluBNIXvssdpPemjDfenSLTZw30br37261Gta0AkXyW34vJcuXtEatGtmzw5+1+Wvmu0n6yM6jNqhtLTu2sArVK9iEOeNt95ldQbf1RbLBsTeP2qL1C73+bWmlypey2o1r2/jZ45wwoAl+iQuLNyy26vWqB+2vUNKmS2tbsvlFJxjpvLrnEiFGThlheQrkCbqPL/kK5bXSFUpZfe++amzMXj7Ldp3e6dqm4wReU0xz4u0Trm81boqXKRa0DYraWbhEYatRv4Z17dvVpiyc4u5bVO1Yv2+d9X/hGdf+Ln262PZj25wME2zbqPLSR+dt1c6V1u2Zbq4NQ8YOti1HNgfdNtTo3p95/7TtOLndJnljr6s3pqvXrWZFSxW1PN5zV6h4Iatap6q1f7q99zyMsnV71zo5KPCZkEyl50XjNli/hRI94zXqV7dpi6ddkb4mLZhk9b1nsVDxgla8bHFr0qaxLd28xI1z//NHFcktk+dPsvJVy7nz6HmatmiqHb5wKOj2N3MQVCIHQQUAIAQQVAAAAAAAAOIXBJXrj7+gUrpIPsuTPZMN6N7aVs8Z5Sp1SDCJLDuWTXWT/JJIfMe7kYKKIpnh81d22cxR/a1ssfx2d4q77G9/+1u0goqW4tH5JZZoOZtNi6K+Fl+2LZ1iu1dOt/dPbnYSxr+9vDj1BWtQo7zlzZnZnfPd4xucKOHfzmD5/bOz7jjjh/S0koXzWrrUqWxE/852btdS++3TM+74MRVUJA2pUsrxLQvdPcueOb27zp7tm7hqJqp6Emy/yCKh5ddPTtvrh9bYjFHPWJWyRS2Hd28knHRtVd+JKloqaMOCca5/1I+STrSsT9fWDVxFmTze+Xt1bOr6Tv0igcVfUGlYs4Jbjqhlg2q2YMJgW3/5WKHmtQOrXeUYiTL+gopEGkk/owZ0c/0YbF//SCx6++gGdywElVsvCCqQ0LjVBRVVwlB1gzkr51iPZ592E+J5C+a1p7I8ZU+kecJSPp7S/ZkhUwbLnC2zFS9T3Jq1a+YmxNftW+eqSmjCXNKGJrU1cS/JIHW61PZYqseu5NGUj9pDjzxkdyW/yxIlTmSJEye2+x+4333dfzulVIVS1u/5fnbglQMRKi2oosqJt4/b4DGDrUylMnb/g/db+ozprGGLBrb50CZXdcT/2qKK5AC1d8vhzTZ25ljr2LOjVatbzR23aMkiToZQPxQsWsCKlCpiZSuXtTpN6njXN8RWbl9xqcJJgKgioWbKwsnu+h9P/bg9M7Sfa5f/Nv5RG1SdRX3fpE0TJyXkyJPDiSpzVs6+JAF516wqGlMWTLanMj9liRIlsnu8n60efvSha/otqkhemLVspjumzq1KKpI1JOTcfvvtljRpUrvv/vuC3g+NAd1PjYGceXNa9XrVrPfg3rZw/UIn0cRWDPJFfTBu9jjLmS+nd10P29333G2PPPaIPZoqoC2PP2aPP/m4pcuQzrLlymaValSy3oN62epdq9x1BVYWUSQMNWvX1I09je21u9e4SjmB20UXiSHzVs91EofGcPun29nKHSuCbhtd1E6Na0k+05dMt069OlrFGhUtd/5c7h4/6XvuUj9h6Z5KZ9lzZ7cyFUtb225tbNyssbb16FYnVfmOt+P4du956evElgj9dTkPPPSAJU+R3O644w5LmiypPfjwg/ZIykcibKPzSMgaOXWkk0rUnwNHDnRSifZJliyZZcyS0YaOf952ntwR4XqCRdcoaUjPSseeHdx91f8XqC16R+w5szvofjdzEFQiB0EFACAEEFQAAAAAAADiFwSV64+/oKJlWiR+SHooWTiPkzwkKkSWauWK27QRz9jLe1dcOd6NFlQUSRRndrxoz/dp7yqG6B/CoxNUCufNYQ89cK9lzZjWVRopHc21+CJRpF61sk54+ODUFvvHyc02pHd7K1ogp9WuXNqWThvmqstIwvBvY2SRvLNtyWS37yMP3W/N6lZ2FWp+vnjC/v3O4RgLKr788/V9dmj9HKtbtYxlSp/a9eesMc86IUZVUYLtE1X+3wfH7eNz223c4B5WvkRBu/fuFJY0SWK7754UbjwUyZ/TLSck0SZrxnT24P33Workd1mGtE+4Nug+f/3avivH8xdU9LmuPX2ax61o/lxOhArW95Fl6vC+9s7R9U5W8hdUcmV9yh7y2iGpSu0Ktq9/GtWsaIunDLW3vWMhqNx6QVCBhMatLqho+ZO5q+ZalVpVnIRwV4q7nByQI092K12xlJWvWt77s7QVLFrQTWRrcj7ZXclchRHJAZJIXvropUsVVN4/46qGNG7VyCrXquyqiPhSrko5J7c8mfZJJ6Y8+NCDTsiQ+OG/ndKiQ3MbMXm4HXn9cIRqEZJhdp/eZS07tbQCRQs4oUFtUkWLGUumO5HD/9oiiybPtVzKxgMb7Jmhz1jBYgXdBHqqJ1JZsdLFnCwiAUOfdX+mm6tckiV7FrtbP3vlzu5kls2HLwkx/lJETAQVCSK6noXrFlirzq3c+TNnz+yqtazds+ZKpRPFX1C59757LXO2TK6iRWC/RRVV/li8YZFbmsZ3fn9BRWJKLq8/y1W59n6U9b5WuGRhS58pvaXwfu5I4v3ckTZDWqvbpK6rfKJjBpNDQo2/oCJRIpN3fZKUylcrH6EdGoslypVw/aR2JPbaob9369fVVUoJJsrcjIKK+l5tGDdrnJOi7rn3HiflaCznK+z9DFe+pLt2PRsSgvT1FN7PeXou9fmwScNsx4kdV/p8z9ndNtz7WrP2zSL0ly96VtKmT+PdtyRXnpcylctE2KZK7SpWp3Edm/7idLfMkEQwCSqqUpQseTI3Rh548AFr172dLd+2LNr7LTnllU9edlVudGzJZO4YCCphCYIKAEAIIKgAAAAAAADELwgq1x9/QUUT/YkS3enEgwfuu8dJCFFFssgLfTtGkETiQlBRvn5tr+1bM9Ma167oltqJTlDJnyurEw9S3JXMXcsDQdofLLqmIvly2sJJQ+zV/atsz6oZ1qR2JXsq3ZPWvU1D279mlv3+6dmQl9LRMj8SKp7p0tJyZMlgZYsXsOkjn7EvX91r37x5INaCimSNz7y+nDa8n6tiIqFES+msmj3SfvzHMdfGYPtFFgk3kj/ePb7Rti+bYqMHdnPHK5o/p2XPlN6eTPWoW14p5aMPOelHsoqWXZo2op+r5qJ76L90j7+gUrtyKa99ye2uZEndfQtlbPnnuR5tXIUXjVV/QUXt0Hi9J0XykI6p8S3ZxXcsBJVbKwgqkNC4lQUVTTKrwkHn3p0spfd9VRPZLTq2sEnzJ7qJ/TW7VztZQn+u2LbcVeDoM6SPm9CWLCGJQMvi7Du/z01IS1LR8iCSN1RdZe3etVeyYvtyVy2iWr1qlitfLstbKK8NHDXQlm5Z4s7hv+3WI1tcVRct5+M/EX7sjUtL4UiYUbWHdt3buqoRJcqWsN6DetvGgxvtzS+jnjjX8S58csGWbV1mnft0dlVBJKg0bt3YLU+0dMtSV1VFIowm0VUtQvKDqqw0b9/MVTgpXKKQ6zO1W3KO79ihCipqwxFv20XrF1nDlg1df0i0kPiipXwClyvyF1QUCTzTX5wWoc+ii65D0sFrn11wxwwUVLScTI8BT9ty7z5fs793nat2rLS5q+bYsEkvOEkje+5sTuhp3r65+7pkhNgu9+MvqGipGR1z3up5rjJKYDv0NUkxI6eMdMKJW6LG6z8tgXPIG3uBbbgZBRVV7tmwf7137xtY7vy5LU+B3NapVyeb7N3j5d64XO177rxoPE5fPM16DuzppBXdf4kkE72xev7iOSdwafkhPS9acihCf13OCxOGWlVJIg/c756XMdNH24ubXoywjcb4xoMb3BjWEkiSjiSo5C2c18lTEkskudSsX8MtRyTBK6r7rcpMel51DFUhSp8xvZOrEFTCEwQVAIAQQFABAAAAAACIXxBUrj9aaua7dw47aUSSSsv61axF/aohpWPzOrZ27hh7/9TmK8f78sIe2750iqs6IoFE1VW0pIrv82/fPmhndy21gU+3sXGDnrazO5e68/s+jyxahuazl3fZipkjnLAgQUHLznxwesuVbSRl/PT+cSfF6PytG9UI2u6o0rF5XXvu6bZ2cN0c+/DMVjuzc4lNeL6nW0JH16qKKv7tii6/fXLGSTNbl0x2Mo+ybelkJ6L88N5RO7NjiY0f3MNFy+f8+H7ocokki3O7ltnM0f2tVcPqTiqRUKNqKKFWeAmM9vvu7UP2xqE1tnHBeJs0tJd3r1q7/tYSPe2b1rJnu7VylXO0xJOEJAk1gVVb/vz8vLv2E1sX2ZRhfaxDs9pB+zuU6J5/cn6nO55vHLw4Zaj179oy6PaRpXfHZrZz+VTvWDvcsSRLrZg50to1qWVzxz1nL++5WgmI3HxBUIGExq0qqPgqHIydOcaq1anqKis0bdvU5q+d7ybQ/SuXKJIqtP3mw5tt6PihTmZRdQVJHprc1lI0/tsHRhPaqvSgaiHFyhSzUhVLuQn/cx+ejSChRBa1d9vRrW5yu1Dxgm6yXhP6arMqa9RuVNvmrZpnL118KcrjqR0HXzlo/Yb2c5UqVDlEcorkmRNvn7BXLwsc/tHxtJSNKs3UbFDTCRG69hFTRtjec3uvnC8UQUX9euzNozZ/zTxr3aW15SuUz1WSUVUY9f3Jd05eM/HvL6ioooaWc5FA479NTBMoqFTw+nP87HH28sdXhZvA6P5LQJKgUK9ZPbfkjuSep5992rUxqn2jir+goko7fYf0tSOvHbHXIhlTEpck+AwaPcjJSqo+0rVfV9t0aGOEJaGUm1FQ2eeNmQlzxzvJSqKPRKulm5dcU5FH0X9LGNnkjaM+g3tbgSIFnMQjYUX9pvHsv32wLNn0opN+JJqoUpKEs6iWw1IfnnrvkqBS0HvWMmXNZDnz5HBLX2lsa1xLPrnw6StB91fUZr0r9H7Qclmq+JP2qbQIKmEKggoAQAggqAAAAAAAAMQvCCqEEJIwgqACCY1bVVCRiKEqCaqaoQokmvQeP2e8nX7vdJSVEV66eN52n7m0zI4ED1Vz0NIxWq4mOjEktoKKPld7F21YaI1bN3KT3W26trHtJ7bbc6Oes5oNarhKFMMmDrMjr0VcFigwx9885mQASS2qWqJlVGYunWlnvOuOqh2qzKJtxswY7ZbBSZQokTVp28Rdu6+/ohNUdHz1w7ItS61993auAknWnFnd0iybj2yOVBq4WQQVRdcqgWna4mlWplIZV4FGspCWfTn+1rGg+0SXmAoqiirMqAKNlkS67bbb3LiQjKLKHf7b3YyCioSuLn06W5r0aaxIqSKuipDGZbBtFY0b3S9di6rnSFJp0aGFbT261c6+fzboPv65HkFFz6pSq2FNa+qNd40/HWvr0S2uT4Ltr6haz9yVc9y2RUoWdu2WzISgEp4gqAAAhACCCgAAAAAAQPyCoEIIIQkjCCqQ0LiVBRWJBn0G9bbSFUq5JV5UTUXLy2gyPNg+iuQPVUfQEiUSPVbvWu2qKUQlhSjXI6jo2GrX2FljrVT5UlalVmU3ea6vaXkZyTISEHRsSQORVZXQebYd2+Yqb2ipHlVCeWboM04iCVY5JUK+unQNmtx/+tnuli2XKl+0c5VQtK+OHZWgos8lcGipJF8fqHJKt35d3bJFuhf+y/r452YSVHQdut6NBzZYn8F9XD+oH4eMG2I7TmwPuk90iY2gojao7xu1amhJkiRxVUh0bwL78GYUVNR3GkPpnkprhUsUtkUbFtlR7xkKtq0v6nc9Z5JbJOas956/s++fuaZiTLDcCEGldZdWNmD4s65yULW61dxyX0ffOBJ0fz2vu8/stv4vPOP1fTNr0KKBq/6iajcIKuEJggoAQAggqAAAAAAAAMQvCCqEEJIwgqACCY1bVVDRkjwSTZ4f/7xVqlHJMmfLbN37d3OT1yffPnFp+Y6vohZHYpLrEVS0pIvEkh4DeljGLBmtcatGNv3FaU5SUCWHZ154xi3VU6V2FRszc4yrDBNYBUbnkPCwbOsya96huTtOqQqlbOHaBU4s8d82smjiXcvzLFy3wPXVuNljbd2+ddEKKtpPAopEgW7PdHPVaoqWKmptu7WxF72vqb1R9cHNJKj4oqV+5qyYbUVLF3WVaFTRZvWuVdGKSsESE0FF/aQ26vzDJw931XPSpE9tA0YMsF2nd15z/ptRUJHI8/y4IZY9d3YnfKgK0No9a9wYUfujex5imhshqKjS0vQll6rmVKxewZ4d3t92ndoZtNqSqiyt9s7RsGVD96z1GdLHhk0a5u1XEUElTEFQAQAIAQQVAAAAAACA+AVBhRBCEkYQVCChcasKKpoE1+Ty7BWzrV6zepY0WVLLVzivq+gh0UDVPoJNPsc21yOoSA5QO2vUr2Ep7klhXft2sXV717r9Tr1z0mYum+mW/VGFhk69Otq+c3ud1OJ/jDe+fMNNnM9YMsNNlOctmMctWbLzxA47F8IyKb7onKrSIUniwqcXIggRkQkqWv5o/f5Ly7qkeyqd5S2U1zr07GBbj2yJdmkh5WYUVCQ4bPKuTWMnX+F8ThRZsHa+2z+66wlMqIKK6/vPX3X9sWDNfKvXtJ4VK13MVfRQNRUJV4HnvhkFFVVCWbxhsVteKl2GS+NBktWaPWu85+FcrCSfqHIjBBUJQHrmVKlGfaBnR8d55ZNrqxUde/OYzVg6wy1f1KZLa5u6cIobW5VrVkZQCVMQVAAAQgBBBQAAAAAAIH5BUCGEkIQRBBVIaNyqgoqiyfy9Z/e4yePyVctZ7vy5nQChvzdq1cjJKi9MGGozl85wk9EHXzlo5y9eKwGEktgKKposP3ThkPUf1t9rV3m3NM+YGaPtwMv73ecSUbTMUNN2Ta1Q8YJOtJCUcPzNYxGOI9lGFSomzJngzq9tO/To4CpxhCplRJdggsriDYts5Y6V1v7p9m5Jn/seuM+1ccSU4U5OUfWVYMfyj7+g8sCDD7gldSRbNGrZMNq06NDc+j7f10kKEmV80tH1CiovfXTe9p3fa627tLbCJQtb2Spl3TgJJolEF39BRdeo66vZoKZbGsb/WlSRQ1+rXq+6lalY2rVZVWi03Mz+l/a5qkCBx74ZBRX1se7pkLFDrHrdapbRu+YCRfJbheoVrHHrxvb0s967ZPIwJ2VpSZ9DFw665ye2wtiNEFQGjx1sO0/tcJVf6jWt64Qw3e8Tbx2/Zv9tx7basIkvuP1UPUXCm56LyrUQVMIVBBUAgBBAUAEAAAAAAIhfEFQIISRhBEEFEhq3sqCiqBrI7jO7bPT0UVa/eX0nBzyZ9kl7Ms2TThYoVLyQkwU69+lsI6eOsHmr57lJ8wMv7bez758JWUaIraAi4UGVOiTMlCpfyrVl6eYldv6Dc+7zN798w3af3m2DxwyywiUKO4Fl6IShtv34tgjHVVUKLc8jMUQVKyRVaJmeE28fv7Sc0eXtrif+gspjqR6zTr06uXb1HtTL8hXK5wQBCSpaImXklBFOmImpoHLH3++wJEmTWPIUye3ue+6ONo889ojrl6Hjn3fnk3ygY16voCIxSNfbuU+nKxLD1EVT3JiIqUjhL6hIYND1pbg7RdDr0df1eaLEiSxX/lyuYo7Go0SJYJVHbkZBRdF92HJksw2fNMyq1KrsnrvU6VJbysdTWqZsmdzSSXWb1nX3R8+mlpXaeHCDGwuqBBSTPr4RgoqWAtO556yc7aSnLDmy2PPjnrddJ3de2U/Pm9qlPpdkU6lmJa/to50EN2PJdASVMAZBBQAgBBBUAAAAAAAA4hcEFUIISRhBUIGExq0uqGhSWZKEJqx3nNjuJqA1uazJ/Gw5s9q999/rZIh77rvHHnzoQcuQKb2VLFfCLfmxds9aV7UiFEkltoKKJIi5K+dY0VJFXbo90822HdsWQUY4+fYJW75tmdWoV91N7ktIWLRhoZto9x1bf9cE+6Axgyyrd10FixWMU0FF/aaKL8XLFHeT+dlzZ3fnzZQ1kxNNGjSv7yq/nHznZNBj+cdfUNG9SJ32SSfi5CuSL9oUKVnYVekYO3OMu8e+KiM3q6DyRJonnBwl+URLB0W4Hu+/fSJHsruSuWT1+rbD0+1txfblQav73KyCitqpJaJOvnPCdp3a6fXdVOvar6uVr1LeMmbNaPc/eL8TcjSOJJaky5DWiSwSniRfxaTqz40SVI6+ccS2HN5sPQf08MZxRuvcu5Mt27L0yn4aU2rXmOmjrUnrJtaqUytbuHaBk4dmL5+FoBLGIKgAAIQAggoAAAAAAED8gqBCCCEJIwgqkNC41QUV/2hy+cjrR1xFCkkho6aNdEt0aHkaLa1SqkIpJ0akzZDWVVZp07WNW8LmyGuHXSWTYMf0JTaCir6+6eBG6z/sGSd5lKtSzibPn+SW5fHfx7fcTMeeHSxvwTxOEBkxebgdf+uYm2zXNpcqqByz4d7XtdSOqorEpaCSOElieyL1E5Y5e+YrYo2W2mnXvZ2TLwoWLei1t6Ot2L7CyQ+R9YHiL6ikTpvaatavYQNHDrCJ8yZGm8nefrNXzLJtR7e66/TJI9crqLzyySvuvqtKjKp93ChBRdVtanjXN3T8UBs/Z3zA9UxwbVSFnB4DeliV2lWctCJJ5elnuzthROKMf1/erIKKL+or3Rfd47V71tjMpTNt+KTh1mdwb7cEVd0mda1E2RJuHCkSjnTP9NypulCwqjGBuVGCip4VPXujpo50X2vcupFNnDvhyrjSM67Pew7sadXqVrPnRj3nnt/T755CUAlzEFQAAEIAQQUAAAAAACB+QVAhhJCEEQQVSGiEk6ASGE30q7qKpJV1e9e6KhytO7eyAkULuCVsVBGkXbe2tmrHymvEgMDEVFBx5/70gs1dNcfqNatnqZ5M5Zb4GT9rnK3Yttw2H9p0Jev3r3MVNNp1b2t5CuR2FTYkq2w+vMle/uiScKEJ9DP/OONEhxJli1vRUkWsS9/ObtmfVz55+Zrzxyb+gsrtd9zuKnxIuOjcu7NtOLDBdp/ZbYs3LnYCRpbsWVwGjX7OdhzfHmUlGn9BJWfenNbv+b62+/SuoNuGmusVVLTdgZcPuPtfpGQRJy9NXzLdzn5wxgkOJ94+4ZaO2nJkS4R7pWhpG12TZBYdy19QkYTUd0hfO/LaEe84weULSRnaV+er17SeE0ZKlS/pxIdT7568UiVGiUxQ0TYSPCRKBLbPl50ndziRQ8tgxZWgEiySvfS8qGLJyu0rnFTV1LuG/EXy26MpH3VjoGvfLq7tWu4n2DH8c6MEFfWtntf5a+ZZw5YNrJrXnxqLqgKjZ/X0e6ed3KYlgCrVqGizls+0QxcOuqWlJEkhqIQvCCoAACGAoAIAAAAAABC/IKgQQkjCCIIKJDTCWVBRJE1ogl4T4aqgoEn7hesWWqNWjdyEee78uW3UtFGuckJUlTNiKqhoklwT38MmDXPL8dxz7z2W4p4U9mSaJyx9xvT2VJanribzU+5rkhAkhSROnNgq1axkUxdOsVOXl9DRpL+uYeaymW6plILFClirTi1t79k9TlQIPH9s4i+oSGLQcjSqJrHp0CYnRUiE8VVx0fI/aqvaMm7mWDv3/tlIq2HcjIKKBJFtx7Z646ChFSxawGo2qOmWc1FfSn6QcFK9fnVXcSfCvfKi5Y4kEEke0bFiKqhovEgw2f/SPhs5ZcSlijTeGGndpZXtOr0zgrQRmaCisbV61yqr3aj2Ne3zpUylMjZv1Vx3X+NTUFH0LOm5U39qzEj2mTB3gpO1JGCVrljapi2e6p67YPv750YJKhJNJKxtPLDB3aOS5Uta07ZN3dJgGr+SUVSxp3HrxtawRQMnq+g8CCrhD4IKAEAIIKgAAAAAAADELwgqhBCSMIKgAgmNW1VQOfv+WdtxcodNXTTVyQ+7Tu9yk/DBtvWPJqhPvHXciSOValRyE859h/RxwkRUy43EVFCRZLDl8GZr372dPeGklHSWPXc2J5ZEFlUryZQ1k917372uykuPAU+7dmkJEp9os2zLUlfhIUfu7E4OUeUVXU/g+YNFx9D1S2rREkiSH1Qh5PyH550w4S+oPPTwQ25ZpNkrZjvJ4PUvLsk72l/LnqjPtGSL2lGvaV1b5FsqKUhf3IyCyrE3jrrrL1e5rNemHNa2axsnfOg+q9KG5AaJI0mTJbW//e1vEZIkaRIntMxYMt0dK6aCiqJ+Ur+qmodkpALe/a/fvL5tOrzpSmUWJTJBRe1fvH6R5S+c/5r2+ZLuqXRuCZsDL++/IYKKpBO1WcLSpHkTvbbPd/fA3fOvgu+j6HM9WxJBhk8e5qoEFStdzAaPGeyeqWD7+OdGCir6TGLQlIVTrKx376vXq+4knoMvH7Ct3rPQc2APJ61oySVtp2cPQSX8QVABAAgBBBUAAAAAAID4BUGFEEISRhBUIKFxqwoqB185aNNfnO6EgBJlS7ilb/ae2xtUkAiMRI9F6y9VUbnjjjvcEjbbjm51k9fBtldiIqjov0++fcJmLZ1plWtWsnvvu8ctGdKlT2d7ftyQSNN/WH9r2bGlW3ooW85sVq1uNVu+dZmbIPcdW5Poz3rbSQ7JVyivjZ0xxrUrlOuWYCD5YvqL09zyJqrAMsbbX7KDljjyF1QeT/24PTO0n1sqxv8YOo8m7SXGtOjYwlV+yZA5g3Xo0cFWRrJU0s0mqKgfdp3a6aqXqD3ZvP4eOGKAbT++zY0ByQ8jp45wYytthrRuOSj/pEmfxrtPLWzBmvnueLERVCR0qB+XefdXVUUKlShktRvXtvUH1ttpP/kiMkFFUpKWitK4CmyfL4WKF7KZS2e4KiU3QlCRxCQJaeTUkd4YKe7aPXr6aHfPo6o+5Iuqvmg8q81lK5WxPoN7u4pGwbb1z40WVPSnlvyq1bCWN24q2HOjBrpqKTpPrYY13TJgY2aOsTPvnXZjGUEl/EFQAQAIAQQVAAAAAACA+AVBhRBCEkYQVCChcasKKq6CxIbFbhkTyRqtu7S25duW2aufXohW1tA2s5bNcpU/tExN92e6XZETgm2vxERQ0XE0gd3ruV5WolwJy5YrmxNQ1u5Z42SNyLL33B5buG6BNW7VyEkTmbNldhKFv8xx5PXDtmDtfCtXpaxbnkjLkSzdstSJGaFct5Y30fWmTvukEx5GeMeXvBBYQSUyQUWRjHDowiGbv3qek2hU9UXLAQ0aPci1NbAfdW03i6CipZJ0verDek3rWZbsWaxMxdLuWnwVYNQXkjo2HtxoK7avsGVbl0aI5ByJFRIudMzrqaAyd9Vct48qqDRs2cC2HNkcUgUVVbKRQKH7E9g+X9btXedEFokwN6SCitfnEpx0rXoGJNVITNp/fl+EZYkii55Z9buEMo0xjQOJQsG29c+NFlS0VJWqynTp08Vq1Kvu+nfqoik2etooy1c4n3Xr19VWevfdN5YQVMIfBBUAgBBAUAEAAAAAAIhfEFRunfz68Wn77OWdtn/tbJs3fpCtmTvazu1aZj++f8x+//RshG3//Pyc/fejU3Zh/yrbuHC8zZ8wyGaPHRCrbF400Z3nywt73J+rZ4+6ruNtfXGSvXForf2/D47bH5+dtR//ccxObX/R1s4dE3T76LJmzmg7sXWRffPGfnfduv7fPj1jn7+8y/asmmHr5o21bUun2MUz2+yn949H6Kdg+e2TM/bvd4/YiS2LbIvX1sMb5tqnL+1w/f/De0ftpT0rvD4Y7fXB4KDtCSU67uuH1lxpj/rh/ZObbe+qmTZn7EA7v3uZfffOIfvri/PXtM+X3719fvL68OKZrXZmxxLb7l3j8hnDr9wb/V1fO+317cWz27x+Pmp/XO6fYPnjs3P2nw9P2NldS23Togm2YuYIe3nvCvv27UNX+jWyqJ1qy9tH17v+3rt6pneP19h/vT77M4prIPEbBBVIaNyqgoom8bcd2+pkDlUcyVMwj1t2Zt2+tXbq3VP26mfXyia+CiJaeqfngB5WpmIZy5Apgw0d/7yTKDQBH7iPLzERVCQDrN65yuo0rmNFShZxS7hINNBEt/92gVH7tKzIsIkvWNFSReyxxx+zdt3a2tLNS500ofNIBNDkuKq+FC1d1F27RJjVu1dfEk2CLFOk/S711zZXLUIyhypsaKkgiRkXLks9oQoqiibvD104aANGDLDSFUs7eaBG/Ro2btZYdxwJFL5tbxZBRYLOibePO+Ghc5/OTgDSUkqSLCRKSBgJtl90iamgor6WNCIZ5ZkXnnFjUNVOOvXq6O6//zVEJqj4Hy+U3AhBRe1++aOXnGSi5Yg09iRgadmeDfvXO2lE90Xb+e/nhBHvuZM00+u5npY7fy4rX7W8TZg73o0N/22D5UYLKmqj5J4Rk4e7Zaw03vU8qf/zFMjjRKt95/a6bXU8BJXwB0EFACAEEFQAAAAAAADiFwSVWycSFnavnG6Na1e0pEkSW9aMaW1Qz3b24emtTizw3/bXT844sWDi872scL4clvyuZPb3O+6IEJX+v/222+y2y7njjtuv2UYpUSiPDe3bwY5tXuj92dE7bzpLkTzq491+e+THK1u8gM0c1d8+f2W3/fLRKfv43HZ7pktLy5Elw6V23B58v8ii/Xp1bGov7VnuXfdpd/0/vX/MDqybY3WrlrVcWTNa2WIFbO28MfbR2W1RSh+KhJn3TmyyHu2aWMnCea1tk5q2e9UM+/7dI66vRw3oatlcH9x1TVsi9IGuJZI+KFM0v80Y2d8JRzrnLxdP2qrZo6xetXJuX/WzZA+JK4HtU/v19X+/e9jePb7RiSR9Oze3CiULW/o0j9s9dye3JIkTub9XLFXYent9I6nozSPrnGDz+6dn7K+AYyoSmr56da8N7tXeiubPaakff8xe8Nrxyr6V9t+PTwXdxxfJLZ+9vMvJMbmzZbL63nXMGPmM/fudw06kCbYPif8gqEBC41YVVDR5LOliyLjBVqJscUuSNIkVLlHIeg3qZWv3rHXVMCQcSOh46aPz7u8n3zlpa3avcRPQRUsVtey5s1v1etXdhPv5i+eumVj3T0wEFVXf0DI6BYsVdIJK+6fbO5nCX9qILJp4lzhQp0kdJ6iUrVzWxs4c67X/vJNPdK5XPnrZZiyZYbUb1bZE3vcySRY9Bvawbce3uaoeaqsECEXVInTtmw9vctVSNBmfIVN6J4poeZaDLx+40v6YCCqKhJpVO1dZp96dnECRzvu+r2VqVu9a5YQE33b+gor6vKfXVklCkh1Cja5JgolvKZlAQUX9pGV5dP2B+2oMqA8k1KgyRpuubSxHnhxuzGiZl2mLpwVdmijU+Asqquije7Hn7B43Pq9pixd9/ZA3RrRUToXqFdzPRaXKl7QXJg69JHlcvkYlrgQVVRzSsQPbFyzqez1v6h9F1YYkaajKz6MpH7XC3s9Wg0Y/5ySVU94zdv4D77m7vK/6/dibR51UomdTYzVjlozWpHVj23RoY5SiiS83WlDRNno2Fqxd4PpBSzbpfaB7IdlKz4Duke8+IKiEPwgqAAAhgKACAAAAAAAQvyCo3BqRkPDJ+R02dXhfq1GxhD3+2MOW5smU1rJBNdu5fJp9/fq+CNurCsh37xx21TjqViljBfNkszzZM11J7mwZnWjy0AP3Woq7ktndKe6yDGkedzKH/3ZK49qVbPyQnnZ6xxKb/EIfq1i6yDXHy5X1KXe8B+/3jpc8mXfc+yxjuifdefy3U1o1qG6LJj9vX726J4KgkjdHZrdvutSp3PEC94ssNSqWtCG929urB1a769b1+wsqEjXSPpnKOjSvYzuWTXWfSajw7y//RCaoSO746Ox2mzGqv1VyfZA9QjvUd6H2QYv61WzhpCH2xYXd7pwxEVR+vnjCfbZgwmBrXq+KFS2Q0wrmzmblihfw9i/rvta6YQ1rWKO8a2f+XFmsVJG87uuqrPLK3hVBK5v4Cyr5cmaxu5Iltarlirnr/eKV3W4f/+39g6ByawRBBRIat6qgoolyTTZrkluT4wWLFrCnMmew9BnTu0lwLT3TslNL69izo6uM0LZbWycjFCtdzC0JpOoPNRvWtOlLptu+8/uCVh7xT6iCiv6+bu9aV6HliTRPuIoa42aNc8KMv3gQWXQeLT/Sw9s/u/c9VFU+uvTt4oQHX2UNtfWApI+FU1zVktwFcrtlhCRpSL4YPGaQTZw3wVWoGD5pmFuypFqdqm6bDF7/lK9azi05tPXIFicR+M4dU0FF13ry7RNeP8xzfZvR+x6vJXN0vlU7V15ZbslfUHnksUesWKmi1rRtU1fFJNQ8O7y/W4ZF8o+uP1BQ0X1XFZX2Pdpfs2+Hnh2saZsmVrlmZctfOL+lTpvaSRK6NxPmjHdL1IRybyKLv6CicSXZQWNP4y6wLZJ5WnRsYTXq1XDLIqXNkNYJEj2efdqNG4kT/uMpLgSVRIkSWb5C+axu07rXtC8w3Z7p5vp+6eYlTvRy1Uf+cdq2eGNHn6mKj0SqLDmyuGerVoNa1rKjd+3edWr/Vl4/1PbGhkQtPXcZvGe0YcuGbuzqOK8FqXQUmLgQVPTn1qNbXDUf3YOUT6R0969Nl9ZuCSe1y3cfEFTCHwQVAIAQQFABAAAAAACIXxBUbo1oORwtt9KtdQOrXqGElStR0PLmzOwEjMkv9HZChb90IbHhPx8et8Mb5tmsMc/auEFP2+iB3a5k+DOdXdUNVcrIkPYJy/JUWmvbuKarmOG/nSLpYNfK6fbB6a22b80smzKsr40NON7QPh2tV4emTlyREFIob3br2LyOjejfJcJ2yotThtqxzQtcRRJ/QaVogVz2VLonncAiQSNwv8gya/SzbkmaT1/aeUXo8BdUnkz1qKsgkzPLUzasXyd77eBq159/fXFtPyuRCSpajudfbx6wg95xg/aB1+beHZtZoTzZLX1qrw+8Pzs0qx20DxZ7fXB00wJXBUXnDFVQURveObbBXXOzulWc7FKmaD4nKuk8iyYPsQ0LxtnWJZNtydQX3LnaePe1vDdeCufLbjW8saOqOhpLEm7+/PyqpOIvqEgy0aRYmidSuvPs9+67lniKrPoMgsqtEQQVSGjcqoKKL5p433BgvQ0cOcBqNaxpufLltCdSP+Em/SVM+EcT0Zogl9ChpT1GTR/lKllEtSyML6EIKpIcJBioekrdJnWcoNKoVSO33M+5989ec8xgkXyhqhNaKkfLoGgpHskfL2560S1d5NtOy8fsO7/XVf9Qm4qXKe4EFC0VI/GiSu0qVqlGRStTsbQV9r6WO39ut7RKzQY13AT7jhPbXd/5nzumgory5pdvOMFD7S1Xpazrd1WOkRygZXNUwcVfUEmaLKk98ujD7l4E3p+oUrZyGSdxqN2SCwIFlbvvTmEpH0/pzhG471PezzbpvPOlTpfa0njJWzCPNWzR0MZMH+3aGEplm6jiL6ioDRIpJMxIgglsiySNTN7PAGqn/lT1n7Zd29qi9Ytc9Rf1p/+x40JQUX89+NCDrj8C2xcYVZqpUK2CjZ4x2kkhWmpK41xVaZZvW279h/V3n6sij+6pe8YyZXB9rv0ljalij75WsFgBtzSQxoKeJX8RJ6rEhaCia1BlFy0LJWlJ4pSuQctr7Ty5w97yaxuCSviDoAIAEAIIKgAAAAAAAPELgsqtka9f2+eqf2jJlvrVy9mgnm1dRYyGNStYpxZ17cyOJfbLxVPX7CehIFi0JJCTMNo3dlU2alUqZXtXz7Qf/nFJWgi2T1THk4jw+sE11qFZHbd8jcSMQxvmOgHlz8/PBd1Hx/MXVNSOKmWK2valU+z7945Eul9k8b/uQEHlb3/7m93mpXKZIrZo0vP25YW9EeQM/0QmqGiZG1UdCXZuRbLJm4fXWqfmda100XzW3usDySzR9YESqqBy8cw2WzlrpGtXjswZXIUT7XfxzNag55B08s0b+22Vt49Ek/vuSWGF82Z3gtL7Jzfbb59eqjijBBNU1G8SmJ7v3d7O7lzqzuHfHl8QVG6NIKhAQuNWF1QUTTZLhFA1lVHTRlq9JnUtf+F8luqJVG4JHFWMuO/++5yY0rh1Y2+bUbbjxA4nnQQ7XrCEIqio6oKWtpEso8oSeQvltX5D+9mhVw86cSXwmJFFx1u6ZYm19s714MMPWuEShV0lFC1R4z+pr7/r2iWIzFo201V/KFm+pJNEdN36XikhREuxNGhe3x1DVSPUZv/z+RIbQUXR8jjH3jhq/Z7vZ3kK5LHESRK7ai7j54x30oW/oKLvmbGJxI523dvZFq/9r3r9HCioBNvHlzsT3WmpHk9phYoXtGZtm9rk+ZMuiS6qkhEghMQm/oLKvffdG7QNitqp+/FkmiddtZG23dq4/j72xjE3foMdOy4ElWBtiyx3pbjLjeMh44ZEEDwUjT99TWNKVXu0vFPegnmd/OLbX1KJnsXm7ZvZpHkTXXWgmDx3SlwIKmr7hU8veM/ZUieruQpElcq4cx1/81iE4yGohD8IKgAAIYCgAgAAAAAAEL8gqNz8kWjwyr6VNmlobyuQO5tbqmbtvDE28tmu1rROZSteKLetmTvGVbgItn+w/HzxpP3j5Gbr2b7JJUGlcmlXHeXH948F3T66qBrKG4fWWsfmda1MMQkqdezwxnluWRi1P9g+yjWCStliTsSRJBLVftHFX1BRVZcsGdNalqfSuMouWl5H1xq4LJIvUQkqUbVJUs1bR9ZZpxb1rLRP0lk/N9o+UKITVH7/9Kzr4/ULxln7prVdtZm2TWrZam8ftVUVYQKPqUgoUbvfP7XZ1s0b64SmIvlzen1d2NbNH+uWjfJt6y+olCycx7JlSucq62iJIi0fpKotEmR+DbLUD4LKrREEFUhohIOg4hM1NJG89+wet7zMgrXzXSUTLeEiUWLygsk2f808N7mtbTRhr32CHS9YfJVN1u9bZ4s3LHIVTQ6/dijChL2OJxFF8oMqYsxfM9+2HdvqltGJybkUTZLrXFrWZuG6hbb79K4Iy/H4R9UsJK+s37/OCQ0zl85w1zx21libOHeCzV05x1bvWmW7z+yys++fcVUwgh3Ht7yQrm/GkulOAFGfBtvWP7o2CRbbvO11zepzTfSrwov6Q+078NJ+m718lmtTbDJnxWxXKUdigs6ne65r2Xx4k6veEmwfX9QXGgsL1y2wtXvWuLaooo2OEex6YhpV4NG1SgCZvGBS0DYoaucE736ob9XHG/avvyRsfPJKpOND4o/arHGwfNsyJ/yEsixOYDROtTySlq8J1rbIMnHeRHdPd16uNBPYZ/qa7oOqjqzasdJtq+V7fPtPXTTVPYtavmj/S/uuLBPkf4zooj7Q/jrW8q1eH7x9IsqqN5KOtLyUnkP1s+KrlOPffvW5njM9G3NXzXFjVucKlIW0n56vZd65dW26Vr0L/Le5FYKgEjkIKgAAIYCgAgAAAAAAEL8gqNzckdigKhc7l0+z7m0auWVjBvdqZ6/sW2Hr54+zji3quiV1xjzX3UksoUodCUlQUZWROlVKW6uG1a1UkXyWP1dW119ndi6xXz85fU0llZtRUJGAoqV9dO/VfvXTjFH97YtXdjuxJPB4gfndG0Mfnd1mc8YOtBoVSzrxROc4uW2xk0vUPn9Bpcr/Z+8u4KWq8zeO/9c1sFsRUQEFRQEJKUFKSgFBkAbpkJYUBARFQqQ7paRBQLq7QxS7u9baXXvX7/8+XznscJ17mYvM9TLzeb9ez0uFuRNnzoBzznO+v1J3WsUyRa32/eV822npJb23Wjroy5fWH3teQSionB6hoIJ4EwsFFUIIIcmHgkrSKKgAQAQoqAAAAABA6qKgkrajyRnfvb7ZJj3d00/6aykelQA+PbzaXlg/23p3bGaZrsvgy8ksnjL4WNkg3H2FJp4KKrUql7WurR60OeP6Jzy/++2WmzJZxdJ32cSnHrV/HNlgv7z/v2VulLRYUPnyyHpf+kiv59r0V/r7tmHBOP/9SLeTtsnhDXOsW5sGlifHzV4+0XJBP7y93f6jSSshBZUq95SwpnUqewlmcO/2vpxQsYJ5rHPL+v4+J57YQkHl9AgFFcQbCiqEEBL7oaCSNAoqABABCioAAAAAkLooqKTt/OutbV5UUMGiUL6c1vLBal7g+P7t7fbZ4TX2zPDH7O67Cljl8sXtqV7tfbqFihTh7is08VRQURGjb+cWtm/VTJvw1KNWrUIpL1w0qV3ZVs8ebZ+/uO64x0prBRUt06NtpCV2ypcsbLfenMWLIy9vXhD2vpKKpsV8dnitjU64Hy3xU7pYQRucsM988sJqf22hBZX77ynpZZ5Fkwfb2jlj7KEHH7CiBXL70j8TB/f056bJM799/Pt9U1A5PUJBBfGGggohhMR+KKgkjYIKAESAggoAAAAApC4KKmk3KjV8/uJaWz5jmNWqUtZyZb/Jl6Y5sGaW/56KDxvmj7OHGjzgxQGVQw6tm21fv7op7P2FJi0WVPRzhfPlsqd7d7D188fazmVTbefzz5wwr21b5IUUTZsJ7jdxQUXb7f19y2338mk28NG2ljNhW95VMI/1eripL430/Vv/29/TWkFFSzzp37W8T6mi+a1owdw+LefjQ6vC3ldSUdFF7/uCSYOsbtV7LE+OW6xji3r26tZFPhElXEFF+9fbu5banITnVjXh17Jmvt4a17rPH1/veVA+oaByeoSCCuINBRVCCIn9UFBJGgUVAIgABRUAAAAASF0UVNJuVE5QUWJgjzZWscxdVqZYQVsydYh9dPD3YoJKD1qyRUuw3H5bNitxZz5fskWFj8T3lThpsaCSO8fNdm66dHb1lZfbDRmvsczXZ4goLeqrmPOsP4fgfsMVVFSg0LSUHUunWJM6VaxI/tt9Ksi04X3t7d1Lj/1sWiuo6PdUSmrVsLpvW02ZWfXsKPv8pXVh7yupaNqJSirrEt5nlZquy5De6lW71/avnunPPVxBZePC8fZNwnbVe6QJPXp8LQ/0SJuGXobSdtZ9U1A5PUJBBfGGggohhMR+KKgkjYIKAESAggoAAAAApC4KKmk3Ovm/XWWK2pWtYumi1rROFdu7coZ998aWY7f56MBKe37GcLv37qI+WUNLAe1ZOd2Xc/kt5L4SJ60WVM479xy75uorLMsN19pNma6LKCqEaPkelSGC+w1XUNG20tJI+ue0EX2sTtXylj1rZmvTqIYtfWaoTxFRmSKtFVT0nHevmGaNalay0ncVsFqVy/l+EVrISUk2LRxvbRvXtAxXX2k1K5f1/UX3Fa6gsmnhBN9X9BzWzRtr3Vo38AKKfl9LDr25c4m/Pgoqp0coqCDeUFAhhJDYDwWVpFFQAYAIUFABAAAAgNRFQSXtRpNS5k0YaMUL5/UCSf/ure3dPct8yZfgNipiaImWdk1r+fIvZUsU8uVXvnplY7KliLRYUCmYJ4dde81VCc+nkDWoUdELOZFkZL8uCdtg4XHPPamCipYB+vHdHX57bc+8OW+xYkeX+nlj+3NeTvnnG1vSVEFFxRktd1Sv2j1Wtngha1TrPp96ol8Pd18nikon7ZrUirigEjx/bT/tW5rgoqWYat5Xxie5fPbiWi+hUFBJ+6GggnhDQYUQQmI/FFSSRkEFACJAQQUAAAAAUhcFlbSbfatmWJ/OLeza9L8XCeZPHGj/eHnDcWUHlVW01MvTj3Wwe0rd6bd9qlc7e3Xr7+WG0PsLTVosqNx9VwErXiivTXq6p72wfo69mfD83tq55IT55IXV/no0xSO43+QKKlrmRuWONbNHW+uG1X2KioofU4c9Zm/vWuqvJa1NUNm1/Bl7sHoFu7tofqtdpdxJT1DR89BzatO4pk+qSUlBRe/V69sW26BH2/okF0256dmhiT+XnxNu88H+FRRU0ngoqCDeUFAhhJDYDwWVpFFQAYAIUFABAAAAgNRFQSXt5b8f7bOf399tz0192ieJXHjBeZYnx82+1M/jXVvaU73aH8ugnm3t8S4tvVCgokW6c872YsHKWSO8tJFUMSItFlT0PDSdY/mM4T7J5ESljuSSXEFFv6/7Vhllzrgn7V5NBLkjl9V/oIKtmDnC3t691F7btijNFFT0uC+sn53wXv0+Jad8yTtt1bMj7YuX1oW9r6Si56D96vnpw6xxrfvs5htvSHiuVe3whjk+NeZEBRVFhZMtiyf6fpPjlhutUpliPsHm3T3P+/5EQSVth4IK4g0FFUIIif1QUEkaBRUAiAAFFQAAAABIXRRU0l5+eX+3n9jXiX8VEi6+6AI7/7xz7aILzk8yFybkvHPTJXyfPtPKFCtoI57o7NNWfg1ZDig08V5QUbQN3tm91As+2mZZM19vTz7S2p+3iiZtG9dKEwUV5c2dz/lr0PPMn/tWe3ZMP99u4e4rqeh+vnt9i80Y+XjCdilpd96Ry5c2UiFHU1pOVFDRfahs8s1rm/y5Vq9Y2nLecpM1qF7Rl/rZv3qWjR/Ug4JKGg4FFcQbCiqEEBL7oaCSNAoqABABCioAAAAAkLooqKS9qETw8uYF1rZxTcuV/SYrkOc2u/+eEtas3v3hU/d+n4hx791F7MYbMlrenLdY64Y17MimeX5f4R6Dgoom1ez1ySGbE55n54fq+5I1KogM6tnOti2Z7EWTtFBQ0c+qODJvwgCrXK64Zboug/Xt0tL2rpyRom30+7ZebgN7tLUi+W+3SmWL2bhB3e3rVzf6UlGRFFT0T91W+9aEp3r49ilROJ91bFHXFk56yob26UhBJQ2HggriDQUVQgiJ/VBQSRoFFQCIAAUVAAAAAEhdFFTSVlQAUJFi8ZSnrUr5EpYz+03WtklNXzpFy7okFZU6hj/e2YsBObNn9WVgnku4jw/2rQj7OBRUfo8KICplaCLJvXcXtcL5cno5Y+QTXfxni+TP7eWfv7Kgot//7o0ttn/1TGvXpJbluPlGX45o7vj+vt0Tv6ZwURnn8xfX+RJGWipK+1WbxjVtxawR9nPC89OyUpEUVIJoisq+VTOsTaMaXlApmDeHPdKmoU+d0fPTtqOgkvZCQQXxhoIKIYTEfiioJI2CCgBEgIIKAAAAAKQuCippK//5cK8XPfp0au5LsBQpcLstnDTI3t+3POztg6hAoELDsL6dLF+u7HZrtiy+dM3Btc+GLUdQUPlf9DiaCDK0z8OWJ8fNljHD1T5d5I5ct1qB3LdZo1qV/vKCipZ90pJNkwY/avclPDftF70fbuqPpykwyd2/fu+Ht7fbixvmWve2jXx6SvZsmX0JKf18cLuUFFQUlVQWTBxkNe4rY+emO8f31+KF89lNma7zchUFlbQXCiqINxRUCCEk9kNBJWkUVAAgAhRUAAAAACB1UVBJW1GxYsP8cVav2j1W8s58Vv+Be2338mn29Ssbw94+NJ8eXpPws+PtgYql7fZbs1rN+8ra0mlDvcCgCRqht6Wgcny+enmDTwRp1bC65b4tm2VIf6VdevFFdlPm66xBjYp/eUHlvwk///P7u3xfGPhoWytaIHfC9irkU0u0RNHnL64N+xh6vb6M0eKJXljS8k+adtKkTmXb+twk+ypkv0ppQUW//mbCPjTiic5WKF9OuzFTRrviskvswvPPs/IlC1NQSYOhoIJ4Q0GFEEJiPxRUkkZBBQAiQEEFAAAAAFIXBZW0E5UAPti33J4Z9pjdcXt2u7dUEevbuYW9u2eZFznC/Uxo/v3WNr9t11YP+lI1uW7NasMf72Tv7F7mEzhCb5sWCyol77zDCubJ4QWM1bNH2ZbFE71EcaJsXzrF9q6cbp+8sNpLFrrflBZUfv1gt08EmTGyr08EufCC8+zMv//dMl5zlT1YvcJfXlAJoiKKSiNtG9f0903L63RuWc+mDuvt2+vQutn+c69uXejTczYuHO/LF3V+qL7dU+pOLy41qnWfP9bHB1cdtz1SWlBRaUb7kR6380P1fGrPOWef5c+/9F0FKKikwVBQQbyhoEIIIbEfCipJo6ACABGgoAIAAAAAqYuCStqJppzsWTHdHmnTwNKlO8eqVyptc8cPOOESLkFUBPj+7e02blB3n2Bxzjln+0QQFThUJAi9bVosqNxx+612xWUX+z/1nO69u0hEUZmica37bNWzI+3zF9f5/aa0oKL8J2H7v759sZd6styQ0c4/79w0V1DR/Wi6zL5VM61Xh6Z2W7YsdvFFF1imjNckbIui1rFFXX+tg3u1tw7N6ljFMnfZdRmutssvvdiy3Xi9tU7YH1bOGuHbR8tJhd53SgsqQTS5Z/28sb70kB6HgkraDQUVxBsKKoQQEvuhoJI0CioAEAEKKgAAAACQuiiopI2onKKSwrwJA3xZHy2V0qllPdu1/JmIpqcoKhGoDKCiRov6Ve3cdOdYlfIlbMbIx+2rVzYct8xPWiyo3H5bNp/AcdmlF9s1V1/hy+xEkuxZM/trWDBpkBcsdL8nU1DR8/zujS22aeF4e6jBA5Yty/VprqCi6DVoaR4tSTR9eF/fTzT1pWzxQnZXwTy+hE++XNmPLQNUrUIpv82Ep3p4WekjTU5JuN/Ez+lkCyral97ft9xLMSXuzEdBJQ2HggriDQUVQgiJ/VBQSRoFFQCIAAUVAAAAAEhdFFTSRlQe0Yn+56cPs94dm3mpQoWFD1WqSOEJ/te2LbKpQ3v79Awt7bJo8lP29asbjyuo/PzeLvvo4EobO+AR6962kT3WsbntXz3rD5NWIk2wvNCwvp38MYf17WgvrJ9jv3yw2377OPzPKD+/v8s+O7zWJg5+1AsRZYoVTHFUwGjXpLaXQf7x8ga/X70OLXGjJZL6d29tc8f1ty+PrP/D1JDEURFDRZYlzzxtbRrXsNpVytmgnu28DKJlkpIravz7re1ettEEls4t69vQPh19yZ3ft0HyBRVtBz3/x7u09NekpYZU+tBUl3C3V3S/X7+yyXY+/4xNHfaYdWvT0OpWu8cqlC7q91G36j32SMKvTXq6p+1YNsUnnehnwt2Xoten4su04X2sT+fmR9/D4PmH/5kgKu/sWDrFi0AqynRt/aBvw3+9uS3Z10BSNxRUEG8oqBBCSOyHgkrSKKgAQAQoqAAAAABA6qKgknaiEoOKFd+9vtmLFlquJ9wEjRPl1w92e2FEhYxvXtvs9xlaTlH0WCprqECg6Sd6TJUkTlSkSCr6ORVpNIFFj6l/eqEjzG1D488j4bnp+X79ykb74qV1KY62lSZ1aAJI8Dp1v3r8717f4lNRtC0Tb4Okou2ibab71H1riaXft0342wf5fZvu8ektKdkGin5Wz1/PV68pkvdez0evSWUjbT+9j18lPF+977oP/bt+Tb+nKSjazsk9l+D+dHs9jxQ//4TH0LbSY+txtQ316+FuT/6aUFBBvKGgQgghsR8KKkmjoAIAEaCgAgAAAACpi4IKIYTERyioIN5QUCGEkNgPBZWkUVABgAhQUAEAAACA1EVBhRBC4iMUVBBvKKgQQkjsh4JK0iioAEAEKKgAAAAAQOqioEIIIfERCiqINxRUCCEk9kNBJWkUVAAgAhRUAAAAACB1UVAhhJD4CAUVxBsKKoQQEvuhoJI0CioAEAEKKgAAAACQuiioEEJIfISCCuINBRVCCIn9UFBJGgUVAIgABRUAAAAASF0UVAghJD5CQQXxhoIKIYTEfiioJI2CCgBEgIIKAAAAAKQuCiqEEBIfoaCCeENBhRBCYj8UVJJGQQUAIkBBBQAAAABSFwUVQgiJj1BQQbyhoEIIIbEfCipJo6ACABGgoAIAAAAAqYuCCiGExEcoqCDeUFAhhJDYDwWVpFFQAYAIUFABAAAAgNRFQYUQQuIjFFQQbyioEEJI7IeCStIoqABABCioAAAAAEDqoqBCCCHxEQoqiDcUVAghJPZDQSVpFFQAIAIUVAAAAAAgdVFQIYSQ+AgFFcQbCiqEEBL7oaCSNAoqABABCioAAAAAkLooqBBCSHyEggriDQUVQgiJ/VBQSRoFFQCIAAUVAAAAAEhdFFQIISQ+QkEF8YaCCiGExH4oqCSNggoARICCCgAAAACkLgoqhBASH6GggnhDQYUQQmI/FFSSRkEFACJAQQUAAAAAUhcFFUIIiY9QUEG8oaBCCCGxHwoqSaOgAgARoKACAAAAAKmLggohhMRHKKgg3lBQIYSQ2A8FlaRRUAGACFBQAQAAAIDURUGFEELiIxRUEG8oqBBCSOyHgkrSKKgAQAQoqAAAAABA6qKgQggh8REKKog3FFQIIST2Q0ElaRRUACACFFQAAAAAIHVRUCGEkPgIBRXEGwoqhBAS+6GgkjQKKgAQAQoqAAAAAJC6whVUPllVwb7d09u+3fc4IYSQGMln62pQUEFcSVxQeXpNJ5uzb5wtO/ysrXp5ISGEkBiI/kzXn+36M56CyvEoqABABCioAAAAAEDqSlxQeXv2dfbeghyEEEJiMO/Mvclem3oOBRXEhcQFlf4rW9vIDT1s9MZehBBCYij6s11/xlNQOR4FFQCIAAUVAAAAAEhdiQsqOnH5+jPnE0IIicVMPddenXwGBRXEhcQFlSeWt/ATmANWtiGEEBJD0Z/t+jOegsrxKKgAQAQoqAAAAABA6goKKu8+l8/enH0tITGfN2ZlsFemXWX7xp5vmwf/n2f3qHT28jNX2uszrwn7M4TEWt5ZlJOCCmKeTk7ufme9jd7Y04at60pIXGTA8+3s0TmNreuM+h79u34t3G0JicXoz/zd76yjoJKAggoARICCCgAAAACkrv/+8i/78kAf+3BNJULiIu+tvNdeml/MVgzOZGPb/J9n0RNX2wtzitjbz5cL+zOExGI+3dbMfv72taN/GwCx5x///swOf7jTFuwfb3P3jiYkLjJieW9rO6y2NXyikkf/rl8Ld1tCYjH6M/+FhD/79XdAvKOgAgARoKACAAAAAKnrt//+6icof/hiDyFxka/f32wHt0yzxzpVtVyZ/8/zUL0itnPNePv0jTVhf4aQWMxP/3jBS4pArPr5Pz/Zdz98bR9/85599M07hMRF5q+YZRVrlLUcBbJ59O/zl88Ke1tCYjH6M19/9uvvgHhHQQUAIkBBBQAAAAAARNO///1v27dvn7Vs2dL+7//+z1OhQgXbsmWLffnll0dvBQAAcPpZsWKF3XXXXXbFFVd49O/6NQDxh4IKAESAggoAAAAAAIgmCioAACBWUVABEKCgAgARoKACAAAAAACiiYIKAACIVRRUAAQoqABABCioAAAAAACAaKKgAgAAYhUFFQABCioAEAEKKgAAAAAAIJooqAAAgFhFQQVAgIIKAESAggoAAAAAAIgmCioAACBWUVABEKCgAgARoKACAAAAAACiiYIKAACIVRRUAAQoqABABCioAAAAAACAaKKgAgAAYhUFFQABCioAEAEKKgAAAAAAIJooqAAAgFhFQQVAgIIKAESAggoAAAAAAIgmCioAACBWUVABEKCgAgARoKACAAAAAACiiYIKAACIVRRUAAQoqABABCioAAAAAACAaKKgAgAAYhUFFQABCioAEAEKKgAAAAAAIJooqAAAgFhFQQVAgIIKAESAggoAAAAAAIgmCioAACBWUVABEKCgAgARoKACAAAAAACiiYIKAACIVRRUAAQoqABABCioAAAAAACAaKKgAgAAYhUFFQABCioAEAEKKgAAAAAAIJooqAAAgFhFQQVAgIIKAESAggoAAAAAAIgmCioAACBWUVABEKCgAgARoKACAAAAAACiiYIKAACIVRRUAAQoqABABCioAAAAAACAaKKgAgAAYhUFFQABCioAEAEKKgAAAAAAIJooqAAAgFhFQQVAgIIKAESAggoAAAAAAIgmCioAACBWUVABEKCgAgARoKACAAAAAACiiYIKAACIVRRUAAQoqABABCioAAAAAACAaKKgAgAAYhUFFQABCioAEAEKKgAAAAAAIJooqAAAgFhFQQVAgIIKAESAggoAAAAAAIgmCioAACBWUVABEKCgAgARoKACAAAAAACiiYIKAACIVRRUAAQoqABABCioAAAAAACAaKKgAgAAYhUFFQABCioAEAEKKgAAAAAAIJooqAAAgFhFQQVAgIIKAESAggoAAAAAAIgmCioAACBWUVABEKCgAgARoKACAAAAAACiiYIKAACIVRRUAAQoqABABCioAAAAAACAaKKgAgAAYhUFFQABCioAEAEKKgAAAAAAIJooqAAAgFhFQQVAgIIKAESAggoAAAAAAIgmCioAACBWUVABEKCgAgARoKACAAAAAACiiYIKAACIVRRUAAQoqABABCioAAAAAACAaKKgAgAAYhUFFQABCioAEAEKKgAAAAAAIJooqAAAgFhFQQVAgIIKAESAggoAAAAAAIgmCioAACBWUVABEKCgAgARoKACAAAAAACiiYIKAACIVRRUAAQoqABABCioAAAAAACAaKKgAgAAYhUFFQABCioAEAEKKgAAAAAAIJooqAAAgFhFQQVAgIIKAESAggoAAAAAAIgmCioAACBWUVABEKCgAgARoKACAAAAAACiiYIKAACIVRRUAAQoqABABCioAAAAAACAaKKgAgAAYhUFFQABCioAEAEKKgAAAAAAIJooqAAAgFhFQQVAgIIKAESAggoAAAAAAIgmCioAACBWUVABEKCgAgARoKACAAAAAACiiYIKAACIVRRUAAQoqABABCioAAAAAACAaKKgAgAAYhUFFQABCioAEAEKKgAAAAAAIJooqAAAgFhFQQVAgIIKAESAggoAAAAAAIgmCioAACBWUVABEKCgAgARoKACAAAAAACiiYIKAACIVRRUAAQoqABABCioAAAAAACAaKKgAgAAYhUFFQABCioAEAEKKgAAAAAAIJooqAAAgFhFQQVAgIIKAESAggoAAAAAAIgmCioAACBWUVABEKCgAgARoKACAAAAAACiiYIKAACIVRRUAAQoqABABCioAAAAAACAaKKgAgAAYhUFFQABCioAEAEKKgAAAAAAIJooqAAAgFhFQQVAgIIKAESAggoAAAAAAIgmCioAACBWUVABEKCgAgARoKACAAAAAACiiYIKAACIVRRUAAQoqABABCioAAAAAACAaKKgAgAAYhUFFQABCioAEAEKKgAAAAAAIJooqAAAgFhFQQVAgIIKAESAggoAAAAAAIgmCioAACBWUVABEKCgAgARoKACAAAAAACiiYIKAACIVRRUAAQoqABABCioAAAAAACAaKKgAgAAYhUFFQABCioAEAEKKgAAAAAAIJooqAAAgFhFQQVAgIIKAESAggoAAAAAAIgmCioAACBWUVABEKCgAgARoKACAAAAAACiiYIKAACIVRRUAAQoqABABCioAAAAAACAaKKgAgAAYhUFFQABCioAEAEKKgAAAAAAIJooqAAAgFhFQQVAgIIKAESAggoAAAAAAIgmCioAACBWUVABEKCgAgARoKACAAAAAACiiYIKAACIVRRUAAQoqABABCioAAAAAACAaKKgAgAAYhUFFQABCioAEAEKKgAAAAAAIJooqAAAgFhFQQVAgIIKAESAggoAAAAAAIgmCioAACBWUVABEKCgAgARoKACAAAAAACiiYIKAACIVRRUAAQoqABABCioAAAAAACAaKKgAgAAYhUFFQABCioAEAEKKgAAAAAAIJooqAAAgFhFQQVAgIIKgLj03//+91gicbIFld9+++3Y4+jfAQAAAAAAwqGgAgAAYhUFFQABCioA4s5//vMfP+jzr3/9y77//vuISionW1D58ccf/XGUX3755eivAgAAAAAAHI+CCgAAiFUUVAAEKKgAiDsqpKg4smfPHps7d65t377d3nvvPfv555+TLKtEWlDRlBQVUT799FPbu3evPffcc7Z+/XovqPz6669HbwUAAAAAAHA8CioAACBWUVABEKCgAiBujRkzxkqWLGlt27a1+fPne+EkmHSSeDmeExVUdHsVUH744Qf77LPPbO3atdatWzc/kNS1a1cvvwAAAAAAACSFggoAAIhVFFQABCioAIhb69ats3bt2lmBAgWsSJEiVq9ePRs5cqTt2LHDDwppKaBAcgUVTV1RMeXw4cP2zDPP+O+VKlXKsmfPbo0aNbI5c+YwPQUAAAAAACSLggoAAIhVFFQABCioAIhb77zzjk2fPt1y5Mhh559/vl1++eVeLOncubM9++yzxy39069fv+MKKjpYpN/75JNPbP/+/bZw4UJ77LHHrFKlSnb99df7/V1yySX25JNP2pEjR5JcOggAAAAAAEAoqAAAgFhFQQVAgIIKgLj22muvWfny5e3SSy/1Az9/+9vfLF26dHb11VdbgwYNbPbs2fbVV19Znz59jiuoNG/e3F599VVbtWqVdejQwW655RY777zz/Od1PxdccIFly5bNVq5c+YflggAAAAAAABKjoAIAAGIVBRUAAQoqAOLap59+aoMHD7aiRYseO/hzxhlneEklS5YsVqJECWvYsKEVL17cMmXKZH//+9/tmmuusYIFC1qdOnWsXLlyXk656KKL/PeC+7jtttusS5cuvuwPAAAAAADAiVBQAQAAsYqCCoAABRUAce1f//qX7dq1yw/+qJSickpwEEg588wzjy3/oykr+v0LL7zQ/wdK/zz77LOPu70mqJxzzjm+1M+GDRvs888/P/pIAAAAAAAASaOgAgAAYhUFFQABCioA4pqW3/n5559t5MiRliFDBi+XhBZOFJVOVEwJyivBf+ufwZI+QTRF5corr7SHH37YfvrpJ/vvf/979JEAAAAAAACSRkEFAADEKgoqAAIUVAAgwZo1a6x+/fpeUgktnKQ05557rk9PmTFjxtF7BgAAAAAAODEKKgAAIFZRUAEQoKACAAneeustmz59uuXNm9eX9QktnUQaTU+56qqrbMCAAXb48OGj9wwAAAAAAHBiFFQAAECsoqACIEBBBQASaJmfN99806pUqWKXXHLJccWTSHPBBRdYrly5bO3atfbjjz8evWcAAAAAAIATo6ACAABiFQUVAAEKKgBw1Ndff20DBw60O++887jiSaS57bbbrH379vbKK68cvUcAAAAAAIDIUFABAACxioIKgAAFFQA46ocffrCtW7daq1at7KyzzrIzzjjjuAJKUvnb3/7mywJp+srKlSvtiy++OHqPAAAAAAAAkaGgAgAAYhUFFQABCioAcNR///tf++6772zcuHGWPn16S5cu3XFFlKSicor+h6pbt24+heWXX345eo8AAAAAAACRoaACAABiFQUVAAEKKgCQyPr166169ep27bXXHldESSoXXXSRlStXzmbOnHn0HgAAAAAAAFKGggoAAIhVFFQABCioAEAib731lk2fPt3y589/wmV+9PsZM2a0AQMG2KFDh47eAwAAAAAAQMpQUAEAALGKggqAAAUVAEjk+++/t7fffttq1KhhF1988XGFlMS54IILrGDBgrZhwwZfHggAAAAAAOBkUFABAACxioIKgAAFFQAI48cff7T+/fv7FJW//e1vx5VSQpM9e3Zr06aNT10BAAAAAAA4WRRUAABArKKgAiBAQQUAwvj1119t06ZNXj4588wzjyulBFFxpVq1arZ06VL76quvjv4kAAAAAABAylFQAQAAsYqCCoAABRUACOO3336zL774wiZNmmTp06e3dOnSHVdOOeuss+yyyy6znj172scff2w///zz0Z8EAAAAAABIOQoqAAAgVlFQARCgoAIAydBBoIoVK9q11157XEHlkksuseLFi9uzzz579JYAAAAAAAAnj4IKAACIVRRUAAQoqABAMt5++22bOnWqFS5c+LiCSpYsWWzAgAF28ODBo7cEAAAAAAA4eRRUAABArKKgAiBAQQUAkvGvf/3L3nzzTatXr55ddNFFdsYZZ9j5559vxYoVs02bNtlXX3119JYAAAAAAAAnj4IKAACIVRRUAATirqDy3Q9f2SffvkcIISlKj36dLW/RnHbdzVdbzoK3WMNWdezga3vC3pYQQpLKV//+3P7723+P/l8JAAAAAPwPBRUk57fffrMvvvjC3nvvPUIIIXGUDz/80H788cejfxucviioAAjEXUHl4PvbbN6+sYQQkqIMW9rTuoxrbPV632PtR9SzQQu62swdw8PelhBCksqWN563n3/96ej/lQAAAADA/1BQQXL++9//2po1a2zs2LGEEELiKM8884yXVE53FFQABOKuoLL33Y02ZftAG7mhhw1f140QQiLKoBUdrM/CFtZlej3rPa+ZDXi+nQ1d2yXsbQkhJFwmbe1n615ZaD/9evpf8QAAAADg1KOgguSooPL888/bk08+aY888oh169aNEEJIjKdPnz5eUtEkldMdBRUAgbgsqEzc2s/6r2xt/ZY/lPDPNoQQQgghUcuTK1rZ4883t7GbelNQAQAAAJAkCipITlBQ0clK7SOtW7e2tm3bEkIIicG0adPG/6xXSYWCCoBYE9cFlcFrOtrojb0IIYQQQqIWTVuioAIAAADgRCioIDmJCyrdu3f3aSqEEEJiL/qzXiUVCioAYlFcF1SGrO1sk7cNsCUvzLCVR+YTQgghhJyyLH9prk3bOcSGr3+EggoAAACAE6KgguQkLqj07NnTxo0bZ2vXrrVNmzYRQgiJkTz77LNeUtEkFQoqAGJR3BdUdOJo93vb7OXPjhBCCCGEnLK8+MkLNn//RAoqAAAAACJCQQXJCVdQ0UnML774wr7//ntCCCExEpVUKKgAiGUUVCioEEIIISQKoaACAAAAICUoqCA5FFQIISQ+QkEFQKyjoEJBhRBCCCFRCAUVAAAAAClBQQXJoaBCCCHxEQoqAGIdBRUKKoQQQgiJQiioAAAAAEgJCipIDgUVQgiJj1BQARDrKKhQUCGEEEJIFEJBBQAAAEBKUFBBciioEEJIfISCCoBYR0GFggohhBBCohAKKgAAAABSgoIKkkNBhRBC4iMUVADEOgoqFFQIIYQQEoVQUAEAAACQEhRUkBwKKoQQEh+hoAIg1lFQoaBCCCGEkCiEggoAAACAlKCgguRQUCGEkPgIBRUAsY6CCgUVQgghhEQhFFQAAAAApAQFFSSHggohhMRHKKgAiHUUVCioEEIIISQKoaACAAAAICUoqCA5FFQIISQ+QkEFQKyjoEJBhRBCCCFRCAUVAAAAAClBQQXJoaBCCCHxEQoqAGIdBRUKKoQQQgiJQiioAAAAAEgJCipIDgUVQgiJj1BQARDrKKhQUCGEEEJIFEJBBQAAAEBKUFBBciioEEJIfISCCoBYR0GFggohhBBCohAKKgAAAABSgoIKkkNBhRBC4iMUVADEOgoqFFQIIYQQEoVQUAEAAACQEhRUkBwKKoQQEh+hoAIg1lFQoaBCCCGEkCiEggoAAACAlKCgguRQUCGEkPgIBRUAsY6CCgUVQgghhEQhFFQAAAAApAQFFSSHggohhMRHKKgAiHUUVCioEEIIISQKoaACAAAAICUoqCA5FFQIISQ+QkEFQKyjoEJBhRBCCCFRCAUVAAAAAClBQQXJoaBCCCHxEQoqAGIdBRUKKoQQQgiJQiioAAAAAEgJCipIDgUVQgiJj1BQARDrKKhQUCGEEEJIFEJBBQAAAEBKUFBBciioEEJIfISCCoBYR0GFggohhBBCohAKKgAAAABSgoIKkkNBhRBC4iMUVADEOgoqFFQIIYQQEoVQUAEAAACQEhRUkBwKKoQQEh+hoAIg1lFQoaBCCCGEkCiEggoAAACAlKCgguRQUCGEkPgIBRUAsY6CCgUVQgghhEQhFFQAAAAApAQFFSSHggohhMRHKKgAiHUUVCioEEIIISQKoaACAAAAICUoqCA5FFQIISQ+QkEFQKyjoEJBhRBCCCFRCAUVAAAAAClBQQXJoaBCCCHxEQoqAGIdBRUKKoQQQgiJQiioAAAAAEgJCipIDgUVQgiJj1BQARDrKKhQUCGEEEJIFEJBBQAAAEBKUFBBciioEEJIfISCCoBYR0GFggohhBBCohAKKgAAAABSgoIKkkNBhRBC4iMUVADEOgoqFFQIIYQQEoVQUAEAAACQEhRUkBwKKoQQEh+hoAIg1lFQoaBCCCGEkCiEggoAAACAlKCgguRQUCGEkPgIBRUAsY6CCgUVQgghhEQhFFQAAAAApAQFFSSHggohhMRHKKgAiHUUVCioEEIIISQKoaACAAAAICUoqCA5FFQIISQ+QkEFQKyjoEJBhRBCCCFRCAUVAAAAAClBQQXJoaBCCCHxEQoqAGIdBRUKKoQQQgiJQiioAAAAAEgJCipIDgUVQgiJj1BQARDrKKhQUCGEEEJIFEJBBQAAAEBKUFA5vf3nP/+xX375xX777bejv3JqUVAhhJD4SGoXVH799deo/v0VoKACIEBBhYIKIYQQQqIQCioAAAAAUoKCyuntxx9/tG+//db+9a9/+b/rhN+pPNlHQYUQQuIjqVFQUanyp59+8sf77rvv/O8u/T0TTRRUAAQoqFBQIYQQQkgUQkEFAAAAQEpQUDm9qZTyxhtvWP/+/W3EiBG2bds2+/rrr4/+7p9HQYUQQuIjqVFQeemll/zvkI4dO9ratWspqABIVRRUKKjEZV765CU7+P5B2/LiZlu6ZYnNWDLdxswYY8MmDbWnJzxtI58ZaRPnTrRnn59lq3attJ2v7bAXPz5sRz596dh96L93vb7T5q2ea+NmjbWnxw8+qQyfMtxmLptp6w+sS3heLx73GMret/bYih3LbdK8SQnPa4RNf26a3/bwRy/84baRRI9x4L39tumFjfbcpsW/v/aZY/x16/WPTXgt+rWlW5balpe22IsfHf+6Q7P79V32/LZlCdtutE1fMs02HtyQsF0PhL1taLQ9l21damMTHlfR4+n5HHzvgB1JeG/2vLHbntu4OOz2iiTDJg+1RRsW2vZX/vfZfuGDQ7bj1e0J23pG2J8JzbDJw3ybTFv8jC3esMg2H95k+9/Zd1LbO3G03+x7e69ve+03QycNCfsclKETh9iIqSNs6sIptnDdgoT3fb3vD3oPw9334Q9fsLV71/j21DZ4ftvzfvtwtz1R9BzX7FltkxI+B5PmTfT71a+Fu22k0fbTdtT2XLxxkW9f7Tt6ncFrnZywn+sztXr3Ktv9xi7fzxPfj35+3qq5/tkJt90iyajpo2xWwudu28tb7cC7+/2x5q+ZZ+OeHWtDEj4LoxOel/57z5u7wz6HcNF7u/3lbf78g8fRa9R+eOiDg2F/hsR2KKgAAAAASAkKKqc3LY/w+uuvW+vWra1WrVrWoUMHmzZtmm3fvt1PLOqk458R7wUVTaf55JNPbNeuXbZhwwY7ePCgffzxx/65CXd7/fo333xjb775pm3cuNFWrlzp/3z55Zft888/D/szik7S6vP24osv+klbPd5bb73lv66fO3LkiC1fvtyWLVuW4uj9O3DggH344YfHnrf+qdf2yiuv+GddefXVV/3Xknptin7vn//8p28D3X737t2+XfQ69TiK/l0nuvfv329vv/22vy69jqTuT1MUXnvttWPPQ8/pRM8jiLb1+++/b1u3bvUcOnTIt5fu86uvvvL3a926dWG3SyTR61HpS89Pr1v3q+2oz9fq1avD/syJoteo91PPXa8x2Ab6HGu76cR5uJ9T9Hy0H+g17dixw+/no48+8p+PZHudbPTatZ31utesWWPr16/3ffXTTz/9w231Xr/77ru2c+dOf57aR3Q7vaeJb5tc9D5qH9P+pff2nXfe8fc03G312lXM0595hw8f9vdMn6NgW2qb6XnrfvS8P/jgg6hvs9Mx0Sio6O+Qzz77zD+Lei8ef/xxa9CggVWsWNGee+45L1myxA+A1EJBhYJKXEYnnLe+tNVPhrd7pJ2VKlfKrs90vZ1/wfl25lln2pVXXWk5c+e0e6vca70H9fIT1fvf3XdcMUAntXWSvfqD1S1L1ix2xt/POKlccuklVq5SOS+IqDQT+hg6ob9y5wrr0a+73Z7vdrviqiuseJlifjI/uaJCctGJcpVBVMBo2bGllSxXwl/7mWee6a8/802ZrVT5UtauezubvGCyFwpUUgl3X3r9nXt3sow3ZLQSZUvYyKkjErbrlrC3DaLXtGDtfHv40Q6W6cZMdkPmG+zuhMdTUWXzi5v8vVm2Zam1fLhF2O0VSfQ6mrRu7AWj4HF3vbbT5qycbWUrlgn7M6G58KIL7frM11vRkkWtWbtmNn72OFt3YG3ERYXkov1m1Z5Vvu0zZ81s5557btjnoKQ7N51ddvllVuDOAtagRQMbOmmordy1MuF5HApbllGZYsDI/gnvX0nfBp17d/ZyU+LbRRIVRJ4c3s9y5snp+96AUf29sBLutpFEz1f767r9a317Nm/fzIrdfZddl7Dv6HWmS5fOLr/ycst9R26rUb+69X26jy3Z/FzYUsyE2eOter3qCZ+di8Nut0iS/tr0Vu6+cjZ9yXTbcHC9LdmyxGo3qmU3ZrvRzj77bLv2+mutTuM6tmzbUt+uiZ9DuOjPiJlLZ1iNB2sce5y7El6j9sPQshSJn1BQAQAAAJASOkFHQeX0prLIuHHjrGzZsnbWWWdZhgwZ7IEHHvAiiU4q/xnxXlBROWXv3r3Wvn17q169uvXr18/LI0kVLvTrKm/Mnz/fC0MlSpTwf44fP97LBOF+RlFZQSWIkSNH+onbjh072qJFi/zXNXFAJ4oLFy5s+fPnT3EKFSpkTzzxhJ+cV9FAj6eT8zppPGXKFD9ZrDzzzDP+a8FtwkWvT0UAlQ6mTp1qnTp18u2i16nHUYoXL261a9f2fUYnoFW8SKqcoMfSY86YMePY85g0aZIXGvQcw/1MaFTOUFmiSZMm1rhxYxs4cKBvL+2fKsfoZHuVKlXCbpdIom3etGlTmz59uv3jH//w0sTmzZv9s1CuXLmwP3Oi6DXq86qii15jsA1mzZrl261YsWJhf04pUKCAP6f77rvP2rRp4/uFSiN6Xsm9b38m+jtCfxdoOz/00ENWvnx536bDhw/3ElJoySMoiqik1K5dO6tUqZJ17tzZbxeuzJJc9D5qH9P+pfdWfw6ppBLuttqOKp2ohDJs2DBr3ry5f45URAi22T333OP3o0lTKo2daF+Px0SjoPLzzz/7vqM/K7JkyWIXXnih3XzzzX7/+rM1NVBQARCgoEJBJa6iCQcqdkyeP9lad25tJcoUt9tuv81LGVlvyWrZsmezrNmz2s233uwnqjNkzOAn6CtWq2jd+z1i89eqqLLfT7ZrCommrzRq1dAKFy/sPxeaG2/+/efPO/88O++88+zSyy71x7np5puOu12ufLmsev3qPh0lcUFFj6ET3tXrP2C333G7Zbz+Wrshyw3WrltbW77jeTuUcPvQ15dUgnLA81uX2VNjB1nNB2tY8YTXnv/O/Fbs7mJ29z13e0nmnsrlE/69lBUuVtjyFsxrZSqWsfbd2/mkCU2LSVyK0HSRTr06WobrMljx0sVsxJThyRZUgikVrTq1sgJFCvg2r1q7qk+sWLN3tb9elUC0XZu3b+4HYi66+CLfjjfdcvx2Sy45cufwAszcVXOOPbamtsxZMdtK33u3HyC47IrL7LpM14X9eT2W3n/9vt6vgkULeqFCpZ6dr+74U0UV7T+rdq+y5h2a+2OodHTs9SVsj6Seh0pQ+Qrls7YJ772mwISb6KIiRf8RT3pZ6Nzzzk14bzqddEFl1e6V1m/YE/750Geg/8gnbfWeVWFve6JoKo6mnkyYM94LP0VLFfXXqm0bfOaCf6q0pF9XUeX+2vfbY4Mf81JO6CSYKQsmW5M2jb04E7q9FH3urrk2fcL/YF9gfzvjb142030mvp32bxVJZq941jYe2uBlmJoNavpn9G9/+5tvP21HTXjZlPDcQ19PuOjzpRKKtn/JhJ8LDiQWLVnEPz+arBLu50hsh4IKAAAAgJSgoHL6++GHH3xqwMMPP+zHA88//3y7/vrrrWjRotawYUN7+umn/f3UCdmUiveCikoJWkKpb9++VqdOHS8FaHKGJjmEnpgPohPlKpqogFCmTBl/D3Qyv1evXj5RIqmihh5nz549Pl3g7rvv9n9qcoROoKvYMmbMGCtYsKDdeeedVqpUKT/5rpP/kaRy5cp+0l6PH5yQDwoqkydPtvr163tUBkjupL0KACpnDBkyxCf16GdUvmnUqJFvF5V4VEpQiaFu3bq+vfR7vXv3trlz5/pUjcQTMPRYekwVQILnMWHChBQVVDSlQ4+jfX3AgAHHCioqM+h16/cSbxNtPxW6VFwItqsKJ4m3q967jh07+vPXc1cRRCfxW7Ro4bcvUqSIFzZS8n5oG6kMpCKTXn+wDWbOnOnbUwUfRX8OJ75f/fe9997rz12Fi5o1a/rzU5HgZEogkUSlJE3z0ede26N06dL+PFRi0GSSxBNy9Hr0d4rKVlWrVvVSyMKFC/0+Qu83qehzpc+J/szSvqNtojKDpgAlfn0qw2ha0eLFi/0zqvdF+56KPiqp6DlqX9U/VTSqUaOG1atXzydOqcyk4kTwPoTeb7zmVBVUNBXlhRde8Gleui/ts9mzZ7cLLrjA/47Sn2H63J7M30kng4IKgAAFFQoqcRVNY1i6eYkXJHRyWyej9U8VMWo3ru0nvZu1b2YNH2poVWpWsUJ3FfIT5yoKqFChaSoqF7zw4SFfMkaTFzRZokOP9l5gCBLcR/n7yvl0EU1jyJU3l9VuVNsaJzxG6G1bd2llfQY/5mUK3W9QOtA/tx7ZYk9PGOzFBJVgVCi55tprrFaDmr7kT0STHT49Yvvf3ufTL3SyX2WbW3Lc4vepCTEtOrSwXgN7+nIkg8c9ZT2e7OHPXSWV7Dmz+/NW2UPlDpUiQgs0KSmo7Hp9l7/GDj06WJGSRbygUKFqBRs4eqCXF7Q9dbvQgoqKAiorlKlQ2pq2bXLcdksurTq3slHTRvryTMHjhxZUNCEld8L7XrnGfWF/XqWjWg1rekHhtttvtavSX+VForpN6vhSRlte2vyHckikCS2o6H24NdetVrZi2YR9r4mXN0Kfh/bH+s3qe4FIRRGVWVR40DZfu2+NF5pC7zutFlT0uVNJo37z+l4MUWEkT/48Vr5yeavXtK6/t03bNbUGLRv4/ql97+bbbvZ9RLcZPG5wwmOv9oKZ7k/LPw0aMzDhs9P6uO2laN8tVa6kZU54DE0FUrlIxRN9JkNvp5/t+3TfhO2zwrYd2XqsoKKCy9nnnO1TXfIWyGtd+3b1ZaxC9/tw0WQilaxadXrIX6Mm2Pz9zL9TUInzUFABAAAAkBIUVE5/KpGopDJx4kS79dZb/SSg3kcd47rkkkt88oLKKzoBrivWNVVFJ5QjwRI/3/pJ8dGjR/uUDp34njdvnp/UDj0pH0QnzDVhZdCgQcdO5OukuH5WJ0R1QjZcsUXFBxVfunbt6j+nx9OSGHqM0IKKPps68a6JKCpjRBKdiF+6dKkvMxQ855QUVHRbPT+dUNZ9qXSgqRYqfugktiZpaJ9QCWHBggU+DUW3UxFDr/3+++/3/U/7kco+ofcflDNOdUFFhR+9R0uWLPGiROJtou2n56QT5yoEaSJJly5d/rBd9T5qu+jPQ+0L2u+Dgop+RoWNRx55xCfrhP5cctGEGD1n3Zfej2Ab6POp/UvFE20HfeZUFgj9Wf23ykuaSqLCRbVq1XwfUylD202fb+2D4fbNk43eB03M0fus56bpTHqeel+1/2hSTeL3SmUULefy4IMP+m0HDx7s+3MkRRDdRpOLtC/pfVXBRY+tgpReW3A7/bvKYPo86r1TEUtlFhWktO20PVQsUnlFt9F/q/DSrFkzfw26vd5fTRbS9j+V2+x0zZ8pqGi5OW1Hff40QUefCe2bV155pZ1zzjnH/v9C5Um9R7qtfiY1UFABEKCgQkElbqJCwcaDG6zf8CesSIk77eprrrZqdavZsMnDvCChCSGa0hBk28vbvNTRa2AvLwjohLNOnmvSiX5f9/fSxy/61A+dgA/9WRUFdJ9DJw/1YkmhYoWsfvN6XrzQierQ2+pntezL4Q+Pn8qhE+K6vcohWvrkvuqVrHHrRn7y+74H7rPeg3rbtpe2nrAooekVWq6l91O9vWSjaR1a2qT/qP62dt9aL45oaZKD7x3w7Htnr0+C0JI7dRrX9kkjOsmvSSrrD663g+8fOHbfkRZU9Bw1OUXlFE0CCYoH4+eM9+WG/OT/0dcRWlA544wzrEyFMl6OUMEkdLslF21TTZcJCg1KaEElfYb0XjaZNG9i2J9XNO1F223IxKft3vvv8SV/VGhq2LKhTzDR8zyZkkpoQUVTQlTSGTR2kG/z3Qn7TeLnoX1pzd41NnTiUN8PVRrS9Bstv7T1yNbj7jstFlS0jVTcULlL7/3t+XJ5wWra4mds/f51/pxDX6sm1MxbPdc/dyqq6LG1v2tqSjA1Rtve99VEnztF+5MKX5oMdE66c6xNl9a+pFTo4yjB5077iO43KKhkz5XdrrzqCp9WlLdAHp9epPdbjxfu9QXZ/cZum5vwvCvXqGw58uTwoov+zKCgEt+hoAIAAAAgJSioxIbffvvN3zNNBtAJwOC91HEuTfXVVBUtr6CTsjqprBO7kYj3gopOWutEuF6zTtrqBL1OdKtoEa5Aoe2iMshjjz3mJ8u1rIWmi2jahqZm6MR9uBPhKlqo2KHbqvSgJYJ04l+3DS2o6D1QkUElIz1WpNFrCC0H6LnrBHEkBRWVRTS9QkUMFTr054MKKDqZHTwPTRfRYyjBpBEVEvRcVTLQa9Jr0xIsun1Q0gnKGae6oKIySfDe6c+x0G2hqOygCTWtWrXySS8qq+zYscOX3Ul8W5VddH96zrqvoKCiSRw6ia8/P8P9XFLR/WnppsTbQNtKr19lk1GjRvn7r6JGuPtQ+UbbV2UXFTg0cUVlIG07TarR/SfeVicTPUdtQy039eijj/rEFv0Z0L17dz/Jr0KPSjGJJ+Po9Wi7aP/X50DvvZbV0WsPXndS0bZWmUpL8WgKUceOHb38FLynwe20fVQ+UQFG+6XKMNqP9Lh6fD1W6H6p906/rvdPhRl9lvXea5/R4yV+DfGYP1NQ0TbWRB397G233WaXX365F1P0d5DKksHfSSp26c9ClSpTCwUVAAEKKhRU4iaaTqLJCyp56MS3MmjMIF8+5MWPDv+hbKDShEoOOrndqXcnn6KiSSuP9u9hW17aclz5IXF0XzoJPnbWGLvr7rt8Ykjj1o1t3f61xxU8kop+Xo+t5UXqNq3rJ7vbdGvjJQFNdilXqaw1aNHAlmxe4oWHcPcRRCfGVTbRlI7c+XN7eWHAqAG2bOsyf4zEr1vRa9N0GC29o9eskkKp8qV8iRsthxLcLpKCyu7Xd9nijYusfff2XqzIdms2X9Lo6YT7Xn9g3R+2R+KCipYdUklEvx56u5QmtKCSIeM11rBlAy8ehLut59Mj/txU1Bg5dYRVeqCSTzu5o/Ad1ufpx7wIcTLP6biCSsL7oULD8ITtlnh5p9DofVqUsK3bPdLOSy16PzS5J3FhJC0WVPSaZiyZbg0famAXXXKRVaxWwaf1hE7NCY32x12v7fR9q2nbplYs4fOTr2A+e2rsU/65S2obBdHnbsDI/j5FJV26dPbwow/b8u3Ph93Pg6ioEhRU9P7mzJvT99XipYtbwaIFbOikIT5lJbn70L486pmRXv4qUqKI//Oqq6+koBLnoaACAAAAICV0spCCSmzQSXedSFaRQaWU4P0MomMWGTNm9JPZmiIwdOhQP2msk/xJifeCij4fKhCsWrXKX7u23VNPPeWFjcQlAN1O74FKAzq5qxO1Khpo2+mEqJbG0WctcfFC/61lSvR+aLKAJqRo6RGVNBIXVHSiX9MgdPI99D5SmkgLKrrdoUOH/ER1gwYNvKCg169yh15rUiUSbTeVVFQW0QQT7W8qBIwfP95fT/Bz0SyohLt9EG0/FVL0HukxNYFD7+mJSgqhBRX9nEobej06OR/u9pEkcUFF0XZKbhtov9D21dJeum3Tpk19qSGViLQ9VGAJ93MpjV6XCi9aKknlNy3jpHKBpjVpySEVUDTpRI8XWjzRZ0NLLKlkoulBKiXMmTPHf+1EBRVtYxWZtG1VUNHnQlOJgp/Ta9f963VqmozKKSoaTZkyxfdVbcukHkO/rv1WP6v7VxlI204TP/Q6w/1MPCWlBRXtn/rcaCkfTfXRPhFM8fr73/9+3N8/+u9zzz3X/zx88cUX7ddffz16L9FHQQVAgIIKBZW4iU5CP7t8lk8iKVqyqFWrU9UWrFtg+97ZF/b2QXTSX0UGLU+iE+aawKIlXpIrJ+hE9p8pqOi+d76+07r3e8Snd2jii6Zs6PlrOSGVRXQCfdyz42zLi5vD3oei57Fk03NeIrn2umvtzuJ3elFk7d41J5wIoSLAiu3LrefAnr60kJZC6t6vu5dHghP1yRVUdBtNqViYsI0fefwRK1mupJ/4r1D1Xi+n6HmH24b6tTRRUDkalSj0s5oAoteg5X60FM2clbN9nwr3M8nlZAoqyvoD631ZG02z0bJHej4qXoTeJq0WVLTckj53OiCj5ZMWbVjoS+KEu72ifUfbVgWt1p1b+ZSZEc+MsM2HN0e9oKLPqrafnmeVhPcm002ZEvbfbn4fST32S5+8ZAvXL7QeCZ+Pe6rc4++plhG6IfMNFFTiPBRUAAAAAKSETthRUIkNP//8s58A1knX9OnTH3dyMHEuuugiy5kzpy/DosKJTnTrZL9O/oaK94KKos/Inj17vGCiE5u9evXyYk/iMoNO5r/66qt+glcTObTEhZaY0UleFVv0c1rGJ3GZQWUJnVjXCXNtY91u//79fhL+ryyo6HWrJKETuSoZaFkfFRK2b9/u+0ri+wwXPY5OemtblChRwvr372/btm07Vu6hoHJyBRVF74/2Dy2/owKJllPRNhg3bpy9/vrrx97HPxM9B/39oPKB7jsoJ2k/VulI+6umkWgiU2hhS89N20r7v362SJEiXjTRfSX3vPR7KpBov1TpRMsIaZqQ/lwLbqPH0cQavU5NTdF0Hi0BpPc90vdBZRSV+VS6UelK+59+Ptxt4ymRFFR++ukn//Nf+5iKRPpsly1b1osfWvo+3N83iv7OyZ49u0/D0fQUTf1KLRRUAAQoqFBQiZscePeAzVk5x6rWrmp3lbrLJ5FoKRGd0A53+yA6Ka0lcFSoUPlCSwGFm7gSGv3enymoqDSzes9qa/hQQy+iaJmRZxZN9Z/XEkMqqGS6MZN16dPFp8KEuw9Fz11TT6rWqeqFhaq177cJs8f7c0vu+QfZ8ep2m7tqjj3YvL6feH+k3yM+yUMTVvTzyRVUdJslW57zkk3O3DksT4E89kDdar6sjqazJLUN01pBRc9RSzlpCkjjVo3swosuTLiP0l4Y0r4Q7meSy8kWVPTeqxx1Z3Ete5PDnkp4fBWNQm+TVgsqmuBzf60qdtbZZ9mDLR60+Wvm+1SYcLcPoqWptJ9qcsmGgxsSXtuehH0g6alFQU5FQUVLKWlSUpM2je2ahH2lUcLnUJ+/cFOTdL+HPjjkZTGV2Go3qm0PdWxpXft29SIRBZX4DgUVAAAAAClBQSV26ISfTt6OHj3aSpcufdzJwcTR8S8dw9AyDDppqAkHKkG88MILR+/tdxRUfo9OxmoJHk0BCaZGaIJF6G1UMlCRpUOHDscmTag8oBOyQblj1qxZ/nMqFgQ/p+kT+rxp+2qCit4/nfDXbf7Kgor+qcKNyhIq2GgpGf27ygEnKoAE0fPXckh6ziqRqEihk+AqgujPHj0GBZWTK6gE0TJLKoyoRKTldPRatB+e6LVEEi2js2zZMp+eozKI3ke9Xm0rLe+j7a6Sx9atW305otCf1Xug4pWKKcWKFbOuXbt6YUV/Rum9D71tED1nvX9aIksFGBW9VGgK3d+1rVTg0rQYlXL0WdOfUbpN6OcquejPL5Xy9Nz089r/9GdfUs8rXhJJQUV/Xj333HP+Z1W+fPnsmmuuOTYxJXQpn8S55ZZb/P3Ue5ea5RShoAIgQEGFgkrcRAUHLWvTunNrK1y8sN2eL5d17t3JSwrbX9nmSwAldxI7JdH9/JmCyqbDm2zCnAleRClQpIB17dPFT6DvfuP35XLqNa3nxQGdUB/37Fg/2Z+43PDixyrW7Le+T/e1MhVK2zXXXuPTKDRRJdzSKuGi+9328lY/OT9q+iibs2qOT48JHitcQUW/r6KEihE6Sa+CyW25b0t4znV9qRQtjZPcNkhrBZUgK3assEf7P2o3ZLnBl53Re6LXktxST+GSkoKK9iPdv0o/k+ZOtLqN6/hj31f9Ppv1/EwvEIXePi0WVPQaVHJq+XALu/yKy61k2ZLW7fFuPnFk+yvb/fWdqs+dcioKKlrWSlN+eg541O4olM+q13vABo4eYPvf2feH90j75baEPz/6DulrZSuVtbbd2thjT/W2XgN7Wrbs2SioxHkoqAAAAABICQoqsUVXt+/du9fLEOecc44f5wo9SRguOpahk4wlS5b0k45akkVLzOjENwWV36OTssuXL/fygKbOqEShokZQ5lA0lUFLhago0LFjR58uoGKLJk7ohK/KJSpo6Hah0ybeeustP+GrcoFut3jxYj8prN/7KwsqKhhs3rzZ+vbta/nz5/eCgbZBUC5JfJ/hotvpzxGVDlRO0PQVFVaC4gUFlT9fUNFr0Un/Hj16+PQkbQttkz+7zI+el/5u0OQg3a+KHNpmmnCifVZL9ujPC00g0XPXdgj9ee272o/150XVqlV9m+l16Xkl9f7ovvV5UTlFnyMtEaT3M/HnTJ8R3UZLyqhkokJOpOUURdtV23fnzp3+mdX20+eZgkr4goo+F9pGKul1797dp9aocKJiyon+jlFpRRPOy5Ur538mqsiU2iioAAhQUKGgEjfRCerNhzfZkIlDrGzFMnbtdRn85LFKG+Nnj/OyhSZS6DY7Xt3hy9Po5HPiE9KRRI91sgUVLReik+WajqJiQKG7CiXcz1gvQ6hEs+OV7fbokz18soqev06Eq0Si3wu9H5VQ9Do69Ohgd5UqarfnzWV9n+7jry+lpYqkkrigMnzyMFu7b40XTPoN7+dLCmW9JauVKl/ShiZsdxUtNI0k3H0FSVxQ0bSbbn272nObnrPnty07YVbtWmkbD234Q5ngzxZUth7Z4kWS/EXyJ7ynRX0Jl9W7VyW7VE24hBZUciW8J5rWoaWTNJlm6Zalx70W/bcKSVoip03XNla4WCGrXLOyT/cI9ofQ+06rBRVNzFHBI1/BfH5/2ne1f4+fPd5fo/YZTSjSe6T37c+UxU5FQaXcfWVt4twJvsSQphdVrFrB2ndv588x8eSXA+/tt+cT7r9tt7ZWKOH9eXxoX3+/Hhvc226+lYJKvIeCCgAAAICUCFdQKVWqlC+rcPDgQT85RU6f6OTtK6+84ifqL730Ujv77LOPO1l4ouiE40033eQnnmfPnu1lApUHdPJbJ5jjtaCiAoJOzqvIoJLIwIEDfdsERRN9jnQifdq0aVavXj3fTprQoJPgOrGr2zdv3ty344svvnjc9tPtVBSpXLmyl0B00lyFBf1e4oKKppjopLE+m3qfTxRNYtEUDBUrQk/gn6igotejk9KaFKNCToECBXwpF/1ZEUlpItKEFlS03VTSGTRokJestD3DvabQaEKN9sc6der4hI/ULKjUrl3bSxtr16716Rvhnl+4qFQTOkXkzxZUdBsVoVR+0qQTlUFU4AhdFiel0b6ifVQn8fV3g+5X21b7kraRnpu2vaaYaPrS448/7mWmYN/Rfeif2s4qy2gf0uvSZBRtA23HxI+p22tfVwmiWrVq/mfQ0qVL/c+10Nu8/PLLXqLT9tdkIv1dpdcfel/k5BJaUFHJUZ95lcr0HmpijibhXHbZZclOSkkc3VZ/r6jIpM+myk2J/96KdvTnsv4M03OnoALENwoqFFTiKiqHqLzwxNDHrXzl8pYlaxa7LtN1PulARRAt+6MiwIBR/b28sPnFTX7yOqUny0+2oKKfO/DeAZs8f7LdX+t+n/RSp3EdLyvo/lReUfFkxNThVqVWFcucNbPVb1bPFq5b4IWa0Ps6mHA/KjG06NDcX5syeNxTvizNyZRuwiW0oFKsdDEbPH6wTXtumvV4soflLZDXrrjyCi+oaKmU2Sue9ZP7J9qWoQUV/Y/TRRdfZBmvv9ay58hut+Y8cbS9G7Zq6FM79N4F9/tnCyoqf0yaP8mn2uj9rNesrhcTtJ3D3T6phBZUbsx2o11x1RWW8YaMdkuOWyx7otei/86e8OvaT3PlzWmVHqhoA0b39xKO9qPE2zItFlQUve/Lti61XgN7WZkKZSzLTZnt+szX+2suXKywVatbzdp3b5+w/zxlc1bO9s+o9oOUfu6UU1NQKedTg55dPsv3b91X9frV7blNi32KUejP6r8nJ+wXTdo08aWfJs6Z4PsVBRWiUFABAAAAkBI64Ze4oHL99df70gk6Ydy0aVNymkUlhrJly9q1115r55577rH3NZJomQYd20ifPr3lzp3b9wNNT9A0AxUs4rWgohP2KpZomoROnKvQoOKJluvRZ0gn5jV1qF+/fv4eqCygCTQqtmiZHJ101/uibagT+ZrWoPvVz+oE8FNPPeUlC/1TJ9uDokTigopOEN97771+slcn6E8UTZno1auXP4buU4+n+z1RQUVRCUG/pjKGputMnDjRX4t+L9gufza6r6CgonKKynGatFCjRg3/73CvKTS6nQoSRYsW9X9PzYKK3gdtFxVCIn0/FL1WvcfBdgy2wckWVPSe6iS83kvtY+XLlz9WLgt3+0iix9XPT5o0yV+nCiZankrbTc9X+7WKBtrP9T5pn9dj6jmH7h/af1XeUalKr137/8aNG31SSujjBZ8hbVuVXXRb/TNxmUvPS+9TcJtgWow+a6H3R04uoQUVvacqJt1///1WpEgR//+Ciy66yM4888ywf3ckFV0MrFKIpjDp/dLfJcHfVakV/Zmiv9P0dxsFFSC+UVChoBJX0Unqwx9qqZ+lNmTC09asXVMrf185y1swr5cBdMJcJ+M14aFqnapeIujxZHefiKDSxM7XdkZ00ly3OZmCiiabaEqDpo/kyZ/HSlco7cvkaGpKMC1D963yRbtH2npxoVylsl480WSU0OKJCiur96y2B1s86K/vzhJ32pBJQ7zEEI2Cip5vq06trGnbpnZPlXu8fKFlhbJlz+rbWKWabUe2nvCxExdUzjv/PLvsisssQ8YM/jgnit6/yjXus+lLptm+d/5X2vmzBRVtT5UWtIyL3s/ajWr5fqQJGuFun1RCCyp6/y659BJf+ibc67sm4Xlefc3Vdv4F5/s2yJk3p7Xu0spmLJnuxYjEk3DSakFF0XPTtJQBowZY41aNvMyhElO2W7PZzbfd7NNVVP5REUTLAWk5pXGzxvo21mfmRJN3gpyqgoqKViqGjZw6wicula1Y1ieqqDwT/Jyek/6791O9rX7z+la3aV1btH6hh4IKUSioAAAAAEgJnRhMXFA577zzLEOGDJYpUybLkiULOQ2TMWNGu+SSS3xpheB9TWm0RJCuOM+WLZtffa7ygE5Ux2NBRXnzzTf9JL0+KzrJGiyDpJPwKi5omR5tnw4dOnghRb+mk+66jW7bunVrn/Ixd+5cn2yiz55OuGuJERV/VHyZMmWKL4ESFBMSF1QKFSrkJZUyZcp4CelEUXmiVatW/vh6PikpqGgpDpVSVCrQCV4VKzRBQ88pdLsE96fSjUo6eg1JRcsT6TYq9gSPExRUVPLQa1PZpHTp0hG9Rt2uRIkSvm00TSM1Cyp6/MKFC/vnItL3Q1FZQ+9p8B4H2+BkCyqKCh+aEqH9Us9F9/VnpoqogKJSkwpXxYsX92WetPSOnmtQJtG20PupbajpP5q2oUKJtm3ofak8oykz2r+1/2uf0+1C96NgG2gaim6nfVb7o/bB0PdS/67pOipdqTinz+LWrVuTXM5Iz0VFGk1iCbc/Ktr3NHFGRZrQyTbxGO3bWs5Nf26olJIzZ07/f4Hzzz8/7N8RkSSYoHL11VeH/bsqNRKUU1TApKACxDcKKhRU4jaaRKIJKVMWTrEufTrb/bWqWO47cvtEi0svv9Qnd6gcoekdxcsUs0eeeMTmr5nnRYUTlSxOtqCiEoqmNKiEoGKCpqgMmzzUn2voCXadFB86aYjlzp/bChYt6GWOZduWHrfky56Ex1++Y7nVblTbcuXLFfWCyvWZrvfXevOtN9utuW71pXk0HUPL2Fx73bXWokMLe3bFsyecSBNaUNH/NGkppnwF8/rEGxVfTpRqdav61Jj5a+ed0gkqxwoqFU9dQUWTezLflNnyFcpn5e/74+tTUaLUPaXstoTtmT5Dei+q3JFw29adWnmhQvtY6H2n5YJKEO3/6w+s8+V9VB6pULWCvz7tQ8Hn7uJLLvb9X+UrLWG1Zu9qf63J7TdBTmVBRZ8z7eNVa1f10lq3x7v6vhnclybDLN28xPeluk3q+p8R6/evs+XbnqegQjwUVAAAAACkhE5K6cSsTp5rORgSG1ExRSfjUrIUQ+LoZ3UfKqqo7HLDDTdYw4YN47agogKGpjXosxK6tIhKBCoI6GS3Tpr37t3bT34GJ/NVxlBpQsv7qHygqRMqhen3tR1VWFGxRculqOSickBw8j5xQeXuu++2Bx54wE/M63mcKFqmQyUDLRukk/UnU1BRGaNChQpeztESUuEKKip2aNkhPZaeZ+Ko4HTHHXccWw5GZR+9zqCYEExQ0etT2UGlGJUUwr2m0Oh2mjyjEoUKLqk9QUWFE30mIn0/FJU6TuUEFUX73zPPPOMTVP5sQUX7iJ6PnqeWMNKUGD0fbdfQ8ob+XeWQ/v37+/umYpbKVonLItrWei4quWhbaT/XFCG9R8H9qRiiiS2jRo3ySTgqSaxZs8a3TehjhhZUtJ20PbVva18NbhMabRdNbNF2CbdfaqqHygrad7TNgv0/3H3FQ7RvP/roo/55veqqq/w4t/4u0RSUcH9HRBr9vCavhPu7KrWjwo1KZatWrTr6f0EA4gkFFQoqcRuVNA59cNB2vLrd1uxd48WQmctm2thZY+3J4f2sdZfWVrFaRcuVJ6fdkOUGu/HmG63RQw1t8rxJJzxZrt9LaUFFP6MSxPApw61yzcp22eWX2UMdW9q81XPDTsqY9fxMX/LljsJ3eOli0ryJ/lqC26g4seHQBp9oUqBoAX8O0SyopDs3nV2V/iovpGhqiwoIg8YOsoYtG/oSNiqrtOrcyssCep3h7k8JLajof5h0gr9zr05eDlq0YeEJo6LByp0r/vA6/2xBRe+nykyaaqOyz6koqGgiiqaGdO3T1eaumutLNYW+loXrF9qCtfNt2uJn7IlhT1i1OlV9qR8VqbTddXt/jZ/+ft+nQ0FFz1fLIqmwoQk/ixL2oZlLZtiYGWN8cpCKTCqIaKKRPnf5E/Zv7cPa37XfJPe5U05lQWX7K9ts8wubrE3X1nZvlXusTuPaNj3h14OlqvR5m5qwT2jCSgPt88+O81/T41FQIQoFFQAAAAAp8cMPP9jLL7/sJ5Zvv/12EiPJmjWrn2BUuSTcCcNIouWBdOV5vnz5/ES8lnro3Llz3BZUVDQ5dOiQTztREWXcuHFeylDRQifvtTyPlkQaPny47dq167iT7yq3qJiiQoVO0GuiibbhO++84xM1tJTGoEGD/MS9CiDBzyYuqOgE/4gRI/ykvB77RNFUCH2+deI9tFiS0oKKyhg6ga/nG66gom2gqRgjR470/SQ0KpxoAoumv+jfkyqoaEkxlRP0Z5GKDyoihHtNodH2UjFD5RZN50jNgooes02bNvb888/b7t27wz6/cFHJR48TvMfBNvgzBRVN6dH7pyVU/mxBRe+Lflb7o4odKgBpAslHH310XFlE0b6l965SpUq+/fX+azpQ6PMO9jXtSyqU6PUtXLjQiyzBvqTf14QWlbj0GdJnS+9H4scLLahof1GJSZNekiqo6HO3bds269q1a9j9UuUbTeDRe0lB5feCij6fei/1mVd5RxNItLRPuL8jIonOtajgqIls4f6uSu3o/dbnRPsFgPhDQYWCCgmJl1beT/gf6sObbMG6+TbymRHWtltbK1epnE8I0cnrdgn/vXr3qmSLCSdTUNHSQ3rcTr07WYEiBUwjXHXiW4/X9+k+9viQvseiqRIPdXoo4Xb5/SS+ppbo17QkSXB/hz44ZNtf2W7tHmnnzyH/nflt4OgBvlxQpMulnCihBZULLrzAl/Wp17SejZ4+2pdDWrtvrQ2ZOMRKlivphQOdrB84aoCt3LHCSzfhSgOJCyr3VC6fcB9P+68nvm1K8mcLKvp5lZeKlipqdyWkUauGtnLXCl9GaFfCa1UJYdikoce9T0GGTR7mRROVF0ILKpqAU7lGZS8lHUzY75IqDum1r0vYlrofTXC56Zab7N777/Vlk0In+iRXUNnzxm5bsuk5L5qEe46KJsSoSKFJPNEqqISLnv/+d/b5/q/lq54eP9hLIZpaomk8Wnqr54BHvXiUuKyVOKeyoKLtqe2r117jweoJn6Oi9vSEp3//DCU8Z22jQWMG+vNs3fn3qTZ6HdrmFFSIQkEFAAAAQEr88ssvfiJUSzDoBDs5vaOTyk8++aSfVA6WNQh30jCp6Gp5nUzMnTu3VatWzU/saoqCTgSrXKFyRrwWVHTiXuUCFU2aNWvm21lFCn1+NKVBJ801IUQnul999dVjP6cT3iokaNmfhx9+2Jo2beon6FX2UOFF96OpKDqBr/8OfczEBRUVIjTZQgWL0NulNCcqqOhxVcjRc9Z7r5O6EyZM8NcV7gS+7k9Luah4o3JFEBUNVFro1q2blS9f3ifPJFVQCZ6HHifScoZKE5pqoxPOKu+kZkFFP6dpE3p/9FrC3T6SBNvgZAsqeq+09JL2EW0HlUU03UfbWOWow4cP+5/v2m8SRxN7VPLRMjh6HiqEqDii0oe2jcoiKnNoSoqeX+Kf1z6rPxNUitGUHU1R0Yl/vZ7g+ek+9X5oqpA+I/fcc48/1+B90vPX50pLFGmSkP7sWrJkiX8+Ql+noueoz4jeZ5XE9Hr12lTQSXxbRe+XCjP6vIXul3p8Fcn0Z5peox6TgsrvBRX9eaT3XlOB9E+VErWdVVa57rrrUvx3is61aKk4TTlS+WzgwIFh/+5KrWhKz+zZs/0zAyD+UFChoBI3OfLJS/biR4e9gKIT/kmVARJH5YOJcydaxaoV7fY7bveJF5pokdwJ55MpqOj2SzYv8ZPkmW7M5GM7NW7tRNH/WFx62SVWt3Edm7Jg8rHXpdeoE+zd+z3ipQwto6ISy4aD6307JH78JPPpES8FqEBzbLsdndgRWlBRUUZLEk1bPM12v77Lf1/bYeWulQmP28unflxz7TVWufp9Nm7m2OOKFaHRY6TFgsqmFzba4PFPJbyO261E2eLW/pF2tuHAet/GKibUaFDDl+sJ9z9/Ku606viQLVq/8KQKKor22y0vbbGHH+1ghe4qZHkK5LEe/XvYpsMbjy3tlFxBRaWgLo918WWCwj1HRaWXeavmepnlVBVUtA/ovdNzPLb/hLldaHSbPW/t9vddz0ljbB+o90DC53DCcctYhcupLKiofKTnMnXRVGvStom/j137drVVCfu0Pg+zE/YnbWOVhnoO6GnbXt7qv05BhQShoAIAAAAA8eu///2vn/TVCdiLL77YCyfhjseERsdAdDxMt73iiissT548vhyHTuDr/jQhQktu6IRlPBdUdOJaxQaVNjp27OilBp1014lOnfDUiVxNddAyJ5rcEPqzOkkfnKCvWrWqF0NUHFCxReUNTXMISgWhP/dXFVR0G5UbVGBQqUZTdHRyV0sTRVKaCKLXrZLA6tWrvUCix6GgcnyCbXCyBRW91ldeecVP/GsbqLihfU2lj2AKjib06D1MHC11olLI8uXL/TVof9NSOyp0qEykZZm03MuJoqVyChcu7GWWcPux9gPt79qPixUr5n+O6H3T9tZ+pvfsiSee8AkrmjCk/Syp90KFE20flUpUoguW2gp326Si7artq/sJtjkFleMLKvpzSdOdVDxTgUmTiqpUqWIZM2b0yVyRLiGn25x//vk+lUWfn59++uno31YAkPooqFBQiZus2bPaRj4z0uo3r29PjnjSTyKrFBDutqHRCfFlW5f5iWktp6OCwtiZY3zaQ7jbKydTUFFxRBNbND3lhszX+8QTTVC5r3qlsNHyQ2UrlbUcuXNYhowZfIqDJq3sen2nFwH0HPTcdZL/vgcq+ZJBTdo0sQVr5nvZIdxzSBwVWXSSfvzscdbn6cds8LinfCmkoFwSWlDRttGUi+DkfXAfKk1o+6mQkbdAHn9t9ZvV9+Vy9rz5x6WS0mpBZenmJda5dye7+pqr7e7ypXziiJaA0cSM1CioHE54L/Yk7FOPDX7MlxnSUkpd+nSx9QfW2QsfpM2Cipby0edEk3u07QZoes7OFV4WC3f7IMG+q/2rffd2/n49ULdawnYa5styhfuZIKe6oKLnqslEKnply57NmrZtYs8k7Lv6nOn56M+TOo3r+GdXr1fvIQUVEoSCCgAAAADELy3ZpIkCmvChwomOc4U7HhManTzUMg464TtkyBA/cawT3jqJT0Hlf9FJdp281sl/FXg0fUEntffv3+/bTUWOTp06+fI7OhGb+Oe1DIxuV7p0aS97aNrIrFmzvByhqSpa4kTTK0J/5q8sqOg2mqShqQcqIWiajooMKg5oWyS+z3ChoHLi/NmCij6L2rc6duzoP6vCid43/XxKCyp6PO2/KruojKBpLCqNaN/WNgoXTU3R9teSMFoKTD+rKSrad4P9RP9UaUuTUVTi0nPV/qb3TwUI/ZnVpEkTfy5Tpkzx/SOpoohur+erP4/0/IYOHWp79uzxxwt3+3DR66Sg8sckVVDR+6d/at/QZ1XvuZbs0rStSP6O0QXPKiZpG6s4BQB/FQoqFFTiJlreRCWTLFmzWNXaVW3UtFG+5EpypYAg6/ev8xP/BYsW9KVqRk4dYRsPbQh7WyVFBZVPj/iSO1oCRifTs+e4xadj6MT8gFH9/cR3uOjk+KCxg6xes3peVtAyKI1bNfKT6SqQBM9DJ8dVTLn08kutUrWKNnTiED+5Hsnr1mtQoaBFh+ZWrlLZhPtpbFMXTvFfT1xQKV66mI2YMty2vrTluPvQ7VSIUamnVsNalj5Det+Obbq28eKKCh6ht09rBZXg+Y+bNdafv7ajJsWotKPtoHKISiJ9nu7jyxtpmkbiqMQwZMLTtnbvmpMuqGiKjd5XPU6ZCmUsV76UFVRUFBkzY7RVeqBS2OeoPPJ4Ny8YqbBxKgoqem/1mvVeapmnKjWr2IQ5E2z/2/uSLYwo+kxoWSNN/dFEoWp1qvrSPycqV53ygkrCz207stWGThri5bGaDWrYE8Me98/FI090swpVK1jHhM+A9q2geENBhQShoAIAAAAA8UllEp2s1iQClRnCnSgMcvbZZ9vll19uuXLl8mVpdKJZUxM0PSEUBZU/ZteuXb5sjQo9WiZE5QudzNVJWxVPVJAIVyzQ8jiaQlCuXDmfpKKTtYMHD/Zt36NHDy+6JC6e/JUFFf1T0yp0Gz1nFQi0PIbKAycqcgShoHLiBNvgZAoq2r6aHqLProofmlKh5XhefPFFf07Bttd+qvJU4mg/nDRpku3du9dvr+exePFie+ihh6xGjRpeTJkzZ45P0tGfA+GyaNEif8/054OW+lGhRVNN9NihZQ/dvwoO2te1bJSKTyrCab/XVCI9nranpgrptYe+ztBo6amDBw/6c9fEFr2Heg4q44Q+XnKhoBI+SRVUQul93bJli/9Zp2k9mpwTLP2TXFklc+bMfnsti/brr78evTcASF0UVCioxE104l0nu6+97lqf9tG2WxufqnKiJUN0glon5nv2f9QKFi1gt+e73UZPH+VLvoS7vaKfibSgopPamrwwZsYYLw+obFKrYU2fVKLlhVRMCBcVNg68t9+fiyaqXHn1lVaiTHEvUmw98r+SiAoM/YY/YbfcdosVLlbYWj7cwksDkUxR0WtUqaFYwmu46eab/OT81EVTfJvpNUZSUAmiQo9KGlqeRvelfw6dNDRhm6w77nZpraCi7aSCgl6nnvN1N1xnrTu3smVblx7bhtoWmjaj7aIJH4mjX9d7ptudbEFF96FCVefHOtmdxe88tsSPiifBPpxcQcWfY8JzCPf8gmgb63a6/akoqGj7bHlps7Xq/JCXO249usyU9klNhAn3M0H0XPXc9Xq1b1epWdnLVXqe4W4f5FQXVPT7+szOXDbTqtWplvB+3WfN2jW1KfMn24PN61vRkkV/34/3rT12fxRUSBAKKgAAAAAQn7R0gk5WV6hQwS644IKwJwmDXHrppX4FvKYdaPrAzz//bP/5z3/st99+O3pvv6Og8seotKFtoAkT2h7Tpk3z8oZO+OtE+zvvvBP25zQdRZMfdJJWt9WJYC0LpCVNRowY4eWgxCfH/8qCisoPep/XrFnjhQwtQ6R9QIUQnbROfJ/hQkHlxAm2QUoLKtq2+tnNmzd7KU2TeTSJR1N5NKVCv6/b6Ta6H22TcNHvaT/TUjv682P06NE+mUQTgrRvax/Q7+l+wkXbTO+nykv6TKg0oqkmWvoqdLvo+aiQovdX960iiya9LFu27FjZQcUvLSejxwt+LnH0fLVtVKxRIUdTW1TKCVfwSirBfVBQOT6RFFT0d4T+rvjll1/s/fff9/2tZs2alj59+mSXlNOyQFpCTttZ+0Liv2sAIDVQUKGgEjfRyf0Jc8bb3feUsltzZveSiiYgzFk523a/sfsPBQiVBXTiXye3+4/sn/Bzd/uyO/fXqmLz185L+Jldx90+NDoZHmlBRY+7+cVN1ntQb39OOuGtk+oqmZyoRKLnuHD9Ai9PaDJMnvx5rEOPDj5FJXg9mrqhk+tahiRvwbyWr1A+6/JYZ5uzao5PuEhcivAiw0eHbc3eNT6xQlNXctx+m7+GgVqiZdeKYz+TkoKKSgCLNy7y56cJKpqKUSVhW2oSjCa66DF1Oz3vtFBQ0XbQUjfz18zz5V30vqjkc0+Ve7xQovKQpnyE+9nkcjIFFZU11h9YbyOnjbTy95W3G2++0cpULONTPbSfBc8juYJKSnMqCip63trHNOlHk0Yuv+JyK1OhtPUc2NPf43CTfHy7J7wOPW+VWbS9NXWnZceW/lk90X4QjYKKtq8KSdrX9Xy0fVs83MILZVpqS/uR9q/g/iiokCAUVAAAAAAgPqk4oZO/uXPn9iUVEp8gVGnllltu8UkLmtyhsoRO5usEc1IoqPwxOimrbaIT6po0oYKJTujrhK6W7Um8TE8QnTzX0icdO3b0n1OZoHbt2ta9e3ebO3euffDBB8dKBUH+yoJKcDtNflmwYIE/tqZc6PnrOejXVSRI/JxDf1YlAJUQhg0bZvfcc49Vr16dgkqiBNsgJQUV/br2Qz0XlTNq1arlxRAVzlTUOJnPp35GkzE0mURlF722VatW+fNL6j1W9PvaLpq8on1E77OKV5qEkvizoGV+9Ova3nq/VIDRvqHlo7S8jz4HmpASug8mjj4Ten81yUhlGu1Tui9NZNF9q1Ch24T7WUXvlfY/lab0PCpWrOjTkCioRFZQCaUl5VTIU0lKf5boPbzrrru8AJn47yCdc1FJRVN59OegCi4AkNooqFBQiZtoGRSdqO7Sp7MVKXGnZbwho5cqdOJ72ORhfkJ63uq5tnDdAl9u59nls2zivInW7fFuvjSJpn6Ur1zeeg7o6ZNFgqkV4ZKSgopOjusxm7Zt6qWN+6rfZ4OPLmWSVGEhNHoumqISLD907/332jOLpvrj6/f1XDYc3GBDJw/1k+vZsmezu0rdZW27tbUJs8f7Y2u5krX71ngBQSfiZy9/1voMfsyq1a1mmROek+67WbtmtnTzEi8PBI+dkoKKopP4M5fOsNqNanvJQttU22Xuyjle+NFzTVxQKVKiiD9G8N5EkkXrF3pJQM9F21D3G1pQufKqK+2+Byr5ZJlwP6/H0vPU69FSRJqccmO2G61gkQLWa2AvW7ZlaUTvTbiEFlRy5s3pS990eayLly/mJ+x3iZ/LgoTMSHgu/Uf1t+r1q/tSTllvyeoFCe2j2l5B+SJaBZWst9zkE4c0TSfx80uc5zYu9sfUc1FBRdtp/pr51qF7ey9R3Xzbzf6aO/fu5OUkbWeVgPSz+txp3xuVsD+rPKYSjkpV2v6DxgzyKTwn2u7RKKgoGxM+ZyOmjrAKCZ+vbLdm87Kaym5N2zbx1xv6uaagQoJQUAEAAACA+BJc0b5ixQo/UX3NNdccOykYLOWTPXt2K1++vE/uWLJkSbInHUNRUPljdAJdJ/I1AUJlH00P0NImKl4cPnzYT9aH+zmVCl544QWfFqGJK/fee68vnfPYY4/5iXWdHE/8M4kLKg0aNPDlWlSuUBEhkqh4oftQoSEoG+i56PFOVFBRVObQNAyVJoJJKioUaLkiPW/dvyZjaAKMoqKUXqdOQmvfGTJkiO872kaanKECip6LSgZ6LD3m6VhQ0WdN+4AmgGjpmnDbPly0PI22ke5Lrz/YBipIaH9S4UITUbSPabpR6M/u27fPl+NRIUDL6GifU1FK+1Lw2Q73Hp4o2s/0nuizrdek/VLlD22TcLdPHP28toGKbyqoaLKJ9i1NZAkti2i7qxwyaNAg35dVggjKWiraaNvquSdXiAkSlJ969+7tj6eyl95/bRc9F30WVaLS42m/fPnll/31aJ/V69TnTttOU1+07VTY03uSXLkl1pPSgkoofV71fmgfeOCBByx//vyWMWPGPyz9U6JECS8l6X3W3y8AkJooqFBQiZvoBLWmiazYudwLD3cUymeXXn6pXXDhBb6EiJbuKVa6mJ+cLlOhjBUsUtBuyHKDT324Kv1VPkXikSceseU7lvsyI8md8NbvRVpQUXFCS9/oMS+59BJr2aGFFzaSu//Q6DVpMkmNB2scLRNktX4j+vkyKsFtVKbZ+VrC/5iOH+xlGxVKNJVChZbKNSvbQx1b+pQQbRctW6KyiZayueLKK7yg0rpLK5u94lk/kR9aEEhpQUWTKA68s98nf1SsWsEuS9j++QrmtYd7dLBVO1f68wwtqPztb3+zDBkz+GSYspXK+nsTSVTS0TIso6aN9PdKzzm0oKLyxo1Zs3jxIdzPaz+4PW8un7Ry4UUXeqNYJZ2OPTv6ZBlth3CvL5KEFlSyZs/qpaS8BfJa2YrhX59+XVNvMmXJZOdfcL6/LyoaTVkw2ZfPCb3vaBVULrnsEp/2UrxM8bDPMTRVa9/vy0gtWDf/2Hba984+m7tqbsKvt/T7ufiSiz3XZbrOP3elypWycpXKWekKpa3Anfm9yKLf1/6h5Yz6DunrryOYspNcolVQUYFKn7NaCbfRMmHaviraqOS07eWtx90/BRUShIIKAAAAAMQXneTTSVWd9Lv66qu9lKITgTrGpXLK3Xff7b+nk92aeKGr3n/99dejP508Cip/jLbhoUOHrG/fvn4iVhMDdJJbJRKdzE1ueRItX6IiQuPGja1w4cJWqlQpP6EbTLJJfHu9r6EFFd2+WrVqXvTQif1I0qpVK58u8dxzz3lBQPeZkoKKygL6NT2P2bNnW7NmzXzqhPYrTe3Q1AQVDsaNG+flEi3TogKLyhYqpRQvXtwLD8FjqLwSTF7R/Z6uBRWVQvT6VLTQf4fb9uHSoUMHLxnpeepzFGwD7RcqvWi7aiKPtrM+c6E/q/ddr/O+++6zkiVLWtGiRX3b6vFVsFCR6GQKFpoqouejwou2h947fe411Sfc7cNFJZCFCxf6/qkSkyYL7d69+7jpMnpu+u85c+Z4EUalORUWNJlHf66o6BR6n8lF96X9RH+uaUkhFVQ0+UX3GUwm0q9rKSCVqzRdRo+p56dtrG2n56lpLyr36bN5MtsulvJnCir6u0LLzOlzq5/RnxXaVzNkyODHy4OCiqar6P3RZ1dLywFAaqKgQkElrqKJDip0aFKDlixp0LKBn8zPnuMWy3a0LKCyhUoAOkmuaRUqmNRtWtdPRGsyh06An2iKQ6QFFRUy1uxZ7dMpdBs93hPDnrC1e9ccd3/JRYUOTZbQZJjCxQrZ5Vdefmw5lOCkuf6p17569yobN2usT0/RpJY7ixe2wgkpUKSA5S2Qx27Pl8vy5M/tJYESZYtbrYY1reeAR72csv2VbX943SktqChHPnnJlyDqO6SPP64muqgo8uSIfrZi5wrfJprUooKK/kfpvPPOtcsuv8yuyXiNl1UiyfWZr/eSipZmOvDegYTXfnxB5e9n/t0uvOgCu+KqK8L+/HU3ZLQsN2W223LdasXuLmZ1m9RJeH5P2sK1C8Iui5SShBZUtI+plHTZFQmv79o/vr6M12f0ktTNt97s70+wtMzIZ0b6e34w4bWF3ne0Cipnn3O2vwdXX3P1H55j4qjIpWWwtOyNtpXuS9tL+8/c1XO9bFIv4fOkKUa6rSbTXHv9tf7+6p83ZstiufLm8s+NPp8DRg/wUljo5J7kEq2CipZg2pKwbz/c82EvFF162aVWo37146YVBaGgQoJQUAEAAACA+KIT3DqxqCkEOi5x8cUXW86cOX06gE7Yq5igk88qBaQUBZU/RiexdTJ+4sSJPrlBBRVtey1PEhQOwv2copOyGzZssPbt2/uJeRVcpkyZ4kWAcKUKPVZoQaVQoUJWrFgxPxGvckQkKVu2rC+9ohJIsHxKSgoqQfTaNIVCRQhN11ABQUWb4OdDoyVTtG1UqNCkChUENGlEUy30GEERIChnnI4FFW3XoGSUkvdDpZ4ePXr4RJRge+ufKqhoGo/eX5UnVKII9/N6LE0p0W07duxoI0aM8M+oJoWc6PknlWC/VClG753eWy2ho+0U7vbh8sknn/gEDW1TFbbClVxUStJ7r8dSGUYlG21HFUc0FUbPI/Q+TxTtI3pclVT0+VNRSgWgYF8KjZ6PihHaT3QbFVZmzJjhz0XFnpS81ljNnymohNLyPVr6R9tWn339+aOimsop559/vn9uVFJ69913j/4EAKQOCioUVOIyKmtoIsLC9QtswKj+1qR1Y1/yRcvJ5MyTw5cVufueu61es3rW5+k+9uzzs/wktH4u3P0ljk6G7393n5+k132o4NLjye62+cVNvtRQcDuVVVbtWuknvWs2rOm31clsPbfQ+ztR9NwmzplgjVo18mkbWk5Fy7+EOymvk/Fr9q726SLturW1B+pW8zJAjtw5PPr32o1qWa+BPW3G0un+XJJazkhLA2n7aZKEJq/oZP3OV3eEvW1o9Bw0JaV9wvPUZBRNyXjk8W6m5WxUuNFSQ1pKJ3hOKY1KNvUTtuXIkAkqKjiohNA4YRuF+5nQaCmf8veVs8atGx0rJu14ZfufKqYE0Xu+4dAG6zWol0/N0XSYcM9Buf2O230pmYrVKlqLDi28VKVS0N6394Z9LipfjZ05xhq0eND3g4GjBtj6/f+bpJOSbDi43kbPGO1FpnDPLamoHKPlqrRc0YH3jp80o/1RRZV5a+ZZ76d6W5M2TbxIpM+bfjb3Hbl9WR/tx08Mfdy3+67Xdx53HyeKSjEqYTVs2cDvV9tMxbDkCipaTkvlLX0O9VnV9B2fABPy/LW9DyV8dsfMGOPPu1T5Uv4Z0b6qfSz0/vR4I6YO9+WA6jap65NXdr+ess80iY1QUAEAAACA+KECyccff+wnZitUqGBZs2b1E+Y64b5y5Uo/0f9nUFAJH23ztWvX+mQSlTC0jM3WrVv9hHlyy5Oo4KApEaNGjfKT8prCovtRsSDc9Abdl4oH8+bN88KHSkcpjU7MqySyePHi45aV0Xuo8pLeU0XLwwS/n/h5BNHz0WvU0i0qhqioorKFCht6fioCqCyiAoDKIioAqOigkoJeX+Jto8fSY6q8EjwPTeE4UdEniIodun/tn3qNKtmoPHSicoumeGgKjj43ekxNNNH7ktz0G0Xvk5bZ0fuuiSbhtveJom0VTM3R69R20TZQ8Sco/YT7OUXbVwULLUmj6SD6GZWG9HrC7T+RRsv7rF+/3u9Xk0f0vmm/S8l9atvpZ1RI0J8/Kjno+amEkPi2es7BNJ6HH37Yp+9onzrR9k8qep7alprOs2jRIi+fdOzY0YtjwXbTdtdkH73X2u9V/NL+k9znNd5yqgoqoVRWCabcaDJQ7ty5vWinyU76M1PL0wFAaqGgQkElbuPLzby33ydrbD68yU/k62SzpnioNKIpJppSsePV7cemZiR3kjtxdHv93MZDG/1+NEFB5YvQ+9C/6+T21iNbbMPBDbbxhY2/P1bCcwu9rxNFj6WSyqaEn9dz1xSTYHpFuNuqJKPChm6nIoKmuOh1K/p3f92vbPcJEnouSb1uPXdtPxVe9NgqSERS4tFzUFFDj7923xovB2j7qLiix9Lz0+MHzymlUXFG2333G7uPPXd/zPcO2KaE9zrcz4RG00PW7Vvr+4UKN/q5SMtJJ4qez+EPX/DXp9e+clf456Dodej9XJewb25+cbNvaz0XvZZw961f1/sa7Ada1impctGJoueo+9JSUeGeW1LRvqDt5u/lJ3/cb7Qd9Xt6/bqdyhx6rvpZvV5tEz1/bXd9PlO63f+4DXaccBv8/jk85J9D7fv+/BMeO/Hz1+103/p9LfWk16B9NdjHgujxVOzSawsm3Zyq/YecXqGgAgAAAADxQ0sq6ESrygGKTr5qWQ0VKHSSXicH/wwKKuETFDx08laFCBUwVDI40clunUjXSfgPP/zQT+br5H1QUgh3e0XTQFQ00gn811577aSix9HJ+OBx9Dz17/o1TTpQgt8/0WvQ7+s56XnrdehntQ2C56d/arkUbRvth5pMkVxhRI+pyS7B89BrjeR5KHofdP96fYoeT88tktegUoeKGXpMvX96XyL5OZVU9Nr0/iXezpFE20qPq8cL3o/QbaDfD/dzQbR9NfFDz1k/E8nzPlH0/uj91P3qOQTbMdxtk4qeg35GU1B0P9o+en7h3ns9Z00+0WvVvqL9KJL3LbloG+o91f6j7av7Dbaltpn+Pdhu2tdDtz/5PdEoqPz2229+38H+pb8/VErSRBVNUdHv6e8ZAEgNFFQoqBBCCCEkCqGgAgAAAADx48cff/STsTrRpwkYKqvopOupQkGFEELiI9EoqCSmItnGjRt9KS9NI9LfVxRUAKQWCioUVAghhBAShVBQAQAAAID4oQkqOsEXrWUSKKgQQkh8JDUKKqFUsNTjUlABkFooqFBQIYQQQkgUQkEFAAAAAOKHTuypnKJlFKKBggohhMRHUrugEvz9BQCphYIKBRVCCCGERCEUVAAAAAAApwoFFUIIiY+kdkEFAFIbBRUKKoQQQgiJQiioAAAAAABOFQoqhBASH6GgAiDWUVChoEIIIYSQKISCCgAAAADgVKGgQggh8REKKgBiHQUVCiqEEEIIiUIoqAAAAAAAThUKKoQQEh+hoAIg1lFQoaBCCCGEkCiEggoAAAAA4FShoEIIIfERCioAYh0FFQoqhBBCCIlCKKgAAAAAAE4VCiqEEBIfoaACINZRUKGgQgghhJAohIIKAAAAAOBUoaBCCCHxEQoqAGIdBRUKKoQQQgiJQiioAAAAAABOFQoqhBASH6GgAiDWUVChoEIIIYSQKISCCgAAAADgVKGgQggh8REKKgBiHQUVCiqEEEIIiUIoqAAAAAAAThUKKoQQEh+hoAIg1lFQoaBCCCGEkCiEggoAAAAA4FShoEIIIfERCioAYh0FFQoqhBBCCIlCKKgAAAAAAE4VCiqEEBIfoaACINZRUKGgQgghhJAohIIKAAAAAOBUoaBCCCHxEQoqAGIdBRUKKoQQQgiJQiioAAAAAABOFQoqhBASH6GgAiDWUVChoEIIIYSQKISCCgAAAADgVKGgQggh8REKKgBiHQUVCiqEEEIIiUIoqAAAAAAAThUKKoQQEh+hoAIg1lFQoaBCCCGEkCiEggoAAAAA4FShoEIIIfERCioAYh0FFQoqhBBCCIlCKKgAAAAAAE4VCiqEEBIfoaACINZRUKGgQgghhJAohIIKAAAAAOBUoaBCCCHxEQoqAGIdBRUKKoQQQgiJQiioAAAAAABOFQoqhBASH6GgAiDWUVChoEIIIYSQKISCCgAAAADgVKGgQggh8REKKgBiHQUVCiqEEEIIiUIoqAAAAAAAThUKKoQQEh+hoAIg1lFQoaBCCCGEkCiEggoAAAAA4FShoEIIIfERCioAYh0FFQoqhBBCCIlCKKgAAAAAAE4VCiqEEBIfoaACINZRUKGgQgghhJAohIIKAAAAAOBUoaBCCCHxEQoqAGIdBRUKKoQQQgiJQiioAAAAAABOFQoqhBASH6GgAiDWUVChoEIIIYSQKISCCgAAAADgVKGgQggh8REKKgBiHQUVCiqEEEIIiUIoqAAAAAAAThUKKoQQEh+hoAIg1lFQoaBCCCGEkCiEggoAAAAA4FShoEIIIfERCioAYh0FFQoqhBBCCIlCKKgAAAAAAE4VCiqEEBIfoaACINZRUKGgQgghhJAohIIKAAAAAOBUoaBCCCHxEQoqAGIdBRUKKoQQQgiJQiioAAAAAABOFQoqhBASH6GgAiDWUVChoEIIIYSQKISCCgAAAADgVKGgQggh8REKKgBiHQUVCiqEEEIIiUIoqAAAAAAAThUKKoQQEh+hoAIg1lFQoaBCCCGEkCiEggoAAAAA4FShoEIIIfERCioAYh0FlZ1DbOc7m/0kEiHk9MyhDw7Y/nf22oH39tnB9w/YoQ8P2gsfHbTDHx8Ke3tCCEmNHPpov83bN4GCCgAAAADgTwtXUJk5c6Z9/PHH9u233xISU/nmm2/s66+/tq+++sr+8Y9/2Jdffun/He62hMRaNmzYQEEFQEyL+4LKxK1P2uy9Y/wKZ0LI6ZnHxna1Bxrcb806N7Bug9vboBm9bczSgTZt04iwtyeEkNTIvP0TbMr2QRRUAAAAAAB/WriCysiRI23OnDm2YMECQmIq06dPt1GjRvlJep2gb9OmjY0bNy7sbQmJtUycOJGCCoCYFtcFlUGr2vtJI0LI6Zlh67rZ0DVd7f6H7rbLrr7Estx2neUrcZuVrnGnVW52t9XpVMma9alhrQbUsfZDH7TOYxpb98nNrffMVvbE/HY2cGlHG7Kqi99PuPsnhJBTkcFrOlJQAQAAAAD8KYkLKp07d7bevXsTclqmV69e9uijj1rXrl3t4Ycf9gJKixYtrHHjxla/fn2rWrWqlSlTxgoWLGjZs2e3zJkzW7169axHjx5h74+QWIv29datW1NQARCT4rqgopNFhJDTN32XNrOeCxpZiVp57f/+7//sb3/72+854/f8/cy/2znpzrYrr7vUbspzneUtc4uVrJ3PKrctZg/2vcfajqlu3ec0sD5LmoW9f0IIOZWhoAIAAAAAOFmJCyrNmzcn5LRN06ZNrUGDBnb//fdbqVKl7I477rBs2bLZ1Vdfbeeee679/e9//9+x3oScddZZVqRIEatbt27Y+yMkVkNBBUAsisuCyjM7Btm4zX38RBEh5PTNU0s7W5M+VS1X0WxeUEkcfXk544y/2TnnnW0XXnqeXZb+Irs602WW8earLMvtGezmAjdYruI3WcEKOaxUrQJ2X/MSVrvLPdbsiQesw4gHree0ljZwcUcbvb6XjdkY/jkQQkikmbJtAAUVAAAAAMBJCQoqAwcOtMceeyzsFfeEpLU88sgj1r59e5+MUr16dStfvrwXTW6//Xa78cYb7brrrrP06dPbZZddZhdeeKGlS5fuWDkl9Divfk23r1ixok9fCfdYhMRi+vXrR0EFQMyJu4LK65+94CeHCCGnf57bOd2eHNnL6jeubYULF7abbrrJLr300uO+vIQm8Rcb5Yy/n2HnXXCuXZXhcrvx1ust953Z7a4K+e3eOiWsZuuK1vTRmvbw4Cb26Jg29sTUzjZ4dk8bvbifTV75tM3aOMYW7ppiyw/OsrVH5od9joQQEpqDH2y3X/7z89H/KwEAAAAAIDIqqOzevdsWLlxISJrKggULbMaMGTZu3DgbMmSIPfHEE15MadeunTVq1MiqVatmpUuXtgIFCtjNN99s11xzjV1wwQV/OFZ7zjnn2MUXX+zHdzVFJfh1TU/Rr2nSipYE0uOFex6ExGpUTvz888+P/m0AAKe/uCuo/PrfX+ynX38ghMRAfvz5e/vnv/9pb7/ztq1du9a/oGhd0tAvNkH0hUdN+zPOOCPs76mocuaZf7ezzj7Tzk53lqU79xw79/x0dt6F59oFF51nWW+5yYqXKmZ16te2Lt062bCRQ23+onm2Y/c2e+f9t+2f338b9jkSQkhofi+n/Pb7/5QAAAAAAJACP//8s/3www+EpJl8//339t1339mRI0ds2bJlNnz4cC+maNLJrbfealdeeaWXTVQ+Ofvss+3MM88MOyFFUXEld+7cfnz3+uuvP/brmq6icsv8+fPts88+C/s8CInl/Pjjj15SBIBYEXcFFQCxR/+Dpi8ne/bssWeffdbHnNasWdNHRerLT/ClR+UU/VNfhC666CLLlCmT30ZrnOoLk74E6QtTuC9IavVr3KSmtOiLUtGiRe2ee+7x0ZQaUfnwww9b3759bcSIEX7FgL6Qbdu2zb+cffTRR/5l7ddffz36jAEAAAAAAADg9KBy1DfffGOvv/66bd++3Z577jmbOHGiLz/Stm1bq1+/vlWqVMnuuusuy5UrlxdMdPxV00+C46s6RqslfLSsT758+Xy5H/1cx44dbcCAAdanTx9r3ry53Xbbbf6zOpZ7/vnn29133+1LnOixOb4KAMDpj4IKgJiissrHH3/sX5K6detmxYsXt+zZs9tVV13lZRV9sdEXo8svv9y/7JQsWdIqVKjgZRONidQaqCqs5MyZ00dOZs6c2a699lq74oor/ItRsA5qaHlF96lii26XN29e/3LVoEEDn+jy9NNP28yZM33Cy65du+zw4cP26quv2ttvv+3FlS+++MK+/fZbWtAAAAAAAAAA/lK//PKL/etf/7Ivv/zSPvzwQ3vjjTfsxRdf9FLK0qVLbfTo0b58T926da1YsWJ+7FQXA4YeK9V/n3feeT75JEOGDJYlSxa/ODB//vxeNmnYsKH16tXLJkyYYCtXrrQXXnjBj5NqGROVXXSRoO5Hx3J1caGKKx988IFPkgAAAKc/CioAYspvv/3mTXqNltQXG00wUcO+Vq1aljFjxmMTUlQyCdY1VaNfYyfV+N+wYYOv57t8+XKbPHmyr5naqlUru//++61QoUJ2ww03+DSV0C9dSlB8UYFFv3/JJZd4qUVfqPS4mtai8kq5cuX8S1j37t1t1KhRvobkjh077J133vGSCgAAAAAAAAD8FXQx3cGDB23x4sU2dOhQX67nvvvu8wv6dAxVE6h1zFPHVDXdRMv2JJ5Grd/Lli2blS1b1iei9O/f36dea9r0u+++68dsP//8c/v666+PlWEOHDjgx2B1UWFQeNHjPP7447Z3714vznBxHwAAsYGCCoCYpS8tGj+piSUqnIwcOdJatmzpU1U07URNfhVL9M+sWbP65BN96RoyZIjNnj3b1q9f71+cNm7caEuWLPGle3SVgIosXbp08S9YKr5o+sqdd97pE1k0ojLx+Mogehytu3rjjTdanjx5/HnoC169evX8C5hKKwMHDrRx48b5469YscIfX1cpvP/++z5pRa8HAAAAAAAAAFJKx0t/+ukn++STT+yll16yzZs326JFi2zSpEl+XLJz587WqFEjq1y5si/Xo+OdKqWojJL4WKcmpOiYasGCBe3ee+/15Xo6dOjgx07Hjx9v8+fP9+OrKry89957fmwzMRVUVE7p0aOHX9wX3LcmYuvY66ZNm+yrr746emsAABALKKgAiCtq3A8bNsyqV69uuXPn9qV/9AVLzXy1/TUBRaMjVRhRs19foD799FP/shSscapJJ2r5a7me1atX27Rp0/wLnL6A1axZ04snWmtV4yuDKwtUTNFUFU1X0eSWxMsEKfq1YOmh0qVLe3FFRZigMKOijEZevvXWW15Y0VJGuqohuNpAz+s///mPT5EBAAAAAAAAEJ+CC/d0zFAFDx3f1DI5r7/+uhdCNCFFx0h1PFOTo1UO0XFJTUQJjlXqWGmwXI+Oa+r4pi7607I+Whq9TJky1rRpU59ArQv7tm7d6scs9ZgnouOXeo6vvfaaT79WIUWPo8dT8UUlGR0L1XFPAAAQWyioAIgr+oKkYoe+/KjF36lTJytSpIhdffXV/sVLE1VUWFGpRKMotfSPxlCqrf/ZZ5/5FydFYyX//e9/2zfffONlFa3JqmV6dL+6+kDL9mhd1okTJ/qXtNatW3spRlce6H71pS74shfJlz79TI4cOaxw4cJWoUIFa9y4sU9cGTFihM2dO9evdtCkGH1p03MDAAAAAAAAEJ/++c9/+nI6W7ZssZkzZ/rxTU2W1rFOXbR3yy23+DHHDBkyeDFFF9UFF/AFxyp1kZ2OT+bLl8+qVKnik6cHDx5s8+bNs127dvnU5zfffNOLL7qITkuuazqLLqA7Ed1Gx1Y1rVoX+2kitY7LalmfBg0a+FQXTVwJLhgEAACxg4IKgLil9U71JU0jLB9++GFfqufWW2/1ln7wRUxfirR8j1r7gwYNsmXLlvmXr3/84x/JftnSlzHdRtNO9u/f7+MsFy5caFOmTPGJKD179rQ2bdr4F66qVav6FQeFChXyEoqmrug5aJpL8DyC6IvhpZde6l8gtUxQyZIl/SoHPT+9hr59+9rw4cNt6tSptmDBAp/worKMnrO+lOo56bkBAAAAAAAAOL2pFKLlczR1WRfYPffcc35cUEWSrl27+kVuWmJcxze1HI+OOYaWUJTgYj1NMdHttFxP3bp1rW3btn6sccyYMV5K0UQTHWPU8kAqjvyZKc46LquLB6tVq+YlGE2W1tLpWlpIj6XjmAAAIDZRUAGABG+//bYXSPTFS1/E9GVNX87OOuusY1/W0qdP71/onn76aR9ZqS9jmsiiiSUp/UKmcouuZNDEFX25mzVrlj311FM+VrNGjRpWtGhRv5JBk11UklEpRVcS6Dmde+65Pm5TX9wSf6FUdLubbrrJihUrZrVq1bKOHTt6KWbOnDk+aUWPqWkwX375pU9c0dUIeh0//PCDj/5kmSAAAAAAAADgrxcshaNjdt9//70fT9TxPB3X07I9e/bs8ULHgAEDrHnz5n4RnI4L6vhg6PFCHUPUcU5dEKdpKRdffLFPTtHy51qqXBObdTGdjiFq+R8VXjQVJRr0OtatW+ePqenRmpyi56X/1oWEmlYNAABiFwUVAEigL0b6Uvfyyy/b8uXLbeDAgfbAAw/4eqpBCUTTS/SlTcWR0qVL+/JAs2fP9p/Rz6eEvlzqSgONstRUEy07pCWCXnnlFTt06JCPydTUFY2zHDdunD3++ONenqlZs6ZPTdGkFZVXVFRJXFIJlglSyUZXP2jaip6zxncWLFjQf15jOfWl9dFHH/VlgvQ69MXw8OHDXrxJ6esBAAAAAAAAcGqpmKJCiiaXrFq1yiZPnmx9+vSxZs2a+aQTXeSmY346hqkJJLrQTccFdXwwOFaoAoiOa2bJksUvaKtdu7Z17tzZpzBrAvOGDRts3759foxTxyd1YZsms+ixTzUdE9WEah2X1HFLFVN0YZ6W+Rk7dqwvFxSNxwUAAGkHBRUASOSbb76xl156yebOnetL8Wi05B133OFrsmpqib7YaZKJlgPSGMrevXv7lQq6YuHDDz+0H3/88eg9/TmazKIvgxppefDgQS+s6EvjhAkT/KqILl26+JdRlVZ0hUGJEiUsf/78/rxuuOGGY19Igy+jQfQadKWElhK6/fbbvbCi16H70uhPlXPGjx/vE1f0hVETXvTajhw54s9FV0+owKKrNwAAAAAAAAD8OZpsrKkomvKsi9c0BVnH5aZPn25Dhw61bt26+RLfKqXoOKXKKLpwTeWT4Jif/luTUfR7t912mxUuXNjKlSvnxw5btmxpjz32mJdANEV627Zt9vrrr/tkZR2DTA26SG/v3r1+EZ6OX+oYpcopRYoU8deoC+cAAEDso6ACAMnQFQoHDhzw5Xf0BVBf8jQOM3R5HZVA8uXLZ+3bt7clS5Z4SSW1lsr56aeffJ3ZHTt2eElGX+a0pI+WCdJSRZqeoiWBdDWCrpTQF1U9f11FodegL7HhlgnSa9KITU1cUXlFr03bQJNWtLyRrqbQskAq4+g56PXqy6ymwuh1q7zCMkEAAAAAAADA/+iYmY6d6RiajqXpuJqOr73//vu2fft2L6T06tXL6tSpYwUKFPAlxxMft9OxPB3T0/E9HefT8T4d+9O0ZS3Xc//99/uEFF2AponJOo73V9NrVjlFzyt79uzHXoMunnvkkUeitpwQAABIeyioAEAygjGar732mk8w0XI7Dz30kF+BEEwnCdr+WbNm9TGZGlE5cuRI27JlS9S/XOlLraaZ6AoEjcDUlQ9aI1ZLBGnyyfPPP++lEj0fXSXRunVrq1Wrli9RlCdPHr+iQtNU9BpCv+jqv1Vs0TJBKqrotekLrgormtSiso5KMK1atfIJMrr/Z5991tasWWP79+/30oymvwAAAAAAAADxLljuW8fvNKlYF7npOKOOq2mqsUolmnIcTEfW5GMdl1PxJPSYnaIlyHPmzGlly5a1Bg0aeMFDS3hrGvLatWv9QjZNI9E0Fi3XoyXG/0oq4qic0rdvX8uWLZtdeOGFflxVE6A1vVrLC52qidQAACDto6ACABHSFQ2ffvqpX3mgaSIqaKioovVbteSPWv8qdmgpIK2bqqkjzzzzjF/98Oabb/4lhQ1dnaDn/dFHH/kXU5VW5s+f71+A+/XrZx06dLAHH3zQlzFSaUUjNVVcueWWW/yL8JVXXnnstSX+MqyrM7RWbI4cOfz1Vq1a1cs53bt3tyFDhvhrX7p0qX8x1jbQJJpXXnnFyyuff/65T2DRF3MmrQAAAAAAACAW6FiXCiE6hqjjgVquR8vprFy50gskw4YN8yW269ev78fidFzt8ssv98nHwTE3HYfTf+vXVeLQcj26aOzuu+/2Y3harqdPnz6+DLiWAVLBQxOd/+oiSjg6/vfGG29Y//79/cI+vT5NfdHFcI0bN/bjrCqncHwQAID4QUEFAFJAX5ZU+tDUEn3x07I6KmWopBJ8kdSIShVVVODIlCmTf3EcPXq0vfrqq0fvJfXpeQcjREPHiGpCjL68BldvLF682K+46NKli9WuXdvuuusuXyZIXxzDLQUUjOPU61VCR4tqMouu6NDyR9oGmrYyYMAAmzlzpm3atMm/pP/zn//05wMAAAAAAACc7nSsS5NLNGV4zJgxvhT3fffd51NRIl1+W7fRRWOFChWyevXqeRll1qxZtnv3bvvyyy/9WN7pstS2jv9NmzbN7rjjDn+9en1aQr1KlSp+LPKrr746eksAABAvKKgAwEnQF78ffvjBp4FobKaWt9FISn3hVFklWP5H/8yYMaNf5VC3bl17/PHHvQSipXhUDkkLXx6D16IvhCqqqEijZXq0RJGu7liwYIF/kRw6dKg9+uijvsRRzZo1rUyZMv7lUq9XSxzpi3Xol2l9wdYXav2etsHNN99sefPm9dJL+fLlrVq1aj6GVFNctF1GjRrl23HVqlX+BfWtt97iSyoAAAAAAADSHC23rSXBdfxM04p1XEvHBlu0aOHHvHTcTMcDVUzRcbGLLrrouONmipa60YSUAgUKWKVKlaxJkybWo0cPv3hMS3YvX77ctm7d6st5v/POO/6YKqboWF5ap+f5/vvv2/jx461o0aK+XJFes8o4DzzwgM2YMcOXRtfxUQAAEF8oqADAn6SSiZbReemll7zI0aZNG/8SqjVVr7jiimOTVTRRREvnqKgyfPhw27Bhg7388su+3I2+jKX1L5f60qjnu3nzZi+tjB071teO1esNCit33nmnT0zR6NEbb7zRv4BrG+i16+qQxEsFqdSi31d5RV9Wtd6uvsjrC32wdu769et9iSCVZrSNdeWFptfo+eiqlLRS9AEAAAAAAEBs0HE6lSy+/fZb++STT3wqio5L6aIqHRvTMSstca0JKToupuNamkKs0knosS8VMrR8tiaiqIyiY4O6gCs4DqblerQM99SpU33qypEjR7yIcjrTdvvss8+8uKMl0oMJMZdcconlypXLSyvvvvsuU5UBAIhTFFQA4BRQQUJfvrSuqqZ+qFChL5daS/aaa67xL2KKShr6Unr11Vdb/vz5fSmdFStW+HhO/Xxapi+Neo5aF1ZLHKkcoi/per360qmJJ7t27bJFixb5VSPdu3f3CSnaBrpaRF9CNVEl8Zd0lVa0XVTk0cQZfZHXqE9dWaElgq699lrfVlomSNNbQr+068DA6bDtAAAAAAAAcPrQsaavv/7aDhw44BdqPfXUU35cqly5cn5Rmo73aWqwJqPoWJ+Oa+lCrHAXZ+n2+jn9vO5n4cKFfr+azKzjajq+pmOKmnCsxz0dJqQkR9tNx0a1jI+OgQbbQksWTZw40SfPaHkiAAAQnyioAEAU6MvlwYMHbcmSJf7Fs379+l6yUOFC660qKmHoqgGN8Gzfvr1NmTLFdu7c6YWL0228pQo6es7ffPONLxP0yiuv+BUlmn6ibTBz5kyfuNK/f38v5TRr1syqV6/uU1e0XbJmzepXkqioEvolPiiw6Mu+iiq6ykS3L1mypC+npGk0+nLfrVs3GzBggF+BMXfuXFu9erWvy6ullDShRhNuTvcv9wAAAAAAADi1/v3vf9vHH3/sy+joOJYmo+jCq169evl0k1q1avlS1SpX6LhU+vTpvYyiY3vB8Sv9ty600oTgIkWKeDFDx7508ZamrGji8tKlS305oMOHD/uxM134FWsXXOnYm47BrVu3zicu33TTTX6xmlK4cGFf4lvH6vTaAQBA/KKgAgBR9umnn9qqVausT58+PgUke/bsfvWArq4IrqrQEjh33323rzOrQoe+FGt8qL4kx9IVBSqwaImeHTt2+KQVlVa0XVQyqVq1qn+Jv/32230baYmg6667zr/460u+tpG+0Ca+EkUHBDR1JVOmTH6wQNu4efPmfiBh9OjRfpWL1uvVlSlaokiPrzVw9b6oSKQrVCiwAAAAAAAAxCZdWKWJwJpUoinAOi6kosSLL75oGzdutNmzZ9ugQYOsdevWfkFUnjx5/CKz0ONPio5L6RiUlqvWstY6dqWpwSpf6Of08wMHDvT727Ztm09I0XG9eFmaWhNgXn31Vevdu7dlyZLFzj33XJ+WrH/Xr2nyMgAAAAUVAIgyfRHVlQEqRKgkMXnyZGvcuLFPT9EXNX3BVelCBQwVVzT288EHH/RpIPqirFJHrNAyQSqDqHijgwJaU1fb5cMPP7R33nnHv8RqBKhGnepqlUcffdSaNGli9957rx8c0PhUfbFNfIBA208HCfR7mkxz+eWX+7bUwQIVV3TFhg4W6AoWlWH69u3rI0Wff/5527dvnz++nhcAAAAAAABii45H6bjTpk2bfJqJjgs1atTISpUqZTlz5rQbbrjBjzmpeKLjSjpep6V5Qo89acqvbqPJvg888IB16tTJj10tW7bMjy3p/nV8SZN8tcSNjn1p2nC8lFNEhRwdyytQoMCxi8xy5MhhHTp08EnHWjIcAACAggoApCJ9EXvjjTdszZo1/iVWo0I1OSW4qkBfePUFWP+tX2/RooWNGDHCb6/JH999993Re4pNmmKiiSYfffSRLxOkKyv02ufPn+/FHo1F1RUX7dq1s4YNG/rUldKlS/vBAY1R1bQVlVRCx6wGUQFIBxI0jlVflLW8ULVq1bws9PDDD/skl2HDhvlSSyrIrF271pcpUmlGo171vFgfFwAAAAAAIO3Rcjm6GEpFkf379/vxJC3XM2bMGHviiSf8WJKWitZyPToupOknl156qRcpgmNHKlSkS5fOMmTI4MWV4sWL2/333+8XT3Xt2tWX8Z46dapPP9aEFE3q1UQWTQ6Jd0eOHPFtrenIunBM21VLemuqzObNm/0iNQAAAKGgAgB/EV1JcejQIZswYYJPTNEXX40PVZEiuEpDV2fo13VVh4oTKkzoi28srlMbKW03XZGyd+9ev0pF20/lEpV5NE5VBxlUVrn++uv9gIK2qZYIuuiii7y8ElzBERx8CLazfl0Flrx581qFChWsadOmvkyQvlwvXrzYyzIqzehqEBVWdEWMlghSaUjFI10VwzJBAAAAAAAA0aOLh7Rcj46NBZN5P/jgAy+LbNmyxWbMmGGPP/64X5Cki79UREl8LEgXNunXtPy2Sio6dnTttdf6bXVcSKUUXcyki8aCpbg1FSVej8UlR9tE20bH57S9tQTSWWed5ReR6Xjn0qVLj94SAADgdxRUAOAvovGimsrxySef+FI+mtqhMZia7HHllVce+9KsL8v6UqelfypXrmyPPfaYrVy50r98x6NgmaDgQIS2n0ojmkyjqzUOHjzo6wfPmzfPRo4c6du0WbNmXl4pWLCgZc6c2b8sB9s3SLBMkApCKrSorKIRr7ra47bbbvMlhkqWLOlTV1q1auXjYLUMk8orO3bssLfeesvfT0oqAAAAAAAA0fHFF1/Y4cOHbfny5TZu3Djr0aOH1a9f38sRt99+u0/O1XLPOpZ2ySWX+MRiHfPRxUnBMSBdxKQySokSJfxndR+6rxUrVvjy3Dq+pOM8mvCrY0/BVN14Wq4nUtpGWjZJxyy1vVX+0ZLb+m9NsWFyCgAASIyCCgCkAfqSq8komtLxzDPP+FUaFStWtFy5cvmXu+ALtK7ouOOOO6xevXo2cOBAv4pDhQx9Ocf/aLSqtqeW59E2XbVqlc2ePdvGjh1r/fv3ty5duljz5s2tdu3aVqlSJT8goe2qySu6YkYHKlRWCbZ7EB3UUHlIZSFNailXrpzVrFnTp7d069bN3xMd0Jg1a5ZfIaKijCa9aPKKpr5o1KwmrQAAAAAAAOCPVALRVA4d69LFSDquomWYtfzzxIkTrV+/fta+fXtfrqds2bJ+QZEKEbrAK/QYjooSmo6iskru3Ln92E+VKlV8yehOnTr5MRwtJ63jNzt37vSltXXcBpHTxXO64E5LcOsiL02E1jbXBBod39RFZQAAAIlRUAGANEYTQrSEjEoVKj2oCKGSipan0YjM4IoPLV9TqlQpH1uqIoTGaWr5G8aNnphKIrqCQ1fcaDtr+SRtx5YtW/qklXz58vkBDK2Zq22vwooOdKigcs455/gX7sTLBAXRF/Fbb73VJ+E0aNDAunfvbqNHj7bnnnvOD6q8++67/tjffPONLw+kq3BUqNFUGL13msDCFTkAAAAAACCW6diHjoHpGI2Oi+j4iI6VqJiiYycbNmywSZMm+XEVXRyk42NXXHGFH5cJjsHoGJmOz+h4Wbp06fzYjY7h6NiMJuMWKlTIatWq5RNSVEbR8TPdt46f4eTp2JWOY2np7SZNmvikYr0X2va6AEzHwTT5WO8vAABAYhRUACCN0Rd0raX7+eef++QNFSiGDRvmU1OyZ8/uX8T1pU9fvPXFXFM/dMVI69atberUqV66QPL0RVoHQFQQ0YEPXfGhq3K01JJKJFu3bvWxrpqEom2vAxlaJkhX2hQpUsS3uZYBCldS0UERfTHXpBVdwXPTTTdZjhw5/At60aJF7Z577vGDI+3atfNSjCau6GoTrZOsiS8qr+hLPgAAAAAAQKxSIeX999/36SULFiyw4cOHW9euXX0yipbrUblEk4V1XEUXaekCIk27DT0Wo//WsTEt7XPvvfda06ZNfWlsTVp5/vnn/ViLluzR8RY9lo65qAxDceLP+fLLL23btm1eTrnuuuv8Qi5dWKf3Qctt69gkSyIBAICkUFABgDTu+++/9/LE4sWLrU+fPn7ViL6kq/ygkoq+mF9wwQWWOXNmX66mV69eXnjQF/z33nvv2FQOpIxKIl999ZWPeN2zZ4+tXLnSCyv6oq33QQUTrVOssaUqCKm4orGyWv5HywTpah29P6HlleDgiQ6qaK1jlVb0s1pqSAUjvXc6IKMxqIsWLbLVq1d7WUYHU1577TVfJkjPiQILAAAAAABI63Q8SpM0NClYJRFdFLR+/Xo/xqXpKFqGWcv16EKekiVL+oVZmmYbTA9W9O/BkstZsmTx5XqKFStmFSpU8Iu5OnToYAMGDPCLtnSxkY6hfPTRR37shONhp5YKJ1oGafPmzf6+aYJw8D6pnNKxY0c7dOiQv+cAAABJoaACAKcRfblWWWXMmDE+zUNXkAQlleDLu65Y0Lqvumpk3rx5vvSPJrLoSzlXLpxauupG74dGxM6YMcOefPJJe+ihh7wopLKKxslqooquJFG0/rHeq+D9Cj3gEhpNYNFBFx1wqVOnjl9BNGrUKF8maP/+/fbZZ5958UhXoyi68kfvb/Ae8z4DAAAAAIDUpGMROi6hYxSKjlfouIkuuNFFP7rgRxf7aLJs1qxZfTmYxMdDdJwkOG6iYyg6lqJJwprSoam0DRs2tH79+tncuXP9+IgmeSD16H196aWXfCJwcFGW3jO9V7rwSuUgXWgHAACQHAoqAHAa0Rd9XYWgqR4apamJHrpSpESJEnb11Vf7dA59edeauyo43HXXXT6dY/DgwbZ27VpfNojpG6eOvpjr/dB21RrGL7/8sh8g0dQTTT/RJBtdwaPt/8gjj3hpqGrVqla8eHG77bbbLH369H4VkA68hB6Q0XuoqTi6OkhlI11BlDdvXj8Yo4krmtrSoEEDvzJFpZjx48f7ONxNmzb5MkW6Mon1lAEAAAAAQLTpAppvvvnGJ6ToAp7Zs2fbkCFDrEuXLj55tmLFin4Bjo5raOqsLubRhTm6oCf0WIiKKJkyZfKpwTruoQuAVISYMGGCT5nV5JXdu3f7sRct16MLsjjGlXpUPNES2XpP9B6plKL3TeUhLYu9bNkyf090rAwAACA5FFQA4DSmcoTKELoKRV8GVVTRVShaQkZf9PVlUVc06Itjy5Yt/Uv9unXr/OoVfWn8+eefj94TokFXC2lNZZVXVFxRaUWlIi3j07NnTz/YoiWbdPWQSisFChSwnDlz+vrKWibosssu8wJL6AEbRYUW/boOAmhSS5kyZbyI1LZtW+vbt69P2NEBIV2hpNKKDuBo/V9NewmWCdKBBR00YNoKAAAAAAA4EZVBdCxJxxVURtFxDi31snTpUl+qWBfQtGnTxqpVq2aFCxf2somOXQRFBiW4IEcX7GjpYy0Lc+edd/rFODVq1PCLsJ566imbOXOmbdiwwV555RV/TJVg8NfR8SMdU5o2bZqVKlXK30NNTtGxqwceeMCXVtKySgAAAJGgoAIApzGVC1SC0EECjTXVQQF9mdd6vBdffLF/+dcXxmAkqpb/0Zf+gQMH2r59++wf//jH0XtCtISOuNV7pVKQ3i8tu6RRt7rK6PXXX/eDOiqvDBo0yIsmmrSiwoq+7AcHckITjL0NRt5qeo7eYxWSdABI5RYdDNLUFZVgOnXqZMOGDfNJKzt37vSrXoKlnwAAAAAAAJKiYweaHqtSipaT7t+/vzVu3NgvttHkVx1v0vEIHZcIljrWMQsduwg9jqFlfTRFRRfqqMyi4xSavKEiyrfffusX0+iYiY6dBEsac2HNX0vbX++LjicVLFjQLr/88mPvq8opc+bM8feO40sAACBSFFQAIEboi7uuYtmzZ48vLfPYY4/5VStaHiYoqyi6SuWOO+6wypUrW48ePfyLpJaF0VQNpD59gddyPDrQ88477/havrt27fLRtSocqbQybtw4P/jTuXNna9KkiZdXNC1HVxppiooO8IRekaTov1VUueKKK/xgkZYUUuFFV7pUqlTJJ640b97cunXr5qWYiRMn+n6jK5QOHTpk7733nh9gAAAAAAAA8UHFEE3COHjwoK1atcqmT5/uyxZruZ5GjRpZlSpVrGTJkpYvXz6f/qqliRNPflU5RccidDxKBZbq1at7GUVLw2iJ4vnz5/uEWR370HI9ejxNn6XgkDapnKL37MEHH/Ryii6Q0jLjugBuypQpfixLxyQBAAAiRUEFAGKQrjDRl3yVTzQ5o1y5cnbLLbfYVVddddyBAx1MUIlFE1Wef/55v2Ll008/9S+fSBt0gEZf9D/++GN74YUXbO3atfbss8/6VUbdu3e3pk2b+gEiHfTJnz+/5cqVy26++WafnqIy0qWXXupXMqmwEnrlkqKDCrpNjhw5vLhSq1Yta9eunfXr18+Xg1q8eLEvIaXSkx5bS0NpuaJPPvnEC00q1ui5cTUTAAAAAACnBx0z0kRXfa9XOURLt2hZYC0PrGMOU6dO9TJJixYtrEKFCn5xjIoomo4SHE/Q8QUdU9AFUTqukDlzZrv11lv9gihdUKPjCx07drShQ4f6xJUdO3b4hTAcbzq9aHmlvXv3ejkpS5Ys/r5rWXGVlLS8tJZ6AgAASCkKKgAQo3TVi65A0dI/W7Zs8YMCmpqiaRrBAQWNXdW6sboColChQn5Fi0Z26uAE0o7QpZx0MOef//ynLw2kJZo0eUWTc1RI2rhxo09c0dVNDz/8sC/tU6xYMS8iBSWV4L0PDijp13RQScUl7Qs6uKT9QWUmLS+kn9V9BAeXnn76aS/IbNq0yZcm0vPQwS0AAAAAAJD26WITXXyiYwiagNGzZ0+rW7eu3XnnnX6xi6ZjaNlgTWs9//zzvZiS+KKXYEqKLpSpUaOGT2fVdJQ1a9b4xU8qvuh4lI4Z6NiUlhjmApfTj44nPvTQQ35sSMcQtWyT9pMBAwb4+6tjjwAAAClFQQUA4oCKDFo6RlNSnnrqKb/yoUiRInbNNdccO7igSRu62kXrAHfo0MEmTZrkX0Q/+OADDiCkcZqyooM9ep81WlVXPm3fvt3H8WoMqw44DR8+3Jd9at++vTVo0MCnruiqpty5c/uVTjr4pANMwf6g6MCDDkDo91Rs0qQVHYjQRB6tM6z9SPen+1UBSldZaeqKlgk6cOCAvf32235FFmtGAwAAAACQevQ9XNMv3nrrLZ+Msnz5cps2bZpfdKIyiaaxaqLu3XffbXnz5vXjApqMEVpE0TEBFVQyZszoxw5Kly7tF8Lo4qa+ffv6BI3Zs2fbypUrfbkeTV3VRTQ6PsFyPac3lZg09UaTe7VUU3BBk5aPVjlFx3y4WAkAAJwsCioAEGe0hI+KJ1rW5/7777esWbP6OFYddAiKCRrdWrhwYZ+YoWWCNLJTy7pocgcHGU5furpFVzLpKim9ryqtPPLII140uffee/3KJ5WUtE+okJIhQwa/IkoHITSBRQUWHaAK9hNFv6YCi5YV0qQVXTnVtm1bXyZo8uTJfhBs3759XpDSZB5dpaXlir744gu/kkoTYX755RcKLAAAAAAApEAwbVXfq1VG0fEeLaOjaaeHDh3y4oguPurVq5dfqKJlWW688UYvG4R+r9f3/HTp0vl3f01Tve666/x2ukhFywnXrl3bSy0qpOjCJ10Uo8dDbNL+pGNHvXv3toIFC3phSVN0cubMaa1bt/ZyCgAAwJ9BQQUA4ozKACqa6MDF/v37/WoXXf2SJ0+e40oHOmChsa66SqZ69eo+IUNXT2iZGZyedOBKVzLp/ddkk88++8zH7qo0EhzAWr9+vc2cOdOvqurcubOP+dVVUjowpaV/QtecVnSgQvuLDmZdeOGFPoknWB5IJReNgdXVNjoQpoNaWnpo0KBBNn36dB/9qwNbeh7aLwEAAAAAQGQ0wUIXfrzwwgu2dOlSGzVqlH+P1zEcXXSk7+L6Xq7pufo+r+/s+k6f+MITLfmr7+6lSpXyC1j69OnjE1J1fEDf2TUdVccOdKHJt99+az/88APTM2KY3nMdA9RxQl3Mpqk6Ki1pqR8tL/3dd98dvSUAAMDJoaACAHFMV0VoCR8tyTJ69Gj/sqnlW7Jly2Znn322H7TQgQqVDTQdo3nz5jZixAifiqGrKVR2QGzQlVcqiejglq640gGJrVu3+tVRs2bNsrFjx1r//v39qqmWLVtanTp1rGLFir5fqMSkq6s0eUcHu0LXpQ6itat1QENFFy0vpYktKqzovnSfGhGrx9Bj6cDapk2b/KqcN99889iIYA6AAQAAAADiib6rqxCiCzt0HEbL+ep7ui76UIng0UcftRYtWvgyvLowJFeuXH4MR1NQVSwIvpNr+V4t4ZMlSxa74447rGzZsr5cj44D9ezZ0yes6mIVLRW8d+9eL6Xo+IAudEF80H6mYzDaF7QktCbqaL/RRUgqLi1atIhjMwAA4JSgoAIAcCqraJLGjBkzfC1iXWmjq2w0SUUTMlQ6UFlFV9/oIIbKBEeOHPHygCZy6KAFy7TEPl0tpQNVOii2YMECLyxpmSCNC9YBLhVQMmXK5MsD6SCGrtLSQQ3tR5qyEm6ZIP23rsrRvqWrvLT0lMbGapkgXbWlA2S6IkxrZ2t5IB2Y+8c//uEHy/71r3/5ARKWCQIAAAAAnK6Ci0Z0bEYTKvSdV99933//fZ92umLFCl9ip0uXLl5GUclES/KGXiASOuFU38FDJ5wGy/I++OCDvnSLvmvrwhAdB1Ixge/T8U3H9HQB2/+z9xbgVlZr2/b/va/bVlC6pRukuxtpkJCUBgGlu1tAuhuU7m6kBWmQEhAkJETsHe73uP/vvD8e3unauDcqsdbiOo9jHMqKOedaaz5jjGfc131dnAmWKlXq7nuK91jevHldnML5nxBCCCHEg0ACFSGEEA4dEBT6if45duyYW7kiEChbtqwfaHDAEeQSE/2TNm1ad1vB/WLJkiVu96qYlsgPhxYcXiFU4XDi0qVLLhyhk4tDs08++cQFJTNmzLD333/f7YU5ACtZsqTbwwadXMFhR3CIRmcX7y3ELDixxI8f3zu7EEplzJjRsmfP7o9Rq1Yta9OmjQ0aNMimT5/uh3REVXGQovgpIYQQQgghhBAREc5jEIvQDDJ37lwbMmSIvfvuu1a5cmXLly+f3xfjdpswYUI/oyGuB3eL0Htr/h1ENXOWgzsKTqiIDnDOxaWUiJbz58/b1atX7ZtvvvHn/Z//+Z87r0I8qXCmt2jRIitQoIA3GgXvKSKfceuhUenvf//7na8WQgghhPhzSKAihBDiX0CsggiBwwsiV7CMJcM4c+bMd2NcEBRwIIJ9bPXq1V3MMn/+fLeCpctHYoEnlx9//NGFKwidiAkisgfBCjaxPXv2tFatWrnjCgdtiJyI/OGwjZggDtNwU6HrK/SgjUEHGM4sadKk8e8hYqh27dr+eDwubi50gS1YsMDWrFnjz41oBotahFe4rcieWAghhBBCCCHE44CzFhxog/tlxCg0XXz00Uceu4yzCTG4gSglVapULhYggjn03pgzGe6dEaxky5bNihUr5q4qjRo1si5dutjw4cP9LGfDhg1+T4z4ACGKEGHhjATHHhxSiPF59dVX/T1GY1HOnDk9jhlxCs4+QgghhBAPCglUhBBC3Bfbtm2zXr16eTcFHTvE/dCdg6sKg3/nyJHD4144BMHRghtYXFXUjSNCQfxEt9ann35qy5Ytc5tiRFD16tXzgzVcU2LHju1uKoigEKzw/uIQjvcc4qhQG2NG4MJCJxndYohXyOHu06ePTZ061datW+cHgEQE4f7CoSBCGl4LYirepxwWytZYCCGEEEIIIcSfgTMQCv84TnDPyb0nIgAaJ44cOWJLly61YcOGWfPmzd0pNHny5H7fGxqHG9zjcg+M2yiCAe6PuU9OnDixO1s0btzY3UVp0qDB6MaNG2rKEPcN5x+8Lzkr4fwEcUrwnsPRdujQof5+FUIIIYR40EigIoQQ4r4g//jUqVPe4YOgoEGDBu6oQjdPcHBCvjEHK7lz57b69evb+PHjbe/evXbz5k0V/sVdgjip27dv+wEd9sJEBB08eNB27drl1sMc2E2ZMsUP29q2besxQaVLl/aoHw7jOJgLFagEB3iIWDiwo5vstdde844zooVy5cplhQoVsvLly7sQhtzuwYMHu+PKypUrbc+ePR5VhHhFB3pCCCGEEEIIIf4I3E9yBnL8+HFv3sFNlJidFi1auDMK96Xc16ZLl87vbWmywC00tBEDoQof454W91AcbYn74R529uzZHqvLvfPhw4ftzJkz3ojB/TXNFzp7EfcLAiqETbjS4mqLUw/vwSxZsljnzp09ThkBixBCCCHEg0YCFSGEEL8bBAXY0CIeQDhA8Z+Dk1DRAFEsxYsXd3EBDhY7duxwW1BubuWoIv4TCFiIikK4wnsHpxXEJORwc1CCdTGHdG+88YYf8OHewwEfXT64r7z88sv/YoPMoPMsevToljJlShdSkctN3FCbNm2sf//+LqqaM2eOi1YQyiBcOXr0qItXcH1BwKLcZSGEEEIIIYR4suG+8NatW3bhwgV3oNi9e7c7dxJ9TFMPcT04nJQrV87vVxMlSuQuKKH3p0Tbcu/K+Qn3qFmzZrXChQtbhQoVvOkHh1qicufNm2dbt261kydPuhCFpg8h/iy4o+Dkw1kK70Oca5MlS2atW7f2yGTOP4QQQgghHgYSqAghhPhT4Koyc+ZMq1mzph+oBB0/oSNBggRWo0YNFxggOFCBX/xZOJDjsISDQLrHJk2aZN27d/fMZKyOcU7Bnpb3Y+gI+96814gaNap/P3FDHAr27NnT3VzWr19vn332mX3zzTfelRY6hBBCCCGEEEJEbkLvAbkvJLaWBgeiZWvXrm05c+b0hol7NUsEI/T+FJcUzlFovMAhZcyYMX7f+fnnn3s0kBAPC97DRPhky5bt7vsVoRRRP5s2bbrzVUIIIYQQDwcJVIQQQvwpcETBUQV7WaxriU4hQxmr2uAAhi4huoU4rEGogr3tqlWr3JUCC1ohfi8cpvzjH/9wkQp2xhzg0f2D4wnOJzigcFA4btw469u3r3cA4fZTpkwZd/xJkSKFO6mQrRxWuMLhDN1DHCwmTZrU0qdP7x1vOLVwcFi9enXvhMPJhQOd6dOn24oVKzz+io42cr9xgBFCCCGEEEIIETHhnhORyOXLlz3qhDMMGhf69evncT3cF3L2QQRPhgwZ/AyEe0xcKIjoCe4vie4hGjlt2rRWpEgRe+utt9zB8/333797L4k7Cs9x+vRpd+78/vvv5ZIiHhq4G0+ePNlKlSrl703er5x9ILLauHGjRzELIYQQQjxMJFARQgjxwCBned++fTZx4kRr3ry55c2b17uBuOENRAAU/jNnzuxOFyNHjvTODFxVKOojOBDiQYFTD/bHZHJjt8zBHy4+5HYjpOI9WL58eT8kJO4nU6ZMljp1ao+rihUrlkWJEsWeeeaZuweLwQhsmIkTQriCaKVevXrWrl07j73i0HLx4sX+3ka0QqYz73GEXBz0KBtcCCGEEEIIIcIHCEF+/PFHP5P44osv7Pjx47Z3715vfFi0aJHH9XTr1s3dNRGkIEZBiMJ9YXCPSIGfe8dXXnnF4seP7+cgnHvky5fv7v1ily5d3CFlyZIl3lhx8eJFf17dF4pHBXHbCK5o5uG9jGMKDTq8nxFOzZ07188rhBBCCCEeNhKoCCGEeGBws/vLL7+4ewSHLRzodO3a1Q9lgsMbhCr8/7PPPusiAPKVyWbma7HIFeJBwmEfB46InxCs8N786aef/CCQrrTr16+78woxQXQQ9e7d291RSpcuba+//rq/R4NDx9DB+5hOOBxYONDh/YxT0AsvvGAvvfSSu6+kSZPGY4I4jORAc/z48bZ8+XIXrFy7ds2vFR1GCiGEEEIIIcTjA5cUHCVoMKDZpmPHjlalShXLkiWL39cRw8O9Hvd83PtxnhHqkMLg49w7Zs+e3V1jOQehOWLbtm126dIlv/fkHpTnolmB+1POT3Q/KB4lvO/mzZvn7j+8n3kf01CWP39+mz9/vhpphBBCCPHIkEBFCCHEQwEhAMV/Mpm50aXwz01wxowZ77pSUNznEAfnigoVKnhH0ezZs/171LUhHgWIV4ipwkYZp5WDBw/a9u3bbc2aNbZgwQKbOnWqDR8+3EVULVu2tFq1ankHHI4rCFDixInjh5VhDyg5tOQgkwPNZMmSudgFR6ESJUr4YSeiFR6vZ8+eNmLECJs5c6Y7vOzYscM79ogt+uGHH+68SiGEEEIIIYQQfxTEIMTDcs9HPPHSpUtt0qRJHtfz7rvv+n0ecbA01+CQkjBhQosaNeqvXFIY3PvhkII7Cg4URKK0bdvWnTS5dwycNInrIYYWVxYaJYR43HDmsX79eo8+xg2WpptXX33VHWURU3FtCCGEEEI8KiRQEUII8dChS+jLL7/0Q6BOnTpZgQIFLFWqVF68R6xCcR+xSqJEibz436tXL1u9erV99tlnfhPN9wvxOEDAwvvvwoULHl9F7jiHNxxAkhvOQSYHk7ly5XIRCqIVsps5tIwRI4bHBNGZFERchQ7e+wkSJPDOPLKfOSgiemjIkCEuWOEawPoZ0QzXAgecXEcIvzhcRQTG61OHkxBCCCGEEOJJh/siHCJwK0EYgqvrqVOn7PDhwx69umzZMhs9erQ7pNSsWdPPJbh3wwEzaDgInDIRolC8jxcvnn9NunTpLFu2bN5wQFRs9+7d3W2FxoajR4/683FvJkR4IxBnbdiwwd555x0Xp/B+x/WHc4w+ffr4uZsit4UQQgjxKJFARQghxEMn9KCIvFsK7uPGjXPrWw58uDHmIAiRCq4TMWPGtKxZs1qDBg1sxowZdv78+TuPJMSjJ3j/IgjB1YTDna+//tqFIjid8P6kQw5ByZQpU6xv377WrFkzdwXKkSOHi1DovAsrUgne8whYiAZCzMIhKO9/nFk4OEqfPr0fguK40rlzZz9QJQd99+7dno+OTTQHTkIIIYQQQgjxJMM9G/dpCFJojsEJE3eUcuXK+X0VTQQ4uBJp8vLLL7sIhfuxUDdM/p+P44JZtGhRa9SokfXv398++ugjvwejaYBiPoIUXF+5PyQWRY0DIrzCOQaNL+3atbNXXnnF3/M0y9BQgzjl2LFjivYRQgghxCNHAhUhhBCPFA5uKKqfPHnSC/rEmzRt2tQKFizoYpXAbYIupuTJk1uxYsX8UGn8+PFulUsXFAdPunkW4QUEIrynr1275geWBw4csK1bt9ry5cvtww8/dDHW4MGD3T2I9zrCrNKlS1uePHm8E4+DUg5I6dQLFbDwb64HBCt07RGFRTY01tNvvfWWNWnSxDp06GADBgywsWPH+nOtXLnSY4Lo4uNaQUwjhBBCCCGEEJEFCu6IRCisf/zxxy7gx80EIUnr1q2tbt26LkohYjVt2rQu/ue+KvReiyYZmgMQouTMmdOdXPk+XDIHDhzo8T8LFy60zZs3e4MNzQFEw/7yyy93XoUQ4R/OAxBs4dTKeULw/k+RIoW1atXKtmzZ4u9rNb0IIYQQ4lEjgYoQQojHBjfBHC4RnYJQpWrVqn7TTPQPTipB3jNilYwZM1rz5s29c+nIkSPuxIIjCwdEEquIiMBXX31lhw4dsnXr1rkzEDFB7733ngtWChcu7O9xDooSJ058t7uPQ1Pe/xyoIlgJ68JC9xMCFoQudPgROURn1NChQ12wwoHq8ePH7fTp0+70cunSJRfS3Lp1y68frj9dQ0IIIYQQQojwBGcFf//73/2eBVcUBCmIRLiv+eSTT2zx4sX2wQcf+P1UxYoVPTaVcwTuj0LvlzhTwBEF5wjur3C3RJTCuQNOlTik4IA5a9YsF7twz4SbhBARGe7vaeyicWXMmDEu1OIsgRE9enSrVq2au6rcvHnzzncIIYQQQjxaJFARQgjxWAncJyjenzlzxnOh6e7AXQLLUQ6VggxoDpRSp06KhQMsAAD/9ElEQVTt7hN0R+FSQaFdXUwiIsAB0U8//eRdTFhCEw904cIFd11BRMIBEQ4oxAT169fPWrRoYW+++ably5fP3YQQqoQ9cA1igrg+iAjisIkOwYQJE/rBa5o0aSxz5sxWqlQpz0rHxQUx2Lx58/wAlkx2XUNCCCGEEEKI8ELQyMK90vbt2114j2skDpLc1yBGQdifKFEiF6Ug6icylfuisIJ+7o8QoxC/imMEQv4FCxa46+SJEydckELzC4V6nCQQp8hNQkR0OHtA1EVEMOcBOLZyPeAchFMQAi85AgkhhBDicSKBihBCiHAFQhUOi6ZOnepCFax26fbg0InDJjqgOGTKlSuX31gjVCFfGleVb775xm/EhYho0OHEYSgHo2fPnrX9+/e7+8mSJUts2rRpnp/es2dP7xCsX7++ValSxTv+uA5wT+Fwlq7AwHUoGFwzCLy4fnBm4XCWOC0OaLl+iM/q0aOHdx8ijJk/f76tXbvWdu7c6d1WdCkiYOG60kGtEEIIIYQQ4kFBcRzxPkIUnCaJG6Fwzn0JbpM4QyKyL1u2rN/3IErhviZUtM+9znPPPedCFcT5NLoQiVq7dm0XpPTp08fjghGl8Pjc41C4p3FALpIiMkKsNudquLZWqlTJ3Ym5TuLGjesCLwRfXHN6/wshhBDicSKBihBCiHDLl19+6XnSHCxx0ISDCjfXdH0EnVFRo0b1fGk6oSiq8z3YAGMHrIK6iGwgFjl58qSLV2bPnm2DBw920QoWvTit4JqCgwqxP9GiRfPrA+cVDm25bu4VE8THcF/BpaVAgQIeOdS2bVu/pubMmeNOK1hpc21dv37dLbZv377t1xkHuwhrFBMkhBBCCCGEuBfcl3N/zr0Drg3c03Bfce7cOXeRxN0RQQoOKcWLF7eUKVP6/UvoPct//dd/uTCFj3N/gzgfx1UiexDs09jyzjvv+D0MIpeDBw/6PQvFeiGeJHjf4zzEORnCLe7/cVzl2kK0gjhFCCGEEOJxI4GKEEKIcAu2vteuXfMYkvXr19v777/vkSccWFFs56AKxwgOpuimokDfunVr++ijj7yg/sMPP9x5JCEiBziZEInFoW6Qw871gYPQvn37XEyC68rEiRM9S71ly5YuXilUqJAf3CJcefbZZ3912Bs4EwXZ7Bxi4cjCNZU+fXrLmjWrC8TKly9vDRs2tC5dunhMEOKVTZs2+XPzWjh0FkIIIYQQQohQcDo9duyYOzVOnjzZevXq5fcViEpy5sxpGTJkcLF8/PjxXWTPfQmClNB7FhpVcITknh9BPW6rI0eOtIULF7oDK4IUhPwU3xG/IKaXiF48iaxZs8adh7inf+aZZ/x6Klq0qF8vxAxzziaEEEII8biRQEUIIUSEgE4rDrWw5iXqhIiTbNmyWbx48e6KVfgvtr7YmHbr1s2FKnRkXbp0ybu1hIjMcPhKhyA22QhXOKRFQMKh7aRJk9xtpVOnTta0aVM/1KWjqnDhwpYjRw6P0eIAi/gsBCxhD4QZ5FYnTJjQMmbM6IIXrrMGDRq49TaZ8FhnYxe8bNkyf16uPa5ZXsuNGzfs559/VgejEEIIIYQQkQwcUkLjSrkP2bp1q98XzJw504YNG2YdOnSwevXqWenSpV0Az30FTiiBuyP/5R6Ee47AFSV37tweSVK9enV3R+ndu7ffc+CQgiiFphTcHeWcKoT5OcAnn3zibqgIvrivJxKLczOchbguhRBCCCHCCxKoCCGEiHAgVuHGe8iQIZ4vTaQJN9+4QAQHXPw/N+LEAy1fvtztg+kUoYtKB1jiSYZuQjoLicSaP3++ffDBB9amTRt3WsmbN6+99tprfpD1wgsvuIU21xbiLyy1ua44OA6us2Dwb7qz6HqkC7Jy5cr27rvvuusRQrFt27b5YTWH1jjAIBjjeuQgG1eY4LpUh6MQQgghhBDhE/bq7NnZu+OeyH6efT2FceJAEY0gSOnRo4fVrFnT7wtwO+U+Iuy9AzGjfJx7CO45cEjhHgQxfMWKFV0Ejxhlw4YNfi8vd1QhfhuuyePHj3v8L+Ku4BrLlCmTdezY0cVcQgghhBDhCQlUhBBCRDgoaBNxcubMGY80mTBhgjVv3tw7rKJGjXr30Iu4kqRJk1quXLnc6QFLUwrlX3311Z1HEuLJg8MrDpLpNsRd6PPPP7ejR4/a3r17/Xpat26d58CPGTPG7bdbtGjhXYvYAr/++usuQkG8EnrIzEC4wuEyB8s4GyVLlswPxxCK5c+f30qUKGFVq1Z1BxccjrgeEa8Q33XgwAG7ePGivy4JyIQQQgghhAh/sFdHiMJ9w9KlS23cuHG+ryeuh8aRAgUKuDtKqlSp3AWF+wIEKKHidv5NjA9RosWLF3dXlc6dO9vo0aM9qjRwYuT+5Pz58x7Xg8CdexghxL3hmuzXr5/HZeFCRJMJ1yHxvLiaSuAlhBBCiPCGBCpCCCEiNHRuUWTfuHGj25bWqlXL8uTJ48KU0CI6BfOCBQu6owq519u3b3eBy+3bt+88khAigEPgy5cv2+HDh23z5s0erUUHI4deuK3UrVvXypcv74fKuK5kzpzZD8CICaJLkmsPt5Xg+gsGH8fxCOEK1yNOK40aNfJDaa7f6dOnu2U3Ihmu0f3799uJEyc8JojDaQ7WdDgthBBCCCHEwwGXFO4FaOpAyE4sCPvy1atX2+zZsz2up3379n7fjYCdfX3MmDH/Ze9PgRwhCvcHfA1uKsWKFbM333zTmjVr5nE9EydOdLfTffv2ufCFRhQhxP3DtYpTKXG+NIU8//zzfu1xHkYsFudkQgghhBDhEQlUhBBCRAo4SEOsQiF74cKF1rhxY0ucOPGvDsno3MLlgQiTcuXKeZfWkSNH7jyCECIsXFeBlXcw/vnPf9rPP//sh9YcJtPpOGrUKD+orlGjhuXLl8+vMTLlQ6+/0MG1GAyuyWBgQ8wBN1bEZcuWdWekAQMG+GE47i7YexNRJIQQQgghhHiwsO9HDM49NdE6OKQgTmdfnjp1ancoZb8e7N2D/fy99vuxYsWyHDlyeNRPz5497cMPP/SY3itXrvj9RHBvEdxvMIQQvw+u1UmTJrk4JbgWY8eO7edduKrgeiSEEEIIER6RQEUIIUSkgQMuOkiICtm9e7cXtbt27eo350mSJLGnn37ab9pxcSCmhOgRCup0b+HaoFxeIe4PrjUy54naotvx5MmTHtNDdyXuJ1xPuKF88MEH1r17dxeaEBOE4wq234jHokSJ4gfbYQ+zsf3m8JtrNEWKFC5WwaWF7yWPHvcWnJC4bhGZERO0du1aF8vQPYYrEmI1IYQQQgghxL+CUwl7Zu5/icDFLZF9NffORONWqlTJ3VEQmCBMYV9ObMhf/vKXu3t2hCo4NSRMmNDvq4n44Xt5DMTr7NHXrFljO3bs8KYQ4nqIGOUeQgjx5+Hed9q0aR6tRZMH1yRNItWqVbP58+d7QwliMCGEEEKI8IgEKkIIISIldGARB0Le7syZM61FixZWpEgRP2AjgiQQq3DQRjTJW2+9ZcOHD/cDus8++8zjROgeUyeXEH8MDp9v3Ljh1xPuJ4sWLfKYoD59+rjABHFYiRIl3HGFQ21y6JMnT+559VyjL774ol+noeIVRpBbz3WLcAXRCo5JHIaPGDHCD8NXrVrl1zJdYxyIc/iOkIbXgwOL7MOFEEIIIURkB9H2t99+a1evXvW4HvbFe/bssfXr19ucOXM8YrN169Ze0GZfTVMHe+3QvTfRPTR4sD/HJTFNmjQuOC9UqJBVqFDB43qIAaVQzuNy/42IXfttIR4OXNfffPONuxJx7SIU41qNGjWq31tPmDDBxSm6BoUQQggRnpFARQghRKQFcQk35diaIjjBVaV///7eDRY9enQ/bEOkwn+fe+45ixMnjmXJksXatWvnGdsIXBCpCCF+P1x/OK1wDXGIRiwQDkcIRDgo51Dt8uXLbvVNTBBdm507d7Y6der4NYqY7NVXX/3VATmDaxbnFa5bBCwcyHFoTrcYriy4r5B1z7WMe1LTpk2tb9++dw/Njx8/7s8thBBCCCFEZAbHkoMHD7pQ/P333/d9Ma6EiEzYZ9OsgSice2H21TgwBDEhweBrkiVL5t/H9/M4PN7+/ftd/M2+nv0999x/+9vf/P47iO4RQjx4bt686UIzBGLPP//83WuW++cpU6Z4c4auQSGEEEKEdyRQEUII8USAtSmdXIcOHbLly5d79AhRIdmzZ3c3BuyKGRS4cXKgsE03GTf4CFsoaCs2RIgHC+IVri3cTU6cOOGOJ5s3b/ZrlI4wcu8HDhxoHTt2tCZNmljVqlX9cBzHFdxWEJrR5Rn2IJ0Ddq7lePHiudNK0OVJfj5uSTxWhw4dbMCAAf4cc+fO9WgixDIc6CFoU163EEIIIYQIz1CE5h4VhxTcUTZt2uT7WiJ2iNnE3QSHBVwLietJmTKlxY4d28XdYffPiLyJ18yTJ48Xvhs1amRdunTx++ZZs2bZihUrPM7z6NGjHqmLMEUFcCEeHVxvXHcbNmyw+vXrW9KkSe9exzlz5rQePXq4gxGCMSGEEEKI8I4EKkIIIZ5IEKtQkO7du7eVL1/eMmTI4A4qHNbROYY7A91khQsXdleHZcuWeffZlStX3AVCzipCPHzowPzuu+/cknznzp3utEJMENdt8+bNrXLlylawYEEXoKRLl85FK7incC0jPPutmCAcWLjWEydO7Id5zAEcwnfr1s2dXMjs5oCfzlAO4RGtfPHFF374Tycqh350iFIUEEIIIYQQ4mFCswXxmbdv3/boDvalJ0+etAMHDniUJhGXgwYNsnfeecf3tZkzZ/ZIntC4Hva/NGTgOsjniNVk70xzBuJvvo9Y3MGDB/vjIUbheVTsFuLxgziF+899+/b5PWvQqIH7EdcyYjI+h2upEEIIIUREQAIVIYQQTyQc8hHhg1PCZ599ZlOnTvUuFOyOKWrTicIhHv/PAR5Fb5wXKI7TlcLhoBDi4cJBXNAZiqMJYhXEZVy3iMXo3jx16pTt2rXLFi9ebGPGjLGuXbv6tVyqVCl7/fXXvUs0VJwSekiPeAVbZKzLsTmPGTOmxY0b1xImTOjOKzgscViPnTmimEmTJtnKlStduMLzc0iozlEhhBBCCPEwoUGCfe+2bdts5syZvi99++23rUiRIi4yoUDNnheBNvtaitZBnG2w96WYzecRr1SqVMnatGljI0eOdOdC3FfOnz/v+1tie7jX5TnZg0uQLcTjh8YN7oG51+UeN7i+id8iopq5AXGKrlchhBBCRBQkUBFCCPHEQ5EZhwasUhGg0DlWrFgxd1fAZSE41HvttdfcUaVhw4Zudbx27Vr/PormQojHA2IzrsHLly97TBAxPVzLZONPmzbNhg8fbj179vTILoQruK5wfSM+CbU5R7ASXOsMDv34OG4sfB2dpUWLFvUD/Xr16lmrVq28e23o0KE2efJkW7Bgga1fv96fn9fBAT8iOCGEEEIIIe4H4jsQinz66afu9jlnzhx392MviztKjRo1PK6HfSnxHgisw+5h2b8iuMYZpUCBAr53xSkQV9Bhw4bZ9OnTXZSyY8cOb9TAkUVCFCHCN9xf0ozBNR01alS/1rlHbdy4sbsoXbt27c5XCiGEEEJEDCRQEUIIIULgcI4on4kTJ1rdunUtS5YsXsDGChlL5ODgL23atF6knjJliu3evdujPyiS8/1CiPADh+10nH355Zdue8yBPNc3nac4o5Cxnzt3bkudOrWL0oIOVGyTo0SJ4of8OK1w+B82q59O1Hjx4vk88cYbb7h4DdEKh4cIZIglIh7o3Llz/vzMEzdv3rzblYo4DoGNXFiEEEIIISI/7PnY++F0wL0j+0JEzUTpnDlzxgvNOKT06dPHGjRo4OJoHFLYk4buQdmTsg/F7RORCntX9rCIVoivRJSCOHvEiBG2dOlSO3TokLsvCCEiFswXRMwyL+TJk8evd86lmBM4jyICl3tKIYQQQoiIhgQqQgghRAgcGuJ6QCcZ0SHEhlBw5nAQJ4XgUJBYkFixYvmBYZkyZaxHjx62Zs0au3Dhwp1HEkKEF7iuObgjQ5+IIK5vbNJxQKIbDVHa1q1b3QWFLlWueTpNy5Yt604rRHw9++yz9t///d+/Kg4EMUH3Kg4geMmUKZMfJFIkaN68uYtiJkyY4IUChG0IVyhOcPAohBBCCCEiN4imcUkhMnb16tW+L+zSpYvVrl3bnRGI7kiRIoXvPbnXxCkhiOsJ3X9SoE6SJIl/T61atfwxcALlMQM3vyCyh+I2wmieWwgRsaCxAVdQ7ieJ72IuoEGCMyjEKVzfcj8SQgghREREAhUhhBDiN6CoTSGbQz46Vtq3b2/ly5e3jBkzen53cEgYI0YMd1B46623rF+/fn5QcODAAdmsChFB4FDvp59+8uv95MmTfs1jqz5v3jwvHAwaNMg6depkzZo1s5o1a1q5cuU87gt79VSpUvkhIQeGvyVgiRkzphcbELsQL/Tmm2+6AIY5pX///jZ27FibNWuWC1c2bdpke/fu9cLCpUuXvIjB65PLihBCCCFExOCvf/2r3bhxw5302NcF+8px48a5OwpRkdw7si9E0IzAGTF0aFwPe0hcEoiZRbhSsGBBq1ixojurdOjQwd5//30vXK9YscKFzwivKWbL0VOIyAH3glzf1apV83mA+QHhGg6gc+fOVXOUEEIIISI0EqgIIYQQ9wkRHWvXrvVCdb58+dwxAeeE0OgfXFaKFCniB48bNmzwjhYcWXRQKETEB2v0w4cPu1sS8V5c58QEIVhBrJIwYUIXrDE30PFKNBhuSxQcmCc4VAwbE8THiRNKly6dFS9e3K2a6YIlJgixG0UNDicRvDGfUHjACQZBDcUPumEVEySEEEII8ej55Zdf3KUPhxJc8b755hsXpiB43rx5s02ePNn3dTVq1LAcOXJY3Lhxf7UPZCBwRoyCUwp7R/aQ7A1xSOF7qlevbp07d7ZJkybZxo0b7ezZs9r3CRGJoTmBGDAckd5++20/Y+I+kvtKXJNw/BRCCCGEiOhIoCKEEELcJ0EnHNE/69evt5EjR7odM1EewQEjWeC4qxD9g8MCjgtTp071CBEOMIUQEReEZohDmAcQjdCpevz4cXdM2rlzp88Lc+bM8bmBmKDGjRt7pysxPziovPLKK16ACC1KIFgJYoIoRuDGQkRQmjRpLHPmzJYrVy4rVKiQVa1a1Vq0aOExQXTfLlq0yLZt2+YFkJs3b2p+EUIIIYR4RCAQYe9FA8OePXts4cKFNmLECHfHwxkF0THOeQiQ2ddRYEZ4wr1i6D6Qgbg5Q4YMVqpUKWvYsKH16tXLhS2BM8qhQ4fciYXnQqyMSFkIEXnBQRNXTSJi48eP7/MGbp3p06d3503mAyGEEEKIiI4EKkIIIcQfgCI1xelly5b5IWLlypUtZ86cbs+MIwJFZwrOWLGSD0zXG7bOFLG/+OILZYALEcmgUMF1TeHgzJkz7nyC49JHH33kbii4rbz33nveBcd8UbJkSXdiQoSSMmVKP3xEwBLMH2GLF3yOAkfWrFm96EE3LYeWXbt2tWHDhrnF+4IFC9zdBeHK/v37XbxCMYNuXsQ1yicXQgghhLh/EKHghnnlyhXfV7G/wyUTQQoiEqIaieshggNBMQJjBMehQhScD/g3QhT2ckT64IKAA1+tWrWsTZs2NnjwYJs+fbrv49jDIYTmeYUQTxa3bt2yXbt2+X0j0dLcFzJ/cA+Iky+NT3LnFUIIIURkQAIVIYQQ4k/C4SFdLHSzVKpUyQ8lsWjGrjkoNL/wwguWLFkyzwwnLxjHAw4WOPSURbMQTw6IRZgvsH2fOXOmDRgwwIUmFCkQq8SMGdPtmzmIxFkFwcpTTz3l88m9IoIYfA5BHEUPCh507nbo0MFGjRrlMUH79u2zq1evuvU8NvTMPYhpmH+IB0K4onlICCGEEE8q7IPYD7EvYo/EXok9E8Jj9m1EbbCvQozyxhtvuLiY/Vnofow9Gns19mV8jj0c+zlie4j2yZs3r0c59u3b1+8H2Z8FImIhxJNNMAfhzInwjeYF5hXmEu4P33nnHW+QIk5MCCGEECIyIIGKEEII8SehyIujCnng27dvd8cEOuHoonv11Ve9yMzBAgXkxIkTe9wH0UDvv/++d+Bdv35djipCPCFQhGC+4Lq/cOGCd+PSCYe70saNG93OHeHK0KFD3XmJmCCEb/nz57e0adNarFixXAAXtiASzDF05yZMmNALJ3To5s6d24oUKeJOTnXq1PFuPAoj48eP9+7frVu32tGjR13AogKJEEIIIZ5EcC1gT7Zlyxa/l2Mf1rZtW3c4wfUOccnrr7/uMa7E9SA6CSsa5mOJEiVyV00iHhEg46CH08rKlSv9sRGlnDhxQg53QohfQXQXLpzEuRLlE9zv4aLJXIJIjsYozp6EEEIIISIDEqgIIYQQDxC67ig+79ixw0aPHm2NGjWywoULW4oUKSxKlCh33RD4fw4vmzZtapMmTfKMYQ5FOaiUWEWIJxvmkPPnz9unn35q69atsw8//NBGjhxp3bt39wNK4n1Kly5tBQsWtBw5cliGDBncoSlevHguinv22We9eze0aMIguxzxCsKVYsWKWY0aNaxFixYeU0YMETFkq1atcneXPXv22OHDh/2gFJt5Ooh//vlnn+OEEEIIISISiEAo7N6+fdv3Ndx3sc9CqIt4ZOrUqdavXz93KSCKEYEvjQXsncLupxAEx44d2/deiFYQryBiqVmzprVu3dqbEGbPnu33d8ePH3fnTCGE+C1wa+Kea9y4cd7kFIjfcF7inm/p0qXeTCCEEEIIEZmQQEUIIYR4wAT2rByCcthAtwuHlenSpbOoUaP6YUNgAY27Ch8rWrSoDRo0yDPHv/322zuPJIR4EmEOCbWaZy5hBJbzCNnOnTtn27Zt8y7fwYMHW8uWLb1bN1u2bN7ZG9ZlJZh3grknsJ9nBBb0RAshYKEoU7VqVe8cHj58uDutIFihoEN3nxBCCCFERII9FAJgXOsWLFjgEYv169f3aESiNHA/uVesYlAoDt1LIUwpUaKEi1nYJyFwQfCCmJd9Gs/Fvk0xikKI+wFnzcWLF3vca6gormzZsh7Xeu3aNc0jQgghhIh0SKAihBBCPGQuX77sds50vmDzXKVKFUudOrULUzjk5CCULrwsWbJYuXLlrGPHjp5LTuwGXX5CCBEKRQ/yxznMxGnl2LFj9sknn7jzCRFBzB8TJkywgQMHWvv27a1BgwYeE4TjCm4rFGJeeOGFXxVcGMxHCFuiR4/uFvVp0qRxwQudfEQEVatWzV2heEwee+LEiS5e4XkPHTrkkUUUf3h9QgghhBCPGoS0V65ccSEKLnTEJuJoEsT1cK/FfohCMEKTmDFj/ovzHA0EONKlSpXKBSxvvvmmO84RkcjeB4HL+vXrfe9FXA/3eux/5IIphPg9IGD761//6vduOFsS1YpQjlifUqVK+f0ccWB8jRBCCCFEZEMCFSGEEOIRwiEmMRrt2rWzN954wwvAsWLFcueC4FD0tddec2tpOvuWL1/u1tBYunLgqs4ZIcT9EBRoiOnZsGGDO62MGDHCunbtao0bN7YKFSp40YWoMezpEc1hZY/7CkUZ5iTEc8G8FAwELAjqyEYnvoy4IdxbEN+NHz/eFi1aZBs3brTdu3d7cYg5D7cXXgudxQhrJGARQgghxJ+B2EH2FRRvT58+7ULZXbt2uZvJlClTfF/Cfof7LfY53G+F3dPgHkfsKnufpEmTuttl9uzZrXjx4l4sRtTywQcf2Pz5823nzp32xRdfuAiForIQQvxZbt265UI3GgBoIODeC3EKbpZjx471cyAhhBBCiMiKBCpCCCHEI4RDTQq0RHRw0IktdPny5b0wHByWcjBBcRiHFbr7sI+mU+/s2bNuFS2EEP8JxGzMF1jN03XHvPPdd9+5KxMFna+++sqzzj/++GMXrwwZMsSjyHBJyZcvnxdqKNqEFnIYuKzQZUx3MR3HOLFgi898hbCFzr/kyZNb3rx5/bF4TB6b59i6das/J69DCCGEEOKPglhky5YtNnXqVOvWrZvVrFnTcuXK5fuXaNGi+b6E/QnCWvYsoQ4pwUBwmzVrVndIwcEStwJEvYhrb9686fdr7FkQ/RLbisBWzQJCiAcF8c716tWzFClS3J2jEKfQqIRLplyZhBBCCBGZkUBFCCGEeExQJCaaY9WqVTZs2DDPQc+TJ4/Fixfv7sEpGcQ4G5QsWdJdCrCVpqBMt6AOLIQQfxS6fym2UIDhAPTIkSPeeYwdPrE906ZNc8eVXr162XvvveeHp7iuYItPJzJOTxR/ENQhWgnmLAYdyYhViAmiG5mCEd3IxAzVrVvXWrVqZd27d/d5j8ISmevEBB04cMDdVugm5LUJIYQQ4smE+xzEIQj0cRjgfmn69OkuekVM0rBhQ99X4OaWKVMmF/vjPMAeJNiPsD9BnMK9VcaMGa1o0aLu/EZcT+/evd2hgGiNtWvX+nOcOnXKrl275oIUIYR4WHAfxn1Xjx49LGXKlC6mYzBPMTfhQql5SAghhBCRHQlUhBBCiHAAbgbbtm2zwYMHW9WqVT3zPG7cuH5QERyyUvBFwIIjAW4ERHeQec7hrZxVhBAPGkQiCOk+++wz71KmiINopXPnzi6owzafiKAMGTL44SrFIeypY8aM6eIVnKDIUQ/msGAgauHzfA8xQ8x5FIv69u1rkyZNshUrVtiOHTtcNHPy5EkXrVy6dMmuX7/u3cy4wVC4UhezEEIIEbEJ3CURpxIHiGgWB5O9e/e6cIR9AQ4pCFwRo+DShoNbqCMK/8/H2FsQ5ZMwYUJ3JEBQiyvcW2+9ZZ06dXJBCnsM7qF4PlzmhBDiUYLw5OLFi94EQKQY8xdOT0Q/EwONy64QQgghxJOABCpCCCFEOIDD2R9++MG79uiYoRBMwTZbtmx33Qk4vCBOg+Jv2rRpvahLLjrdN99///2dRxJCiAcDAhDs7IkIYn5CHHLjxg0vIHGwinAEF6hNmzbZhx9+aEOHDrW2bdu6zT5FJA5ao0ePfreAFIwgJohi0osvvugFJaKB4sSJ40WlJEmSuOgF8Qqdzji4DBo0yGbOnOnW+0ePHnXnF4R5EqkIIYQQERfWc9Z1hCOjR4/2Ai2RO0FcT4IECTyKB6E+wn0cUthHhLq34TjJ3qFQoULu+NazZ093gkNcS7QgcUDsXXiub7/91n7++WftIYQQjwWE/9wzEeWDmJ+5LFmyZNa4cWP/HII9IYQQQognAQlUhBBCiHAGhxJE+GzdutXGjx/vQpVSpUp5JyDOAxzEcjjLgS1dgTgZEJWxcuVKP9SgkCyEEI8CBCwIVy5cuOCOJzifrF692ubMmWMTJkxwYQmOK82bN7datWpZuXLlXHiCHT+FJ4QpCFX+67/+626hiYElf5QoUXyeIyaIQ1zmwWrVqvkBbvv27a1fv35ezJo1a5YtW7bMC1FkuX/++efutiJrbCGEEOLxEohdEeHjjII7AGIU4noQ2rNHYF2vXLmyxwgiUCWSBwFr6L6AIi4RPghRsmbN6tGBNWrUsHfeeccFKewHcJjEdWXfvn0uor19+/adVyGEEI8X5kFixHByyps3r98DcaZD8xFzIGc5EqcIIYQQ4klCAhUhhBAiHMMhBV1/s2fPtkaNGnkkBl2EdAoiVuGwloMNum4o3HI4y6EskUF0COLMIoQQjwsOYxGKnD171sUrCxcutFGjRnlBii7nkiVLWubMmX0OQ4yCiwoHthSh6JTG8pqYoNBO6WDwuddee827rCtVquRFKmKCpkyZ4iKZTz/91KMCEPxdvXrV3V8Q0+A4Rfc08yMZ8EIIIYT4c7Cesq6y5iMMCRzXWIePHz9uq1atsjFjxrjAFIcUoi2I40GkGqzrrPWBwxr3OtGiRfP7HvYH7BNwSCHqp0ePHncdUhCiyElSCBGeYW5kTmTeKl++vM93iPOZ34oWLWqLFy/2cx/dlwghhBDiSUICFSGEECIcg/008Rp0HXK4u27dOuvfv7+VLVvWu20o3HK4QaGWoi4CFgq+HTp08IOOy5cv33kkIYR49NA5zTyGIATRHIezzEsUrOgixNZ/79693vGMEwqW1xSv6tSp43MZTitx48b1glVYkQpzX1DEIkqIr0OwgttU+vTpvfhVpEgRe+utt6x169Y2cOBAPxhGvILTyqVLl7yQpsNgIYQQ4s8ROEASPTpv3jwbMmSItWrVyipUqOCRpazLgRiVexZEqLilhTqocV9DlE/GjBmtTJky1qxZMxswYIAL9XGWPHDggO8dEO8jxkcIw30S+wwhhAivMDfi9li6dGkX3jHf4RKFOGXRokV+X6R5TAghhBBPGhKoCCGEEBEEnAjoEDx48KBbWHfp0sU7ELNkyeIHvcEhb9SoUd0eu2rVqh6BgWMBBWBELjyG8taFEOEJDmSZ2xCMHDt2zJ1WsP9HsILbSu/evV1g0qBBA5/ziPrBGvv111/3Yhcd2C+88MKvilwMRC1kuyNcSZMmjeXJk8feeOMNq1mzpkendevWzQUxkydP9mIa3d3btm3zOfbMmTNe/FJkmhBCCPG/fPfdd79ar4mlQEAyYsQIX1ebNGnirmbEkKZKlcqLsWEFpqzNCO0RlCImJa6H+5amTZta165d/bG419mwYYMdOnTIha0IUSQoFUJEJDh7QZyPCAXBPPFlzIHcsxB5OnjwYBevIOQXQgghhHjSkEBFCCGEiIBwQMtBBsXUXr16eWZ7woQJvUgbuKpwGIxYJWfOnB6nwSEvVtsUXP/+97/rkFcIEaGgQIXYbunSpR4TgEiPmKBixYpZunTp3CabaKAoUaJ4VyIFMBxWEO/dy4GFweeIFSJmiG5tCmt9+vSxqVOnumMVDi83b970aCAcYBDS0CVOoYx5lINnzaVCCCEiE6xrrG9/+9vf3GmMtQ+3EtZDBCOsw8OGDfNoPUSjODiy9oaur0FcD+ssTo+sy3wNDikIV3AOIL4Ud7P58+d7LN/169fvvAIhhIjY0BTE3Llz506/vwjOZzir4X4Fd6gTJ07IOUUIIYQQTywSqAghhBARkCA249atW3b69GnbvXu3TZo0yQ96KbRy+MvhcHAAgssAjgMUc8eOHetFXoqtOhARQkQUEIVQIMPZBHt/bP4PHz5sn3zyiW3ZssWWL1/uET50I7Zr187q1q3rjil0ZxP9g4Dvqaee+lUBjcNiRCwUzXBiSZQokRfaiBfg++huxI6byKG2bdvaoEGDXLxCxzjPe/bsWX9NmkuFEEJEBhCmcI/w2Wef2caNG23GjBkeL4oYpWLFilaoUCHLmjWrO5OxtuKEgviEe47Q9ZV/s6bmzp3b3c/ee+89e//9990ZBQHonj177MiRI/b555+7gJ61FOGnEEJEBgLnW6LKUqdOfVcoT9wZTlGc39A4JHdbIYQQQjypSKAihBBCRBIuXrxoa9as8cPft99+2+MsEidO7BnvHIhQmMUpALeBNm3aeKwFee4UWDlAUYFVCBFRCVylEK/QjUjsAIKV6dOne5c3B8FEB2CvXa5cOStSpIi7S3FInDRpUndfefnll73bO7TAFnSAE6OGcIVCG04rCFYotuG2gpvLhx9+6NnyFPM4cEY4Q9Ht6tWrXuhTvJoQQojwBKJPhO4IPnELo8uf+4g5c+bY6NGjPa4H4TtrZo4cOVyMgjNZ6DqJCIX7DKL0cEVB2Mn6ipCFexEcHEeOHOkxetxzsD7znBKiCCEiK+z32ffjCoWwnehlXKQ4i+FeArEfIvevv/76zncIIYQQQjyZSKAihBBCREIQncycOdNq1arlB8YcIAe2ssGhMgXXGjVquBsALix08FDkVRFVCBFZIZ6AQhxFuIkTJ1r37t29iIZwj+5GCm0cIDMowjGYO4P5M3QODQZfi1MV3eTFixe3+vXrW8+ePV0EuHbtWjt27Jh3hlMM5MAaMSCD+TaYczXvCiGEeBgEawzrDWsP6xADASUFVAQpiC0RXiLCRMwedp0L1j/WwmBtDNY+7jNwK3v33Xdd2MK6h0BTcaJCiCcR5tnvvvvOxXncGyDsY/7kHqN58+YeuyyEEEIIISRQEUIIISIliE3oiMQ+m87+jh07WsmSJd1RhQNlDpufeeYZS5gwoXc7Vq5c2fr16+exFefPn/e8eSGEiGz87W9/c0cTCnMI+RCPEHlGZ/fq1att/vz5NmHCBI8zwGmKmCAcU3LlymUpUqSwaNGi+dwZtnD39NNPuwMLTixJkiSxtGnTWrZs2TwiiLm3UqVK3onOXDxkyBCPIsLhhY71kydP2o0bN7xgKIQQQjwoWFcuX75s+/fvt1WrVrlwsm/fvl4krVq1qoszWd9wE8MhJXr06N7pH7rGIUrh4xRaCxcu7E5kRN6xls2aNcvXzm3btnmUxZkzZ3x9lehdCPGkwhxIpDIRodwbcPbCvQFzJ/Mwbo9CCCGEEEICFSGEECLSg5X2vn37bNKkSdaiRQvPjqfbkcPmQKzCYXSWLFncSWDEiBGeDU/2PG4DFHSFECKyQyGNrkfmTIpsu3btshUrVriYhOi0Dh06uDsKYpOiRYt6jBrzJkU7xH+IU6JEieJiFQp6oQU+Bp3mxAkRlUC3OeIXinwDBw70ouGSJUu8q5J4IoqJx48ft3PnzvlBNw4szMXqRhdCCBEK6xbCcoSOiMwRXhIfsWnTJlu6dKkXSom5Y/1CMJkxY0aLGTOmPfvss3fXp0BoyToVP358v09gfcufP7+vV3xvly5d3CFl8eLFHmV34cIFF6IIIYT4fyAIZN5FnEL0GWctsWLFckEgUWdXrly585VCCCGEEEICFSGEECKSExRdsdqm0MmBNbnyHDq/+OKLdw+msevmcJoCKyIWoi8+/vhju379+p1HEkKIyE8QhUDn+T/+8Q+fOxGH/Pzzz14EvHbtmotHEPIRkda7d293R+Ewmpx5XFaIVQsKf6EFwCAegc8z3+LGQpHwhRdesFdffdWLgohf6tWr5wXFcePGuUiGznSKj8QECSGEEAE//viji0U2b97sYnScunBGzJQpk68rrC+sM6w5rD2sQaxHoesTH0OckjVrVqtevbqvP4gzcUb58ssv3XmM9Ye1kHWR9VEOKUII8WsWLlxoVapU8bmXPT+xPggDZ8yY4XOnhOZCCCGEEP+LBCpCCCHEEwQHy9jKHjhwwDsgifXBbpZD7ECswmEKnT6vv/66R1tw0D1z5kzPqf/666/vPJIQQjyZcMD8/fffu+Dv888/t0OHDnlUD4IV5lXmy1GjRlmvXr2sVatWVrt2bZ9LcVxJnTq1O62EjVAIRILMw3wepxW63HPnzm3Fixe3ihUr+uPggoV4cPjw4X7YTUzQ9u3bXTBDVyYFRB1+CyFE5AIhyDfffONrDu5edOgTR9enTx9fF2rUqOEiybx583pcDxGeUaNG/ZUYhf+yxuCQkjlzZi+a1qlTx9q1a2dDhw71tYvH3bJli98n8FyBMFLrihBC/DbMlWvWrLEGDRpYokSJXBAYI0YMK1iwoO/XmU+FEEIIIcSvkUBFCCGEeELhwBkr8GXLlrmjSokSJTyqIk6cON7VHxxmE13BoXfPnj394BrrcAqhdGwKIYT4VxCwfPHFF7Z3717Pm58+fboNHjzYI30oCDKnIj4hQiFdunSWPHlyS5Aggccu4GJFtzuFxVARC4PiIl/H94UWF3lsnmP16tUuWEFQePToUY8qunjxoru+EBOECwyOWkIIIcIXiFBwJmH9wL0QV5STJ0+6WITot0WLFrn4EeF4zZo1rUCBApYsWTJ7+eWXf7VOIDR//vnn3c0LMQrrC+5eOXPm9LgeCqg9evSwiRMn+ppx5MgRCdCFEOIPgngQ19mmTZu6E2IwB+NW279/f9+HCyGEEEKIf0UCFSGEEOIJhYNwnAAQmlC8pKBJNyZdmGQmBwfd2IFzyIJVLUXRt99+27ssT506deeRhBBChBJEBCEEZI797rvv/AD75s2bPt9SeKQouHbtWo8J6tu3rzVr1swqVKhg2bNn96IisQyhRUcGh97k2SMiZF7GOpwueQqRiFsQGCJ4KVasmNWtW9c6d+5so0eP9sLmnj17/JBc4kIhhAh/sG6wVhw+fNgF4R988IG7cJUtW9YFJrii0JFPFA9zP05c7NFZF0LXCdYHhCtFihSxhg0bulviRx995M4rZ8+edfHLrVu3/LmIrcNdUcJFIYT4YyAg7NSpk5+f4JzC3MwczN6efTdzrBBCCCGE+FckUBFCCCHE3UNxRCfY0w4bNswaN25shQoVsnjx4vkBOIfedGly4ELxs2XLljZ27FjbuHGjOoOEEOJ3QDGQwiBiFVxO6JCn+3LlypVeSEQsiCsKApPmzZt7FBuuK8QEIUBBwIKbStjCJIODccQqxAQR1UYHJ13z1atX93m9ffv2XrAcM2aMzZ49258T1xUcV7788ktfCxAvCiGEePDgZEXcJtFszPsICJnzKWa+++677oxFLBxxPWnTpvWiJ4LEUFct9uWIE9mTB84oiBJx6Ro4cKBNmjTJH3fz5s128OBBd0zERUtzuxBCPBi+/fZbd5bt0qWLx6YhTkEgmCJFCne6Yn5HnKKINCGEEEKIeyOBihBCCCF+BYcoHLjs27fPRo4cadWqVbOMGTO6UIWOTbr3if6hg5PiJ13/FDlPnDhhly5d8uImj4FDixBCiD8GRcyrV6/aoUOHbN26dZ5hj2ilTZs2LlgpXLiwz8GpU6d2MQrd9bFjx3Y3FcSExAQxX4eKVxh8HAELHfmIDWvVquUxQUOGDPG5fMOGDT7/M6eTmY8AkddBBATzu2KChBDi38MemMIkcT04Z12+fNnOnTvn8+rOnTtdPIJDynvvvWeVKlWyrFmzWqxYsXx/HczV/D9CFNy0cDHEIeu1117z4mcQ84boEMEhzoYUQ3kOxI8qiAohxMMDh0SE3czj2bJluztvsxdHEI5jFc6JQgghhBDit5FARQghhBD/AsXHIPqHw/Tly5d71z3d+whTgpgJOjopdNLhSfcmOctbt271w3EVMIUQ4o9DgZFud+ZTRIMUOem6x+WEIiSOV/v377dVq1bZlClTvEjZokULq1Klinfe01lPh31waB4M5m+KnjitIGRB0IKwJUGCBJYkSRJLmTKlH7ZT/KxXr57blo8YMcLmz59v27Zts9OnT7tQRQghxL35+9//7lFuiFFwxRowYIA1bdrUSpUq5Z32zM/MuYhS2FcjQgncCoPBPps9NkLEcuXKuXPh0KFDbcGCBR7Zxlz8xRdf2JUrV1xAiBhG3fpCCPFwYY5lH44TIXM5jobBvI2AHGdC9uw6CxFCCCGE+PdIoCKEEEKIf8svv/ziQhUO2adPn+6RExyUEzNB8RPLcSxto0eP7jbjWIxjL7548WI7cuSIH5jLUlwIIR48zK0cgp89e9ZjgrZs2WJLly51txUcsHr37u2OKw0bNrSqVau66CR37tyWPn16S5QokRdGmb9Du/YZWJTTsZ84cWIvjhYoUMDnfaInKJJ2797dC6UTJ060uXPn2urVqz2DnzmfgumtW7e8u1QIISIr7I/Z4yJEwemKOB2cUYjXGTRokMftsCcmridXrlzufIIgkPk17HyLSDBNmjQuBC9btqzPtbirIPxmnuVxEYDTsY8gBScrIYQQjxZEgNevX/d5mbkaYSF76BgxYrgAkbMSHLN09iGEEEII8Z+RQEUIIYQQvwvEKhyUk5PPQXr8+PG9C58iZ+CsgnCFQxsiI+jypGCJAwAdpersFEKIRwNz7u3bt90Ji+IpET7vv/++tW7d2i3I8+fP7xFBWJITH8EBO8IU5nQ6+imcIkIMLaYymOuJfKPginilRo0aLoRBtIJbAEIZCqm4vRAPxGE+ohWcV3Dn4oCf4q6i4IQQ4R264JmzmLuYT2/cuOHzGhFon3zyiYv0EGY3adLESpQo4S5UdNSHzp2BcxXOg6HOVeyhAxdCHLCYQxcuXOjuWMybzOFCCCEeP+xZOQchTq18+fJ+3oE4hf0yzoXssXFWEUIIIYQQ94cEKkIIIYT4XXBYzuH8mTNnvJuTw3Q685MnT+4H7xzUIFLBUQXbW3L1OXT/8MMP/TCfblMhhBAPHwSBCEEorJKFT0TQxYsXff4+fvy4u67gfLJs2TLv+icmqFWrVi5eKVSokBdOEa2EilMYzPMUX5nzOaAnpgKRC3M+35MpUybLly+fOwfUr1/fY4KGDx/u4pVNmza5eIVDfoq+EqkIIcIrzKHE5zBfrlu3ziZPnmw9e/b0eQ0xCntc5rykSZNavHjxXODHvMj8GDhTBQXM1157zYuYCPqIzRw1apQtWbLEHQoPHz7skT3MzwhT2CtL1C2EEOED9qrsWdevX+/nHsznnHcwxxctWtT3uLhpyd1KCCGEEOL+kUBFCCGEEH+Yn376yQuNdHv26dPHi5o5cuTwQ/pnn332bjEzVapUVqFCBY8HmjVrlu3evdsuXbrkRVMhhBCPDwQsuALgdHXw4EF3WiGibcqUKe6CxbzdtGlTq1Wrls/jHMQT50bMGwf0iBGfe+45dwgI5nwGbgE4BSBcyZgxoxUsWNAqVqzohV3cVvr27WujR4+2mTNnepF2w4YNvjawppw/f96FkKwxQgjxsCGOASFKEJfGPMi8NG3aNBs8eLC1a9fO43qIcECUQkQaopPQOQ9RSpQoUSxBggQ+PyJGwRmlZs2aLvxjnzxhwgSfXxEGnjp1yoWDOLQIIYQIvxBbuX37dhcXMsez70WgTQwmkW7EvMnxSgghhBDi9yGBihBCCCEeCHQMUVykoMmBPIVLDm8oUoYWLrNkyeLxQHTs08VPAZLCgLpEhRAi/MHczKE7ohGKqvPmzbNhw4a5yKRatWpehMU5hcgKYn8o2uIggEiR6Dc6TFkDAjeB0MHXIGDJlSuXValSxdcGIohwWsFCHUcB4uFwE/jhhx98vaBIwOtBWENhVw4sQoj7gbmC+Yw9J53w7FuZV4geu3z5ss9vCOZwSEGQlzt3bo8+I+osdN5iPmNeY35jDmPOY+7DSQr3KIR4bdu2tXHjxrnrCntdCbKFECJiwn6TNYJ5Hccs1gHWgPTp01vXrl1d3C2EEEIIIX4/EqgIIYQQ4oFAofDWrVse47Nr1y6PiyDahwN+OuyDg326jZIkSWLZs2e3evXquSXutm3b7MqVK3ceSQghRHghKOoiDsFhgEN6XAaIvPj000+9qIvl+fz5870gi0tAy5YtPcYCtxW6S3HVosgb1mUFxwGEjMRixI0b19cGDv8RMubJk8eKFy9ulSpVssaNG3sRYMSIER4XR9EXl4Mvv/zSC8wSOAoh/h3MYwhSmL/27t1rS5cutbFjx1q3bt3s7bffdmE1sWSZM2e2lClTWvz48X1eQoASOm8xZ73yyivukML8xD62S5cuNmbMGHcTxHmFx2d+xJWKuB7EKXJJEUKIiAn7TSIws2XL5mJE1oQMGTK4s9axY8dcSC2EEEIIIX4/EqgIIYQQ4oHDQTw5+ps2bXIBCof/HPzTZU/kQ3DQT9GyQIECLmTB9jzomMfyXAghRMSAOR+hCNFthw8fti1btnixduLEiTZgwADvOmUdwCWlZMmSlj9/fo/JSJ06tUdlxIgRw10IwgpY+DfCFsQrdKqyXiBYadiwoXXs2NHdViZPnmwLFiywNWvW+Bqyb9++XxWHAwGLnFaEiPwEc9FXX33lziUUFpkXVq5c6e4ouPxRVMQhBQEd8wrzD25/gcsT/0WYgisUboB8DWLrEiVKuGtU8+bNXYiHEHvFihUuSGHPixBFYjkhhIgc4NjHuQRnGawBNNngEEjED45/iLMlPhRCCCGE+ONIoCKEEEKIhw7REIsWLfIu+FSpUt0z6oGYh7Jly9qoUaPcKpdiogqKQggRebh69aq7rixZssTnerL8q1ev7jFBFIIpCrM+hI6wa0XYQcxGzJgxPVqDNYTi8cCBA2327NlemD537pxHAgUiFa0tQkQuQq9rCopc8wikx48f71Fk5cqVszRp0njn+73mkGAEcw5iFeJ66JZ/6623PPKH+eSTTz5xp0AhhBCRH0TOuGMVKVLk7jqBuxZ7TdxihRBCCCHEn0MCFSGEEEI8dOhmJYqBLtOPPvrIunfvbuXLl/c4h+DAh+55HFXoqq9atar16NHDRS0nT55UMVEIISIBRGxQ4GU9OHXqlIsRd+7caRs2bPDIjVmzZtnIkSN9/sdZi5ggYjRYFxInTuwOXBSPg3WDgcsKwhZiN1hDkidPbhkzZvRuVxwSKE7zODwehWaEMcQErV271t1WiCvCtUtdsEJEDBCbfffdd97Zvn37dndQ4romaqdBgwZWsWJFK1y4sAtMEEUzL0SJEuVf5g7ixeiE5+vKlCnjzkxE/owePdrmzZvnUWIUIY8ePeqOTEScIXYTQggRuSGymD0pzlmxY8f2eDfE0IiqcezDpUsIIYQQQvw5JFARQgghxCPl9u3bnteM1ToFQ6Ie6GzFYv2pp57y7lUKCRQV6FwdOnSox0UQ2XDt2jUVEYUQIhKCEJHiLx2rzPe4nxAThAtC37593U6dNeGNN97wqJ8cOXJYhgwZLEWKFF5kZg158cUX764joYVo/s3niRQibo4CNo5eFLSxbqcIsWrVKtu6dau7JBBThICG2A5ez/fff2//+Mc/FN8hxCMimA++/fZbd16iWMh1iWCEWIU5c+Z4XE/r1q09dofrOmnSpO6SQiExuPb5fwTQXP+4NKVNm9ayZ89uhQoV8rgwHJf69etn06ZNc0EKYpQbN2749S6EEOLJgrmfNYCGGtaW6NGj+zrC2QQRlURX0njzyy+/3PkOIYQQQgjxR5FARQghhBCPFIoOHOpgw0730Z49e2zAgAHe6U5xkUMgion895lnnnGb9cyZM1vbtm1t9erV/n1CCCEiH6wPiEBYIygS/O1vf3PXlZ9++skLArgmXLhwwZ1Pli1b5tbrnTt3tjp16rgFO8JG1hFcVUIFKgw+xrqCiwJrC64rzz//vH991KhR3WWBtQbr9qZNm7oohqI17i6fffaZF8pVtBbi0YAYGccSRCmLFy92MQrXJY5KCFEoFnLt4oLC9cx1Hewfg2ue/+fzuPUVK1bMmjRpYu+//74/3qFDh3wPiviM+YW9JYIY5h4J0YQQ4skElz/2fQiiWVvYO7KOpEyZ0qZOnep7UDm7CiGEEEI8GCRQEUIIIcRjg2IfB0EUICg2Dhs2zN5++23vbg3s2Bn8f7p06bxwiFBlypQp3kVLLIM6mIQQ4skB0Qpz/6VLlzwC7tNPP3Xnk5UrV9rcuXNt8uTJXsxGuEJBmw5YitrEeBD/QzcsRYdQ8QqF7GCtQahCISJLlizu1IJjC49BdEi7du3cbWHs2LHu4EBMEI4rRI3IdUGI3w/XMw4pR44csU2bNvl1NWLECOvatau7HL355pt+/bIv5LokaoFiYagQhWv31VdfdTelPHny3HVIIq4niPTCIWnHjh3ukIIzEmI37R+FEEIE3Lx50zZu3Gi1atVyIWSwxuDYx96P8woEjUIIIYQQ4sEggYoQQgghwgUUCig6Yt1O53q5cuUsU6ZMFjduXO9yJ7YhKEIULlzYOnXq5KKWgwcPeqHyxx9/VLFBCCGEu52cOXPGdu7caUuWLPGYoD59+nisHAVv3FYQrBARhOtK4sSJfa2JFi2aR4Q8/fTT93RhwWmFokXOnDmtfPny1qhRIy+kjxw50ubNm+dxdHv37vUiBuKZc+fO2eXLl73ogVMDxXi5M4gnDd7zOJQQ8YgYhesCV6L9+/fb5s2bbfbs2TZw4EB75513/LpCHBYnThy/DkOvP/aAXJ8xY8a0hAkTumAlY8aMHu9DXE/Lli1t8ODBHs2wfft2fx4cmIQQQojfIlijWDcQN+PeigiSNShRokTWpk0bFzeyjxNCCCGEEA8OCVSEEEIIES7ALhdLd4QmFPO++OILmzlzpnet0xVLUYLDIizcEazEiBHDkiVLZtWrV7dx48bZ8ePHdXAkhBDCiw3EdVCcZl2gMM66cu3aNReMnDp1yuPlEK/ghoLIpH79+laqVCkveFMAJwIotDjOCCKCcHAIooEQtVDMwHkFoQvCFwSWxIn07t3bJk2a5O4NBw4c8OK8CubiSYK9HYU/XEu2bdvm+zquC9zyChUq5AIxrh32dK+88opfV1x7iJJDXVIYCJSJ4cIhhYIh7igrVqxwoTKPz/VNLBDuKHS542ikKAYhhBD/DvZlX375pXXp0sWd9gKXPfZ27du3t48//lgCYyGEEEKIh4AEKkIIIYQIl3AIdPbsWbfapcDXqlUrt3mnAEgBI4hkoLOJIgfFRWId1qxZY59//rnEKkIIIe4JhWuK2IhVTpw44TE9rDWLFy+26dOnuyMKjisUwRFJVqlSxYoVK/YvMSOhxXMGriusT7g/8HWIVXBroaBet25dd3AhdoS1inVt/vz5tm7dOn9+HFeuXLnihXXEmkJEJHCww7kIcTGxW7yvcTJBRNK9e3dr3ry5C4pLlCjh1wUCYwQndKgHQhSuH64rrh9iHYnYqly5ssf10NVODOSMGTNclEJcDy4siL4QNqtwKIQQ4vfC2sX+i30Zaw5NMKxFNMfUq1fPNmzY4OJHIYQQQgjx4JFARQghhBARgkOHDnlBj8Mi4hWIY3j55Zd/ZQFPQZDP83W7du3y4iMFEzrphRBCiPvlhx9+cFcGInuWL1/u6wqilWbNmrngJHfu3JY6dWovtCOUZE3CBQJXlRdeeMHXJhxXgvUpGHwufvz4HmPyxhtvuAAGB5fRo0fbwoULvfB+5MgRjyii2M86dv36dY/A4zXRxSsBi3hc8N6j25y9Fe9LIhaJ0uE9S1wPAhKuE97XiLrYl/GeD70GKP7RoY4zHg5EXDuvvfaaX0+5cuVyUQrisBEjRtjSpUvdfQhnFMU4CiGEeJAgDEZMiQAZ0WQQJ1y7dm2PEr5169adrxRCCCGEEA8aCVSEEEIIESGgQ5ZiCK4qHBjRkVu0aFEv9AVFDzpvKRAmSZLEu3T5GhxVKDKqu1YIIcT9QiEeMQiiEMQhQTH+/PnzHhF0+PBhF5MgKhkzZow7ozRq1MjKli3rhQ5EKxTgQwvzDIrziFco2hNpQpxQEA9Ex27atGktT548LoJp2rSp9erVyyZMmOCF+t27d/vz85qEeBwgTCFSkb0V70siEWrWrOlOdunTp7ekSZNaggQJ/H0dJUoU35eFFWrx3uf9nj9/fqtVq5Y/Bo9FFBZxPadPn7YLFy64OwrFQfZ/iFMU1yOEEOJBgqiSWEbExUTLcY6Aa97cuXN97ydhpBBCCCHEw0MCFSGEEEJEOL766ivvap89e7bbvlPIe/311/1QKSiA0JVLh3qNGjW8wEcRcf/+/W7Tq+5zIYQQfwZEjzhJsB5hD09Mz/r16z22B7cV7OJxRnnnnXesTp06VqFCBY/7QbySKlUqF6UgYKEgEkScBIOiPgV+BCvEoeBEQcEEV4q2bdta3759PTqFwgqxRMQT8fxEniCikXOY+KMgAkGYdePGDReK8L5au3atzZkzx8aOHevuKERVEdfD+zJTpkwuSOG9jPgqeA/z/7jc4YzC/gwBS6VKlaxhw4bWsWNHGzp0qMdprVy50vbs2eOOQXJJEUII8ShAAMnahkiSNQwhJfFypUuX9vMF4oKFEEIIIcTDRQIVIYQQQkRovvzySz9g6tSpkxUuXNhFKmGjfyj04bZCYYUCIpEJ3333nRdh1JErhBDiYfDXv/7VnVeIqMNxYsqUKS4uISaofPnyLj7B8YuiCGsXtvK4Trz44ov27LPPutX8vWKC+DgiTBwrihcv7tF2uFAQE4RghYI/4gIKMAgNcKFAtILzCqIaxCsSaj7ZsPdBDMJ7lPfF7du37ebNm74/OnHihIueEFrxvkLoS/RO7Nix/b0XvA8RVvH+DByBeO/yvowVK5Y7CBHHiJAFIfHEiRNtw4YNXvT7/vvvtfcSQgjxyGHt+emnn2zTpk2+tiGiDGLnEBETLYdYUgghhBBCPHwkUBFCCCFEhIbiCkUVum8pftBVTm50unTp7hZRKJ5QNEmWLJkVKFDAi4NTp051K3kOqYQQQogHDS4riEEoyAfF/3PnzrnTCesPQhKKJFjJjxw50mOCGjdu7G4rxPwkT57cY4CCtSwYCAMQCiBkYW3DjQWhS+rUqd2tIkeOHC7KfPPNN93BpXfv3jZu3DhbtGiRbd++3SOKsK6XSOXJBaESbjs4pPC+oCjXvn17e+utt9ztJGvWrB43FQioiD+ggBfq9hPsrRBKlSxZ0t1RcKxDiIUYmMc+cuSI7894Lop+7LnkkiKEEOJx8I9//MPXp1atWvnahmMd4krcwDhDIF6OrxFCCCGEEA8fCVSEEEIIEWnAFYVCyPLly61fv35WtWpVy507tyVMmPCu9fzzzz9vSZMmdQvfDh062KxZs7xgd/78eS/YCCGEEI8KCiGByJLounXr1t2NU2EdI9Knfv36vp6xbiGyJL6OmKD48ePfUzjA4GM4srDeITYgjqVatWrWtGlTd7QgggiHjHnz5nnMytatW+3TTz919wycyRCwIAAVERc6xX/88Ue7cuWK/10RRFGYW7BggU2YMMHdfFq2bOnvC0QpCFJwnAt1SWHg5oPDD++lzJkz+9ciosK5p127dvb+++973BQuQUQp8v7BoU4IIYQIL+AmxxrFvgoxL/smhL7skRDyHjhw4M5XCiGEEEKIR4EEKkIIIYSIlCBWoUucrvHKlSt7dxRFlqeeeupuIQ+xSpo0aaxBgwb20UcfedcUBTkKhrKfF0II8bjBbYIIlpMnT7rbysyZM61///7WvHlzK1eunItVEKoQbceaxjqHOAV3C9Y7IlgCgWbYwdfj0lKwYEGrVauWdezY0TuIlyxZYvv27bOLFy+6wAHXC9ZGRAc4wvCacF/BIUZr5eOHvwF/D/4u/H34W/E3Yx9E1BPCEf6u7777rpUpU8addhA2hYqa+H/eJ7xnEKjwHqKznOgeRL758uWzunXrelQi+yXEVERIyYVHCCFEeIe1Cuc6hL/c+wfrHsJLnOYkrBRCCCGEePRIoCKEEEKISElQ1CNOYceOHe6U0qZNG+/8JTIhKNy99NJLnj+dM2dOL9ANGjTIO4xv3Lhx55GEEEKIxwPiA9YzYoJYlxCNIL48dOiQO2Js2bLFVqxY4Wvc8OHDrWvXrtakSROrVKmS5c+f3wsxuGKw3oUKEhh8jO7h6NGjW4IECSxFihSWMWNGXw8RrSBmIPIFK3yECQg+cd/gOY8dO2ZfffWVO49JpPL44L1x+/Ztf0/wd0E8gjsO+x2cUYoXL+5OcvxdiTmMHTu273tCXVIQpiBsQohCPFTFihVdAIXDCnGIuNJt27bNO88RSoU67OhvL4QQIjyD8IQ9y8CBA31PFKyBNK/gIob4FzEuolshhBBCCPHokEBFCCGEEJEeHFG+/fZbF6qMGTPGHVOKFCliKVOm9MMpDqko1EWLFs0LcxT3iD6g2IMtPoUYdQkLIYQIjwQiBaLqiOkhJgihAq4ZPXv2tBYtWliNGjWsbNmyvvblypXLBQu4p+C+QhQQbhlhnVYQciJgSZQokUe7EBNUvXp17zbu0aOHjRw50mbPnu0Cho0bN9quXbtcOINrByKGr7/+WtF5DwicUfgb83tlX4KDyebNm93thv0KYhL+LjjG5cmTx5IkSeIOOaGipODviUiFv32mTJlcxIQQCYEusQeIW/ib8vekoMffkOcWQgghIhq4iZ09e9YFvEWLFr27HsaLF89d6FhDWeckThFCCCGEePRIoCKEEEKIJwY6fRGr0ImO5X3r1q0tXbp0Ho0QHFhRzKGIEyNGDC/k4ahCJrW6xIUQQoRnWKMYFFoYCCuDwdqHgAUnDMQrgwcPduFKhQoVLGvWrBY3btxfuWqEDtZFBgIWBoLOYBABgwsZLh1Vq1Z1kcOIESNs0aJFLqK4cuXKnVcn/gwIZQ8fPmwLFy70LnCEtgUKFPDfPe4nwd+Dv0/w9wr7d0SckjhxYndVwSHlgw8+cPedzz77zIt4wXsleP9ozyOEECIic+nSJRehEIfIGhmshziqbtiwwaPqhBBCCCHE40ECFSGEEEI8UVBwoducohmd5hRnBgwYYG+++aalTp3aHVUo7DzzzDPeZUyHcfny5a1Dhw42Z84cO3r0qAtc1GklhBAiIoGF/fXr1+2LL76w48eP2759+2zr1q22evVqmz9/vjtxIFzp2LGjNWrUyN04KOJkyJDBnVZwWQkt8DD4N04dxAThtMI6iuAF8USpUqV8bX377bdduMJaO2HCBI8Jwv0DtxUii7777rsnfk1lb4JTCcUyfi+44MyYMcP/HsT11KlTx51OcDxhX5I0aVKPbkIgFFaMQoxhqlSp/G+AaIgIg379+vnfl0Id7iiIh3BiuXz5sn7/QgghIhXc6+OMgiAXpxTWS9bKp59+2vcmY8eO9fVWLm9CCCGEEI8PCVSEEEII8cRz5swZmzdvnotQiEBImzati1MoulHsoaucLuVKlSpZ//79bdmyZd7JHBxsqbAjhBAiIsM6hosG3cYIJOgsprBDjE+3bt08+o41kJgf3FKI/EmTJo1HyeC+QkwQa2bYmCAKQriSxYkTx4UuOJMRE4Rook+fPjZu3DgXrPB8O3futP3797t4Bkt+xBMUmBDW4OwRGRw9+DnYN/BzEddz6tQpO3jwoG3fvt1WrVplU6ZMsd69e/vvG0EKv+dYsWK5aDb4nfI7Zl+CoJbfK2IVfrdEFBYuXNjjnNq1a+cOKQiPiDfEPQchihBCCBGZYT+D6xj7CsS2iDZZM6NGjWqvv/6672twDpNLmBBCCCHE40UCFSGEEEI88dBlRcGI4g0d5cQT4JqCKCUosNEljo0+cUB0iDdr1syt9i9cuGB/+9vf7jySEEIIETGhWBPEAbGusS4iDmFtvH37tt26dctOnz7tMUE4ig0ZMsSj8qpVq2Z58+b1+JhQIUXoYA2lQMTncWLB+eOll15ykQWReogs8uTJ444r7733nj82z/Hxxx/b559/fjeCJqLDz4FrDD/XtGnTXPzz1ltvWa5cuVzoQwGN3wu/H/Yc/M6C2J7gd0kHOIIgxCtVqlRxcS3ONBTjEPbcuHHD/2Y//PCD/w1xZoksAh8hhBDi38Gah9C1bt26vrcIhLPZsmWz999/38Up3PsLIYQQQojHiwQqQgghhBAh0HHFodaaNWtcqNKwYUMvvMWLF+/uAReFI+zzixcv7kIVOsCJSaDbW2IVIYQQkRUEDzdv3vSYICLvdu/e7cKIxYsXeyTNqFGj3BmFWJr69etbxYoVPSaIrmVEnwgwEFgEYgsGaytijGjRonlMEC5muIEULVrUKlSoYLVr17bmzZtbly5dXLgyefJkW7RokW3atMkOHDhg586dc/FMeCo4IRDhdX3yySe2cuVKF6MQ19O+fXurV6+e/1z8XojrQdiD4CRsfBKONIhWMmbM6L8LnFFatWplffv2tYkTJ7o7yvr16/05cGK5du2a/fWvf5WrmxBCiCcW9iXdu3e3dOnS2Ysvvuj7iyxZsrgg9MiRI/btt9/e+UohhBBCCPE4kUBFCCGEEOI3uH79uneK021FYSh9+vQWP358d1EJxCp0OtP1Tcf3hx9+6A4s2PZTnFJ3lhBCiCcFHDpY93DwQOi5efNmmzt3rtvpIy5B8EmMXr58+VywQkRQsmTJLEGCBB5jgw0/ogwigUIdQxj8GwEL4tACBQq400qLFi1cDINYY+nSpR4RRFwOz43rCk4lX331lQtPcYLBGeZBiTeCn5XHJa4HgSruJTw3MUWrV6/210VBjC5uondSpEjhAp3Qn43/p3jGx4kWRMTDz8jvhzikmjVrWqdOnWzs2LG2YsUK//kQosgNRQghhPhfEGiy7g8cONDXUPYTDFxUcBqjmUQIIYQQQoQfJFARQgghhPgNguIT3eJ0is+bN89atmxp2bNn94ISxSWEKhx+RY8e3QttFM2GDRtme/bs8Y5uIYQQ4kkhEG7gJsb6SacyAg5EFYg4iMVjPaVQ9NFHH/l62a5dOxdiIOIgQg+xBtE2gYgjGDiMEBGEixnRQAhWELbgcIawg+/Nnz+/Rw4hGh00aJDNnDnTHV6OHTvmr+NBuZzxMyJE5XFxSBkzZoz/HETuZM2a1fcDvK6YMWO68IYubl57qEsK4hR+ThxUChYs6EKWnj172vTp0/33g9gFwSsiG147z0cBjucWQgghxP+CsxvrPvsA7tO5R0cY2qBBA78vZ08ihBBCCCHCDxKoCCGEEELcBz/99JN3ZVE0mjRpkr377rtWunRp73R+7rnnvNhE13fChAk9EohCE1EEdDyTdS07YSGEEMJcJIKrSSBWwfkExxHcVnAdYe3s2rWrO6QQ71O+fHkXcBCHkyRJEheEBiLRULEHazDCFdZhrP1z585tJUuWtKpVq1qjRo2sbdu27rhCDBFxRLiubNmyxR1PcFzB+YXXFupOgiAEN7UTJ07462RNR0DCa+zYsaM/bqVKlfz1ZciQwV3WEK0GLmsMRCi8LoQoiFdKlCjhrmwIXnv37u3iljlz5ti6devchQ0nFn4/f//73++8CiGEEEL8FidPnvT4P9ZihKtECeLOxhpNFB4iTyGEEEIIEb6QQEUIIYQQ4neCWOX06dM2e/Zsa9asmRfN4saN6wUoCmQUpOiSpmuLwhjFsB07dnj3+O3bt1V0EkIIIf4NiDoRjbB2Lly40NfRzp0729tvv22lSpWyLFmyuEsJzik4lVCQevXVVz2CD9EoopBQkUgw+DxCEcQrCEveeecd69u3rxe2Vq1a5WIVxCis8QwEI4FDSvv27X1Nz5Ejhz9nqBsKg/Wf52YvgIiGfQGvj3jAwCGlR48eNnXqVNu0aZP/fMQOCSGEEOL3wxrKvfW0adNczIpbGWsxe4IKFSr4/kEIIYQQQoRPJFARQgghhPid/M///I/9/PPPd7uq165da/3797eyZctajBgxvFBFNzeFKopUdHzTMU1xa/HixW5BLIQQQoh7889//tPXWWJtiNm7cuWKr51nzpzx6BuEI0T3IBQdOnSor6916tTxtfb111+3OHHiuJNJqICEgagE9xWEKkQE8XWJEiWy5MmTW5o0afx7EaDky5fPRSwIYfh40qRJ3R2FNf2ll17y7mzW+dDH5nO4qLzxxhsuXh0wYIB9+OGHtnnzZneKQfCCExtxRxTU+PlC3VqEEEIIcf+wN+DeunLlyr6ms8azFhMZuGTJEm8OEUIIIYQQ4RMJVIQQQggh/gS//PKLW/EfPHjQ4wno8K5SpYrb+CNWCRxV6Oymi5rP9erVy+bNm2effPKJffXVV3ceSQghhBD3A2vvDz/8YJcuXbJjx4650wpOJwhWcDvp16+ftWvXzu39q1ev7q4rCE9wNqOz+oUXXri7PocdFLieeeYZd2EJ65LCQJjC5+jURuBC1F+ePHk8tqdLly7uxoJw9dChQ/76eJ1CCCGEeHBcvXrVli1b5ms8zmi4ptEcUqxYMRs+fLiLWuVSJoQQQggRfpFARQghhBDiAYGzCmKVbdu2We/eva1QoULecR10WwdxA3R25cyZ0zp16mTr1q3z7vDvv//e/va3v6mbWgghhPiDsA5TkMKdBKcSxCtr1qyxsWPH2nvvvWdlypRxl5OYMWN6ISusC0ow+Hgwwn6OtRx3FsQpmTNntooVK1rHjh1twoQJ/lxHjhyxCxcu2I0bN+zWrVseV4RIhXhA1nnENbxOIYQQQvw+WD+JyyUqr2XLlu6KxtrMmo5QBVdT1mDWWyGEEEIIEX6RQEUIIYQQ4gGBuITCGAUpYgjo6KaTmg7uTJkyeaQAxS7EKlGjRvXIgPz581v9+vW9eLZ3714vqqlwJYQQQvx+EImePHnSC1dTp061Hj16WM2aNS1v3rz22muvuTAlrGg07AgcVCh64ZQS9vOs48HXRIkSxR1ZiPJLly6dZcuWzZ+LmB8ih9q0aWODBg3y14LDC85p58+fl6uKEEII8QcgIg8haJMmTe46p7A2c19Ng8ju3bt1Py2EEEIIEQGQQEUIIYQQ4iGBWOXixYtu9T9kyBBr0KCBC1IoZBENwIEaBbC4ceO6HTGFrGnTptmWLVvs888/927rf/7zn3ceTQghhHiyQQiKAwlCUOz7KVIhBl21apXNmTPHRo0aZV27drWGDRtauXLl3K2MAhZCkrBCE4Qq8eLFs9SpU3v8D+swMXz16tWzZs2a+eBxELhUqFDBP587d27LmDGjJUuWzGLHju2PgYglrNMKndyIYYj/yZUrlwtWateube+++64X0EaPHu1xREuWLLH169fbzp07PRIIcSuxBd999513iAshhBDi/63/3BvT0ME6ihtasPYS38d6jTjl66+/vvMdQgghhBAiPCOBihBCCCHEI+LLL7+0GTNmWK1atfwg7YUXXvAu7OBwjSJXjBgxrEaNGt5tTZc1RSqKcYr+EUII8STBukcHNEJNBJ8INihOIU759NNPbe7cuda3b18XlOBaQuROYPUfDNZXxKCstU899ZSvs7in8HWIR0qXLm2tWrVyYcvq1avt9OnTHskTQEQAxS6EMHx+4sSJ1r17d3v77bddsIK4JVq0aC5I4XF5fJ6HwXPy3GHFKww+jmgG15USJUq4gLVnz57uuoaolWgiIop4fn5ufn4G+wF+H/xetC8QQgjxpMDaR+MH6zXNHUFMH+tt48aNbfPmzb5HEEIIIYQQEQMJVIQQQgghHhEcmtHxTefXggULrHPnzlaqVCmPHSAqgIIV/02QIIFlzZrVypQpY7169bIVK1b4gdyPP/5455GEEEKIyAvr5ZUrV2z//v0ejYNwo0+fPu5qgptJkSJF3PUkbdq0voZGjx7dRSeIQgIRSBCnh4ikcOHC7oTSrl07GzZsmLutrFmzxt1XcC7Bteyrr76y77//3oUgAQhBEIggWuHz586ds+PHj7tAZvv27bZu3TpbtGiRv76BAwda27ZtXTDD+o1zSvLkye3VV1/9lTiFQVENMQvRfzix4PKSJk0ay5Ili+XLl8+KFy9ulStX9gjADh062ODBg124unz5cndbOXXqlN28edNfm4QqQgghIjOIUxCnjhw50tdHxCms99wz0/iBG9n169flPCqEEEIIEYGQQEUIIYQQ4jGAMwpCFYpadG9z2EZxiiIbRTUKWBy8ZcqUyYtdw4cP9wgDCmM3btywv/71r3ceSQghhIiYIERhTcMx7OjRo27Pv2HDBps3b57H4HTp0sXdShBzvv766y7mCOtIgrDzlVde8UIVYpRs2bJZoUKFXMiCM0m3bt1szJgxtnjxYn98hKKsoYhPHgQIWnBZwX1l165dLiqdPn26R/t16tTJYwd4LTilEPOHABVhDXF//Dw4qfAzhP252AvwcxEnhBiHmKC6det6HGD//v3dzQWxK0Kbjz/+2Pbt2+fOK2fPnvWYoNu3b7sDixBCCBGRuXTpkq+tRPcRn8caiWsaaysi0QsXLtz5SiGEEEIIEVGQQEUIIYQQ4jEQRBdQ2KIjbOPGjV5Ey5MnjxekggIVripYF1O8orBFtMC2bdvc+l8IIYSIyOAOtnXrVhdrIuaoUqWKCzMRbrDuIdL4T3E5FKtwHqlataoLWnAaYZ1EiBIakRMaj/OgCY0j4nkYPCfP/fPPP7sDCwJTHFemTJlivXv3tkaNGrnwJn369B7vx88Z9mfj5+Xn5udn8DVBTFEgzCGqCEcZxCvsI8aPH++uMzjD0FEuhBBCRGSI2EOkGYhUGfyb9RShq5zEhBBCCCEiHhKoCCGEEEI8ZihiER1w8OBBt+8fMGCARxFQpCOeIChUUYTLkCGDF7SIEZgxY4bHDNB9LoQQQoQ3EGoQm4OrB+4i2PAjoECg0bx5c6tRo4aVLFnScufObenSpbOECRP6uof4IlSkgSgjXrx4ljlzZv96xBhE3wwdOtTXQtZOhC6sozwX6yLCkPAAhTOEKzin4WxCnNDhw4f994FbzNKlS2327NnuGEOM0Xvvvec/X9myZV20iitMrFixXJSCWCX4vTAQrbz00kv++aRJk/oegWihokWLWvny5X0vQSxS165dPdoIZ5dly5Z5PBGCGV4Pxb2HIdoRQggh/gzsH3AQbdKkie8BiPJD0MnaiIvYmTNnFOsjhBBCCBFBkUBFCCGEECIcgViF4hUFJNxSKFBRtIsbN649//zzd4tSr732mneO9ejRwxYuXGhHjhyxy5cv2w8//HDnkYQQQohHA2sXhSTcvXAu+eyzz2z//v22ZcsWj9YZNWqUdezY0QUTBQsWtOTJk9sLL7zgAotgXcMd5LnnnrNo0aJZ/PjxLUWKFB7rQyEKUQpxPax5FKUoWCHyuHnzZqSIsQkELEQdEf/Hz4eYZPDgwdauXTsXrJQuXdqd1IgwQojC7wdBD+IUYoIo3N1LwMLvlK8jWgiBa506dVzkymNPmzbNxT1EBPG87CVOnTrlcQkIZ4kJIg5J3elCCCEeJd98842vS4gsicFFrIogM1++fL5+nThx4s5XCiGEEEKIiIgEKkIIIYQQ4QiKQHSc09HMwRwOKRTj6DJPnDjxvxTyKErhtFKvXj3vIqcoKIQQQjxKvv76azt69KiLK4cPH26tWrVygWXGjBm92/nVV1+1l19+2UUpCClwRKHYFCqmePHFF118WbhwYRej9OvXz+bMmWN79uxx4QvPgWACISbuKMTn4PwRWcQT/Cys/whu+Pn4ORGtsBdAiMPvAAEJMUEIS/j94EKDUwqiFUQ9uKyE/k4Z/J7ZM/A59g38DfhbEA+EGIiu9LRp07rrCuKVzp07u5sLwiJ+919++aW/LolUhBBCPCp27tzpTmnJkiXzPQPrGOLMXr16+dqIMFYIIYQQQkRcJFARQgghhAinUAz69ttvvZt5/fr1NnLkSGvatKkX7ygoBcUnCk0c3hUpUsSLVRSWiA2gE1sIIYT4s7AeIaBAJEE0DI4buHcR19O3b19799133R0FZy8cTxA84PyF6CRULMFAGEEcTc6cOa1MmTL29ttvW/v27e3999+3qVOnegwQzivE9bCOIUoR/w9EK/wNcFrj97Nt2zZ3W5k7d65NmjTJhgwZ4nE+77zzjtWqVct/v/w9cGJDwMLfgyJf6N8DlxUc2ogR5O+Caw0d6ritVK1a1cVCxA4Ry4QTzqxZs2zFihUeE4QoCQELxULFLAghhPizsM7hwNazZ08XubJuIaxkferWrZsLV4QQQgghRMRHAhUhhBBCiAgC3eP79u3zAlH16tXd7piCEwIVbP3pkqZLneISQhY6rI8dO+bFI4Qu6n4WQgjx70CEgoMHgoPr16/7+oEYAiECVvuIUoYNG+aChcqVK7tzR5w4cdyZIxA8BI4dFJRw6ECokiRJEkudOrU7fiFiady4sTuAzJw507Zu3Wpnz5715xR/nOBvd+XKFRevrF271p3ViEIg0gfBSrFixSx79uwuWCEiCMca/j7Ro0f3vQTuNqGxS6F/09ixY3v3Oo/BY/GYiIr4G/Jc7E/Yc5w+fdpjnogdvHHjhu8/cIRBwKJ9iBBCiN+CtYLonkGDBlnevHl97WFNIhYQEeyOHTv8a4QQQgghRMRHAhUhhBBCiAhCEP1DwYcO9uXLl3vXee7cub37mQM8BoVCik0IWOiApghItzvfL4QQQvwWrDEIC3bt2mUfffSRDRgwwJo0aWIlS5Z0gQlCExy8iO2JGjWqrz1Y7yOSDMQM/JvP0flcrlw5a9mypQ0dOtTFLcTW4QqG8OWrr76yW7duebc0wgo5cPx5EIAQe0ABD8EPv18cV/ibXrhwwcVGCEnWrFnjbjX9+/e3Fi1aWJUqVdxphQ51hEWhf8/Qvyv7i5deesnFsDiuIG5JlCiRi10QH5UoUcLq1q1rHTt2tBEjRti8efPc5eXMmTP2/fffax8ihBDiN2F/MGHCBG+2CNYi4mwRp3Avyz0wYkwhhBBCCBHxkUBFCCGEECICQjGPohM2xzilUAyqUKGCd0VTPKJ7/ZlnnnGhCjEKFIzodCY64fDhw14QVDFQCCGeTBAvXLx40Q4dOmSbN2928cjEiRNdsNC6dWtfM4iHyZUrl4sPWEsCp65AsIA4JVasWC5cQdxQtmxZ/z6cNQYOHOiRM4sWLXKHlCNHjrhI4q9//avWnscM4hWKfLjWHDhwwOOUli1b5k4oRAQiam3Xrp01atTIqlWr5kJX/r7p06e3hAkTuvjo6aef/pV4hfcGew4ccxAxUVwsUKCAC5RwWyFyqEuXLu7mQvFxzpw5Hk1ENzzvDRxXENPovSGEEE8egfvXuHHjXOiIoxdrC/+tWLGiTZ8+3W7evGl///vf73yHEEIIIYSI6EigIoQQQggRwaFbGrHK4sWLPXaBgiK2/XScUUSicMR/KTBSQESosmfPHu+mvn37th/2qRtNCCEiDzhpBJEvOFcEThqXLl2y8+fPu7hx7ty5LiQhEi5wSHnllVd+JTxg4JxBJzPCBJxTAteMLFmyuIgFB47AIQV3DpxRRMSG9wtObZs2bbLZs2f7vqFNmzZWo0YNK1iwoItV2GcQM0j0D/sL3h8vvviiC1VwcwsVMzH4N84rKVOm9MfgsXjMIUOG2IcffuhCKaIdEKvwPuV9REGSfQqiWsRNOLAoJkgIISIPCBOvXr3qosXy5cvfXT/YdxArR1Qd+xYhhBBCCBG5kEBFCCGEECKCQ7EGkQkd0dj3Iz754IMPrGrVql5ACiySKTLS3ZwsWTIXsVBUpCjE9/z44493Hk0IIUREh0I+RX0K/uvXr7cpU6ZYz549rX79+la8eHHLnj27x8DhdoHgBOEAjii4b4WKCigUIUbBQaN69eoeKzdq1ChbunSpu18cPXrU41uI7GENQgyjDueID+8f9gXffPONC5v4++K4wvsJ153t27d7zODkyZPdcaVVq1butlKoUCF/X7HXQKgS+l5isA/hfYaYhYggBC7ECiGOwnUFx7c33njD36edOnWy4cOHu9sKQpljx47Z9evXXagihBAicsA6wz4FJ9AECRLcFTfiwkVUHLE/mveFEEIIISIfEqgIIYQQQkQycFSh8xlHFeIasNen6EMRksJQ4KhCFzOdasQDERNERz1FqJ9++unOIwkhhAjPULT5+uuvXTywf/9+L+QTq0O8zqBBgzxup06dOh7TkjVrVhebIFoMFaIgGiAajsIQzhj58uVzt63atWtby5YtXYBA/A8RcYhSKBbhsIE7i3gyQYSEswld7QcPHvSYIN4fU6dOtWHDhlm3bt38vUPkU6VKlaxYsWIujCWGEOHsbwlY2J/g/sb7NGPGjF6gpGhZr149j57q3bu3jRw50uMeeJ+vW7fOdu3a5TFBvBZEUoqREkKI8A8ub9yzbty40ed39iCsCzhxsV/p27evCxPVRCGEEEIIETmRQEUIIYQQIhKDuwqOKljo05WMewoHf0H0T1AUohBEBzQFJoqPdN5TfFSRRwghHj/MxYgCfv75Zy/WfPfdd951jAMWbhYzZ850hxREJbidxIsX71eFf0bgpEUBCLEiohScLHCxwL0CIUG7du1s7NixtnbtWjt9+rSvA4qAE38E3HTOnTvn70/ipBCuEOmDEw8iKJxTEKrwHnz55Zd9b8L7kvcn79N7xQQxeN8icsmdO7dVqVLF3n33XY8gwhFu69at/r4lHojrg+uE/QzCW4QrFEO5lhQTJIQQjxfmZBy6aJTg/pR5n5E8eXLr1auX7d27985XCiGEEEKIyIgEKkIIIYQQkRyKNHTXc9BHzANdzRR2YsWKdbfgQ3EoceLE3rGG4woRQdu2bfNMcCGEEI8PiumXL1+2ffv22bJly2zcuHHWtWtXe/vtt114yHyOwCRFihQuNiGu59lnn/1VUZ9Cf/To0T1+BTcLHCm6dOliY8aMcbct5vtPP/3UPvvsM/viiy88SgUhDOIUFfPFH4GYIIQhuO1cuXLFxSq8vw4cOOCuJxs2bHAXlPHjx1ufPn1cJFujRg0rWrSoi2YRWeH2E/o+ZuD+89xzz9krr7xiceLE8b0L7+tMmTK5SwsxQ4itGjVq5O9xYoIQrxAhwXPLKU4IIR4/rAcIa3H5ZK5nn8Lc/9577/l+B5cuIYQQQggReZFARQghhBDiCeLixYu2efNmt8ineIN9Pp1qdDAHxZ/YsWNb/vz5rXnz5t5Jj3V/EOmgTnohhHjw4OpA0RznhzNnznhcD3Pv8uXLbfbs2e4QQVxPzZo1XWCSIUMGFxlSqA/mboo7dB/jSoHDBF+TN29ej/epVq3a3bieyZMn24oVK1y0eOHCBXe6EOJRw34CERSCkcOHD/v7PTSeqkOHDr5PefPNN12IVbBgQcuWLZulTZvW398xYsRwxxWcVoJrIBgUO4k1JLKKfU7FihWtQYMG1r59e39snmPevHm2cuVKf16uBaIkiAkKxFkIbIQQQjxYmPu5r0Rsy5yOqJa9DNFuLVq0cDEh7ldCCCGEECJyI4GKEEIIIcQTCt3MCxcutCZNmnghkyIPERChlvp0MJcrV85GjRrlBdMg7kEd9UII8cdg/mQwlyJMYSASQSyyadMmmzBhgkftlC9f3ovxFG7CFuGZpxnM2Qw+T3QbhR4KPjhR9OjRw2bNmmW7d++2Gzdu+PwtRESCSCuc3Oimx+kHcS0iE2KCEF8hVEGMEkQCBfuYYC8Tup8JHVwrCFwyZ87s19k777xjAwcOdDHYxx9/7PsjuvcRqQTXKNdrsP/RHkgIIX4/zJ3EFdIAUaRIEZ+zmadxw6patarHCwohhBBCiCcDCVSEEEIIIZ5QfvjhB7t06ZLHOtBJjM1yhQoV3FElKOJQGEWkQhEHy/zu3bu7qAVbZhU7hRDi90HkGg4p27dvt/nz53vBvXPnzh7XU7ZsWXeJIGotZcqUPvdGiRLlbgEnmJcpyBPlgxCF78FlgrmZqBSK+ESnIErBEYK4nq+//vquuFCIiATCkL/+9a/u4MZ+hWsHtxXe34i5cECZM2eOjR492nr16uUuQW+99ZYVL17csmTJ4gIWrqHg2gkGApZnnnnGY4K4zpIlS+ZCXaImChcu7I4tiLxwkuPaGjFihMcEUTxFLIOA5dtvv9U1JYQQvwNcqphLaX7ABY69DfsZxCk4p+AiJ4QQQgghngwkUBFCCCGEEF40pZhJtz3Z34UKFfLO/ZgxY94t6Lz00kuWJk0aL9oMHjzYCzVHjx71w0S64YQQ4kmH7mCK6hSvr1y54gX1gwcP2o4dO2zdunU2c+ZMj+tp3bq1x+4Qp0ZxPGwRnaINQhTm4MSJE1u6dOm8eE7HMYUcbPD79+9v06ZN87n4yJEj7pIiZwfxpMH+g33I8ePH3f2EmCBciIizYj9Tu3ZtF5wgPMmVK5e9/vrrLgBLmDChu6i8+OKL7sAS1m3l2Wef9c+nTp3a8uXL5zFBiMEQlA0bNsyvZSK4EMrs2rXLr/OTJ0+6ExIxQbgiaW8khBD/T2zIPL1gwQKrXLmyi1Keeuopv7fExYroQcUNCiGEEEI8WUigIoQQQggh7hZVg0LP3r17bcCAAV4MDS2YBjES0aNHtxw5cljbtm1t1apVLnARQognHRwVfvrpJxfvLV261IYOHWrNmjVzR4ekSZNatGjR3JmK4jdzKQWaII4ktDjOx5MkSeJzcOPGjV0USOH90KFDHnnCc+AsgTPKP/7xD5+/JU4RTypcd1wDRPKwj+G64PrgOkEsxjWDWxzX5JgxY6xTp04uXEG0kiJFCosaNarvb0KvQa7JYN/D9cj1iusK1+7zzz/vAjIcADJlyuRORk2bNrW+ffva9OnTbePGjXbixAl3fhFCiCcd4tq4X8QtjrmUfc/LL7/sAsCpU6e60xtzuBBCCCGEeHKQQEUIIYQQQvwKijsUVejIX7ZsmQ0ZMsQPFBGk0OlGoYZu41dffdVdVkqXLu1uAJMmTbKdO3fa7du37zySEEJETii2XLt2zYUoFKM/+ugjGz58uBe+GzRo4B3CRYsW9Rge3Bpix47tRe3QIjjzKM4pxKrlyZPHHRqaNGliPXr08MgSHnP16tU+r+JwdfHiRS+2y5VBiPsH8QoiLoS0xAThcrJ//353W+H6ImprypQpLibr2rWrx/pUr17dSpQo4dcvDkcIy35LSIa4hZggrnPiEHFbKVWqlL355ptWv3593x/16dPn7jW9Zs0a++STT+z06dPueoSYRuIyIURkBUcp5lvmQ+ZT5k6EftxX4kZFbBtztOZBIYQQQognCwlUhBBCCCHEbxKIVYimoDO4TJky3i1MMSYotlJkpYuYTuSOHTu6qAVxy5dffmk//PCDF4eEECKiQbEEFwYK28T1nD171oUi+/bts/Xr19vs2bNt4MCBHrdToUIFy5o1q8WJE+dfCtl0CyPuI64nUaJElipVKp9HCxQoYJUqVbKWLVu6QwrFa4o4PA/OD+omFuLRQHGUvQ6iEeK4Fi9e7DFBCEu4vonjIvqQmC0iguj6x+GIvRCOclzfXOdhBSzsj3AJoChLvBBRFsQEIYQZOXKkzZ071+eS3bt3e0TQZ5995tc/QhrEK4oJEkJEVLj/4z6QfQ33h7jIMS+yRyIytk2bNh6DyNcIIYQQQognDwlUhBBCCCHEbxJE/1AsvXnzpp0/f96Lsg0bNvSu/xdffPGuBT6xFXQZU3ylmDNu3Dg7fvy4F3iFECKiwdyHawkF61mzZlnv3r2tXr16LizBLQFhHnMeLijEfRD/ETYmhEJMjBgxvKiNQwpuCqNGjbKVK1e6+wqRasytiGAoRuPMok5iIR4twV6Ha489y48//mjfffedi1YQinCdIhoh/hARLvubbt26uSNAyZIlLWPGjD4f4KgSev2zP2IOQKiCYwDzBIKVV155xYUtfE/ixIld3EZMEHFevXr1ckc64jAQreDUJIQQEQ3mUkR3Xbp08fkOER/zIvMhEbG7du1yByk1MgghhBBCPJlIoCKEEEIIIe4LCji//PKLnTt3zjZv3uyZ4XS/YYNPgSUQq1CEwSWgYMGCLmQhIohCC11yFH1UeBVChBcoStO9+8UXX9inn37qblEffvihjRgxwgvQzZo1s6pVq1rx4sV/FfeBGCW0EE3BhRifdOnS+dxXpUoVj+vBKYHHQuCCKIW4Hgo2V69edeGfECJiwN4F0crly5c9JgixyqZNm2zp0qU2c+ZMj/Dp16+ftW/f3l1SgnmDGItA0Mb+KKyIDVELDixx48b1r0OsgiMdbiu1atWyd955xzp37uwuS7i6zJs3z9auXWt79uzx18FcIrc6IUR4gv3NqVOnfE4kwhChHvMdzlO1a9f2+0LEf7onFEIIIYR4cpFARQghhBBC/GGIu5g8ebJ3EefOndvix4/vbgJBlxz/TZEihdWtW9cLK3TLXbhwwd0CsK3XwaQQ4lGAuA53ktu3b7sjAc4oiOYOHTrkgrvp06e7QwqiOorKOEFRNA51RKDAgjAFBwRcUZjvKLYQ90ERGlEKoj0EKUuWLLH9+/f7c9EhLISI3ARiN/Y4n3zyiS1fvtydUIgJQmRSuXJly5s3r7spIURh7mAOQbiCowoiX+aXsDFB/BsBXIIECVy88sYbb1iDBg1c/IYb0/z5823Lli12+PBhF6wgIiZikbkHBxicmQKXAu25hBAPG+Yaospw3CQWjb0U+yfEvQj3EALjSiWEEEIIIZ5sJFARQgghhBB/GAq+dMAR/bN69Wrr0aOHFS1a1IsuQWGFjmGsnQNXFYoqa9as8S5k7PSFEOJhQlGWQi3OJTgPIJbDkaBmzZqWL18+LxbjAhUvXjwXniBACZwOQovFxHMwj/E9fC+29RMnTvTHpDj8+eef3y0MI8LDMYo5Ts4GQkR+mGe41hHfcu0jhmN/dOXKFRetMD+cOHHCI8MWL15sY8eOte7du7vbCvE+ODQhQgkEvqGDeYiPMwdFjRrV91Rx4sSxhAkTWtKkSS1t2rQuEsZ1Beemnj172vjx4z2OCKcVHKLYryGiEUKIhwVzINE+uMYVK1bM5yr2UsxdiFNwqPv22291/yeEEEIIISRQEUIIIYQQD4br16+75T2Hj0RjVKpUyTJlymQxY8a8W+TFXSVLlixWrVo1F7NgVU+sBt+rw0ohxJ8BlxQKwqdPn3YHA4QjH330kUdvULDFxaB69epeNGFuoriLa0FoIZhCCvMUQhS+hqgNnA8oIiNqGTZsmM2YMcPjenbv3u0uLIhfKPzKnUAI8Z9AvEIsD24nzFPr16+3BQsWuBsdkYiIeFu2bOnOcxUrVnTRb/bs2d3ViRgg3AhwVAmdt3AneP75592NBdc6xC58H3MXDnetW7d2hyjcnaZNm2aLFi2yDRs2+PMj3Lt06ZIXjSVgEUL8GW7evOnuUcxfzEcI6xDTMR8x97BnEkIIIYQQAiRQEUIIIYQQDxzcUSgOU9ClGMzhJEXfUPt6LO35HEUT7J6xpafjmM47OQ4IIe4FIpAgrofoCsQhOJYw5yBMoehKrAbuJm+99Za7ClDUfe65535V0EWIwnyEQAVHApxTmKeI3ciTJ4/VqFHD5y8cUigg89g8nxBCPCyC+Y34i4MHD7oz3ZQpU6xv377WvHlzq1ChgkdmIELB8Sl27NjuUMB+CuEK8xwFYQQroe5PDP6NYDh9+vRWokQJq1evns+TxAQhWNm5c6e7vCBW4fkR++EE9d1339lPP/3kzjAS4gkhfgvEdzg2sffClY55iDkJoe/IkSPdyUkIIYQQQogACVSEEEIIIcQD529/+5t9/fXXnkG+ZcsWdzCoU6eOZciQ4W7n71NPPWWvvvqqF4Rz5cplTZs29ULMoUOHvCAihBBhQZhCZAZuTRRVcQRo166dO6MUKFDAMmfObKlTp7bXXnvNi7eBMI5CSVCoRZyCKCVdunRWsmRJa9iwoQvlpk6d6sI6XAWOHTvm8xfCF+YyCrRyFxBCPGwQgCAGQRDH3MN8R4ziqVOn7MiRI7Zv3z7btGmTzZ8/3/dWxAQR64PbCoK8ZMmSeUwZe6xgzgsG4hVEedGiRXNBHvMkEWeIVnBdYQ7FdaVZs2bWq1cvGzdunM+z27dvd5EeghVemxBChGXjxo3WqlUrv69DmEKsD/d3OEMRf0gDghBCCCGEEAESqAghhBBCiIcKRRYsnVesWGEDBw60mjVrWt68eb0wQrGEogkFZIoqpUuXtrZt27oN9LZt27woQ0eeEOLJAQelH374wQuzJ06c8CgdhCNEgo0dO9bFJMT1VK1a1QoVKuRCE5wBEL8FrgH899lnn3V3AeYWosXo4iV6rEGDBtahQwcbOnSozZw509asWWP79++3ixcv+nwjIYoQIjxDoZcoDfZWiPVwoZs7d66NHz/eBgwYYO3bt7fGjRu7cK9MmTJWsGBBy5o1q8cExY8f3wV6wf4rGMyZgXA4adKk/vW43L355pv+WB07drRBgwb5cxCdRozH5s2bXTBDTBAFaAQsxDXKZUWIJwfiwQ4cOGCdOnXyRgT2XoiDiUlkPiLKVQghhBBCiLBIoCKEEEIIIR4ZiFVwJqArl+IyFvXPP/+8F0qCwjJFZrp5cTWgCELXMEVjunYV/SNE5IEiJmIQrm0KrriUBK4Bx48f93gLHALee+89K1u2rKVNm9YLq2GLqjiiMG8gdKNrN4jtoYs3f/78HmXRp08f+/DDD91+/vr16yqgCiEiNYhFEPjhajBjxgzr37+/xwSVL1/exScJEiRwpxWigXA6YO5kDmUuRajyWzFBzK1EDCEOrFWrlgtXiAlavHixu08REcRzM5ezd8P1ivmdeZ74IvZxmn+FiBxwTbNf69mzpzvYMUcwd+Bkx3xDbJgQQgghhBD3QgIVIYQQQgjxyOAgk/genFF27dpls2bNcscUnA1eeeUVL4BwsEnRJFGiRF5EwXEF55X169e7o4IQIuITuKQQG7F161YXo2ED37p1a6tRo4YVL17creHpxqWbn7geCqlBRFgwKKhSaM2ePbtVqFDBCyL9+vXzuJ6VK1fajh07vLMXoRuF01u3bnkEmRBCRGZwMkEkcuPGDXeHYq49fPiwi0g+/vhjW7VqlYv2hg8fbl27dvWYIBymEPWlSZPGYsSI4U4IofMtgzkYESDuVMy9yZMn93maOZiIoBIlSvgc3rJlSxcGIkhesGCBz/MIlK9du6aoDyEiCcSy4kb3+uuvu3iNPRnNB0T94H6nyFYhhBBCCPFbSKAihBBCCCEeCxRPsKjfuXOnx3YQu4FQBQt6rKFxRaATj+iOHDlyuKMKX7dp0ybv1qPQLIQIv9AlT9f87du3Pf6BGAiKo3T0L1q0yCZNmuQFTEQllStXtjx58rgYBYEaHfxBQZS5gA5/RCoUQ+nSpRCKq0rt2rWtXbt2XiCh2MpjUwTFJYXnFkII8a8gGCaa49y5cx7BQUzQnDlz3LWKGDUKzHXq1HHHFaJ+mJ+J7MA9hZggooAQsIR1WWEgJkRkzFzN91arVs3n+e7du7sgBkeXJUuWuPA4EBGePHnS1wkctHBdUdSaEOEXHO+4XkeMGOHXOMIU9m3MDTQWLF261L9GzpdCCCGEEOK3kEBFCCGEEEI8diiUUJRYu3attWnTxqM8sJsPW/SIFSuW28rjqHLw4ME73y2ECI9QmEBIdvToUY9/GDRokAvNEJfQYYtbUthrPOyg+Mlc8Nprr1nRokWtWbNm9sEHH7g7Cq4ouLCoACKEEA8e5tcvvvjCRSSIVwYPHmwtWrRw0UqWLFlcQIyA8F5z978bRDtSyMYli7hHnPQodLNO7Nu3z65eveoiFSFE+ARHOq7XggUL3r2ucVbCgWnDhg3u3CSEEEIIIcS/QwIVIYQQQgjx2MFpgdgNihJ00i5btsxFKHTdkmPOoSeFarp1EalkzJjRKlasaB07dvRoEArgWMarUC3EowenEq5drN7pwqc7HjHKe++95520pUuXtnz58rkFPA4pFDURnYR23tN5S0d+ypQpXcBC0ZIO/gEDBti0adNs+fLltnnzZi9e0ml/+fJlt45H3Mb8IYQQ4sHC/Prjjz96sfnChQvugoXbyrZt21xQTIF6+vTp7mDVuXNna9y4sbthISQm9gchIvu3YJ4PBqIWRCrEBCVMmNCd8xC8sE4QEcT+rl69ei5YJrJt/PjxHhOEgx7rDJFFvC4hxKOF+yziVrn34jrnniy4rtnr4YzH9akoRSGEEEII8Z+QQEUIIYQQQoQrKDYT//P555/b/PnzrVOnTt6tS7GDiI+gsB24KlSqVMn69+/vjgq4qnBwysGoxCpCPDi4nhCB4XRE8eHEiRO2f/9+L1SuWLHCJk6caL169fICZZkyZTzaIU6cOC4qCy1M/uUvf/EIr7hx43pcD2Kz3LlzW8mSJT2up3379h4BwbVP1z7xEypECiFE+IR1ATcF9l84J1C4HjlypMf54HiF2JAIEMQnWbNmtXTp0rlQEfEKokSEKkGkY+haQawb6wR7vyJFirhgGfcW1pkxY8b4GkFE0Pbt2124iFCZfSOvhXWKdYO9pBDiwRDEgiEYrl+/vu/nuG6J9EqfPr0NGTLEzpw5I3GKEEIIIYS4LyRQEUIIIYQQ4ZJ//vOfXvjAYv7IkSNe8ChXrpwlSJDA3RY4FKWoQe75K6+84s4LFEMWLlxoX331lQ5IhXiAcD3hWkIxkI55io+4o+TMmdOjGqJGjeoFRYRjXJNco0T4hC06Ik7JlCmTd9l36NDBJkyY4EVN4nooKnK9//TTT37tU1xkHpBDihBChE+YnxEwUrzGTYu5mzkcgcj3339v169ft7Nnz/raMXfuXHdbad26tQtX8uTJY4kSJfK1I2zkG2sHH2Mtefrpp13siJiFr6Ugzr4PkTKP8eabb7pjF4/Nc/BciBtx2RJCPBi4nhEn161b18Vjwf6OWFaExdyrac8mhBBCCCHuFwlUhBBCCCFEuIciA9byxIfQOdukSRPvxuWAlA4+ihgULhCpFC1a1Bo0aGCjR4+2LVu2uFiFgokQ4t9DYYHu2PPnz9snn3zizihTp071uB4KinXq1HGRGBE8xPUkTpzYO+ApHgaFCv6LSAX3FNxRuB7feuste/fdd93pCKcVRGSIUvbu3WunT5+2a9eueUFTrkdCCBG5CMTGN2/etC+++MKOHTtme/bssY0bN9rSpUtt9uzZNm7cOF8f2rVr5/s3nPGID0HMiAgFYWOoeCVYaxBDRosWzUUuFMlz5Mjhbiu47rHuIFrGhW/w4MEePcLaQ0wQUZIIWL755hsXQqqgLsRvEzhb7t69269RXI0CdzxckbjGiN66ffv2ne8QQgghhBDiPyOBihBCCCGEiFDcunXLtm7d6lbSFCCIEsFV5eWXX3ZHFQ5MEa0QG0JRHLt5iiHEkiB0keW7eNKhYEh3OwVD4hCwZCcegesEUQquJt26dbN69eq5wCRVqlR+fYUWBxGFUaCgix0xCmKVNGnSeLGC76lVq5YXLRCUYQdPQZBOerrshRBCiACcV1gfEK9s3rzZXVBwzevatas1bNjQhZG5cuXy/R4RQcTDJUyY0GMfWYNwVQniRkLXqUDAkjp1ahdW4tpCTFCfPn18nUMg8/HHH9unn37qz41g8sKFC3b16lXfayomSAjza4B9IvddKVKksBdffNGFyMR0tW3b1q8huVYKIYQQQojfiwQqQgghhBAiQkFxHbcFigfEgsybN89atmzphXFs3ylKBC4OuDtwgEo3Ltbv+/bt8xgRIZ5ksGk/fvy4rVq1ygUkdMQSuZM9e3ZLkiSJF/2iR4/uXesU/nBICRu/wPVFZztFP+zee/bs6dE/iMco8l25csVu3LjhHerE9tBBL+t3IYQQYWFdQLxIkZv9HWJi1g7WEFzwEBizrlAIR7wybNgwX7eImcNpBRElQpRApBwM9oJ8jDUMl70gGoj1jXWO/SEF97x583pMEKJmHMNmzZrlDi+skwg5hXiS4VocOHCgXyfBfjBp0qTWqFEjd6rkmtXeTgghhBBC/F4kUBFCCCGEEBEWihl0u27bts2jSOjkK1OmjBcr6PALihQ4rOTJk8dq167th6zLli3zyCAOXYWIbFAo4NqguHfy5EnbuXOnu5hwjbz//vvWoUMHq1+/vlWsWNEFJti1x48f34t3oQU+ihA4p+COggCsZMmSXhBs1aqV9e7d22MZEIitX7/exV9nz5514Zg6zoUQQjwoAgELezb2fDh+sa6tXbvW5s+fb5MnT3bRSvfu3X19QjRZoUIFF6/guoLwEgFLEAkZrHEMPhY1alR3ZCEmCKeWEiVKWJUqVXydJN6uV69eNnz4cJs2bZotWbLEXV72799vn3/+ua+zP//8swr0IlKCcwri4+LFi1vMmDH9+uF6wmEPERcCMiGEEEIIIf4IEqgIIYQQQohIAQX5EydO2IcffmjvvPOOFxkoulN4oOMvKEbQLYvN+4gRI7zz78svv/SiBw4PQkQkKIgRjYBDCcIQCgUU7+g0RzBCXM/o0aOtffv2Vq1aNb8m4saN69dDEIXAf5966il3ROFaoQDBdUN3LFEKhQsX9kIEDikIXDZt2uQFCzrc/+d//ufOKxFCCCEeHwhYbt++7evT9u3bbcGCBTZq1Cjr0qWLC01Kly5tWbJk8bgfCuwIl3FRQbiCEBOHlXvFBCHa5HOsiQidcRtjj0lMEMKYlStXejwe+89z58652wsRQTivfPvtt+4ugWhTAhYRkeB6Yl/JPRXXDq5DXB84ELGfJD5Ve0AhhBBCCPFnkEBFCCGEEEJECjgopYuVogBdrXTW4pZSrlw5t3EPig3PPvusFySIJylWrJi7rixatMi/R4iIBKKsS5cueXGMLvIhQ4Z43BWd48T1pEyZ0t1PEKXwnschJVScwqDgwOfSp0/vRYimTZv6dUPxYceOHe40hDMKz3P9+nUvuAVxPUIIIUR4AAEI6xLrEwJK4hwRbSJCZg3DTezIkSPu+kDRHccVxJt16tRxd4iMGTNanDhxfE0M1kcG6yWuEewdWUOJjkTYgsAFoQvrbKZMmdytpXr16h4TxBqK28qaNWvs4MGDHnlHwV8iFRFRQJyCQx7vacTLXBcImAsWLGiLFy9W9JUQQgghhPjTSKAihBBCCCEiHYhVODw9dOiQF+67devmrinZsmWzGDFi3C08UGigME9HLNbwc+fO9WI/xQQhwgMUtH788UcXiBBrQGc4cT0zZszwAlvnzp2tUaNGHteTL18+7w6niBDqGsR45pln/OM4COXIkcPjemrUqOGd4Lij4LTC+5/iHQU1inoIvoQQQojIAOsp4hXWN9ZTRJirVq1ywcrYsWOtf//+1q5dO2vcuLGvj0RGEoOHACVZsmQWK1Ysd1MJjcJj8G9iJRFDExOUO3duF3zyGM2aNbNOnTrZoEGDbPz48f5cuJtt3brVY4JwfEFIgxOaHCnEgyBwP+FehoGY+ffA9yCuqlWrlr/vEWghUiH6asKECe4UJIQQQgghxJ9FAhUhhBBCCBHpwflh27ZtbslepEgRLzJEiRLFi/aBmwTClZw5c1rHjh29eHDt2jW3i1f0j3gUUJgiroc4AApoFBd43yJMQTBCxyqClBYtWnjRjCIYVuuhhbIgrodOb4plFBSwZafbG+EKXeIU3ujuRozyySefeCGC+AEhhBDiSYZ1mD0fMT2sj0uWLHHhSteuXT0mCGFnhgwZ3IGPfSTrK+swEUEvvPCCr72swWFjghgU+RGwZM2a1Z39mjRpYr179/aYoNWrV9uBAwf8eRGr3Lhxw6Mn2QsgUOU1sU7z+uTCIv4T7CNxC0IERZQp76X7IXj/b9iwwVq1auV7R97LREC+/vrrLuDCRU97RiGEEEII8SCQQEUIIYQQQkR6KPxzQEvXH0IVCgIU6umK5eCVwgGOExT0iUTJmzev1atXz8aMGWN79+5VQUA8VIglQAx16tQp27Rpk82cOdMLAc2bN7eyZct6NzbFAaIEEiZM6GIqBChYrgeFMP6L4IrYAYRWVapUsffee8+GDh3qYhQe99NPP/XInvPnz3sRjEIDnbV6fwshhHjSYS0MivSsj4hEcVshAvLYsWPueLJr1y53XWGdZn3t0KGD7xdxTEF8kihRorv7ylCBSrBGI2bBzYy1GncKxKaZM2e2PHnyuAAG14rWrVu7kHTq1Km2cuVKF8uwbuOygjuGEP8OBM5Lly712Eecey5cuHDnM/8eBFG814ipYq/J+5XBfRF7UvaQiqoSQgghhBAPCglUhBBCCCHEEwWFBwoO69at8+ICXbFkqidNmvSudTvFhbhx41rRokW9UEAhgi5ErNiJPaGAIcTvBaEUhYMvvvjCDh8+7GIpik+zZ8+24cOHe1xPgwYNvLsakUmSJElciBLajU139ksvveSd2Lii8HXYrlerVs2aNm3qUVXE9RBtRfcsghTirnhuIYQQQvw5cDW5evWqr687d+70dZx94ogRIzwyD/eJunXrenwk6zPiE0SmCFLixInjazgC01ABC4IWHFhwZkmVKpXlypXLRS8IVlq2bGk9evTwfcK0adNs4cKFtnbtWo/8w2GNvSluaAgMELyKJxveC9zfVK9e3SpUqOCik/8U88N7Z9++fR5HhWAqeF+yz2RvSRwWoi0hhBBCCCEeFBKoCCGEEEKIJxZsqolQmTFjhtWpU8dFKkT/UDigWIAwICgY1KhRw6ZMmeLiAg5yH6XdetDVKyIG/K0oEvEeoSiAqAnLdQpaOPLgaNKvXz97++23LX/+/N6pioNPaLGK9x5iKQQpfI73IQIqIgXSpEljb7zxhhfBRo4c6d3cJ06c8OcRQgghxOMFYShCVNbniRMnungUQTRRe7im4KJCLBCCaNZ3nCrYe7LmB/vP0D1BsC/AQS19+vTuttKwYUMXxOAKuGbNGjt69KiLYBHQsB9AkM0ehL0IzhfsS+R+EfnBLbJZs2buuoeYGcEysVG/BXvWkydP2qhRo1ycH7z/2HvWrl3b9uzZI3GKEEIIIYR44EigIoQQQgghnlg4lOUQH/trrKuXLVtmXbt2tVKlSvmhLoUDRAJBdEq2bNmsfPnyXhBYvny5O7E8bFEAxQRs5q9duyaRSjiHvxVOJQhRDhw44IUpCke9e/f2DlS6qQsXLmzZs2f3AhVRAAhOEJ6EjQMgboouar6+Zs2a1q5dOxs2bJh9+OGHtn79eo8ZoPhF9ABxPd9//706p4UQQohwAHsBivqsz8Tz4LZCRBBOFBs2bLBFixa56JkIFtZ3YoKI9MM5BacV9gBhhauMICYI4fRrr73mDhdBRBCuf+xREb+2b9/eBg8e7DFB7FfZM5w+fdq+/vprOapFco4fP24FChRwpx72mLjz7d69+85nfw0CJu4vPvjgAxdMI5pCnBItWjQXpyxYsMBFT4ichBBCCCGEeJBIoCKEEEIIIcQd6DbF4poDfTLYEaogJOCglqIAIgL+i1U7jisIBlasWOFdq3Qn8v0PGkQpxBHxPLhwSKTy+EEIwt8C4RCdqkeOHHGbfyz3cUfB1YSCAEUi3kO8X2LHju1d0kFXNO8lik+vvPKKi59wRUG4UqRIES8w0RlNx/XYsWNt8eLFXlyiyIV7jzqghRBCiIgLwgBcVhCNIB5gj4ebH/tK9g+NGzf26D5ifoihZH+QLl06d/ojJihw+wsVr7C/YG/BviJ58uSWI0cO/372q8RV4tw2btw436cgoCW6kvgX9rCIXYmGuX37tgtYtNeMmPzwww/+d8U9hfcEMZHsQ2fNmnXnK/4X/sYXL160efPmebQkwifeP7y/+B4+jmukEEIIIYQQDwMJVIQQQgghhAghiNNBbLJ582YXCXDITxdi2CIA7ip0u3br1s22bdvmgoUHDWKIli1benctzhzqfH388N7APYe/OR3QFJPefPNNy5QpkxeNeF8weI8weL8EwpRgUFiiiMT38L08BsIoHpMiEc48/O0ZvB95X0qYIoQQQkQegrWddZ4RrPtE8uB2QnwfrmnsD3r16uXiVeJ9EE/jshK6rwgdwb4j2IcE+xIihF599VVLkSKFO7TVrVvXnQMnTJjgohWc2XDM0F4zYoJomn0p7jq8D/h7E9vTo0ePO1/xvyCS4j6H9wGOPMF7B3HKtGnT/J5G+04hhBBCCPGwkEBFCCGEEEKIe0ChANtrDuvJ9n///ffd7hpBAY4qwUEuwpX06dNbiRIl3HWFQ11cWP5d3vvvgSIF3a8ZM2b0IgIW8eLRQGzO2bNn3b1kyZIl3nlMgah58+YuKilevLgLlOhqTpgwoQtOKAYE7w0G8T0UB3jfUFRCaNSxY0e3U//oo4+8IIQo5dChQ/5cgRMP7z8hhBBCPJkgEsE1jZgg9ge4te3Zs8c2bdrkjivsIdiX4IzSpk0bF5vghEHcD9E/iA7Yg4TuSRgIZIl/4fNJkiTxPSxCbIQKZcqUceeWJk2auHB2yJAhLo4hAnP79u0eH4NY+mHHW4o/Bm48Xbp0cRcU/taIlIgrrVWrlt/PEDsVsHLlSv87s0fF4Y89bKFChWz06NH+fnsYrpBCCCGEEEIESKAihBBCCCHEfYD9OTn+dCFWqlTJMmTIYPHixfO89uDQH5ECduo4qmCNjegApw2EDn+0CxGBCsUCrLcRQlCMuHz5sn/8cUPxhNeCJXxEhL8Jv0f+PoiRiNCh+LJ3717bunWrLVy40ON6OnToYDVr1vSDe2zTOcSnIzn4uwcFAIRLvAdSpUplmTNntrx583qxqFGjRtazZ0+bOHGiC1J4X1BwCg9/QyGEEEJEPHBaYf/C3oV9C/uL6dOnu6C6ffv2HjNIZCARQTlz5vS4QfYnuGsQO4jjG8KE0P1MMBCwJEqUyLJmzeqOGgilEcEMHDjQHToQrLBPQjDDnubkyZMeB8Pehj0h4gZe35MOYmP2eo/KiYS/S40aNdwlJ/TvmT9/fps8ebJduHDBRSrsdVu1auV7Wpx1eC/wHhk6dKj/PYUQQgghhHjYSKAihBBCCCHEfcABMwfudLPiYjJp0iQ/BCbnPzgA5pCXw34O9ulIpZt1xowZ9tlnn/1hRwyeF4EKBQS6XqtUqWJz5szxosTjBrePuXPn2qeffnrnIxELfrf8PTmopxsZMQouOGXLlnX7fAo4WOjz96QL+ZlnnnGHlLDiFD6GMIUiUP369b2bmc5mCjcUbL755ht/nh9//NHfQ//4xz9UuBFCCCHEnyIQ2iIYZn/x008/+f4QEQJ7j0uXLtmxY8ds3bp17vDH/qRZs2Yuns2SJYs7bbC3YS8T7GuCvQ172qefftr3teyBXnzxRRcyINLl+3BpKVKkiItXcFsZM2aMu8198skn/rzseZ50iNHh78Hf6FGAEBo3nFDxPCNZsmQuWDp48KDfw7z33nu+zw1c/xBV47xy8eJF36MKIYQQQgjxsJFARQghhBBCiN8J3aGnT5+2jRs3+oH8O++844f0iBSCw2BEDUmTJnXXjcaNG7v4Yf369W6b/XsOqgOBSvC4iRMn9qihjz/++IHFCP0eENpQBKEAMWHCBGvbtq2tXr36zmfDJ7xesvQRogTOKDjR9O7d2+N6EBrhfJM7d25LkyaN251zuE9xJvi9Iw6iMMPflC5TRCyIUYjrGTZsmHctL1261B+f7lM6mikOUTQSQgghhHjUsIdEKIKzCU6A7E+I6iG6cv78+R7fM3z4cHcHbNmype8v2d/gAIdrH06B7GeDvVAw2B8hWokZM6bvi4ih5HuIMkRIjRgCwS/ucSNGjHCxNi6ERBoePXrU3QV/+OGHSB9niFCH3zeCZfaFD5u+ffv634Q9a+jfCxdGBCl8nr81/8+eFtERQvvu3bu7Cw/7ZSGEEEIIIR4FEqgIIYQQQgjxJ7h586bt27fPM9s52Mc5BaEKh8HBwTDdppkyZfKsd6zR6V7EZhuhy39y0ggrUGFQDOAweefOnX6Y/KgO+Hktwc+LuIMOXF7bokWL7nzF44MuYsQgOJUgRqELFBHRkSNHvCCyYMECF5K0bt3aiyd0mMaPH/9fDvH5N+IU4noozPC75iAfUcobb7zhf0M6kGfOnGmbN2+2M2fO+N/gUdm3CyGEEEI8KNjDIKQ4cOCAC1cQkxAThAC5Vq1aVqJECY/6IdqSSBiE0uyPYsSI4SIHIg4RrIR1YeHjONEhXilevLjvkXlMHpvnWLt2rYudDx8+7BFB586d89fBHg4HmJ9//vl3CbrDI6dOnXJHvUGDBtmsWbNcpIKjyoPet3MvgeCH2J7Qv0HoYH+LiIj9L//GHSdFihTWoEED3ycLIYQQQgjxKJFARQghhBBCiD8Bh+ccon/99dce5bNy5Up31cCNIzis5+Ceg3oy4TkMxq2DLkYEDhwo/zvuJVDhsZIkSeJCCQ70sRB/FOAIsmHDBn89qVKlcvEGVvGbNm268xWPB8QhHM5fuXLFdu/e7RFIAwYMcDEJhRWKI4iGsKSPHj26F1To/OWwPmxBhb8RRRjEN3QTI2pBgEMRhbgengPnGsRFdCUjipE4RQghhBAREfYwxLqwl0U8wV4PMTKuKwhGcF5BRIKghJgg9lfsjxD75smTx/ejiLJD4w8Z/JsIGSKCcOogMpE9GKIVBMKvvfaai7qLFSvmMUHsnXFbwdkF1xGel71WRObq1asu+sFlkd9V165dXeTN7/pBgjib+J6aNWv+6m8QOtjvsvdl8G/2xG+99ZbHdPI3F0IIIYQQ4lEigYoQQgghhBAPCLpQr127Zrt27fJD/Hbt2lmFChX8AD7oMCXrP1asWN7BSGfqwIEDXQCB7fq9xCr3Eqhw6M/jIL4gYgir9IfZZcrPRaGCjldec6JEifyAmy5aukJ57Y8CfkZ+R7ij8JwIY3BGGT9+vAt+yNSnQxenk1y5cnmnLx2+FEdCf3d0jfI3SJ06tXeTIkbBjp6/F38PXG6WLFniMUpY0V++fNmfV0IUIYQQQjxJ4PaBEBpxLjGVCCGIMySyZ/bs2TZ27FgXrXTo0MGaNm16NzYRQUbgKog4hf1XWFEw+zFEK4hcXn/9dcufP7+VKVPGhRMIoDt16uT7MmIZcSJBBI54BcEMouEgSjG87s8QMuPkh4MMopwsWbL4XpWoSQTPD0qowmPh7IfYJ/T3e6/B34D7kcyZM7soCHE9AhchhBBCCCEeJRKoCCGEEEII8RAIxCqIT4iVwR6dblEO6TmQD4QS2KST9z948GDPqKdblQN3igEcuN9LoBIMcuZLlSpl69ev98LBg4bn/+mnn7yLlUIEBQeEKUGBIU2aNP7zIeB4kOCGwu+PTl6caRDHIEo5ceKEi39wSEEYQ/GC10QED7E8oYWP4PfLx4lY4ndFcSBZsmReBOF33qJFCxsyZIiLXHBI4e/F8wohhBBCiPsDkQj70OPHj9vGjRtduEKUT5s2bVxsUqhQId8z4rwXONohIGZ/hrsKQmLcVu4lYGHfjKCYx0D8wmOyd+M5eC4Ey+xT2ScGLnfso9lDsqd7mALu+4HIIkTQcePG9b0pe9GqVava0qVLPdroQQigibRs3769OwCG/v7uNXgN/K4RaBO5xB547969kTJiSQghhBBChF8kUBFCCCGEEOIhQMcplukILDg4RwAxfPhwP5TmcB6hRyCiIFaGQ/t8+fK5aOLDDz/0LlVEKv9OoEJEDQfdWKPTVfqgQSiCFXn//v0tXbp0XkjgNQfPT/clhQEKEw8SLN05tCdOCDeTnj17Wv369d0xBnEJziiIfShw8Jr4XdINGvq7QZiSIEECj1qqXr26H9yPHj3aCwLYmdMxyu8YcQ1W9hQy+HvxdxNCCCGEEPcHAgv2UIia2cMhcmB/df78eTt16pS70bH3Yq/Kvo59ZatWrXx/W7BgQReg4KSCcCJ0L4dghY+xzyOeEVELwm4c/IjMZG+KIyFi5Xr16rkjyAcffOBuK8RoIphhj/c44feBqJr9KD8TDojEHGXLls26detmW7Zs+dPiaFxtcGzkdxP6+/utwe+VWCa+nsjO7Nmzu/sg0U38/tgrs79/GOJ3IYQQQgghQAIVIYQQQgghHjKBWIWD8sWLF7sVet26dT2Gho5K4n8QfnAAj/iifPnybms+ffp0t1EvXLjwPQ+YGXSdJk+e3L/+2LFj94wJ+iOQm09nKo+LTXuoMIVBRyuH2RQffi+BM8ytW7dcJLJ//36P68HyfPLkyW7nTocscT04xHCIjyCF4kTY7tqXXnrJhSjYyCPwIa4HwQ6uNfyeJ02a5HE9O3bscNELhQqJUIQQQgghHh3s/XA2Yd+IoAJhBvszIjERRfTo0cMFEghNKleu7LE4iDrY37EHjBYt2l0HwtB9IGJt9qTETyJiLlCggO+j2WcTp9OrVy8bOXKkPw9uIWvXrrWdO3d69A6vhX0hbiF/1sXkt2BfPn/+fHvzzTfvvmZE1ez92d82b97cP48Lyh+JK2I/TSRlpkyZ3I0m9Hdzv4PfIYJvxCr8/hDTI5jv06ePTZw40VatWuUuhgjntYcWQgghhBAPAglUhBBCCCGEeAzgTDJ06FCPmkGUQicjXZUcWiPC4P85lOfgGgHKvQ6UQwfijBEjRrhF9x+15OZQHNcUsug5wMeSnAP/ez0fr5nD638X7xM8HgfadNXiUkJxgiidL774wrZv324zZsxwhxREJfwMOMJwaB88D78LihEcnvNxDt8pRFCoILYHFxcKGe3atbOxY8famjVrXIhCx6oQQgghhAj/sF9kn4jr4LZt22zu3Lk2bNgwj6Eh2gfhBPthhN3sARFUsHfGMY/9IeKVYA8dul9lD8meGtcVBNcIRd59912P1sSxEKEMAnKE2YhV2KeyD0ZYgnAF0Qj76j8qYGEPTIQOYpmwr43Bz4IQHYH2l19+6c/5e0Qg/M5wPMFVMOxj/9HB68S5hv02opVGjRq5iJzfyx+9xxBCCCGEECIUCVSEEEIIIYR4DJDvTucm7iEzZ850q3M6RWPFiuWHwxyo4w6CQITD97CHx2EHMUF8/7x58zxD/o+AywsH9KNGjXKr8LBikdCRP39+F9j8O/tvDtl5PGzdly1bZuPGjbMuXbp4V2vRokUtZ86cnpdPwQGbcYoNOMKExvUgTKEAgf17sWLFvLO2a9eu/ljLly/3IsaBAwdclHLhwgV/PT/++KP/LEIIIYQQIvyDAATxA4JmHPbYP7JPZn9H3MyePXvcVRAnQlw9+vXr53tnxCvsKTNmzOgiDfaNoftVBntqXArZZxKvgyMLwgu+h4igQoUK+b63YcOG1rlzZ3d0Qbyyfv16d3thX00Mzx9xD+F7EE0TM8l+PmyMEcIaRCq4KuIeSCQoP//9gvMKAnUikkIf988MXhP3ADgl8ntGUP7VV1/9KaGOEEIIIYQQoUigIoQQQgghxGOGg286OBGGNG3a1A/KydbnIP1eB8e/NYjAQfzB4T2dn/fb5UjXKoIZxDIc+pcoUcIP8O/1HMGgA5Xn4fsoJuCKwiE5YhRy/+nmxE6dDlUO3GvVquUCE4oBPHaoCIWBMAWRDUUDRCt58+a10qVLW82aNd3ynQNyuktXrFjhh/c4sPC8vHYhhBBCCBG5QRyBiwdOI4cPH/a986JFizzOkf1mhw4dXGRSrVo1K1OmjO+ns2fPbmnTpvX9ZYwYMVyoElYkwp4U8QhiadwLcWupWLGiNWjQwB36iIycMGGCffTRR74PZZ/LXpRoTUQ0169f9333vxOw4EDC3v63Ynh4/jRp0rjTClFEOMkg9P5PEO9DrCVuJ/d63PsZ/PyI4gOXGX5//C7Zx+P4yF5fCCGEEEKIB4kEKkIIIYQQQoQjEF5wiI2ddrp06e55kPxbgw5RDr7r169vZ8+edSeR/wSH/Xwdh+xkzXM4fj8Z9s2aNfPDebpCOZzftGmTH95zkM+hPiITOkLDfl8Q2UNxgC5XujSxXqcoQBfrW2+9Zd27d3dXmZ07d/7bCCEhhBBCCCEgcGG5cuWKx+ogpB45cqS1b9/enVaIkkySJIkLwNl7sgdlL8qeFJEG+1P2qfeK4uFzOLRkyZLFypcvb++8844NHDjQZs+e7c4uZ86c8bgdIn2IBcLJj9eCkBrhyoYNG6xcuXIeURT2scMOBN1B5M9/EmIThVSpUqX7clsMHcF+nJ8fgTuOMojCp06daqdOnbovcYwQQgghhBB/FAlUhBBCCCGECEcgFqFrkm5NYnTudaj8WyPIjEccgmvJ0aNH7zzqb4N7y+rVq10QkylTJo/TCdtZeq+BwwluL7Vr1/YDd7pNObRPmTKli0047ObgP/h6XhuH/3wua9asVrZsWX/OHj16eFwPohxELohejh8/7kKdmzdv6oBcCCGEEELcF4hU2DsSk8MeF+HIkSNHPCIIxxX2vHPmzLExY8ZY79693aUPcXTx4sV9H0u0JkLtsHth9rG4/SFuQWSSLFkyd1vBoaVgwYLu+ofzCALubt26eewO4pW1a9e6CwlRlx07dvR9cujj3msQ98k+GxcTvv/fOQYSR8TrRnBzr8f6rYGbDK+9SZMm/hg4H/I7QnSO0EYOhUIIIYQQ4mEigYoQQgghhBDhgKDr8+LFi7Zu3Tpr0aKFx+Hc61D5Pw1sunFCIa6Hg+Z7QZY+IhA6LxGKcCAfKij5T4Mu0uTJk/tzhR7i8//Yp8eMGdO7VBHL5M6d22ODiAWiEID4Zvr06f5zYtGONTqvRwghhBBCiIcJgo+vvvrK3QOJyMFphT1z//79XeBNXGaFChWsaNGiHnmTOXNmdxhhr8z+9l4CFtxI2Efz+dSpU7tbC46CRA4hTMFhsE6dOv4Yod/3WwMxDNFECF6WL19u586d89cdgICEf/O494rODDt4fbw27g8QwNerV89jkXB24V6BfTj3IkIIIYQQQjwKJFARQgghhBAiHID9N/n1CEbIzOcQmcPkex0y/6dBlyedlIhCsAi/14Hz1atXbcaMGVaqVCm39+Z77vVYvzX4el5f2O/DYjxhwoRWuHBhF75w+M3BP0IUfj4OwLE+D7U914G4EEIIIYR4VLD3ZA/KXpQ9KZE87E+J6GEQE7R//353PsFtpXPnzlarVi3fowcC7dD9bzCC/TGCEUQsQZxlECX0e/bbPM6rr77qzoOzZs3yyJ8AxCmI2okuup/H5DXw2onRXL9+vT8WP3OwFxdCCCGEEOJRIoGKEEIIIYQQj5lvv/3W43gGDRrkFuFYe/9eq+6wg0NtLMiJ4NmxY4fduHHjzrOZ7d6927tE6Qy9nyz8ew1cUuLHj+/uKGTfE/fTs2dPGzt2rM2fP98tyXft2uXdqRyC3759WwfgQgghhBAi3INI5ZtvvvGYoFOnTtmBAwds+/btvr9dtGiRTZs2zYYPH+6Cj3feeceFIgjDic0h/gdhyZ/dyzMQtvBYOLLgxEIc5rVr19x9cOPGjVayZMl7ft9zzz3n+3SE6K1bt/Y4zVWrVtmhQ4dcpK4ITSGEEEII8TiRQEUIIYSIIPz9r/+wr6/cthuXb2loaESS8dXFG3b25HnbuG6TvT/4fe+Q/K2OzD86sBlv3769rV+z0U4dP2N7du2xrl27+gE6h9f3+p77Gdibp06VxhrVa2JD+39gCz9cYru37rXPj5+/58+qoaER8cfffvr7nV2JEOLP8sPtn+55nWloaIT/ceX8NTt99Kzt2LTblsxdbhNHTbF+3Qfau03bWI3Kta1ovhKWNUMOS5UkrSVNmNxiRYttT//lmT/sjsggZogI0AXzF9rqlWts0IDBli1rtruff/aZZ+3VKNEsUdzEliV9ditfspL17zHIVi9ZZ1+c+tK+unDjnj+LhobGkzm++/oHOZkKIYR4bEigIoQQQkQQbl7+xjbN3WNrZ2zX0NCIJGPhuNXWv/1QK1usosWNHc+ee/a5P3Vwfa9B52WUKFGsfrWm1rFZD8ubI7/Fjxvfuzp/j8142MHrTBQvsXVq0tOmDpprSydssJWTt9jqaR/f82fV0NCI+OPq+f91YhJC/DmO7/78nteZhoZGBBjTt/ued8XkzbZswkZbPG6dLRi92uaNWGkfDVtms4Ystol9ZtuQjmOsc9M+Vq5IFYvxaix75uk/7qoS7OmzZ8pppQqVseL5S1v82Anufj5erARWIHsRa1GrrQ3tOM4+HLrUFv7f17R84iZbM22bv+Z7/iwaGhpP5Di45TP75y9yOBVCCPF4kEBFCCGEiCBcu/i1rZm6zeYNWW2z+i7T0NCI4KN/ixH2dsVmljtTfj9Qfuq///KnBCP/adDBmSlNVu+spIPzXl/ze8fLL0axPJkLWKuaHW1itzk2vffie/6sGhoaEXvMHbzKlo3bZJfOfHVnVyKE+LMc/vikLRq53mb3X37P605DQyNij2k9F9nojjPsvZqdrWDWYvb8cy/Yf//3U/fcU9//+D8W9eVXLF7M+O6Ukix+SsuYLJsVy1bWapVsZG3e6m6DWo618V0+uudr0tDQ0GAsHLHO9q49Yv/85Z93diVCCCHEo0UCFSGEECKCEAhUZvZZauPbzbWJHefbpE4aGhoRbUzsOM/Gtf/ImldqZ/leL2KvxU1qcWLE+48jXswElihuEkscL6kliZ/sd49kCVNa0gQpLGGc1yx29LgWLWp0e/mFKPbsM8/5YfkfEcf8n//zXy52yZOhkLWv2duGvzvNf757/dwaGhoRcPzfvQZ7juk9l0igIsQDBoHKgmFrfd2c0EFrp4ZGZBvs9wc3H2+VCrxlyeOnvude+n7G//n//o899dRf7IXnXvT9O/v4RHGSWMpEaax4jrLWuMJ71r/ZaBvdduY9X4eGhoZGMNhvsLefO2S1BCpCCCEeKxKoCCGEEBGEUIEKN5Yf9l9hcwau0tDQiGBjZr8lNq7LLOvTfKi1qd3VWtZoby2qt/2Po13dbta/5Qgb0na8De8w6XePER0m25A2Y61n00HWtOp7VrFINcv9egFLmiC5RXkx6h/u6ETYEjtaXCuQuagNaDnKZvZdcs+fW0NDI+KNjwastMmdF0igIsRDIFSgMr3H4ntegxoaGhF3sN/vUK+XpUmc3p75y7P33EffzyBWM1rUGJYxZWbfv7OP795koO/vx3WdZVN6zbdZ/Zb+3zVb5wMaGhr/fszotUQCFSGEEOECCVSEEEKICMKvBSoLbM6gVbZ22nbbtfSghoZGBBrbF39qG+ftsFWzNtnSaWvve/D1WxZ8YtuX7L/n497P2MZzz91hi6estukj59jIAeOtX5dB1r5VZ2tcr6lVqVDVChcoaq9nyGSJEyWxaK9Gt6fvIysfF5ZEcV+zuhUb2fh+0+/53BoaGhFrrJ+x0+YNXm1TuiyUQEWIh0CoQGVGr6W2ZNQG+3j+vntejxoaGhFn7FhywLYu2GtDuoy24nnesOivxLjn/jnsQPT9l788bdGjxbCUyVNb/jwFfG/evGFL69S6mw3pNcL37+zj18/ZbjuXHrjn82toaGiEHdsX7bdlYzfZrD7LJFARQggRLpBARQghhIgg3Eugsnv5Ibv42VcaGhoaf2qcO3LJDmw/Zivmr7XRQ8Zb25YdrEaVmlYoXxFLnSKNxY0Tz2JEj2lRo7xiL7zwootW/uu//vtXh+rPPfucZcqQyXp07G3HPjntj3mv59LQ0IgYY9+aYxKoCPEQCStQWTlxq5385It7Xo8aGhoRZ5w9/KXt3rTf2rXqaDFjxPy/++anf7VnDgbOKHzupRdfsmivRrN4ceNbyhSprXCBYtawThMb0m+4781PfHrWzh+9fM/n0tDQ0LifcfbQJVs3fYcEKkIIIcINEqgIIYQQEQQJVDQ0NB7WuHD8qh+mf7bvczu445jt3vipbV2909Yv3WKLZi+38cMnW5d2Pax2jXpWKH8RS5Ykub38UpR/OWR/8YUXrWih4jZi0Bjbu+XgPZ9LQ0MjYgwJVIR4uEigoqEROQei727te1nu7HncEeW//s9//WrPHIyXXnrZ99Qli5a2Fo3ftQ8GjrLF/3ffvWHZVtu+do/t33bE9+aIU9ir3+u5NDQ0NO5nSKAihBAivPH/s3cW4HIUadsGFgvuJIQAwSUQHEIIEtzdLbi7u0NwJ3iAACFIkBCCu7v7Auv77f7r8u3ut7v1911JZzuTHjthhu7Z+76u5zrJOTPd1dXV3W+99XSVBhUREZGSoEFFKfV9COPKOy9+FB5/8Nlw500jovnk5GNOCwfsdXDYfqsdw/oDNwz9Vu4fll5ymdCr53xhicWWDJtssFm48aqh4Y3n3svdplKq+NKgItJaNKgo1Xl687n3w61D7gjrrLlenD0lNaN06zZd6NF9nhgvrzVgYNh2i+3j8ponH3tauOaS68MDdz0SXnv67fDV+z/O3a5SSk2KNKiIiEjR0KAiIiJSEjSoKKWKpC/e+Ta8/uy7Yfgt94WLz708HHnwMWHLTbcOffssG+bt2SscesCRYeSdo3K/q5QqvjSoiLQWDSpKdY6Y4YSZTu4een/Ye/f9w7zz9ArdunULM8wwY5h55lnCIgstGjZcd6MkXj423HjVrXG2wk/f+mHutpRS6ruWBhURESkaGlRERERKggYVpVSR9M2HP4smlfde/ji8+vTb4dnRL4fR9z0R7r39wTDsxrvDiFvvj8sE5X1XKVV8aVARaS0aVJTqHH3x7rfh1afeCscefmLou/RycXkfZkk5+tDj49I9t98wPIwa8ViMl996/oPw+dtfR0NL3raUUuq7lgYVEREpGhpURERESoIGFaVUWYR55Z0XPwzvvfxJ7t+VUsWXBhWR1qJBRanO0edvfxOef/SVcOHZl4a9dts3nH7C2eGmq24Nj418Orz70sdxycy87ymlVDukQUVERIqGBhUREZGSoEFFKaWUUu2SBhWR1qJBRanO0Zfv/ii8/sw74aPXPs/9u1JKfZ/SoCIiIkVDg4qIiEhJ0KCilFJKqXZJg4pIa9GgolTniNkDWbbnq/edKUUpVTxpUBERkaKhQUVERKQkaFBRSimlVLukQUWktWhQUUoppVQ7pEFFRESKhgYVERGRkqBBRSmllFLtkgYVkdaiQUUppZRS7ZAGFRERKRoaVEREREqCBhWllFJKtUsaVERaiwYVpZRSSrVDGlRERKRoaFAREREpCRpUlFJKKdUuaVARaS0aVJRSSinVDmlQERGRoqFBRUREpCRoUFFKKaVUu6RBRaS1aFBRSimlVDukQUVERIqGBhUREZGSoEFFKaWUUu2SBhWR1qJBRSmllFLtkAYVEREpGhpURERESoIGFaWUUkq1SxpURFqLBhWllFJKtUMaVEREpGhoUBERESkJGlSUUkop1S5pUBFpLRpUlFJKKdUOaVAREZGioUFFRESkJGhQUUoppVS7pEFFpLVoUFFKKaVUO6RBRUREioYGFRERkZKgQUUppZRS7ZIGFZHWokFFKaWUUu2QBhURESkaGlRERERKggYVpZRSSrVLGlREWosGFaWUUkq1QxpURESkaGhQERERKQkaVJRSSinVLmlQEWktGlSUUkop1Q5pUBERkaKhQUVERKQkaFBRSimlVLukQUWktWhQUUoppVQ7pEFFRESKhgYVERGRkqBBRSmllFLtkgYVkdaiQUUppZRS7ZAGFRERKRoaVEREREqCBhWllFJKtUsaVERaiwYVpZRSSrVDGlRERKRoaFAREREpCRpUlFJKKdUuaVARaS0aVJRSSinVDmlQERGRoqFBRUREpCRoUFFKKaVUu6RBRaS1aFBRSimlVDukQUVERIqGBhUREZGSoEFFKaWUUu2SBhWR1qJBRSmllFLtkAYVEREpGhpURERESoIGFaWUUkq1SxpURFqLBhWllFJKtUMaVEREpGhoUBERESkJGlSUUkop1S5pUBFpLRpUlFJKKdUOaVAREZGioUFFRESkJGhQUUoppVS7pEFFpLVoUFFKKaVUO6RBRUREioYGFRERkZKgQUUppZRS7ZIGFZHWokFFKaWUUu2QBhURESkaGlRERERKggYVpZRSSrVLGlREWosGFaWUUkq1QxpURESkaGhQERERKQkaVJRSSinVLmlQEWktGlSUUkop1Q5pUBERkaKhQUVERKQkaFBRSimlVLukQUWktWhQUUoppVQ7pEFFRESKhgYVERGRkqBBRSmllFLtkgYVkdaiQUUppZRS7ZAGFRERKRoaVEREREqCBhWllFJKtUsaVERaiwYVpZRSSrVDGlRERKRoaFAREREpCRpUlFJKKdUuaVARaS0aVJRSSinVDmlQERGRoqFBRUREpCRoUFFKKaVUu6RBRaS1aFBRSimlVDukQUVERIqGBhUREZGSoEFFKaWUUu2SBhWR1qJBRSmllFLtkAYVEREpGhpURERESoIGFaWUUkq1SxpURFqLBhWllFJKtUMaVEREpGhoUBERESkJGlSKqW8+/Fn47K0fhmceSTr7198Vrr/i5nDNJdfnashlN4Ybrrwl3HXzveGRex8Przz5Zvjo9S/iNvK2/e1HPw+vPf12eOCuR8K1l94QHn/gmbGf/2js579670fhjWffCyPvHBVuuvrW8NTDz4cPXv10ou00Irb17ksfhwfufCTcc9sD4dH7n0y29dn4svGT/49Jfn/HTSPCsBvvDs+PeSWWp3JbleK7Xybbf3rUC+HeZNuIY//q/R/HY+QzP3z/J+Gt598PDw0fnVt3jejma24LLz72Wvj0zR9OVIZKff72N+HFx18LI24dGW644pb4k/9TjrRMtfTBK5+GJx96PtZ7Xlkqdd3lN4Vbrh2W7Of+WIevP/tu+DRpN43sqyv68LXPY33TJm+55vZw/x0Phzefez/88IOfTPTZL9/9UXj7hQ/jZ6jDvPI3ohuvGhoeuefx8OpTb4f3k/p5aPijyTHfnvvZRkSdsQ3qinJ+8saX8TqrdY3VE9fdOy9+OL5dc75p1w+PGBO3y/l5fsyrsb1Wuy6z4rtcd9Qb9fdGUlbq86v3fhzbyEN3UwfDcsvSiK67jDoYHV5/5p24P84f52pksi+uo9H3PRE+Turl6w9+OlHZsqJM7yXX97OPvBQeTLY37Ibh8X7EPjjuO2++J4wa8Vh4ITn2D5Njovx520nF/rhfPJjcm+5I7gV3D70vvJrcqz576+vcz2fFdz9586vw2Minw/Bb7gsP3z0m1lsj9a3aKw0qIq1Fg0oxRQzw7osfxfj65iSGqnw2Z3X95TeHW4fcEe4b9lCMu3hG88ytFt8RNxM3EEfTHyD2/eKd/5xz4jdinaFJ7HDf7Q/G5/8X7347wTYaEc9UnsnPjX453JnE7fQlXnr89fgMpmyIf7/8xBsxfiGe5XlMeYiN8raZ1dh45IP4XeKRR+97cqJ45OPkWJ9/9JVwWxKL5tVdI6LcxJT0GbL7z9M7yTkbc/9T8Vhuu/7OJCZ9LPaLsmWqJur49Wfejecxrxx5Iu7lPI688+Hw3KMvh/de/iTWy7cff/exPcfwWtIW0j4hcRvt6It3vp0ofuL/9DGeHvVirHvaaF75GxFx2rOjX4oxH/Ex8SP9przPNqI7bhwRrxPaCtcZddZMnVeKGJR2TVyZHj/t/uWkn8l1edt1dybx7ZhkPx831K65dolJ0z7R0w+/EGN9rpfP3/46xsmxDpL+fF55GhFljnUwLgdAzM01n/aRuSazfeQ80R4+S8pD7P3YyKeSvvvICfpwQ4ck949hD4YnHnw2Hg/93lpxNrkFysH9gpj+1qTexiTb5djz+o6Voh1yr7p76P3xfNI2yY/UOgbVfmlQERGRoqFBRUREpCRoUCmmSGS98sSb4aSjTwuLLbJEmHGGmcKUP5gyV9NOM22YbdbZwkrLrxx232nPcMXga8JTDz0fE0J5CRwSaQwib7nJ1mGaqacJh+5/RHjy4eTz45K0JGwZ/N50w81D97m6h2MOPT4OwFdupxGxLQa9N994q7DWgIFhnz32D6PvfWL8QDU/+f++ye/7Lr1cWHqpZcLZp5wfE1CV26oUCUi2f/wRJ4WBA9aJuvLCaycw55CoJOG3zRbb59ZdI+rRfZ4w+MyLw4uPvz5RGbKirkmiXXDWJWHAamuGWWaeJf7k/5SpkUQcRoyjDz0uzJ3Ue15ZKjXDDDOGXvPOF1bvt0as2xuvvjWW8+sPf/qdJ7I5Pgb/jzvypLD4okuEeXv2Chutv0lMUmPeqWxrGBdIQG+47iZJHfbMLX8jmmP2OcJuOw6KiVHMDttusUPo1XO+3M82oumnmz5su+X24aarbo3lJPl/8rGnhxlnrH6N1dPuOw2KyVOuW7ZJQpt2vcM2O4eZZpo59O83IJx72uCYME/bfi0xIHPc4SeGeZJ623j9TcPNV98Wk+CYPEYnbWS7rXaM5z2vLI1oum7TJdfEdjERzv4oL4njTZJ9cR3tueveMalN4rmybKk43wwscH2fcuwZYZvNtwt9llg6TDvttHEfMyfHvfyyK4Rdtt8tnHfaBXFwh/LnbSsV7ej+YQ+FrTbdOizTp2/ot3L/cO2lN4ZXnnor9/NZ8d3nH301HLj3IWGVlfqFHbbeKZqoSG7n3QfV9ycNKiKtRYNKMfV+EgPce/uDMb7u2WPeiZ7NWc2YxHe9518wbLDORjHOHX7zvTGGqGaKePKh58Kxh58Q+iy5dOwPEPu++fz74/9O/HbyMaeF+XstENZbe4P4/Mf0kt1GIyKGeeXJt8LpJ5wdll1m+bBl8ry++JzLYrxA2Yi/+fel510ZY8S5kniWWIjyNGI+Jx656+Z7wsbrbRLjkb132zcaGbLxCH2Es08+L+kfLZ5bd41oi6QP9HASU3702ucT7L9SxA8Y7PcddGCYe865w6ILLxZ23XGP2C+qFSOlwryM4WT9gRvmliNPc84xZzyPm2ywWTj9xLOjAfiTN78c/yLBdylMF9ddcXM8j1NNNVWM2445/Pjw1gsfxH5W9rPEuJgcTjzqlHF90xlzy9+IVk3itFOPOyOJ+R4O5556QVhy8T5Jv2nW3M82or59lg0nHHlyNGi8/8on4cG7Rof1Bm6Q+9lGtEyyvYvOviy+NJEePy9BXD746tB7gQXDwgstEnbabtf4AsYnb/zHxFJNxMvE8hsl7XqeHj3Dcck1TawfDUJPv53EyRdOch0ss1TfcHzSR6MOuE7pI590zKnj+8iXnn9lNKpVu4cg2sOrScx97SU3hAP2Oiis2X+tWN50HwvM3zvW6+EHHBlj7LEG+upGN3ILmFG4X6y2Sv+wUO+Fw/57HhRGJ8f+acb8U01vP/9BuP6KW5LvDoj3Qu5xLz/xZkOmINU+aVAREZGioUFFRESkJGhQKaayScBFF148GhYwSpAYXSxq8fHid4sstGhYYL7eYcEFFgorLb9KOGS/w8PwW+6Nb/hVDs6S1OEtuc022iL84Ac/CAfve1hMbP/HoPJJfFuKgfE5Zp8zHHXIsdE4kd1GoyIZz4DzphtsHtZYba2w1277xm1NaFB5PCagMT3MNefcMSF71UVD6r6Vlr4hR7KKBBq64oKrw0evTWhQYbaPrTbbJkwxxRTR7LDAfAtMUH/11G+l1WJ5eGuusgxZMRDOAMC+gw4Iq6y4ajRwkMjbf88DY/02kogbdc9j4ciDj4nlJCHIdjZYZ8OwyYab5Ypk3RrJcfddetmYzF5tldWjwYW32zj272pgnu3wRh1mFIwISy+5TDRI9E7a25knnRNnmKlMeHLuedttx212CSsut1JFvS4WFu69cGzTGBowh8w919xh4QUXGdfG//PZFZZdMRy0z6FxMIUZeGhDK6+wygSfQXy35zzzRvMFxp0555grLNh7oYm2t3RST3vvvl+49bo7YjkZ+Djp6FPDdNNNF5Pt8yRlWmShRSb4Tj0ddsCRsc6ZMYhtkqxm8AIjyZRTMtgwV6w33rrkzeB65wVzyzGHHR8HQzjHmGlIbpNYpo3ts/v+SR2sOlE5xtfBdNOPq4M54z2hsg76LNEnXnO8Sc3+GBDifrHRuhvH62iPnfeMb8jmDb4wQPLmc+/FWWGOOOjomGxnMGy1lfuHtVZfO2yw7kbxdxsm21pnzXVD/1VXD6uuvFq835xw1MlxcO7d5NrOG2jBZMKb3ZtvvGUsd6/kGtptxz3iG5v8rVZSfaxB5ZWY+OYeuN2WO8TBAA0qxZMGFZHWokGlmCJmxeyw0XqbRqPI7LPNHmP3ymc04ncM5mLIxfxJbIwRBHMGMW6lCZk4k/hvicWWDMv3XSHGvsxwl/6d2OHEJNaZd55eYWDybGaWM+KR7DYa0ViDypvh1OPODEsv1TdsvtGW4cKzLx1vUEH8+5JzL48D2cRVGFnolzBjY3ZGijzxd2ZmIfYhHtlzFwyzExtUzjzp3BjzYDqeN4l7qKvKOqwljPFxdpYaphmOhfJcNviq2Cdif/P1mj/GoPSjmHkk73tZYVAhfl1nrfVCt27dwpKLLxWPKy+mT0XsRPxPv4gYeOvNt40GfAzV36VJhXNJG6GvudaAgTF+nD/pI2FWwRRDe81+nr4p5oWzTzkvGuPpd2TrlL4osdsss8waY2p+0lfIa9/EebyQwH4uPe+K2JfBmJz9zKLjtsd10i2J7TH+U8ax25twm7SX0084a/yMM8wIs86a64Wpp5o6zJ70qbjesp+vp43W2zip82viLJjp8dMPvOz8q2IbIMbmWsP09eh9T8TzUuvFAGJ4YnmMSvTpjz3shBjr08YweVx2/pVj+3N9lp2gHJV1MHONOmDbpx1/ZuzXcG4xqHBu0z7yJedekWtQIUamT809hM9su8X2Yc0knqcNcp7XTdoucT2GM67pNVdfK6yc/I12utsOe8S2iSkm3pcq4m1yC5SDctEXnHXW2eI2TznujHiu6s3i9NbzH4TrLr85rJr0xddde/1wTHKPIz+iQaVY0qAiIiJFQ4OKiIhISdCgUkxlDSpLLLZUTALyxuMBex0cB+sxlaQ6cO+Dw1677xeTp8suvVzoPneP0G/l1cLhBx0Vk01MHZzddlENKiTbMCuQRMTU8cBdo+LbltUGl5s1qEw99dQxOcbAdbb+6omZLJiSmSm+K8uQFYYaDBwk/hmU77/qgDDfvPPHfbMkTb3vo6xBhaT0wfseGi4657LxUytX6uJzL4/J0e232jEOSDCTDok/2g1J1VpvtTUjZn/BlDD4jIviftbov2ZYYbkVo6GIN+wwHVS+acnSOSQszzv9gnDkQUdPWK9JG2bQYd211o/mjYUWXDgMWG2NaBw5aJ9DJvgs7Y8kMUnsl554PR7zUUkdZT+D9tp1n6TNbhITt7zdSDKTGYWYUSP7OcwkJMNpd5Qza1DheyRAGbjIfqeerr30+vDUqOfHJ0yzBpXJJpssaqnF+8Rrl3PMFOnZuqpUNYMK01q//OQbsfzV62DTOADFsTCTyG47DcqpgyPCJck2mKae/TVqUCGp/c5LH4VhNw4P+yXXKMnrJRZfKgxI2gMzpRx/xInxDc0rL7o2nif+v+O2O0fj1OKLLB4GJG1z/+Qexsw6vLldeW1nDSqYUzAbLbVEn3DUocfFASn+nv18VhpUyiMNKiKtRYNKMZU1qPBsWy6Jp5hdpPIZjfYbdEDYMfkbMR3GiN7z947GgasvuS58+PrnE83KV0SDCjEepozZZ5sjHgezTzAjRd5AdqpmDSrECgyeD9plr4nqsJauuADzwevRfJ3df1afv/NNnMGNesWIu9aAgXGmR2ZuIW5kOcR68UXWoEKMTp+AuD0vpk91zqnnhwOTWBiDBUZrzO7MCkffjPpJ+ziTKvpYtIudtt01zmhCu8BkssZqa8Zzhfk8a7ogxn03iQFvv+GuGKMyA2e2Tmmzu+6we6wjYvGlllg6zlRzQNJPpT+T/exZyfljmRxMChie6csRn2c/Q18QkzL9IQzttO2NN9gsty+MAeKWpH5YojZrUGE2P/orzJyY/Xw9YXa59/YH4kwy6fFnDSrE9dNPP31se8TT77/66fi+bZ6qGVQ4l/S777ltZO06SPqv3dM6SOL8vDpgRhraCIYXytKoQYUXKF547NVw7mkXJOdrq2hSYn/M9ESf7KyTz40mFF7W4N/kHTZcb+N4/8JExX3pvDMujP3OT9/6aoI2kzWoLN93+dBt2m7xBYzYt7n61rj8Va1rSINKOaRBRUREioYGFRERkZKgQaWYyhpUmGaYNyfPO/3COKjLVLkkFbMi4fRS8vmh194Rttp0m/gGFm/4MS0uiarstotsUJl88sljmVZZsV9c3uilx6snoZo1qMww/QxxGRymDq+sv1piG+yrXkKYJCvJPWYVYfYITACrrzogbLbh5nEJlBefeL3um49ZgwrbuO7ym8Lr49b4zhNTMZOsJlmPkYXZXnjTlu9iAiAhmrefZsUbbrxpSjJ0zjnnjmYEBgN425EBFBLZmC6ySUb+zbnj9x+//uUEdUp7ZQkZ6osprUk6HnfEiTEZTiIz+1nqnwEE2gpJVY6Z32U/gzAnUA7MCQwiHLr/2Ld1aSPZz/G2LNtI22DWoML3WIqH6baz36knzkW2neYZVHjrcdlllgsXn3N5HBRJP5unagYV6rReHZBE5vrhWLi2GXyoVweNGlQwu5FE33fQ/jHBvuLyK4cD9zk4PDxiTHyTOD1XUePKyEAWSxMwyMT049xTMNLccdOIsUtRZdpMpUGF+8FUU04V1k6OhXp7/dl3ql5DGlTKIw0qIq1Fg0oxlTWoYNjgWcszj+d79hkdlcRJxPxPPfxC7Atg9MSQgTk0GjYrjK5FNqgwgyGz5G0/buk9+jjVYupmDSrEO+wLQ/REdVhDxCmUtVZ8wLKEI+8cFbZN4gmMGwfte2jYfqsdojl3zySOYRa6yjimUlmDCiaLow89PhquOZ5qIp6h74bJgv4RsxZiaGKpJ+LHerNONCqWJb356ltDv1X6R4MKsXA6+x3mk1FJbFcZc3He2D/xHbFktk7ZHn28HbfdJRp6WEqS+BWDPnF/9rOYIojPMFrRHvK2R/sdc99Tse+23DIrRPMEMW7cXkVfmHbzxTvfJOX76QQGFWazpO/ZbN+P7VW200qDCjMkYrZgyadRyXHXWsaymkGFv7GPanXw1vNJHdz/VJydk5mIqAPMVe8k94ZqdUCb5DptxKBC28Wccvngq+JypIskfXHaKiZz+mnkHDhXXC/0Afg3L2RwDZ576uBYx9QBy/ewnCfbyraZPIMK/fzuc3ePLzjQp6i1LK0GlXJIg4qIiBQNDSoiIiIlQYNKMZU1qPTts1xMSLGeO4nLakldvoNJgjeomL2DtetZo52kbfZzRTWoMLsJa/KTcCYRy4wxGDReeerN3ORv0waVGWaMBguSlpXbmhRRNpJ9JD95C5ZEMoPkvAW56w57RHPRTtvuEmeEIXmYt41UWYMK9X/zNbfHxF7eZ7NiuyS8Gfjvu/Ry8e1F2ssLj/1nauquirokQcnxcBzM6EOikUQkbYjjY6kX3jIlMZq3jUpRZ288825Mli69ZN+YEKfdvvviR11OOpLEvD4mMfvHJCYDNbUMTqmyBhUGUy459/I4MJT32UaVNahMM/U08Q1Y2jUzxfB2KeX85M0vJ3oDOlU1g0reZ7NirfYbrxwaB7I4FmZZYTCjXh3QfuoZVPjM04+8kNwPjon1S6L8qEOPjW++0j7Sa7pS3JdIsN9xw91hv0EHxuntGZjjuqXNkPROP5s1qGB+YukDluRaru/yccrxO24cEQd7stvPfleDSjmkQUWktWhQKaayBhWW82DgHfNvtecnA7eYPTFCsJQGs1JgQr97KM/dCWPDIhpUiGMZzGdmRGZawHDPDBFj7n8yzrKXt31ijWYMKsQ7xKeYI7LbmVQR+2JIGHzmRXEmiXQGGOqQ/2+y/mZxqRv6TNXOH8oaVBjIP+HIk6PhIO+zWbFN+lAXnnVJrIsec/eIM2k8cOeo2LfJ+04z4jzR/zo+KQ99RpahHHbD8NhPos/GuSOeJB6u1u+sFGb0Z5NzxeyFGAowsHMuiQO7Eocxa+ALY16NZVpxuZVjHHhDUibiulplyhpU5pt3vmiEePA76PtlDSr0j7nWmG2E5XBYwpJrrFo/qJZBpZa4/qmDg/c9PM5qEusguXbr1UFsP3UMKvxkRhzuBfSTOWf8ZKYUcgfUf955Y7/E3BzvRcm1T9tmlhvaDDOGss3UcJI1qPASRbokMT+ZOZPZhJh5JdsXyEqDSjmkQUVERIqGBhUREZGSoEGlmOqKQQXxVtl1l90UE2C8qcf3x4ycMBFaVIPK2gPWiQkoBpYZYCZ5xRTXDJwzzXblcRfFoEKCjzfKLjr7sjhwsNbqA+NbZY/e+2Q49fgzw2YbbhHftrz64uvizBx520jVVYMKInGKIWnlFVaNa75j+HjiwWdzP9uMOEesOU8yddPkWDAOMfB/1833xoGGtQYMjNM7j7zj4fBeAyYK9N9kUJlpxpni8THAgKmDtk27ZoCFNx7z3hosokGFtnvjVUPj+cZMxmAZ05/T9rPbyhPXI2+Fcl/h+mZZoE2T+8+dN98zwfTpWYPKWquvHZPem220eZwNipl2TkjuZ8zWwvFUJs01qJRHGlREWosGlWKqWYNKKuJmZt7A4EA8gWGlMiYookFly022Dssvu2LskxALY1Th3xeceXESn72ee9xFMagQOxCL0T/ZcL1Nwo7b7BJNDhgkOG/EJfvsvn94MomzaxlGumpQQcQu1MUeO+0ZZpl5lmiMuXXIHdEUnPf5RkVMhiGAdkSsRLyI0ZxZDOnLsOzUkkk7wlSAOeKH4/qH9fTfZFDBbL3dVjvEmUNo41zPGDuIlfOOtYgGFbbx6P1PhsMPPCqaRijbWNPVpxMt25onzDjkKmjT9H1Z1vbEo08Jjz3w9PiyZQ0qlIE+ROwTrbtRnDl1y6TfzPXBbKFpubLSoFIOaVAREZGioUFFRESkJGhQKaa6alBhOnASZCR2WWqG5UoYgM9+hqROEQ0qG623cdhm821j+ffefb+4TFH/VVePb1e9/OQb0aSS3XZRDCqU6/Wn3wlHJ/VEgo4pzG+6+rY4MEAieevkmDAakPx9+O5Hc7eRalIMKqy7ztTXrB3fq+d8Sb2dHpe4yftsM8JYwAAKa9STvOQcPnz3mKRdvRxNN0wNzrliwIEZfPK2USmSt/8tBhWuIdod+6BdM6DSb+XVwvlnXBieH/NK7vVcNIMK5yttm+mA0OXJtcY9qtb9KCs+R12zFBXJ/JVWWCXWyVOjnh8/HXjWoLLpBpslbW2fOPC18/a7xVloqIvBZ1wU71HpPSSVBpXySIOKSGvRoFJMddWg8tDwR+Pzl9kaiCnvTbZRaVIookGFJV6IKY46+Ng4Ewj/ZumXLZM+zR033h1nWqjcflEMKsTe1CGmbGYKxCCEqYbzdcZJ58TB9YFrrBuuu+zGpJ7fy90GmhSDCnrgzkfCIfseHmabdbZYDmaoqJw9p1kRExIvErf3T+qPPtIFyfkhdqV9YuiYMekzsZwns0OytEvedir132RQ4fo98+RzYx95vaTPMesssyax815h2I3D4+yIlcdbRIMKfR36cfTRMdOzjBDnn783cr74DCZ1ZnTaI7lOZ5t19rBD0gemvZNT4O9Zg8q6yTXATD3HHn5iOOuU86LZnfOKAYuZgbj2K/ehQaUc0qAiIiJFQ4OKiIhISdCgUkw1Y1AhAcTvSPRiBmGZGRKqJMFIrrJOdfbzJHWKaFDZJNkfy5+QRLxs8FUxybXU4n3i21Ukn1975u0J3q4qikGFWUPuuXVkNNcsu8xycYDgobsfjUk76vWwA48Miy2yeNh+6x1jvddKKnbVoEK9PD/m1ZgAZLYWkvaDMYyMbswwUkuYg6j/fiv3j4MamJ5IlpJs5Vxuu+X2Mcm49+77xsRmI4lo/v7fYlCZa865YlkoG+K6XH7ZFeL1x4wkzCBSWV9FMqhQNs4p1xGDDUstsXRyzneIZqtGzVOpuEcx6wptm7ePWTLqvuT+wDXB37MGFXTo/keE++94KJx3+oWx3vok+6YMDJi8/eKHE9SbBpXySIOKSGvRoFJMNWNQIU5kcJql8C4+57Jo9lhlxX4xniAGqzQNFNGgwmD6wDXWibMKMsse/Qn+32fJpcMxhx4fRt758PiB7HT7RTGosMTJWck+mM2RPgQGcOIwZnoYOmRYXNZljf5rRvP54w8+k3sOUVcNKtQJsdut190Zdtl+99gfI66557aRcfa9vO80KtrOqBFjkv7iwaH3/L2jeZrlfdjfC4+9msT5F8TjxhBzTnLuiLey/a9q+m8yqHA+aRNDh9yRtIFjomGJ9hCvz6QOK80WRTOofP3BT+KLDbwEgtFqod6LJOf6/Gicz9teNTG7Dv3Pk489PbkeF43Hd9bJ58Y2SnvKGlQw8tC3vzi5NxD7kxOgb8l95IwTz44vVWBYz7YVDSrlkAYVEREpGhpURERESoIGlWIqa1AhcUNSh3+TYCZpyqB6qmdGvRgT07ddd2dMNK2z5rrR0MJ62M8/+nLcVnbbJHWKalAZtPNe4ZlHXowJ+/PPuCgs13eFONsCyU4S2czmkW67WYPK9NNNH3bebteYyM7WXy2RjCSp+FWyr7zkKr9jSmxMG0zzvPRSy4QrLrwmvmVJ8o+k3KXnXRETmSSzjz/ypGhI+OLdsQPylWrWoML+STS+//KnYcSt98fjYxkZBjFuuvrW8Mazk3YtU4/MloLRgWT1huttHI0MGA04BhLvvAnHYMcaq68VZ9XgnNRLZFPuIhpUSJRyjjgPlW0hTyShmc6bRHQ2UTyhQWXuaDa5/46HY3ti+2sNGBjfhOZcPzh8dLwOsu2rSAaVbz78abzurrrw2mh8o45Y2olZg7IDRo2IwQZm2WEwZEC/NZN9rR1NJCTMOf5Kgwr3HhLzD941OtYbRi/WuT/y4KPjtOTZWZU0qJRHGlREWosGlWIqa1BhJjWeU5gXnnjwuYniC0wYDKpfedG1MTZm2bvddxoUja08S3k2Z7ddZIMKcTBGG5aG3C05hvnn6x3jNGJn4shsP6VZgwr9hNOOPyvWa2Ud5okBeGJj+gd5sQG/I56jDHvtuk/sB1HvGB4+Teqduqeu6c+snRwbcTGzwRDHVG4LdcWgwv4xJmAgOOvk82K/jpjxgL0PjvtmeZ687zUijo9+BTNnbLbh5tFEzbIsTzw0dklQjAWYVeiDEKvuuds+4amk38mxV26rUkU0qLDcLeVoqu+X9L/p5xA7Z8udNagQY2OcoHyYVLbZcvvYB2TpGq4tPpstY9EMKizPQzy+/54HjjVbJX10Ymb67XnbqybKwH6Y/XTAamsmsf0a0VzONUaMnmdQoX7eTNr2kEtvjEvEzj7b7GNNYMm97uM3v4wz0KTb16BSDmlQERGRoqFBRUREpCRoUCmmsgaVRRdZPHSfq3uYt2evOHtBnyWXCUtXiLcReXuLn5tttHmccYABZgZtK5OCJHWKblBhqSJMKvsNOjCaLZZYfKlw+glnxber0uNp1qAyxRQ/CHPOMVdYqPfCE9VfNZE4Yz1uDCd5yTAShA8NHx2T1yRyt958u/h/pl6nnJRx2I13x7cfWa+cmSeYXeWDKqaTZgwqcftJO6GOb7v+zjhzzsILLRpnUNl/r4PGJrHf6noSmzrk+yTWmVIeY8Ih+x0eXnz8tZg05u+YVC47/8poJqB9Hn7QUeGJB59NypVvwElF2YtoUGGKa46Dc5XXHirFckpMTY05iOR92jbzDCqjRjwWr0dmEOFc9Zp3vrDewA3CGSeeEweJsnVWJIMK3+V6PP/0i2KCuP+qA+I1R3kqzW/1xPX+xnPvRVPTumtvEM1UV1xwTXLu3o91V2lQYdksrj0G2e4f9nDYYZudworLrxxWXmHV2Hb4W7ptDSrlkQYVkdaiQaWYyhpUMBwQ62GyYHawyviCeB6zCcvbrd5vQFx+A4MHA7/EX5XPtaIbVIgZiNMY4CfmW2yRJeKsMJg7MHGMj5+aNKjMMP0McZaMxRddYqI6zNOqK/WLMTImDGKYtL+QCnM5MyAyCyH9JGYIJE7DjMyxc3xvPPduHHDHdLJg0qdglpFqM080a1ChHj5J+i7E0iy7s0FSV/QDqQ9M4Czvkx3Ab1YY7omdWHYJs8Tq/daI5SPOi39P+oKj73sixqksxYjpYOi1wxoyvBfRoDL11FMnfb85G+/7LbVMbNPMAsLMMfTj0u1WGlRuuOKWeI0xgwizqWBYWi6Ja1kSlZn+OI/pcRfNoEL/eEzSz6asqyX9u/WTmJz+Kucwb3vVxPFhmKIfyoyn9BXpy9MOOP48gwrtDSMUL3icfcr5YdWV+8V6G5Rc69RJdvkyDSrlkAYVEREpGhpURERESoIGlWJqAoPKwouH2WebI67t3LPHvKHnPPOGeTPq2aNn6D53j7he+MwzzRITbAfuc0gccH4nZ8Cf/xfdoMJgM2+vkcQiwUkSmqQcyVkSXXyveYPKFNGAgGEgW3+1xBTsHD8mhrxkGPVLkp9Be8wGmEteeuL18WYDEneYakjMLdNn2WhiYap2ksN5icWsQYVBhh2SY8eogHmjUqckon1gQsD4whtwDNzzhuWt190R64YkZOU+GhV1zJTpTLuM6YWpvpnVJp22+duPfx6nYma6cfZJG8SQwdu96YwYedtF/K2IBpVu3brF62ye7j1z20OlllqiT3KdbBLfnsy+jZtnUCHpyvl487n34puGlJGELAld1qwn+Z9+v0gGldgOnk7awQlnxzeV2e6ZJ50Tk9jNnis+zzVzyrGnx0EXzHa0AdrCt0lbyjeovBET9LxJfFFy7TA7VO8FFgx77rpPNHCRGKdeNaiURxpURFqLBpViKmtQ6dVzvjBjEpPOPdfcE8X1iJkfiP2nmWaaaMBgYJtn4FgT8MTGiqIbVBh0xtRMfHPKcafH5zSx82EHHBGXDCQOYfvNGlSmnWbaGDP36N5jojrME2Z+4oPrLr8pd5CfeIOlLekbUb4tNtk6qatbYrn4LPEEcfAt194eY3TOE2b64bfcF4+9Mt7IGlRmmmnmWPeYjSpj+lTE9vRr9tljv3jOKcNGSf+IZXfGjHwq9tUmJab5MDkPmDe23mzb2CfZbcdBcSa/dMkoth2NGIOvioaLZfr0jbNzjrn/ydx+S1ZFNKhMOeWU4/p+c+W2hzwRQ3MtEXdmZ7ycyKCSlIXzS/xPmzx4P9rM6nG2P/pnnC/6qhx70QwqtANmJ9wq6YP0T46X7bLsTvY6a0QcG+cXQw7XA+edlzKeeuj5eJ3kG1SGxv0Qt9+bxPzMuLLCcivG9nh60udM73FsX4NKOaRBRUREioYGFRERkZKgQaWYyhpUFl90yfjmFwnnjdffLJo9mJY5FcaO9QduEA0QJEoxqjDwzRuCLM9SOe00SZ2iG1RIXPE3DBK8mdhvpdXiMfE5lvYg0U0dNWNQmXLKqWJimrcBs/VXSwyCn3Pa4NxkGEk5ynraCWfF2TCoTxLyvN2YTcSSXONNzbVWHxhWWn7lWAeclzT5llXWoEJSlcQ7xgmWJ0LTJZp22mnDVMmxTDH5FPH8YaqYc465YuKSGU7uHnp/PO56ieR6YkYQTBb77LF/WGD+BWMSGyPG1x9OmIB/Kakb3jRlCSCSi7wd+trT79RMHvL9IhpUMNlwnVGevPZQKQY5qB8SrPVmUEkT0Zh6uN7Gmpb6xsGkQ/Y/PA4Q0CbYRpEMKiTXGYw6+ZjT4z2Gdn7R2ZfFv5HkztteNVEOzjHnmjpu1KDC96gbBgCOO+KksEhyHfMW9OEHHhUHkqh73njWoFIOaVARaS0aVIqprEGF5xgGC8zFGIAr4wuekcycsuACC0WjCjMpbrTextHkjPGkMoYsukElOzDOTII7bbtLjIlXYUa05O+Yu3lWEz81Y1Bhdgxm+mAJwso6zNM2m28XYwdmbqEOK2Pl917+OC7JiBmW46OPNPLOUTF2Sz/D94j/qW9mwuF8MtsJZoLKuChrUJl88snjjB7dpu02Pq4fG9tPl/x+mhjTTzbZZPEzM880czQuUY4LzrwkLpFEPJPddlf0ylNvhmuSPiB1jwkfQwyzv2SPj3NFXwvDAUZs4ini/7HxVPW+RRENKtTvIgsvmvT91shtD3nadYc94kykGKprzqAyzqDCsbGcDaZpDBjTJH23jdbfJLbr98fNeFM0gwr9cwwpm264RewX099lpkdm2MnbXjVx7Jxf+hBc040aVNLy03e78+Z7Yn3Rx+A64fjSetWgUg5pUBERkaKhQUVERKQkaFAppkj2pAYVEqQkk4859Pg4iM3AN8vf/EdPxN8xkwUzjGAkIPHIMiWYHUisZk0FJHXKYFAhCUoCi0QxyWQSVyTrTz72tFheBtWbMaiQAN5+653ikjQT1l91kQQnKTy2PP9JrvJv6vS26+6MiVjqiWMj2Ve5NjzlfPzBZ+J5YVCdtyF5c5PkW/ZzKGtQmb/X/NHwwRToJP123HbnsP1WO8bk3WILLxaNSD3m7hHPEwlmksDUHeeP5GO2vM2K7zK19eWDr47bn3++3km9nx4ee+DpOHNK9rOYhW5N6oHEITOtxGWMhj8aByGyn8uK7RfRoLJKcn74HiaJvPZQKWbHeXrUCzH5mh2UqGVQof74PNfBHkl7Z8kaks4YsV547NVY3iIZVEhWv5pcA6cef0bou/RyMbnOsldM3d3sueLzJPxpSxxXMwYVrul4Pd8wPA4eMAjH4ArXM/XG3zSolEMaVERaiwaVYiprUGH5SmaxuPri68LDI8ZMFF8QBzx41yPRSHH8kSfHOGmh3guFzTbcIi6NF5f6yZgFymJQ4XlOvMZAP7OT9EzKs8v2u0UTB89rPteMQWXZJC7huDCCV9ZhnqiH5x59OcZUlQP81Cd/I8Yhjlph2ZXiTCLEGNnYl+NglseLk2NcbZX+YeUVVolL4jA7InFMdptZgwpmCWaiYzCeuB6xdCHLg9Jvm6fHPNGggiGfPsU1l1wfzTwsL4QBopYhoRFxfLQp+lQY9jfdcPMYU1X2RzgPLMdIe+q38mqxbCx5w0sDaf8tT0U0qMTZHZN4sJm+H9cScS/mlOw1Vs2gwt9oExj2uRYwTLE0FOeXPixtrXAGleRvI+98OMbatHWMIyOTsmavs0bEeWWWGUwmtOVmDSp8l/bNMr5cI3PNMVfYb9ABYfjQ+2L9cw/ToFJ8aVAREZGioUFFRESkJGhQKaayBpW+fZaLb9Bdet6VMXFULSHFG1okcm66+tawzRbbh97zLxjNBSTTGLwlIRU/9345DCrpNkjC3zrkjphIXWHZFcO6a60Xk7YvPv5aTPg1alCZYYYZY5KTpGW67a6Kumbb5542OKw9YJ0w/fQzhIFrrJvU1XFxGRxmmEh1/ukXhhOOOjmsvcbAsNCCC8fZVvg/SfLKhG3WoELCm7q/5tLr45I9iCnFSfSTNCZRR7KSt29J/PFdzDGV7YPzTVL53tsemKBcqTChkDzHaEFinTKRFHz20ZdiEnv5pM55e5c2Rbkrv8+04yTmGRDhTVKWGWLwhPOTLUdW7KOIBhUSzgyqfPTahLMONataBhVEmTD2UPfU63zzzh8TuqxnTyKXAYmiGFT4LoNY559xYRyoWLP/2kk7OCUOznCfytteNfF5EtFHHHRMcj2sG9vvVRddF955YeybkrUMKnyfz7zw2Gtxrf+1BgyMA1PbbbVDvDYwkj03+mUNKiWQBhWR1qJBpZjKGlQwWDIDGwPiaUxcKQbHiceIJ4iRMHViFmCJmDH3PxVNC+lny2JQYRsMSmPwxXjDMRFbHLLfYTEOfT2JDZsxqBDv0Ccgzk3/3lURL2Dqx1DOMi30o5hZAhN4Nu698KxLwjmnnh8/x8sA8/bsFftMmInefP4/dY6yBpXZZ5s9DtCfnXw3jeuHDhkWl8Zk6cRdd9g9LJPUab+V+4ddd9wj9sWYJS6tt6yoT+qL85gtWyrqhLZG7EjsRd+APgIG+c2ScxZnDEzi+0MPODKcdfJ5E3yXWRH5HXHYoossFj9LP426IV6sLEuqIhpUWB7rgL0OisacvM82o1oGFY6PNkr8fvhBR4V+q/SP7ZolLenn0j6Jz4tiUKEPy71np+12Dav3WyO2X84V5zBve9XEPYo2QVtlJijaLn19yszMhvUMKrHekvsYL3hwnukjD1xznXivou2/mMT8GlSKLw0qIiJSNDSoiIiIlAQNKsVUVwwqiIQUyTLe/mOmDgZqSYKx5ArJID5DUqdMBpU4QP78B+GME88Jaw1YJ8w26+xhvz0PiIngt1/4MDm+48cn39plUCHJy9t1GDNIYk811dSxLlmWp5p+8IMpwxRTTBGmmWaaaFygjkkSZpO2WYMK9c900ST2svvm2EhYkmRmdpVppp4mJhdJ/mHmyU5HjUgc3n798DitOW9mVop6WWyRJcLZJ5+XHNPbsb4xaPAmHW+3Yp7g2Ch/3nFFJX/jMxwfifqDkjZFPVdLSPP7/2aDCiKpy77POPHsuIQX1yrmimceeSGaiYpiUKG9kWTmnrHRepvEJDH3DAaoaId526sm9sOACoMXJLG5nm+5dlh8y5I2Uc+ggkhkY0bhOuHNZdrbsYefGN9SffrhFzSolEAaVERaiwaVYqpZg0oqYtmH7340xhRjB2o3CMNuuDvG6+lnymRQ4ZlMP2f4LfdFIwbLHdFnYZYLyjksie/bbVChTJwfjMKUhfgrxvWNxL6TTxHrgtnhiHGyMUfWoDJPj55xGUzMRdl9I+IcTDsnHXNq3BYD9Tttu2ucGYZlDCv7fuwHEwnLa+bF9j269wxbbbptXFL0g1c+i+ftreffjzFn3z7LhhlnnGns8eUdV6pxx8fSRJg9WLKGWfCqxVT/zQaVVMTq7Jv+GdciLzFg2n8GM1HSRymKQYVzgvmDeJ4y9l9lQHJPuCX2w/K2V03MJophnWuXWaG4dg478KjYJ8OIVs+gwjb4SbluSmJ2ZhdiWSmu/9uuuyvW0XWX3aRBpeDSoCIiIkVDg4qIiEhJ0KBSTHXVoELSicFxkmG8yUQy6/ADj47TTqfJXZI6ZTKokNTEEDJqxJhw9CHHhcUXXTImevk3iSveukyTb+0yqJDUv3vofWGDdTaMSWTeaF0/+Tf7ydOWm24d65MZYOacc644MHHq8WfGJGrWUNKIQYX64DwzlTTHS130WXLpOJMK040/M/qlCdpIVwwqzH5CIprtMusLRgDaU96xoS023iqaF0jGLjD/gvHfTFuP8SAdkMiKY/hvN6hQB7TPe29/IF4XvMlKcnfwmRfF88p1x3e/b4MK5eT7I24dGfbefb/k+lsiXs8sKUZSOm971cQ5YrCCQQPuTYN22TsuW5ZeA40YVEiGU967br4n7LfngaHnPPPG2ZV4S5Xv8razBpViS4OKSGvRoFJMddWgwnMMAyYD7WutPjD57trhlmuGRbNA+pkyGVQQcSrbIb4hvmTWwK023SZcddGQqPUHbhDjkXYZVCgPdUi/CwMB9bjGamvG/lde3IvoRxFr9V5goeTzS8WleljqhBgljTsaNajweeJ9ztPB+x4aVl5x1bBgst19kzZCfEa8mI1lmjWo8H1m98A8wvH1XXrZ2A7yjisVsVX/VVePM6iwHOWB+xwS6z57LrLSoDK2//7eyx+HwWdcFPtxXG/Ux5UXXRuXi1pv7Q0KYVDhu5T9vNMvjKYZ2iYGK85v3vaqif3QFpnNtFfP+WL/j5lEP3nrq7ifRgwqtA0+R/+VvufayT2D/jJ9Du4F/I7ZOTWoFFcaVEREpGhoUBERESkJGlSKqa4aVPgbb9pddeG1MbFIQq/sBhXEcX346mdxiRuMFqztzcD94DMujsmu1VbuHxPJ7TCosO00McxAONN7H3rAEeHCsy+JSeg8MdvJFRdeE5O7rD+/1BJLxyVdeFuSZGG67UYMKqk4X2PLcW5MIC/Ue6HYTq697IZoZkgHAr5455s4AMIMNBhBKsWAwN677Rduu+7OaBDhnDAbxaH7HxEWmK93nJ2FhDp1m3dsaEiyT5ar2XHbXULfpZeLdUKy8vkxr8T9V5adZOR/u0El1evPvhsHaDjfDIhsu+X28ZrEvMF08N+3QYW/c75oa+ecOji+ecvsJ7Q7ftfI+YrJ56Rd0Q4xZi27zPKxXZEYp42kAxeNGFQQ1+Cbz70Xl/rhbU3uB9QfS25hBlth2ZU0qBRYGlREWosGlWKqqwYV+gTExgfufXBc3q4TDCqIz7EtYkyW78RsgfH0yIOPDQOSGGH15PneDoMKMQJ1TBy82457hJlnmiWaZohL6S/lxb2I/dIPob+1TBIbLbl4n3DBmRfHGRbTfkijBhXEd5h1gmVN6Q91n7t7NHqwZMyTyTETq6WffS05XsqLKbcyrkc7bbdrOP2Es8Pzj74SjSPETMTx/I1ysDwRyxRVHlNWmAMoL3HW0kstE2Pr228YHmevzJY7lQaVseJY6c9hQmGZKK71PXfdO/YFaK9FMKjwGdoTs5Husv1usb9Pm2DJqS+TNlhr26nYzgevfhqXFuZc8wIGfRdm/WEpXOqhEYNKKvrs3Of2T87XKiv1i8t47p/cD444+OjYb+Aa0qBSTGlQERGRoqFBRUREpCRoUCmmumpQIWHDm3IM/JKM6oQlflKR6MJow6A0iU/ME7yJxlt9JLFIZrfaoEIZSB4zmwRJNmZO4dyQ+GSgIE3OV4o655iYznzn7XaLyU3ejmSA4NWn3xq//WYMKoilV5iimaWGGJRg+SPqmLcks8uvUB8/TM4vbWAiJcdDe0vLymw1JKU3T9pHnyWWHv/G5MfjZkPJE+eR/TFzD+WeacaZYp0zy0We2YN61KAyVsweQjKd4x+w2pphwd4LhVVXXi0mtGmzRTCoIK5lln1iMIr7Cj9JbH/0ev26oo18kLTjqy8eEq9ZlsVi+vOHR4yZoH03alBBtGnuWycfe1rShpaJAzkbrLtRfOsSEw1JfA0qxZQGFZHWokGlmOqqQYX4is/ttO0uY5/vJV/iJytioPvveCgu3UnMs3zfFWN/ASM3sya0w6DCYDrlO/Okc+JsEossuGg47fizwvNjXo0xcnpclSJ2Jm6lLMRvLImDwYaZ4dgm227GoJKK80I8i0GHZTYZnL8i6fu89MTr4z9DXJOWYaK4PhG/p1/37Uc/i3WMoZg+EOWkD4Vxnr5h5TFlxXYw0h+y3+GhTxJnzZ/0XaijarNsaFD5j+gH0FfcevNt4/njuqSvs+jCixXGoEL7INeAkQlz1Zr9147tk2Ni+5XbrBT9xeeSPhTnhz5t7wUWDGedct4ExvNmDCp8h3JjeNluqx3C1FNPE2f6WWvAwGheWzv5qUGlmNKgIiIiRUODioiISEnQoFJMkcxr1qBCwom32nijjgQQb20xGEzimKVW0mQOP8toUEEkP2OSdd9DozmkZ4+e0czBtML9V1m95QYVtkvijqmaV1lx1TjAQP1xrkjU5X0nFd+l7MzywCwjrLF92AFHRlNKem6aNaiQAMekwkADieA55pgr9O83IJyQtJuYWG8gwZgViXiS/Axi9Ft5tTiV/NmnnB+XcknPWZ5IKnJ8I+8cFWeTYTpwkuAksl956q3xydDs5zWojBX1xuABg1a0h0UWXizM27NX6D5X9zDVlFMVxqDCPYnBDGZR2WyjLWM5+dyQy26MgynV2hrXBcayKwZfHRPrqbHszJPPDW+TBE/aXPrZZgwqiEEIzFi77rBHTP6z3Nbss80R5u+1QNg6ueY1qBRTGlREWosGlWKqWYMKzy6ef5hLiKcwX7Ic4B5JrEws/Xkm7iyrQYUYiHKyLCTlYhlBBvBnmWXWGCe3w6BCHE3MvO+gA2JfgjIT2zA7BOXL+w7i/BDjMGMEs1BMO223OPMKMwrS/+C7XTGoELc88eCzMTZl6cf5kphmh613DjclMQ39oLx6rCWO4+6h98eZXpi9bvskNqUvRBnzPp8qxurPvhvPTVr+3XcaFI+XdlAZW2lQ+Y/on7EU6+VJv5Q2Me8888YYdaYZZy6MQYXvj43/74tLSdHWWF4H4/dDd4+OuYO888b32c69yb2M4+DccM/Zabtdw/Ch901gXG/GoIL4HQaXwWdeHA3nC/VeOPYpqbdVk/JpUCmmNKiIiEjR0KAiIiJSEjSoFFNZgwoJYJK2xxx6fHwrj4FvEtqVYlmWay+5IU73vNwyy8e37kh+M4sFiZw0ycS/GzWozDrLrHG6a2YtydtnViS/n3r4hZDOJML+vmuDCokrEvIM2LOczCwzzxKmmmqqWE6W+allUMGAsP3WO4XLzr8yt/zV9PgDT8cB9g9e/SzWHUnj4488KfScZ96Y7GU672qJ90qRyBxx6/1xpgeS8CQ4b0yOhe9TX80aVFI99+jLMZmH8YXZKTAAkMjGUNBMUphy0MZ222lQWGLRJcPO2+0a2wLtMS+RWCna7KVJ/fKmJbPakLDnfJP8z36OMhXRoMKU0nwPk0ReW6gm2izTp6fXWTMGlVSU/8arhsZrnWTsZJNNFlUUgwrCTML1ygALb4SumtQX1yHLVzHoxqAR1wrt4IXHXo3XyvCb741T4LOUFG9GMysP9fHAXaPC1x+OvU+k22/WoMLvucZZn37jDTYNM84wY7ynzTnHXHGpHw0qxZQGFZHWokGlmMoaVBgM3nqzbePgP7OJ5cUW/J5ZGE459vTkO5uEHt3nibMJnHvaBXGwPBt3NmNQYWYSYi76B3n7zYrnOM91jBjEgcTt36VBBfF7ys8gNjO0TddtujD55JOHRRZapK5BhViT48I0kVf+aiJuw3xBXPPW8+8ndZHEQEkdMyhO34k+FcdaL37AiMC2Tjz6lHh+Vl5hlWg2Zpmfz9/5pksGFYSpBJPFrkkfbOGFFk3O61JxydbHRj4Tl3L99uPG45oXHnstxtvUFe2HPgyGnHqxISLGevS+J6LphBcfMJ8zSydtufL7RTSoEE+z5GOzfT/aPXEshvW07M0YVBDnCbPFEQcdHc/fNNNME+P6ohhUEMf22tNvh6HX3h62HreELi86EKezrO6j9z8Z+5jE9Yi2Piq5L9FfYSlYZvlZMjm2uMTspTfEWUG/+eg/5WrWoIL426gRj8WXUfosuXTs53M/4L6mQaWY0qAiIiJFQ4OKiIhISdCgUkxlDSqLL7pkfIOItyZ5C2uzDTeP5pLxSv6PUYJBaWY1mHnmWca+IbnGOjEpyjrl2cQgSZ1GDSrTTDNtTHavufraE+4zR9tsvl3Ya/d9w63X3RkHvEk8fdcGFcR2X33q7Zj8Jlk126yzNWRQYTaKRRdZLKzRf83c8lcTic1Tjjs9zg5C0oy62Tb53ZTJ9lhT/J7bRo4/nnpKZ5NgTW0SxcyUwTTiLNNDwrCrBpUv3vkmjL7vybhuN+YQ3tTbZ/f94xuTlSaAauIzvIF68blXxDd7eevwpGNODWNGPtXQ9xFv2zH4wvJASy3eJ6y0wirhhituCW88+94En2N7RTSo9OjeI7nOVggbrbdxbluopgP2PjhcdfGQ8YnfrhhU+B6J7NNPOCswO1ARDSqcN64BpnxnJiDetCRRP2/P+cJayT2CgSQG0k4/8axw3BEnhl132C3OxNMzuR+RkGd6bqYS536TN+NQswYVBmi41p8a9ULcJ9OLTzfd9BpUCi4NKiKtRYNKMZU1qLDUx8ILLRLja2LkyriCuJ5YBjNozx7zxjh3seQ7h+5/eBw857md3XYzBhUG7ZkFcIN1Npxov5XCaHxKEp8RS2DmIN79rg0qiL9zDMQRGCHonzRiUOF5jylk/YEb5Ja/mg7Y6+Bw5YXXRJMK2zstib2In5dL6g6jNeaERmKH2NdJ4nT6Vcy+stjCiyd9tc2jQYLz3VWDShpLXjb4qrDR+pvE888SLJiTXk/KnDUB1BLHcO+wB2OcSjyKmfeWpG/x3ssfN2Ry+eq9H8XZ7ojRiU05N/vveVB8IQEDSfazRTSoTJ/EhFxrGGvy2kE1YdAnjsWMQZun/M0aVFheie8ys+ku2+8eX6oomkEFEWN/+OpnSf/9jrD37vuF+edbIPSad/7k+l4mzkZ42AFHxBgbsezrphtuFhZbZIloyGJWRGZ04qWIsbO1Ttgf7opBhbp+56WPYrul/87ytVNMMYUGlQJLg4qIiBQNDSoiIiIlQYNKMZU1qCy68OJx2QoSNMzagfkgK6YMJmHIjBwkbxg0xgBx1UVD4ltzlQPBJHUaNajw95lnmiXMPdfcE+23UunMHeyXJBUJsFYYVEhccUwP3/1oOPzAI8PSSy4T5ppzrrDaKrUNKiS3ZppxpjD3nPWPJavFF1kivk1JgpHZYTCUMGhAvZNwe270y9EEUlnOPFEnzMRCgplkNYlT6oQBC845b4x1xaDC8WLQuHXIHdE8s+ACC8W3QHmjkyQ7b3HmfS8r9s8ABknsfiv3j1Mpj12j/u3cz+eJ84mx4YiDjolv4dEuTzrmtLjd7Oc4h0U0qHTr1i1eZwwi5LWFauKt23NOPT+293RQoVmDCiJxTLumvVF3rL9eJIMK4txRTparYuYU7h8bb7BZWGfNdcPq/QZEUxKDGAx+DVhtjdjOMZvwOWZieiK511SbNrxZg0oqyoMZi+nFafsaVIotDSoirUWDSjGVNaiwNOWMxKRzdc+N7VmqDgPGUkssHWMynmkYQPn+h6+NndEvu+1mDCrdpu2WxJlzhnm6zzPRfiuF+WO/pE/BM5+YgDivFQYV+iDE71dccE18/rMsJ/2KegaVaaeZNsbMDJbnlb+a1hu4QTjr5HNjn4MlTnbadpdoBsIYxOwpLG2ZLV81EV8QP9PXGZSUlb7YikkMlJpcWHq1KwYVtkt98Vn6GvR1llx8qaR8W4RhN94dTSN538uK72NwIPaiThdZaLF4LpkZktk98r5TKfoX9CHoDzATXo+5e8T+49Brh00UlxbRoDLllFPGvh+xeF47qKbl+i4f9thlrziDUVr+Zg0qqXgJAaNR/1VXj9dd0QwqiN/xkgLXAvcZDDXrD9wwrLn6WtFoTlyP6GuvNWDt+DeW1+Sz9B9eTfqKmKYqTU9dMaggzHAsQcY1Sl9i2mmn1aBSYGlQERGRoqFBRUREpCRoUCmmSCy9+ex74ZLzrgwbr79ZTAqRnMwTy7owKExSlRk0LjjrkvDw3WPGm0Qqt83vSBgyYMx3zzr5vGhkSZM9fI91pXm7MG9/1UQCnTfOeDMvnUGFZDPJ1QP3OTQmLElkkeRO98VP/s/vD9z74HDS0afExBOJqWyZ84RZhNlLWNIIU86uO+weTSTpvvkMCVhmPmG67bwyNyIScxgMGAAn2X/mSefEpBxJttuvHx4+eOXTphKvnFuW+aFMy/TpGw7Z7/CY3OOYSboPPuOiMKDfGtEocu/tD8bzkbedSpFAxaDAQAEDGf1XHRCOOuTYOD1z5Zu2ecL0w2cPTcqzy3a7xWQo5+6TN2qvUV8pzssNVw2NS0PxxuKpx58Zk7DZOuLffI62suWm20RDFYMSmHfy2mwjwhxCYnXnpOy8AXjBWRfHmVvqbY+BFgYSal1j9cQbxryJmyZ+qUvaNWYjksIXnnVp8v8Xc/efFd/lXF1/xS2x/piGf79BB4Z7bh0Zt533nayogxFJOyWxTB3Qll5/5t26dRANXyPGxPOAOYWENmvn17oOOYcfJ22TN7k5dtozM+ewvBh1wqDWNltsF5PJQy69MQ5aYBjL21YqBqBog4ck9ybuTyyf1cg5pCy8UTzkshvjdcksSbxlzn2M662Z61O1XhpURFqLBpViiuVCiIf2T+LrtVYfOFEskRWzJjK7yo7b7BJNDRhVX2HZmIxRIyvieOJ/jAjM/EfsmzUQsEzHpUmfgkH7vP1VEwZcloRh+8QExO3EwsRsW222bXxWUzZiUGJvxL8xWLO0yV5JjM5SIdnYvJaInc4/48KwehI/cizM5IcxgG2mn3nx8dfi0kiULa/MjWj7rXYMlw++Kjw7+uUYg2OQ32nbXcPJSX8EYzbLiWbLVUvEGJQJEwJLnTDb5UXnXBbrHNM//QeM+Jh1Ljn38miMzttOnuhHPTR8dNh30AHRFLDR+puG6y6/OWkLb+Z+PivOFX2Iqy66Nuy+46AkPto5Oearoxk8fSmhEXF8tFtMBmsk54X4dKw5Y0ITD30uYuoTjjwlGoYxTFH2rsZhGGM4F/RTWaKV9kSMW297XGfM9McLAHnnvhFhuqYPhWk83R9LeQ4dMiyam4ixOa/0AfPKkBXXDe2a64iXD7iu6athjsr7fFYYOaiDs085P2mzY+vg7qH3jTfN5H0HpececxhxPcr2z/O+g75Mysp9g+U5zzjx7HiuKW9aL7wAQL1iyifGpg1QP3nbQpQD4xL9hH2SOsN43sg5RPyd9nPCUSdH0zv3Ne5xjfQLVHulQUVERIqGBhUREZGSoEGlmCIpQ1KHxCZLwpBAJZFVTfydzzFIy7TNvHFVbWkXfsdAMdNa813eEswmuvgeCSy2VbmfWiIRy5rrJMTS5BfbIpnOvni7ijcJSbal++In/+f3fIa3pZhOOq/clWLdd8pJ4o63yyr3jfg3CdM3nnsvt8yNiONifXpmxeCckIxjXyRhGaBvNknGsVFuEp1sn0QbJpC0Lt576eO41Av1PzaR2Nj2+T7l481BTD7PP/pKeDMpN0n2RgYF+AyfpTwcH+eDc9fId7PivGCm4HxzHLxdWDmLT/zcuOQpZcVEwRt21GUj5z5PfJd6pOwsa8V1wFTT9bZHkpTrrN41VkvskyR1Wn7qjHPJIA51wDnh/3n7zyr9blp/zM7DG420g0baWayD5LPj6yBpSwxC1KsD9sk9g31xPXEdftnAdRjbzDvfxGOnPb/0RHKveuSlWCeU/eUn34jXDlOHk6Cv15bi9mIbfDeq0XOIOE72w3VJnXPNUxeNfFe1VxpURFqLBpViimc08RDx3fNJ3FoZS2SFiYHPYEp5K3kmM+hOvFJtaRfieJ6ZmEt5DhL7ZuMGBp6JdZjVI29/1cQsbMxQl/YT0Nj+yacxfuNZTcySfdbyb8pLXEBMURmb1xKxEgPkPMc5lrx+AWXB0EzZ8srciKgjjoHYhNiRclLX9EdiPTdY3lSUKa0T+mMx7ku2HeOypP9ATEbdYyTm93nbyBP9KGYSIT5jJg6OmRl0apkCUlFnfJ8YjZgyPWbi9Gx9NiLaLfE854Vtcc7ZTvYz1Bnlor0ShxL/UfZm95UqXSKHfhdlpz01EtfFvifmlqTO8s59I+JcEcNny5/2WzgPbLvR2Jzv0665jmgbXNdp+8j7fFZ8lzqgrz6+DpL2VK8O+Dv1wDVP2270Oozfo3+dXBOxv/v0WxPcqzCqceyUh+OnTmqVhb+xT9ogbZh+aTOxOfXPPYC+OMffTL9AtU8aVEREpGhoUBERESkJGlSUUkop1S5pUBFpLRpUlFJKKdUOaVAREZGioUFFRESkJGhQUUoppVS7pEFFpLVoUFFKKaVUO6RBRUREioYGFRERkZKgQUUppZRS7ZIGFZHWokFFKaWUUu2QBhURESkaGlRERERKggYVpZRSSrVLGlREWosGFaWUUkq1QxpURESkaGhQERERKQkaVJRSSinVLmlQEWktGlSUUkop1Q5pUBERkaKhQUVERKQkaFBRSimlVLukQUWktWhQUUoppVQ7pEFFRESKhgYVERGRkqBBRSmllFLtkgYVkdaiQUUppZRS7ZAGFRERKRoaVEREREqCBhWllFJKtUsaVERaiwYVpZRSSrVDGlRERKRoaFAREREpCRpUlFJKKdUuaVARaS0aVJRSSinVDmlQERGRoqFBRUREpCRoUFFKKaVUu6RBRaS1aFBRSimlVDukQUVERIqGBhUREZGSoEFFKaWUUu2SBhWR1qJBRSmllFLtkAYVEREpGhpURERESoIGFaWUUkq1SxpURFqLBhWllFJKtUMaVEREpGhoUBERESkJGlSUUkop1S5pUBFpLRpUlFJKKdUOaVAREZGioUFFRESkJGhQUUoppVS7pEFFpLVoUFFKKaVUO6RBRUREioYGFRERkZKgQUUppZRS7ZIGFZHWokFFKaWUUu2QBhURESkaGlRERERKggYVpZRSSrVLGlREWosGFaWUUkq1QxpURESkaGhQERERKQkaVJRSSinVLmlQEWktGlSUUkop1Q5pUBERkaKhQUVERKQkaFBRSimlVLukQUWktWhQUUoppVQ7pEFFRESKhgYVERGRkqBBRSmllFLtkgYVkdaiQUUppZRS7ZAGFRERKRoalUuf9wAAablJREFUVEREREqCBhWllFJKtUsaVERaiwYVpZRSSrVDGlRERKRoaFAREREpCRpUlFJKKdUuaVARaS0aVJRSSinVDmlQERGRoqFBRUREpCRoUFFKKaVUu6RBRaS1aFBRSimlVDukQUVERIqGBhUREZGSoEFFKaWUUu2SBhWR1qJBRSmllFLtkAYVEREpGhpURERESoIGFaWUUkq1SxpURFqLBhWllFJKtUMaVEREpGhoUBERESkJGlSUUkop1S5pUBFpLRpUlFJKKdUOaVAREZGioUFFRESkJGhQUUoppVS7pEFFpLVoUFFKKaVUO6RBRUREioYGFRERkZKgQUUppZRS7ZIGFZHWokFFKaWUUu2QBhURESkaGlRERERKggYVpZRSSrVLGlREWosGFaWUUkq1QxpURESkaGhQERERKQkaVJRSSinVLmlQEWktGlSUUkop1Q5pUBERkaKhQUVERKQkaFBRSimlVLukQUWktWhQUUoppVQ7pEFFRESKhgYVERGRkqBBRSmllFLtkgYVkdaiQUUppZRS7ZAGFRERKRoaVEREREqCBhWllFJKtUsaVERaiwYVpZRSSrVDGlRERKRoaFAREREpCRpUlFJKKdUuaVARaS0aVJRSSinVDmlQERGRoqFBRUREpCRoUFFKKaVUu6RBRaS1aFBRSimlVDukQUVERIqGBhUREZGSoEFFKaWUUu2SBhWR1qJBRSmllFLtkAYVEREpGhpURERESoIGFaWUUkq1SxpURFqLBhWllFJKtUMaVEREpGhoUBERESkJGlSUUkop1S5pUBFpLRpUlFJKKdUOaVAREZGioUFFRESkJGhQUUoppVS7pEFFpLVoUFFKKaVUO6RBRUREioYGFRERkZKQZ1B5+cF3wjcf/EwppZRS6jvVa4+8r0FFpIVMZFC57tnw8Ss/zL0elVJKKaW6qi/e+lEYc4sGFRERKQ4aVEREREpCnkHl4SHPhCduf1kppZRS6jsVg+UaVERaR6VB5b7LHo+DR3nXo1JKKaVUV/X4rS+FkVc8oUFFREQKgwYVERGRkpA1qJDIvu3MB8Kwsx9SSimllGqJSGLfcMIIDSoiLSBrULn5lPtyr0GllFJKqe9Kt5x6vwYVEREpBBpURERESkLWoHLt0XcppZRSSrVFGlREvnuyBpW8604ppZRS6ruWBhURESkCGlRERERKQmpQueeyMeGuCx5RSqmGdNNpI8Lgg68NZ+1zWThzn0vD+QddE244ZXjuZ5VSKk/3XDpGg4rIdwwGlZFXPRGGXzg697pTSqmJNHhUuPLYW8O5B1wVTt/z4nDO/leGy4+6OQw776H8zyulVIWGJ7r/ysc1qIiIyPeKBhUREZGS8Lv/+UN447EPwiuj3lFKqYY1/OoHw+G7nhB23WjfsPMGe4dDdz423HbpPbmfVUqpWvr1T387LioRkUnlh+//OPc6U0qpanrpobfDxSdeHfbd5rCwzVq7hL23PCScc+Ql4al7Xs79vFJKVdNnb34d/vXPf42LSkRERNqLBhUREZGS8K9//Tv8/X//oZRSTemJx54M66+7QZhv3vnDPN17hrXXHBhG3vdA7meVUqqWTGKLfHf83z/+mXudKaVUNf3lT38NZ55+Vlh+2RXC9N1mCEsvtUw46oijw89/+ovczyulVDX939//b1xEIiIi0n40qIiIiIiIdDBPPfVUWHvttcPcc88dZptttrD66quHBx54YNxfRURERESkDPzf//1fOOOMM0KfPn3CD37wg7DYYouFI444Ivz6178e9wkRERERkeKjQUVEREREpIPRoCIiIiIiUn40qIiIiIhIJ6BBRURERESkg9GgIiIiIiJSfjSoiIiIiEgnoEFFRERERKSD0aAiIiIiIlJ+NKiIiIiISCegQUVEREREpIPRoCIiIiIiUn40qIiIiIhIJ6BBRURERESkg9GgIiIiIiJSfjSoiIiIiEgnoEFFRERERKSD0aAiIiIiIlJ+NKiIiIiISCegQUVEREREpIPRoCIiIiIiUn40qIiIiIhIJ6BBRURERESkg9GgIiIiIiJSfjSoiIiIiEgnoEFFRERERKSD0aAiIiIiIlJ+NKiIiIiISCegQUVEREREpIPRoCIiIiIiUn40qIiIiIhIJ6BBRURERESkg9GgIiIiIiJSfjSoiIiIiEgnoEFFRERERKSD0aAiIiIiIlJ+NKiIiIiISCegQUVEREREpIPRoCIiIiIiUn40qIiIiIhIJ6BBRURERESkg9GgIiIiIiJSfjSoiIiIiEgnoEFFRERERKSD0aAiIiIiIlJ+NKiIiIiISCegQUVEREREpIPRoCIiIiIiUn40qIiIiIhIJ6BBRURERESkg9GgIiIiIiJSfjSoiIiIiEgnoEFFRERERKSD0aAiIiIiIlJ+NKiIiIiISCegQUVEREREpIPRoCIiIiIiUn40qIiIiIhIJ6BBRURERESkg9GgIiIiIiJSfjSoiIiIiEgnoEFFRERERKSD0aAiIiIiIlJ+NKiIiIiISCegQUVEREREpIPRoCIiIiIiUn40qIiIiIhIJ6BBRURERESkg9GgIiIiIiJSfjSoiIiIiEgnoEFFRERERKSD0aAiIiIiIlJ+NKiIiIiISCegQUVEREREpIPRoCIiIiIiUn40qIiIiIhIJ6BBRURERESkg9GgIiIiIiJSfjSoiIiIiEgnoEFFRERERKSD0aAiIiIiIlJ+NKiIiIiISCegQUVEREREpIPRoCIiIiIiUn40qIiIiIhIJ6BBRURERESkg9GgIiIiIiJSfjSoiIiIiEgnoEFFRERERKSD0aAiIiIiIlJ+NKiIiIiISCegQUVEREREpIPRoCIiIiIiUn40qIiIiIhIJ6BBRURERESkg9GgIiIiIiJSfjSoiIiIiEgnoEFFRERERKSD0aAiIiIiIlJ+NKiIiIiISCegQUVEREREpIPRoCIiIiIiUn40qIiIiIhIJ6BBRURERESkg9GgIiIiIiJSfjSoiIiIiEgnoEFFRERERKSD0aAiIiIiIlJ+NKiIiIiISCegQUVEREREpIPRoCIiIiIiUn40qIiIiIhIJ6BBRURERESkg9GgIiIiIiJSfjSoiIiIiEgnoEFFRERERKSD0aAiIiIiIlJ+NKiIiIiISCegQUVEREREpIPRoCIiIiIiUn40qIiIiIhIJ6BBRURERESkg9GgIiIiIiJSfjSoiIiIiEgnoEFFRERERKSD0aAiIiIiIlJ+NKiIiIiISCegQUVEREREpIPRoCIiIiIiUn40qIiIiIhIJ6BBRURERESkg9GgIiIiIiJSfjSoiIiIiEgnoEFFRERERKSD0aAiIiIiIlJ+NKiIiIiISCegQUVEREREpIPRoCIiIiIiUn40qIiIiIhIJ6BBRURERESkg9GgIiIiIiJSfjSoiIiIiEgnoEFFRERERKSD0aAiIiIiIlJ+NKiIiIiISCegQUVEREREpIPRoCIiIiIiUn40qIiIiIhIJ6BBRURERESkg9GgIiIiIiJSfjSoiIiIiEgnoEFFRERERKSD0aAiIiIiIlJ+NKiIiIiISCegQUVEREREpIPRoCIiIiIiUn40qIiIiIhIJ6BBRURERESkg9GgIiIiIiJSfjSoiIiIiEgnoEFFRERERKSD0aAiIiIiIlJ+NKiIiIiISCegQUVEREREpIPRoCIiIiIiUn40qIiIiIhIJ6BBRURERESkg9GgIiIiIiJSfjSoiIiIiEgnoEFFRERERKSD0aAiIiIiIlJ+NKiIiIiISCegQUVEREREpIPRoCIiIiIiUn40qIiIiIhIJ6BBRURERESkg9GgIiIiIiJSfjSoiIiIiEgnoEFFRERERKSD0aAiIiIiIlJ+NKiIiIiISCegQUVEREREpIPRoCIiIiIiUn40qIiIiIhIJ6BBRURERESkg9GgIiIiIiJSfjSoiIiIiEgnoEFFRERERKSD0aAiIiIiIlJ+NKiIiIiISCegQUVEREREpIPRoCIiIiIiUn40qIiIiIhIJ6BBRURERESkg9GgIiIiIiJSfjSoiIiIiEgnoEFFRERERKSD0aAiIiIiIlJ+NKiIiIiISCegQUVEREREpIPRoCIiIiIiUn40qIiIiIhIJ6BBRURERESkg9GgIiIiIiJSfjSoiIiIiEgnoEFFRERERKSD0aAiIiIiIlJ+NKiIiIiISCegQUVEREREpIPRoCIiIiIiUn40qIiIiIhIJ6BBRURERESkg9GgIiIiIiJSfjSoiIiIiEgnoEFFRERERKSD0aAiIiIiIlJ+NKiIiIiISCegQUVEREREpIPRoCIiIiIiUn40qIiIiIhIJ6BBRURERESkg9GgIiIiIiJSfjSoiIiIiEgnoEFFRERERKSD0aAiIiIiIlJ+NKiIiIiISCegQUVEREREpIPRoCIiIiIiUn40qIiIiIhIJ6BBRURERESkg9GgIiIiIiJSfjSoiIiIiEgnoEFFRERERKSD0aAiIiIiIlJ+NKiIiIiISCegQUVEREREpIPRoCIiIiIiUn40qIiIiIhIJ6BBRURERESkg9GgIiIiIiJSfjSoiIiIiEgnoEFFRERERKSD0aAiIiIiIlJ+NKiIiIiISCegQUVEREREpIPRoCIiIiIiUn40qIiIiIhIJ6BBRURERESkg9GgIiIiIiJSfjSoiIiIiEgnoEFFRERERKSD0aAiIiIiIlJ+NKiIiIiISCegQUVEREREpIPRoCIiIiIiUn40qIiIiIhIJ6BBRURERESkg9GgIiIiIiJSfjSoiIiIiEgnoEFFRERERKSD0aAiIiIiIlJ+NKiIiIiISCegQUVEREREpIPRoCIiIiIiUn40qIiIiIhIJ6BBRURERESkg9GgIiIiIiJSfjSoiIiIiEgnoEFFRERERKSD0aAiIiIiIlJ+NKiIiIiISCegQUVEREREpIPRoCIiIiIiUn40qIiIiIhIJ6BBRURERESkg9GgIiIiIiJSfjSoiIiIiEgnoEFFRERERKSD0aAiIiIiIlJ+NKiIiIiISCegQUVEREREpIPRoCIiIiIiUn40qIiIiIhIJ6BBRURERESkg9GgIiIiIiJSfjSoiIiIiEgnoEFFRERERKSD0aAiIiIiIlJ+NKiIiIiISCegQUVEREREpIPRoCIiIiIiUn40qIiIiIhIJ6BBRURERESkg9GgIiIiIiJSfjSoiIiIiEgnoEFFRERERKSD0aAiIiIiIlJ+NKiIiIiISCegQUVEREREpIPRoCIiIiIiUn40qIiIiIhIJ6BBRURERESkg9GgIiIiIiJSfjSoiIiIiEgnoEFFRERERKSD0aAiIiIiIlJ+NKiIiIiISCegQUVEREREpIPRoCIiIiIiUn40qIiIiIhIJ6BBRURERESkg9GgIiIiIiJSfjSoiIiIiEgnoEFFRERERKREkJj+zW9+E957773wk5/8JPzjH/8I//73v8f9dWKaNaiwLbb585//PLz99tvhV7/6VdyniIiIiIh8d/zrX/8Kf//738M333wTPvroo/DHP/4x/POf/xz314npikGF7f31r38Nn332Wfjyyy/D3/72t7hfEREREZHvCw0qIiIiIiIlggQzCewLL7wwjBo1KhpJ/vznP8eEdZ5RpVGDCt9lG3/5y1/CL37xi/Dkk0+Gs88+O7z11lvxdyIiIiIi8t1B7P2HP/whPPjgg+HKK68MH374YTSipyaSyti+GYNKan753e9+F7766qtw4403huHDh4ff//730YwuIiIiIvJ9oUFFRERERKRE8BbkJ598Ek444YSw2267hb322isMGTIkvPnmm9FIUvnWZSMGFRLYGF+YleXmm28O+++/f9hll13CYYcdFmdRqfUmp4iIiIiINE9qEB8xYkTYZ599wvbbbx9OOeWU8NBDD8WZEjGYZGnUoIIBhVkQx4wZEw3n2267bewz3HTTTfFvzqAiIiIiIt8nGlREREREREoGCevrr78+bLDBBqF79+7xJ4YV3op89dVXw49//OPxyedqBpV0KZ+f/exn4Y033gj33HNPOPXUU8Omm24aevXqFdZYY41w+eWXx6nARURERESkNTz77LPhyCOPDPPNN19YZpllwu677x7j8EcffTQa05kFBXNKLYMKhnKWCPr888/DE088EQ3s++67b1hppZViHwAD+ujRo8ftUURERETk+0ODioiIiIhIyfjf//3faEIh0TzZZJNFTTvttDGpvd9++4WRI0eOn767mkGFBDdTipP4ZqaURRddNHTr1m389nbcccfw7bffuryPiIiIiEgLYVkflvnp3bt3jMMxn8w444wxhmdZz/fffz/G5LUMKsyG+MUXX4SrrroqbLLJJmHmmWcOU045ZdzeTDPNFG655ZY4q4qIiIiIyPeNBhURERERkZLBG5IkqVmrfvnllw/TTTddTFJPP/30YZFFFgnrrLNOfGOSNyfPO++8OBvKXHPNFQ0q/fr1C6effnqc4vuggw4K66+/fkxukwRnG1NPPXV8c/Pcc88Nf/7zn2MiXEREREREWgNL+bzzzjvRID7//POHySefPEw11VTRYE6sv/XWW8eZDu+9996w9957hyWXXDLG7cT9O+20U7j99tvDOeecE3bYYYew8sorh549e8bvs50ePXqEDTfcMM7S8re//W3cHkVEREREvj80qIiIiIiIlJSnn346HHLIITF5nc58gkhIzzLLLNGosvHGG8e3LPk/JpQlllgiLgm00UYbRdMKn81+l8+Q+HYKcBERERGR9vDzn/88XHvttTF+z8bmmEyYKZEYfuedd46zITJr4hRTTBGNKKuuumrYfvvtw7LLLhtnQ+T32e+vssoq4eKLL3bZThEREREpDBpURERERERKyv/8z//E5Xp4ezKbiEYks5kNhYQ24i1LEtbTTDNN/D8/+T+fy34P08ptt90Wk+QiIiIiItJ6WMLzhz/8YTSfZ2NzRLzOcj1pXJ8azPmZ/o6/V8b1CFPL559/Hv70pz+N25OIiIiIyPeLBhURERERkZLCNN3vvvtunM67V69eEyWkEYnqrBElz5SSiinAmXHlxRdfjElyERERERFpPSzhyfKa11xzTejbt2+YYYYZcuN14vg0ls/+u1KY0Zdaaqm4bOcf//hHl+0UERERkcKgQUVEREREpMT84he/CFdddVVYe+21c5PTzahfv37hggsuCF9//fW4rYuIiIiISLt45plnwkEHHRTmmWee3Hi9Uc0888xh0KBBYdSoUeO2LCIiIiJSDDSoiIiIiIiUmL/+9a/h008/DYceemhucroZ7b777uHDDz90CnARERERke8BzOcPPfRQ6NOnT2683qgwuNx6663hJz/5ybgti4iIiIgUAw0qIiIiIiIlhunAmbb72muvjdN4V5sOvJZYt37xxRcPgwcPDn/4wx+cAlxERERE5HuAZTY/+uijsNNOO4V55503N3avp+7du4eNNtoovPzyy9HMLiIiIiJSJDSoiIiIiIh0AE8//XTYb7/9Qs+ePXMT1bU0++yzx9lTHnnkkXFbExERERGR74Nf//rX4YorrggDBw7Mjd3radVVVw3nnntu+Pbbb8dtUURERESkOGhQERERERHpAH72s5+FBx54IPTt2zc3UV1LvXv3Drfddlv40Y9+NG5rIiIiIiLyfcAsKiy7eeSRR+bG7vU0aNCg8M4778RZFkVEREREioYGFRERERGRDoBE9ieffBKnA2fN+bxkdZ7mnnvusMkmm4TXXnvNKcBFRERERL5nWMKTZTevv/76uAxno0t4smznwgsvHC644ILw+9//3mU7RURERKSQaFAREREREekQfvOb34RLL700rLXWWrlJ6zwxBfg555wTfvKTn4zbioiIiIiIfN88++yzYe+99w7zzTdfbhxfqTnmmCPsvPPOYdSoUeO2ICIiIiJSPDSoiIiIiIh0CMyiwnTezUwHTtL79ddfD3/605/GbUVERERERL5vMJCzhOeKK66YG8dXitlThg4dGr7++utxWxARERERKR4aVEREREREOoR//etfcTrvG264ISy00EJh+umnz01eI6YA7927d7j44ovD7373O6cAFxEREREpEJjPv/zyy7DrrrvGZTnzYvpUzJ7Csp1vvPFG+Mtf/jJuCyIiIiIixUODioiIiIhIh/Hcc8+FPfbYo+Z04CS5d9xxxzB69Ohx3xIRERERkSLxxz/+MVx22WVhzTXXzI3pU62yyirhzDPPDD/72c/GfVNEREREpJhoUBERERER6TB+9KMfhfvuuy+svPLKuQlstMQSS8QpwL/66qtx3xIRERERkSLx97//Pbz55pvhqKOOyo3pU7Fs50svveSynSIiIiJSeDSoiIiIiIh0GH/961/j2vNMBz7nnHNOlMCeffbZw+abbx7ee+89pwAXERERESko6RKet9xyS5h//vknWsKTZTt79eoVLrnkkvDb3/7WZTtFREREpPBoUBERERER6UAwnpCoXn311SdIYiNmVjnrrLPCr371q3GfFhERERGRovLCCy+EXXbZJZpUsnE9y3Zus802cdnOf//73+M+LSIiIiJSXDSoiIiIiIh0IP/4xz/Cq6++Go488sgw+eSTT5DI3m+//cLzzz/v7CkiIiIiIiUgXcKzf//+E8T1ffr0CTfffHP44osvxn1SRERERKTYaFAREREREelAeIPyd7/7XRg6dGjo2bNn6NatW5wCvHv37uHKK68Mv/nNb8I///nPcZ8WEREREZGiwhKeP/3pT8Mee+wRZptttmhAn2WWWcJmm20WPvjgg/DnP/953CdFRERERIqNBhURERERkQ6FNeuZDnzHHXeM04H36NEjbLXVVmHMmDHxbyIiIiIiUnwwn//9738Pl112WVzCc8oppwwrrbRSOOOMM8Kvf/1rl/cRERERkdKgQUVEREREpIP59ttvw9133x0T2csuu2y46aabnAJcRERERKRkYDB/+eWXw9FHHx2mmWaasO+++4ann346zq4iIiIiIlIWNKiIiIiIiHQwJKx//vOfh0MOOSROCf755587BbiIiIiISAn57W9/G+69995oPL/xxhvD//t//89lO0VERESkVGhQERERERHpYHjT8h//+Ed48cUX4xuWf/nLX1zeR0RERESkhGBG+eabb8Lw4cPDZ599pjlFREREREqHBhURERERkf8CWJv+l7/8peYUEREREZESg+H8Rz/6UfjjH/847jciIiIiIuVBg4qIiIiIiIiIiIiIiIiIiIiItBQNKiIiIiIiIiIiIiIiIiIiIiLSUjSoiIiIiIiIiIiIiIiIiIiIiEhL0aAiIiIiIiIiIiIiIiIiIiIiIi1Fg4qIiIiIiIiIiIiIiIiIiIiItBQNKiIiIiIiIiIiIiIiIiIiIiLSUjSoiIiIiIiIiIiIiIiIiIiIiEhL0aAiIiIiIiIiIiIiIiIiIiIiIi1Fg4qIiIiIiIiIiIiIiIiIiIiItBQNKiIiIiIiIiIiIiIiIiIiIiLSUjSoiIiIiIiIiIiIiIiIiIiIiEhL0aAiIiIiIiIiIiIiIiIiIiIiIi1Fg4qIiIiIiIiIiIiIiIiIiIiItBQNKiIiIiIiIiIiIlI6/t//+3/h1VdfDWeeeWY4+uij6+rUU08Nl19+ebjvvvvCm2++GX7729+Gf/zjH+O2Npb/+7//Cz/72c/Cgw8+mLuNPJ1wwgnhrLPOCkOGDAmPPPJI+PDDD8Pvf//78M9//nPcVv/Dr371q/Dss8+Gk046KXdbjejee+8NX3zxRSwr/O1vfws/+clPwogRI3I/nxVlPfvss8O1114bHnjggfDBBx+EX//617Gs//73v+P28vj5z38ennjiiXDxxReHq666Knz22Wfhj3/847i/Tgzb+t///d/w4x//OLz88svh7rvvDpdddlk87mOPPTaccsopcTv3339/PBecy7///e/jvj2Wf/3rX+F3v/tdeOWVV+J+Tz755NxjakSXXHJJePLJJ8MvfvGLcVuvDXXLMT/88MO522tEHOOjjz4avv3223FbDeHPf/5z+Oabb8KNN94YTj/99PjznXfeCX/961/j8daCOv3666/DQw89FI477rh4vj///PPxbZj6++lPfxrbR155skrbwTXXXBNGjhwZ3n///dg267WDenC+OJ7Bgwfn7rdSnNNLL700Hstrr70W22JlO8iDcv7lL3+Jx//UU0+FoUOHhgsuuCAe1zHHHBPr9sorrxzfvjg2rpNG4Pg5/7/85S/D22+/HeuHtsr5pN6z1xD3Ca73WtcQ2/ryyy/jeaFsXHdfffVVPN9cQ3yfbZ122mm5ddSIKA/tgvbBdmlPHPcNN9wQ9cwzz8T6yrsnpaTf++EPfxiee+65MGzYsHjdnXjiibHc3D+5hjlX3He5lvh8NdJ7AO3huuuuCxdeeGG48847Y/vnOqgH5eWzlOP666+P9cb9pNYxiIiISDnQoCIiIiIiIiIiIiKlg4FUBi579uwZppxyytCtW7cwwwwzhJlmmmkizTjjjGGeeeYJyy+/fNhhhx3COeecE40iDHgyIJ4OLDOgymD9EUccESaffPIw3XTThdlnnz3uo5rmn3/+sMQSS4Q11lgj7L333tEEwwDu//zP/8RB3+ygNQPqF110USxPWmb+nVfmajr00EPjgDNlhT/96U9xIH2vvfaKZZ566qljufO+O8ccc4QFF1wwrLrqqmGnnXaKZcF48qMf/aimSQIjC0agZZZZJqy22mrh8ccfr2r2wAjAgP17770XB7MxIey4445h9dVXDwsvvHCYb775wiKLLBLWXHPNsPvuu4dzzz03loHzmS0DA9EYbzBxrLTSSrGus8dCvXG+p5lmmvCDH/xg/HHn1SdlPv/888PHH38ct10PjoFjZmB+sskmC1NNNVXVOq2mXr16hTPOOCO8/vrr47Y61lSFYWfjjTcOs802W6wTTCIMxNczZlAvL774YjjyyCPjMdPWMN0wkA8M+mMG2G+//RpqB7179w6rrLJKvB4wD3BO67WDevD9u+66Kyy++OLxnEw77bQ1r8m555479O3bN2yzzTbRoEEZMFlQ/9XKQPkw4mBo4fo//PDDw6abbhpWWGGFeEzzzjtvvB5pX7vuumu81jEaffTRR+E3v/lN3G6ekQT4G/VJGTCb0Ta5TlZeeeV4/+CczTnnnGGhhRYK/fr1CzvvvHM0cXAeMCLl1R3H8vTTT4f9998/1gnXLwaQ1ASDsWTDDTeMZa+sH+qOOuR7tMFq9wuOF/MMbYvrBoPcrbfeGjbYYIMozDsce7U2xr2Esrz11lvxe5hettpqq3jc3C9oy4suumjo379/vJY5Vxj9uMa51jFJVdZpWg7aw7rrrhu/v8UWW0TDD3VVz2hCeTke2uf6668fDjvssGi6acTAJCIiIsVGg4qIiIiIiIiIiIiUjqxBZdZZZ42mBwZUGUStFAYFzCkYJPg8g6Wbb755HIzFBJHOQpE1qDAgvPTSS8eB2qOOOqqqMARsvfXWcaCdQebFFlssHHTQQXFQvHKgPWtQwfjCZzEJ5JW5mpgt4aWXXorbhqxBhTIzkN6nT5/c77IvykkdMNjOYD7HxwwR1GdqeqmkUYMKg9SYLRiExkCBEYbzMmDAgLDddttFMwF1S51tueWWYcUVVwxLLbVUHERndoZPPvlkvOGCAWxms2GAm4HtgQMHTnAsGAT4PoPnDNJ37949DtTze8qY/SxGgiuuuCLWfyNkDSpTTDFFNFIsueSSE2yznhhUZ5+YRlKyBhVMBxgQdtlll1hfzOhTzTgBtKNGDSqYn3r06NFQO+Da4Sd1jLmK2T6qtYN6ZA0qM888czRycI7yysA5wlRC+6AdYoSgXpiJiO3klYE6+PTTT8PNN98cNttss9h2+B5Gn+233z4cfPDBsX723Xff2L44Rq4x9oPpAtMJ9VXNHMHfmB0IM9NGG20U64V65L7BvYW2lbY7ypxeQ9QdM8EwMwomlSy1DCrM7II5a4899ogmjsr6wZhFHdJO5pprrlhXee2bexlmmjfeeKNpgwptjnIzyxHmE+oMExnXLsYh7mVcswcccEC8hjl27p/cG/kbM8PQrjmeLFmDCtcu1yfnYp999on1wX2rVnvXoCIiItK5aFARERGR0kHyOJ12++qrr47TadcSyRjeSiPh8vzzz8cEdOWUsiRGSBwxve6wcVPZ5m2rUiSu0ulmeYOLJG1eIo3kDH8j+cT0tnnbqie+RwKSxCXJH8rMTxJoJDSZtjrve1mReB4+fHh845LEI0mhask5oE5INo0ZMybcdtttYdSoUTFxzXeqJZP4Pdslqch03EyrzJTFvJVHfZH0pI45FhLETAOdty3e4CJxR4Iy71gaEcl/pjR+99134/TJ1cpcDdoaSUO+P3r06HDLLbfEbZL841ioT6Yp5liYZr3yWPg3+2WQ46abborfzStnI6IOecuXqcazkKRNE+iUhbbLFNck72gr9eD7lPuFF16Ix5e37zxxHmkTTFvOdcM20qQkx02ZaJt33HFHTNbmbaMRce1S941O58xneFuZqb7ztpcnjoVykijlPJJUbmRftA/qmLcxubZvv/32OLBy3nnnxTc1uT9x36Edk/T9wx/+0HAb5LyQfOW4ubfwhiLXAvczBqVoS9wTeCuZxG29t11JDlNOzhnf4+3INJHMuWOwgzZGu86ro0bEtkmKc5xsl5+cB9ol4nqnXdSqg/R7DDxwPjgvTM9OuThu/s222C7ti7LXOldsj/s91w7XBd/nWNMp7GtBOSkLAz3cR0i+c3zc46vVs4iItJesQQXzAIO8GAIYmM1TuszEbrvtFgdfF1hggTigTSyXPqe5z6cGFWYuYJCa5xCxUjURB/BMZlkTBnAxSbB9ZhkgBsj2PbIGlWWXXTYOpPMMzitvNbFPnv3psyxrUGEgm8FgltHJ+y4D++lyIsxewmDzcsstF2eg4G/MMMJ2K5/XjRhUeM7TxyCmxHRBOTAJUBbiZp6lPJOJjfg+/RJmGGFQHAMBBgPOH3EARgGet+kSKMRU9CGyx8LzmbpkcJ6Be0wKDP4Td/Pcz3427a8R/zRCGl9jUMH0gwmAAfLsNuuJgXlmT8nG71mDCjOzINoB5gniM2K2alAfjRpUmDll7bXXjuXPK1vaDlgKZ9CgQdEIQTugvVOvxI157aAeWYMK5ySdYSSvDCg9h7Rd2hVmE/5NH4OZObL75/iY2YQYm/ZF28UYQn1wLPQ7iR/p8z/22GOxHFy71BOzqSBMIsxYUm0GD65X4k9mNGH7mEZoU8TgabuifXPfIf7l+l1rrbXiZzHMcB+gjFloS9UMKpw77mPkNthvtm44R/SjmAWGexWmIuqGGYUoQ/az7Jf7AjPLcFyNGlToP9Df4LhoB5hfaJuHHHJIvBbvueeeGHdTXu5zXMOcL8wqtC/qlPspdZ0uO5aes7QcqUGFWXswLWEq4l5JHztv5pUUDSoiIiKdiwYVERERKR0kpkj0kVDlTSaSPCTomO42T+mbieutt158Y4/EVTbpCZXJE97uIanH22S8FZUn/sabdCTyeLOINalJhJHsqky0kEQhWUjyjDeN6pU5T7zxybS9JLzSAVJ+ksxi2mHKwptyJNLzvo9I+HF8JOJJWDElL4kfypsHiXoGgfk8ySeSeySm8gaZ+T/bYXvZ6bypG+qINxt5+4xkJYk+klok1ziXDPJX1hnbIAnOcecdC/XH8TJ9dbXjZn8kW0m4kaxrdFCZz3GMmJlIJpJAS5Og1DNvaM4yyyyx/ZGQ5C0wjoWkd5r441gQZiqS6ST7eJu1soyUm6Q3b2ZyHEzFXfkZxJtsDCRk38AEkoAkuklScm6Zcpp9MfhCO89LvGah3nnLlQQr36MsDJjUa/scO2/CkjAleck09qnhgfqj7dA2SXIz7X3eMaXHjfh33md465M380hOpvVaCz7DYAIDIST8qdN61xrlY0p+2iRthTd3axkf+H2azCURzPEzEECSlkQ89w/OA2XfZJNN4n0nNW9gjOC6rXUcaf2RrMaYwr2FQSMG3kjscm9iHyR3ua9xXyB5nC135fbTwQKOk3KRxKd9UBbuKZhqGHDi/FbWD22UekzbaLX65Lpm8Inrhu1SP8cff3xMipPk5y3yakax9H7G9cI9gQFEEuMcH4N8HC9l498kqGkTDGhggmPQh/t53na5jhk8ow5p37zhyjr6tFfOYa3zQD2mywowcLTtttvG48uasURE5Psla1AhDuL5VmnmzcLzhliBeJbBTp7XPGswq/IM4t7P8yg1qPDMpc9BTFOPNCbDSMmMJMxAwE+MGJhnU7IGFeIEYjieLZNC1qBC34eBcPZbC/o+PHOzz0iMIsQUeSb2egYV6pY4hwFsTAmcE44vjQ147lbCc5g4FPMJnyXWJmbAfM936sHzH0MBfQ7KxLmir8c5pDyTQtagQuxDX4Bt14odGiFrUKFPSBtjZgxiNNoCfa+8WA44pkYNKvRVME9g9KgFMSeD/vQzMOHQX8EohHmo3ssMeWQNKpwTXqKoNGxk4Zjoj2AqOeGEE+J1Q11gLElfjAB+0s/mHNC/JDbDEIKJgzbAdV0J2+b4qDOOj35lamSj/WbjUn6yD17koH6ZCYl7AwZxTFd526dNY+Th/kGfkL42cTn7Y9/ptmsZVGpBvVCfGKzTpcmIf9lvrfPC3xoxqFBGrmFeBqBO6CPQd6NvQztM21UltAvMVGyT/iAzvFA2zg37zZ6zNMeyzjrrTNAXJq6mfJSpWj3wNw0qIiIinYkGFRERESkdWYNKOmDLQC1GBN4qqhSJTgb3eeuIgWj+T4KKgU2SK5BNnjDIyvZ465GkH4PWDIZWioQfxhCMG3yeAXve3iMJixkim4QliZIaVEguMdDKd3hTMK/MeeLtMGZlIEmVJl35ScKcJDDJPJI+JOsq64L/sy/KSLKYBDS/4y0p3iBjm3lJ0GYMKpSFRDID/HvuuWdMcLFPklEkdKkv6pJtkHjGtEId8FkS+XyXJFwKyT7etiN5lT2WVAxUY0DB2MDgAsYfzm32M5SZeiPRzmAFddYItAveACPpRuKTpBttB/MB+2B6Z+qPuiYRSTkwQWHWINFGMjU13JD0I8nOtO+UJ1s+tpGad3jbleNgH/yefWQ/ywAHphMS5VloZxgTePuUOiGZShl5k40EK4nXWmQNKhgsaB8kzBngyGv3Bx544Pgp2SkX7Y564BwzZTaDO9Qz+8WwRTm4prLHwrHRNqjTdN10rk9+V3ncXFMkqzF3NJKM5DOpQQXzEnXKuancLkrPI20nPcck0jlOksi8tZkH9wqSspg6aMvUO+eRxCltgPqhnrguOXb+zjkh2c8bnwx65V1DQN1x3bF/BkRI0FM22gjXS9r++Mn/MUxxDvgdSVtMIJSvMtFbzaBCOfgbM9Vw3hmYyNYR++H+yX544xGjCPfdvPrkWmaQgGuN+0EzBhUS4NQLCXGuOc4JA2DcPxgs4/7BeaF+2RbHwL2UzzLIhzmMY6m8xvldalBJzW6cE+4tlI+/V4PnggYVEZFi06xBBXgO8QxgAJ7Yh+cCy/Skxk3UFYMK2yWu4plEXJaaeTFdEmulFMWgwrOMAWD6KPSNiIF45p966qmxjJWD0/UMKjzjKQPxCOeCY+d8pHFPtTicWJa4m88yOE5MSPyAYYHv5MUNKWU3qNAnpJ6od+qV8tNvyYvlgGP6rg0q7IeXBZjNgnZLLEjcg6GXfiDbbIY05mzUoALUKX0I+qVcE7Qf+o20J9oHf6dOmNWTWJDrln445yOd/TDvvPA7jo86px3STtg2/TfieH6X1jNxH9fRsGHDYszHbDzEj9wXqsWvnA+uXV6soJ3wHa5BZuuhTGkbpC0V0aDCcdGeqGvug8TVzAhJP5w2Ve0aSrfPfQIjEX0g+lv02egjpe0x/Rztgc9ghOM46DfRB+MlD66Fan0uDSoiIiKdiwYVERERKR1ZgwomEgZGeVOJpTUYZK0UA54kZNIZDkhgk3xhoJGEDwmOyuQJiTkGWzEWkNQj8VcpEmTMbsD2Sa4wYMtazCQv+Q4J2zSRxT5SgwqJK5IyJMIxHOSVOU8YP9hvusQPCSOSryTMSdQxYEvyicRxZV0wKE5ii78xyMvxkxwiGUqijOMgMZQ1iEAjBhXKwf+ZepsEO8lC3iDjjTOSb0xLzGwqmBcwLJB4pO75G0lLxHcoA8n7dLvUH1OAkyTMHksqElSUCWMH7YCEGAnQ7GcYEKDeSD5yLHmJxUo4Ht6SY4plzC2cKxKZJBtJUvKGXFqfnD+Skem05JSDY2EpJAZH2B+JP5LbJAgpT7Z8bAtjCCYMkvG0Idodv6eOsp8lWYjhJDvowvZpD7z1Rn1yTkl2084pN/us9/Zp1qDCwD9tguQ0yfHKNo84/7R9ysN3MM6QUMe0wODGSy+9FLdJ26TtcE2RSM0eC3XHwEw6BT4i8cjv+Fv2sxwDbYeBpFqJ2JSsQYXZPqhTrn3OWXa7qfg9iVWuTa59jgVzBOeWa7ayzVDfzL7BtUT74P6DWYdp2dke7Zjrn0Eb2j3XIueGZDsDEOwDcwSGG+5llYlf6o0kN0nzNHnLOWUWFgxq3G8oM22E/3M9s23aH5/lXsi2uZ9lqWZQSQclSP5iLuEt0Wz9cE0xUEXZub9x/6IsaTmyn6XNMCjHtcZxNGpQ4fNco9Q5Jh5MMdyjuMZpD7xVnd6HeSub/XL/pN4pD/ca2iJtj2PJ1in3ptSgwmALs8Bg9mHggeuUMla7L9DeNKiIiBSbrhhUIDWDYiBO4zwGwxmg5hnGc6lZg0oKA+Y8O4hviEOIb4gtU4piUAGedXyXAXXifOJRDLY8dxnUz1LPoEKsQSxAP4C4gf4D8QV1XQ8+QwyRmvn5LvEfcV1lrJSl7AYV6ptjZfYKYkSOnViOuiCWq9wXx/RdG1QgbQfEanwHAwexOeeAWXGaoSsGFSBG5Lgxt3NNsn+OlbZB3EW/gm0Rj2JkIlZmRpX02GuRHh/HQ+zMSx3UHeeT31Ov7IN9sYwPcSjxJfvj+GsZIvge54o+EjEqsyZyLWbbblENKtw/OV76ERhUMCXRp6dO6sGxsS2W/6HN8pIF/WD67swYxd/TctAe6AvQ5+X8EscTw9NnJf7H1JLNL6RoUBEREelcNKiIiIhI6cgaVEi2kNBLB3urQbKDZDAJbAZxScLwPbZDIiqbPEmTOGeffXZMIJIsqQbbJXHEbCwMgPKmJNtmgD9dtxtIoqQGFbbNQCdLg1QmfpuBpA/JVxLmHAumGkwaJMCr1QXfIWGEwYDEJQk+EqMkyUj2VCaQ+X89gwrHzzZJrpM4YrYHknrUJcnIvMQb32e7LJ1DAptZGZhxgnKxvTSZVwuSsXyHGTI4fhJbJDYnBY6JsmEEITlLAp5kHYlG2g9lq4R9MoiBOYPBfwa/aTuUpx6cP+ro3HPPjUYHEt8YYxpNqtO+GGDHBEQdUO8MHGCYYVYS2iFvQ1Ym+7JwTKlBhe8zqIAxKzvgkAfbpP2S6CXRyKw8fJ92QFIzbft5sE+MBCRb0+uNASV+Vy9RWw+utdSgwnJJDLJgGqlVB5T1l7/8ZTTdYHpgphDOBWYIysN3EeeEbWMOwcjDvQRDEQM0qSGpEtoTiW2StSRtGYyijjHFpAa5FL7PABVtgAEzzFfMckTynGu6sm74P9coAw9co5wDEvoYodh2tjzpYEGlQaUe3Bc//vjjmFCn3FwXXB/Ze0AetOFGDCrUKfcCzDEkqkm+Y1zimKuZR2g/JKw5r5gDuX9w/TA4RVnZdwrlTA0qbJvBHIxLJNEpGwMfnIO8/dAuNKiIiBSbrhpUeB5hhObezvONWAYDKs89niOTYlBh0JxnLs9bDCoYU4tqUEmh34Kpln4BMT+xTmUsUc+gwv6JaZnZjfiZZzvP0VrxQgrPdszyxECUnbia+AbzQa2YsuwGFWbDI7YgdmM/GCeYPY4YmT5CZd+DY2qFQSWFWRkpD/05+mj0MShHM8ecxpzNGlQoO316+jRck8TCmDroH3AuOM7U4EF8TFzZjFGBuuPa5H5BG+baIx6nD8B2aGdcR/QHuC9gnsAMTj+Jsk1Ke6L8RTSo0JboM9H3YdkkTOHN3ouYOZbv0V7Yz0knnRRNehxzWg7aA6Yirk+MRZhauJ4w49NH4LrnPFTWhwYVERGRzkWDioiIiJQOEkTNGlSARDSJZxJCJIuZ7YJkM0nsbPIkTeI0YlABklUkjnjzkAQL22XQmrf5SR4BSZQiGFRILnI8GEooL4PaDNSSICWhT9Ium+xqxKBCvZGgJhHKEikkE9kWg8uUIy+hSdn5HolsZmegzkgCkjjje2m91aIVBhWOPTUTkFgnkUb5SLJRF3nHQiKN80jSkaQZyVhmmMBsw/ZqJXQ5f5NiUOF4afskn5l5gv2SOKftMgsI0zXzf9pfte2R+OyKQQU4TwwKkNxlymbMD/ybKbo5hmqwzyIZVPgbiX0GZzgXJIA33XTTOEsI553ysl3OM0ltkqSYUxhIYFagWsdLvfNdzjPJW5K/3H+oaxLr2Rlu+Bz3EoxFJM2pUwatGHzLa0v8n/ri/HGMtFeuZQZpePuR7aWkgwVFMqik7YAlvpgFikEMrmk+xzFVuw9Qp3yX7WOQ4vrnu9yjuH6ygyCUMzWo8HeMJgxKkBDHEMPAS5pEr4Q616AiIlJsumpQIRYm3iH+RIccckh8dhIP8AzrqkGFZxTxLQPbDPLz7GGQmOdwShENKjzvMOYSJ2CQYJCZ5382lqhmUEnjEfoI9BnoDxB/YQBigLkR0niJclD39D84R/Vi6bIbVIjJmIWOAXvaGEZp+nT0p5h1khgzC8fUSoMKZgP6iFwTXE/EcZUxZT3SmLNZgwoGJdoQMTjXDW2ZPj+xI8I4ggmf5X1TE34z8RjnjeuMGfSoZ9o57ZX4P41P2R71SZ+OJWswRVB+ZnahfF0997SlIhlU0mOlPZO34P5Jm6K+07bUKPSVWI4Lkx+zzvCTl3eo67QcWYMKs8xwTLR72jn7ZlYb+lTZfgJoUBEREelcNKiIiIhI6eiqQYVkBwlMkjMYIjBmsPxLOvibJk/SJE6jBhXguxgkKAuJXZItJBrT6XFJohTBoJKS1sWwYcPioDNvPDEwXFmP9QwqJLZIMDHIS9KJGWQwOnB+KF82wVQJdU4SioF1EpCUg2mFSQTz+3q0wqDC8ZAIJvFHG+E8kURju7USiCQPGQwhocsxMNBA8oxjrFUHnL9JMaiQRCaxmL5lSPKSdkY7xgDB75g2GdNNtXZM2btqUOH4aCMkP/kudcYAAddUreRmakwoikEF2C/XI+eOhDVJeeqEt/k4HyRZqVvaHOYU6hZjBXXbSJk5Zq4lkrGYNdgG5z3bTtgP1yUDIVxPJOgxOnF/qUVqFOLtW65FrmvOKftMSQcLimRQ4f7IoAefwTDCtN8cA22vkfsu9c4+OGecD5aZYkCNJDl/Yz9sJzWoUKcsy8RbtwxwMIMUSXmWI8h7a5PzokFFRKTYNGNQSZ8LxBsMDjPIzSA0zyhm9cOozbOTZ1izBhWeGTzXKA8zh/DM4HnLd3kuMbidkjWo8Hzh2crzjwH4esJEQh+D5x9lzT5TJ8WgQp1gKMFIy0Aw8Q7by5pFqxlU0j4J8RaGU4wJDMA3ulTIpNAug8pUU00Vt88Aed55yRPxNP09jDbZuKHSoEKbxWxBu2C2HWJq2gWzyNBOs8fCz1YaVGgHbB/jO2YDtkP/sJppOI9mDCq0X2J3YivqhH46x04sfvrpp8dYlWOjzpjhh7rB+EX/jG02e47ZF/vBEIERnKVKeakkvT4pD/E6OQLiV0zl/KQNEMPTtjCa0O/E4Ew/oJG2RlsqkkGFv7MNlvfhmuc+iKmummm7FpSR64R4nr4C5iYM5Nwb0nJkDSqUn/sC54G+FjkZ7jncW5jBJ3vP0KAiIiLSuWhQERERkdLRVYMKMGjLAC5mDpJbJJpIfGWTJ2kSpxmDCokztoORg2Qeb2WRLEwTLCRRimRQAZJSJN95Y5REEolA3tRjoDalnkGF/ZBQJXlJQorE0+jRoydIwteD75Nk5BhIUvGGGknKerTCoEI74PgZ8GZ2BQa9SYZSnlYkwjh/k2JQIfFP0pep1CkrZgaSgbQtEniYEUhMkzSsVqckFbtqUKGMtKN0QIIkNAYdBgrKZlBJ7wEMKHANU3eYHUgKcyxpsp3rgEQqg1q0uXrbzcL1xFuaJKU53yz5g6mJOqQuua5oD9Qh5hQGzHjLk+RsM/vJo4gGlfTtdYwpPXr0iMl/BvGaOVbODfeodAkf7q0sycXvOaeUMzWoMAjBvYrEOG2PZZoYnOAeyH2ochCN72tQEREpNlmDCvEsMSX3bu7hlSJGYECZmJznOLFzt27d4uAnz2Pu7zyDeIZlDSrMCMDzKm+bqXiGEP8Qx2GCZKkWDDPEkZVG4axBZbLJJguTTz55w2JZOwZqKQ9xRRovsv9JMajw3CSu4fs8t4nrmHky26eoZlDh+PncsGHD4jJ9xDiYK+rFg98FbL8dBhXOU7Pnqnfv3rEtEJdnY4w8gwoxWXoOjz766GgYYDZHlloiXkrbD8fUSoMK23nvvffi92gHxKrsr5G+ZUrWoEKclS5xVXnNIPoExLlcb5jEuIZZppQ4mJkH6Zdx7LxAwDVLmTA101fDqN/sOeb65pyyLdox5nrqJ2tq4z7BMZAnoByUB4MS1+uCCy4Yz9tRRx0V7zuYWygbZeR4qsWw/L1IBhW2y9/Ji3A8bJt7VWrSawaOmfsw9zSuQQzgmPgpd1qOrEGFuJry0++jTuj/rrjiirH/RZ+N76VoUBEREelcNKiIiIhI6SBB1hWDCgkgBocZ/CV5ssIKK8RkSbqsTZo8SZM4zRhUSBzyNiPGFGYj2WeffWIyheQokEQpmkGFY+bYSVZhTiGZRMKIBFNKPYMKCXf+T2KLv7OkTLNTA5Oc4m0tkuAYLqiTRpJOrTCoUKckh0lUMhiRvllHEpQBbNrIpCa7s3D+umJQ4W/UEWYgzg2zcRx33HHjp6jmnJG8TE1DJAmrvblIErKrBhXKQEKXpCkJZb5Lcpnv1rpu2GfRDCqUiQEtlvXhbUmSpBwLZiuSqNQta6ZzfWNeGj58eNU6rQZ1QqKdWW0wbFBnHDf1xf65JrmmSHhjOJp33nljG2eGD8weXNf1jqMa6WBBUQwqtGHaHfXN31mSirfHabvNQL1RZ3yXts5gIOeNQQvKQDkrDSrcM3lLnPsx55JrD+MJ7YZypcfF+dCgIiJSbLIGlbnnnjvG98yWhTGgUgxy8izgmcSzkAF0nvdDhgyJ20ljF54fqUGFweQFFlggPi/ytpkKYwaD2cSOxOTsh2cthgO2m43rsgaVmWeeORqNl1pqqThgXk/EIZgGiFV5pqbb/T4NKjwTiReIPXkWE5d2mkEFw8lss80WTSeV56SaiEmI4zDfZ+uxmkGFmIa/EWPSJ6BNcK6JW4i3OR5UJoMKy/FgKOHayLtuuCaJeWk3GIcxgVNvGPDp0xKDpzElfXjKRPxMbN9VAzf9Tfo97C/PoEIdUw9cp5j/iVWZcYXluLi/YB7i2GjnmIg4Bs4HJnfqLi9epy0VyaCC6HcRM3M/JMZn5if6PV2JcekTcc6aMahwXrl2MZbTBjCpYBqnzrmf8V0NKiIiIp2LBhUREREpHSR9mjGokGQiKYQZg4Qlg4wkj0leYyphcDObPEmTOPUMKiSeSBoxWEnihEFntpsObDOomyZ4SKKkBhWMHCSuzz///Ji8YdC2EZEoJ2mUJlv5SWKnqwYV4NhJXJEwmmuuueIxkLRLqWdQIVnI220k60iY8zYaCdZaCbPvilYYVDgmzhnJaJKRaZKdQQaOjfPFfml/TEHM8ZPc4/ym56UZOH9dMaiwP84dbwmTLGUGCgZXaB+0SQxTDMCnhilMApSZ71UmTPl8swYVtkFikcF7BidI2pKIJ3lIcpbzUCu5yT6LYlDh99Q3iWnaNgljlqpioAljEtcSx8rgAn9jgIr6pn45B83AdcG2SMQydfoSSywR2xUGLcoAJMSZRQTDEQlw9scyNBgjOA6S2QxAkTSnzCRwqc9qx5dSNIMKZWa7DDYwEEG5eHudt1CbIb0Pcm/HVMZgAwOK6RThlLPSoMIAAc8D2jmDIwwyMBDHgBD3fMoGnC8NKiIixSZrUOG5j+kDgwbxYaUwsGAG4fmLGZVnMfEeMXo2RuK5khpUpphiijjQ36tXr/i9VDw72Nass84aP4PRhNkZeW7zrKFMPOd4FlWSNagwmEu8xnMfU0c9ETMSP2GcJqZIyzypBhXiHWJpYg6e280aVOgz8LzEdNGJBpUpp5wyxhjEuqeeeupE5yVP9PVYQoW+WbY/Wc2gApSZfXKOaaP075hR5ZVXXhk/Y047DCq8bEE7mFSDSjrzSK1rEkM2n8WgQP+ca4O2R52lcR7b5BrBpEBfm/5vOuNRs9QzqKSwbY6bWJCcAWZo4lrqhHLQx+Ja4Bqm/CyVgwmEvAR9smzZOJaiGVT4N/cT/obRhv4Jv+tKP74rBhX+Rr+Atk+cTn1yPnghgBcDaIvptaJBRUREpPPQoCIiIiKlg0RRowYVEkMktRiwZ812knUkwTCSYOYgIcLfs8mTNIlTz6DCd0iMkSQhkcIAKwPKlKty8JokSmpQYaYAkpxMGT7DDDPEpF0jShNZlBfShN2kGFQwBDBozGA8b7ix1jd1mVLPoEJCmMQrA/ok5JkmGLNDO2iFQSWF+mPAg8Qyg/IkgJkCHhMPyUwGNEg8Yybh/KeD2s0mSTl/XTGoMAhBcvXwww+PiVEMIrxtRpIzTaZieqC9MTsO5gAG4znfldul3M0YVNg+bZ8ZKh577LF4DjAo0QbYBtcm+6hVF+yzCAaV9FhISnPNMhBF8peEPv/GiMGxkCDl32yL5Ck/SZyTxG0WtsdSWoMGDYr74dpikCkdWODvnF+S2JSB9sag1/TTTx/mn3/+eJ1xHZJkxtDBIBf3rsrzWknRDCokprlmmXWJN2ExWtGemjX9ANtj4IC6ZICSgQPuY5SdclYaVDjX3Nv4PQOTDHTwljLTtXM9p/cR2oYGFRGRYpM1qDAIvuSSS8ZnNebHrIiHGCDFzIg5dMSIEfH5y/Og8p7OMyw1qDDATpyDYQNzBuL7xIHE/MRv0047bXxeE6vzPOL5xzZ4juQ9K7MGFZ6PlJ9YhGdjI8rb9ndhUOHZSUzNQHAzBhViEMqFaZ0YiUFm6qeTDCr0BTC1YmZln5XnpJrYRuW5qmVQAeIQ2ibtif4dM5BgjqDdcEytNKik32e7xEeTalChDPzkOCqvSUT7p81g+sHUQGxIfyA1CwN1yDWFqZkycX3T1ogZmz3HnAfOKdcw7biWQQX4PPugPJSDeib+p79Nv5w4kjZHDoDrjv4QS4Sy9E/2vPPdIs6gQl+X653+BfchrudmY1yOkfswSzk1a1ChbinLI488EtssdUh/lHJTFow+GlREREQ6Ew0qIiIiUjpIkKUGFRI1JISYFpZEGoOdWZEE2meffeJneTOIQUbeeiQpxIA+CUKSI9nkCZ/jM7z9xyAyib3K7SKSKLxlyKAnSW8MHExLS+KSJBeJ0RSSKKlBhTKwljXThVN2EumNiGQXMyuk2yWhw78n1aBCQgjDBQYVksnNGFR4u4m10TkW9p+uXd0OWmlQoT1QhySHSYBSLwxokEhlAIJkMueRAXvOP20EcwbGjmbqn/PXFYMKhivOO8k6ysLMN7SvNAlKYpG2zawq6VIxlbP6pGQNKhgF5plnnpjE5JrJa/dcU7R9Bi6YSYSEJm/+0vZon5StHu0yqPBGM1OFk9Ck3NWOhXPL1OOYFDivvL3JsjokVqlTBn0YhEmvddodbZ/fd4VRo0bFASSMJ2wra1Bhf7Q/7iG8Lct027wxynkkIU/7477B/Ynjog1gVMIcRuKbMtN20raQkg4WFMWgwvEyKw33WO65DE6QgGZ/XQHTCfd12i91wjOCbVHOPINKOnBEm+X6ZvCHhDjJde55lJ/zoEFFRKTYZA0qPCOJWYcNGxbj20oR+/MMIGYiXuV+zr2+Ep4BqUEF8wnxDvEuz2vE9zGDsC1mHcAozMA5z1ieN5hUiBHytg1ZgwoGTWZsoyyTwqQaVBi45vlOvMFzmz4Nx0pdpFQzqPBcJ7bDgMv+iacYSMZM3dVYqVGIJ9plUCFOZ9u14p9GqGdQIcZgSUhiUeqTuI8+GKYqYhvOU6sMKsTiLEPLywvEmcSp9LGy7aAeacyJMYU+NWUgns27Jikbx0PbpU+U1xfg/5hRuGaI19kuhp005m0G+gnE17RvzClc2xhwMEI0Ctc19U2ZiJGpf+5B9I2Y9YZrmv9zDlMjRdEMKuyXY6AeiY+5Zvk799O0zI1CGbnW6QuSL+A+SMxPXyYtRzWDCnA90X+mrPRF+T7tmnZBTK5BRUREpDPRoCIiIiKlI2tQYfA5nc6bJBzTbFcKAwMD9LzNg4mCRB8JPxKqJFQgmzxhAJokN99lxgLMF6w3jtgORo50Rg3WIidpSNKHRCGJNpJIlYlLkiipQYVkGGXhLTyS6Ezb3IgwLpD8Scv8XRlUGCxPZ1Bp1qBCeRgY7zSDSgrHSGKdhCnnlsFrEoskRzmPDFrzphxTvJOsp02SNCSZTd3Vg/PXrEGFhCIDGyQRGfSn3mnPmAGycI4YOKC8tFeSwwzMkBDMtk/aU2pQYVsMxKRT4KftnuuAto+hgr8jjAAM6jOQQcKY5CGDK40kitlnOwwqk002WTx2ZiqqvC+kYhCHY+E8cg5JLpM4ZbCDclJXtCvqDgMDA1AYQpihJh0MaBbaUjWDShbqkjphqnXuTZwj2jrXIgYVBjW49ig77ZGkbdoWKs9z0Qwq3KMYIKC+SThjVCHh3NWBLAYJOf5GDSpp+Umecz74GwNbmK24pzJDEG1Rg4qISLHJGlQwEvN8qzYbQqPwDEsNKsx4SHzHs6ESniMM+DLQzIAzBhnMpJg4eHbzHMqLi4poUOG5x4xzxAk8t5lhgj5A9nlXy6DCcabGCWJHYlpMoMQxjcJ2+DyxMXEYA/y1YmIgfuo0gwoQz3JcGKM4LmJ0ykG7Ip6ibbbCoMJSi7R1jALEvMxswrKJaf+zEbIGFcrO0i+c067CeSR+ZBlR+s/0WYmJuUabicc4b/TPRo8eHfsv3C8wrKf9NrZF+yPGJzanbRNP14O64ZwOHTo09qkx5RD/ck7T80JbKpJBhTpl37Rn7hn088g3EIs327/h3oPJhz5KajpnBhnqshGDCvB/2ja5CLaB0Yd2Q96BuJ2XaTSoiIiIdBYaVERERKR0ZA0qvO3DsisMlDOTA0nVSpH4JUnHLBMk3EgKkzAhKZMmGLPJE5JxJF4ZjCXJyuwFTCmMSCqRXOnRo0ccGCaxhUGDN81IYpGgyUs0ZQ0qbJ+BbpKLlIW3rxoRibPsoDCJJZKvk2pQ4W1HBl67YlBhUICkOgPknWhQAeqZ5CB1Sn2RLOe4SY6xxApLQVF/mKUYHKHtVM5oUg3OX7MGFY6R9sasHyTqOHauh8pjpx0yywfLT2E44TpgGmoSqNk2yrGlBhXaM2YUjgcTRtruSVjS9jFBkMDEvML+SXpiXuCtQxKL1cpcCfukLtsxg0r37t1j8j/v3sA1Th0yExLnkTdTOW+Ug+1w/hDXNYMwmBdI2FMX7KMr7Y3tce1jyGAmpVoGFeDexPXGvjh3DBxwjZMIHjZs2Pj1+Dkn3At5E5QEOcns7PkomkGF42UGFe7jmAIZcOCYujJAx/YoE2/DNmtQoS1yDaZL/XAN03b4DG2AY9CgIiJSXL5PgwrwPCBOIJ7mGdOrV6/4rGXpDGLovIHUIhpUeNbzLMRcwvOQmRUwaWaf9dUMKin8nX5Rug3iEYwvteKFlPSZzPOX2JVlR4nL+D7noxrEE51oUGEftB0+RyzObJqYn4hDWF6VgfpWGFQoxzXXXBP7Nen1RAzZzDF/1wYV4FzQNuiTslQu7RyDcd71VQ3aA22a2VyI66h/+mDcL9gO1yCmKmJr4mlmRW2k3NQN8TqmDGY8JRbdZ5994nngugTKXySDClBulvGizLQVzDUY3Zu9F3EPwNxGroD9kI/gHscxZ3MstQwqlIWy0d7pG9Heidt5OYR7K4YiDSoiIiKdhQYVERERKR1ZgwpJL5LAJDKZYpvlWCqFiYDBS97KSZOclQnLbPKE5AcJwDSxixmA5A1iOyRLeauQJA6JGAa3Sf5gzKiWQCWJkhpUSNww0Ml2SVB2FY6B/U2KQQXjC2+jkRxncBtjBbOipNQzqJDku/fee+NbTgxeM8hPQqpWwuy7ol0GlTzSwQjaE4MBtDESnCTPME1h3sA8QHlqJR45f80aVBgw5zMrrLBCHAAgwUobxETC+U9FcpXkNIYKZhAh0Ud9kWjnvKZkDSokDkl+ksAkmZ22exKutH0S4uyHc81nSRIyjX2zA0HtMqiQwOZapswkmSvvDVzLJFRpS7QfEsDUTWUSnvNBHZBs5n7DW3wkUJu9fjmnXDusy44hY8EFF4yDDgwGVLt3VELZqCOSx7QdZiGhrXHOU5Me5eT+wj0tpWgGFb7P4B/3RAwq3Hdpc40sEZWFOuWck7zG9MNbq2k7Z1/sp5ZBBXHOaedcM1xPlJWEOPdS7mcaVEREisv3bVABnkU8M4jPeJ4xkwrPNmJszBOVz8siGVSI2ek38IzmO8QmzG7GdxkwzsKztZZBJZ19g2Mn/uQZ3+iMDDyXiat5zjJT4U477RQH4jGG87dqdKpBJYU6IT4i9uT4iGXol22zzTZhqqmm+s4MKmk7wPRBHMXLB5wDZhBsZvkbaIVBhbiLawwTFX0aXvagv0KsidmhHrQFju+xxx6LJnzuF1wrGDKIF/k7MS9maeqMeJK4kJiXfksjbYm+AnE9Zn7qv+gGFaAPyGfohxL/Ei8T9zeSS6BO2BbHgcllscUWi/0btsd1SxnSctQzqADboh9Af5M+NfdRfnJtk4fgvqJBRUREpHPQoCIiIiKlg4RJalAh2YI5gVk/GkmkVCObPEmTOJgtSCBWJkVJqJDMIUFGImfppZeOyUEGSEnM5iWaSKIUzaDC9zGYkDQk4YPZgYRRNoFYz6CCwYX/p0ufkMjnOBsdbAcSbyQGScAyoMB54Hf1kr+tMKikyUnKwvTOGCYoSz04vyRIhwwZEqclJinPm59sp1bSlHpqxqBCnTD4QNtkVhQGNjAWMUtINfH3dCkbzhHthbKmcHypQYXziAlh5MiREww4pNAeMEQcddRRsb0xcxGz7vC2IYnxykRjNdhnOwwqLP/FNNOYUCZlMIHjYqAKYxomEAbAuN65fpqBsnGM3Duoa5L2zDrE+eBvXFckjhls43cktRupD653jpnrn7JhXsIEky1f0Qwq1CkDSgzQMZhH0h2TIcfeDNQPg3q8pb3FFlvE88N5ok1z7VHOWgYVSO//tBPMZSTEuRYxnjHLC2+Ra1ARESkmRTCoAM8VjCcYOIiRiE9ZPoQB/8rB2KIYVHiWEZdgTqfcxAgrrrhijGEpY6WxpJ5BhXgkNZ8Sc9K/4NlOTE2ckxfbAnEh26FPQZzBQDcvAgxrwOzd6QYV6o32TLzIrB7M4NmvX78Yl2B0+C4MKmksRTs455xzxrcDYif6gc32sVthUKHOaQscK22ctsX5YKla7gG14lKuPY6PpYpo23yXmQfpTzGLYdrX4zipA9ovBh1iV2J2XkLh+spewynsk3PE9mkb1DvHjTme+Dk9L5SviAYVjhmTNsYPPkMsjamf817rGmL7nA/OK/cy6mqhhRaK1wp5mrTNpOVoxKAC1Cf3MWagwiREXZKD4J5AjK9BRUREpHPQoCIiIiKlg4TH92lQIVHD70iesC44SUJmEKEcJM3y3jIjiVI0gwrfJXFGAo0kMsYKknyYTlLqGVTYDzPTHHTQQXGQmQFg/k6yu1F4U4o3zqhvZi0g2Z2+dVWLVhhUSCKyf8waJAAZoG5kkIO6oE4oE8uMkPgkQUfCPH1zLg/OQaMGFf5PO8I8QmKWBHU6WwbJOgZR8kRimqVp+DyzuzCwQNtNt9+MQYVzQvvg7ULePiRRSttnmyTwG70Gy2ZQ4bskpzF9MPhFPTLbEG2/me3SFrg+KRvXK2+/MpML7Za65Tyk55eBFu5zjVxLnEuuI+5fbJNBOuoza/YomkEFcZ1zvLRPBgpOPfXUmCRvpk7ZD/XGgApLULEtEt+Um7ZEOesZVPhJ/TMYx9vuHCdJcO5rnB8GVjSoiIgUk6IYVHgW83wgvicW5Lm20korxWdbZWxeBIMKzz5iDJ67mI157mFWZ1Y+4l/KWxmL1zOopPEIz07iL+qAZy9Gz2qmbcrB+WJbPKOJLRmMZjCd46EMteKCTjeosC/qjZiQ88RSnCzLSrucfPLJJ9mgkrYDto/BlziRfdC34ljz2kE9WmFQAcrBdpi9k5k1MGQTm2GC4vd5pgXaALEn9U2sSH+LOJ7ZYTCPcd2l7YT+CecGAwj9Wtov8evVV18dY/68WRb5Di+o0H7pL7N9+tW8tECfib8DbamIBhWOnfITo3POubYxqdAmMZblXbPA/YZ2xpJevJjBklBpv4Z9pMeVlqNRgwrwffqa3Iu4PlgSddppp41l06AiIiLSOWhQERERkdJBouz7NKikkDwh2UWCieQbCRTeyiIxTdIkmxTl/0UzqDC7AgloEuMk9EmYUa9ZQ0U9gwrJJ5JmJKcwNzCbDAk0BrTrwfepd+qFtwIpQ5oUJ1Gdrb88WmFQ4dhJ0JHMJSnJ+WQGBcpZmZDMkh4LiUYGMzCoMMsI5yJbn5Vw/ho1qFDnDOgzoEGCj6VrmE6Z5CqGAfadJ/7OVMl8h/PD1MvM/kFdsQ8Sn40aVIC2jAkLswbXIG/L8T2StxxvteslC/ssk0EFKBsJUQxBDDhx7LRVEtvVEqxZ+Az1zD2GpDrb4PxhzqI+KB9tgXplkIjzxYAOddrI9ikfCXumgGft+2uuuSYO2KQUzaAC/JuEPyY5DCAMFmAQ4d6aJvRrQb3QTmmvnA+Oi+uPQQK+T/umnPUMKinc7ygPA1Hcj5ghiO3xBjyDGZw3DSoiIsWiKAYV4NlDrMagMLERszCwXA3/p5zpsyNrUGHQmXj25ptvjoO7jYqlSigjA70877IGFbbLIDlxRt53hw0bFuuMvg6xPWZjnnmUmecw5cuLw+sZVIC6o+9AHMJAN0Z+Zv7AqMMxjh49OvafiH9YJpIlVhg4pw9AXdDfoD54VmdN89Vol0GF5XRqLRtZTRwffRbqhPNP7NGMQQU4DmJv4h1MACwhM9lkk0XVMqhMP/30sU/CsjN5Zcu2A+Jb+iK0A8rFzHSUiX3XivfyaJVBBWjnnG/6HSxFhTmZ2XY4RsqMGYe2xYyPGEJoC/QzMR1TF5xDrhHOS/aaBI6VfgR9P9okn6U++B5tklk9aMP01WgDxOyUgxiTPhxtF7MGRhjKkG2DtKUiGlSAbWHExyjHdchxY/im3bMvXmBJ65Trkn4k8TAvK2DkoW+RLu3DLDVpvwbScjRjUOH7GNrYHrE39zPqjKWdNKiIiIh0DhpUREREpHQUxaACJHlIfJEsmm222WJinCQYyens90iiFMGgQrKIRBh/Z1kWksUkD0likzysTNTVM6gA9UYykPPBcjJ8hgQqCcQ0EVsJvyP5RP2RIGVgGkMIg+skWRtZ67wVBhWSZSQLSWKSDOM8kezkPFHX1Y6F42TQmuOmLOmgAIaENGGcB9ts1KBCPTN4zmA55oZBgwbFhGHeZ7Owf4wClIc2QnKT6aopG+cANWNQSSFpzduBGAuYgplEJuvU8+ZsPdhn2QwqbJd2QEIWowMJce4RXNdcJ9WSrOyXv9HWGYhhAIBp07meuN9kE/YMqGEo4hxwnkgS0875Ltuo1v64HkksU4ecB65pEuj8LqWIBpW0HZCAZnCB9sl6/9zPqetqbYHv0+a55hhE4L7KAAhtkTbJPSuFcjZqUAHOJYl3lvqZeeaZ43XJtnmrnIE2DSoiIsWiSAYV4NnCsiEMBvO85ZnMQDrPc54fkDWoMBsGcRTPGp7RjYp4m4He9HmZNahgpqA+MJLkfZdnG+UibudZx0+ecQy2EztUG/xtxKDC8ROzMFBNLILZAaMOpgr2TaxLjMbgN8/k1EBNP4AyMQBNXREf5D2nK2mXQWWKKaaIS2dyTivrs5aYoZJ+BYYIykTdcM6aMagAdUG7wbxMvMSMLvUMKlNOOWVD7YBlQ5mlgnZAX4B+AvFpV00ArTSoAHXBdT9s2LBoAGPGHdoPx0T8Rvsi/qSfSOxHHRPHYXBgdiOuZeqpWixHLMg1TD8ZwwnXKNdqjx49YqyJ6QoTB+eBmUOoP2Yton+G8YTYlPabhbZUVIMKUKfsB/M9ZhPqDMM7549+elqn1B/9dYw7zM7JtU0bxLBD/73yeNJyNGNQAa4V2jtmH84vZisNKiIiIp2FBhUREREpHSSUimJQ4W8M7pPIY9YDEjWYGhiIJTmeJlZJohTBoELSCPMMA7QkmUg6MTMAb0DxVhSJ82wyuBGDSmUdkLhjYB3TCm8/5SXeSLbxN2Z84LMknEgAssQPv+e46tEKg0pq1mAQmsQbdcObiphGSLSTTMvWD/Ad6hRjAfXEsfAdkm+Up1bikeNs1KDC9Msk3Elmsw9md+E6qJd8Z/8krXkrjiQtCVTqDZMB7SQ95mYNKhwb1x1th4TsggsuGNsfxieup8p6ysI+y2ZQoZ4pN9cJyVLaB0YkriPeKuQt37x9UB6Oi3sCyWimTec64XsfffTRBG2WwSV+R53yNjPJdhKxGCbYPu0iuw/KxPYZ1CBJz/klOc/9BTNMOhAGRTSo8JM65d6IsY96YR8kv7nP0Abz9kEboVx8hjbH9cD1wwAQSxXwtxTK2YxBhfIwOMcAEHXFPZ3BOwYoOQ4NKiIixaJoBhUgvidewJTat2/f+OzH2EHcxLMna1DBTMLgK88almRpVMSDxN7EBzyTsgYVln7BwDDDDDPkfpcB9UUXXTQ+54iheQYTV/P8I9atFls2YlABjpEYkziAQXmWRMVYzQA1y7LwbKVOGNwnhmSWBOIF4hRiAgbReR43QrsMKphBiCur1Wk1MciPCZeZaSgTMXJXDCqQxmSUB1MPRodaBpVG2wFmC+oNIwnnlH5BrXZQj1YbVIDyMRso1xn1R+yIWYV4EEMDhhTqiLiSvgD9JkxC1A3XTK2+CtcT8Sp9YGJX+mmYMjCmcEwYlehPYVjhWmA2UmbOZEYV2gtxYmX7pS0V2aACtE/6tNynMJdx/yN2To+bvh4xN/E69cGsNRwz/VHuA5S1sk7TcjRrUKHt0ZaZKYqXMzC4sW8NKiIiIp2DBhUREREpHSQrimJQIXlCModBeQZKeQOSxCtJKhKP6eAzSZTUoILRAzMJSSL2xywYjQpTC0aFNGnIvkmY87YYxhASoCR9GJDPfo/kGp8jScV+SVpSDpLm1CPJJWa+qEz2NGJQoRwkRRmkJ2nN4ACJTs4LhhPMDiQPSSYh1pTm7SyWBeKNLOqC5CWJQxJ1jSaUW2FQYb8k+CkHMzlQNowIJOdInJMAxVSDYSCtU9Y9p04pA0lQjAW0Hc4/ScdqyU/gWBsxqJDw+/DDD+N22QcDCrSdRpK97J9tYSrA+MAACAlckpucc/bVFYMK2ySJySAAbwYz2MC5JwlNwpjtVoPjKZtBJYVj5hogQcrAAtN+k2TmrWOmraetM0CEuF6pHwaQGDDis8yeQttithkS2NnkLMfO24e0MYwgLJ/EtUG7OO+882KymO2l1zTHxfJNDMqQsGaQh4Qxdcm68dnruYgGlRSOmeuFeyjLAHD/IBnNgBnHyr2F+uQeyv2D64+lA7j+MQlxzaVvxNJus22IcjZjUOF3lJ3y8B3ukax7zyAPb0FrUBERKRY8Q3g28AzBCEFMzrNrUiBOSY3UPO+Jn5nFrlH4PoPgPJd4frMNZgwkpuY5QyxBHMsAMM+yrohnJGZUnqvEZDzXeNZjhMj7fFbsl7ibZynPZkzYxGDZ2DMP+iDEOhh1MdgQH9BXqAbb4+98jrog9jjttNPGl4N+EbEtsTQxE8Yi+jjNQKxDXRMbUCbOFbNf5A2WNwvPetoBsVe2/poRsTfHTXxImagT+qwYq4gdib9ps/XibqA89FMwkXCs9M+GDRsW47k05qMdEH/Rt8srT1aUjfNBO6D+OE8YGOq1g3qwDfp8Z5xxRiwn7bSR2TGbhXISs2H4ok4wqtEX5bgwLRNvs39m98DAzHVXq3+ShbZDjE5fifbEvYB4nuuG64e65yfXN22OviP1Xq3dce64/jkvlG3EiBExVq9X15SB+iR2ZV/E/dzv0rZUDf7GtcRx099C1BFtr54xhDZE+8RQQ9+D6z09ZsxRLHVEu6Mc3BNSc1Qe1AXlIFdDe6euiOvrlT8F0xwvgTCbDecWkxG/q3UMIiIiUg40qIiIiEjpKJJBJSVNNDPAz5toDGqSJOONPhIzJA1TgwoGFqZQZqCawWIG9RsVg8QkqNgfSR2SbCR8GYTHIIAY0GYgOfs9/o/ZgrfJmMK5W7ducXYGjAokejAo5CXTGjGopJAgx0TBoC5l4G1QysPMKCQKWWKGN604BgZ6GXzHLEE9YOjhnNZKclfSCoNKCued8lBujD+8PYvZgWWcOH8MoHNcvEHG25+8hcjxct6pq6w5qRacv0YMKmyL48WAxPnkPDBg38wADDPrkJzs1atXHNAnwUhilG13xaACtGsSkyRsOee8UUgZSYCS0M1rU0BSsqwGFbZDvdPeaM+0D84/7YA3KNNkP8LMwfmiXhBvIPJ7ksWc47wypclwrkvMJrytiEGCN6y5fjl3tD3OE4YU3szlOqJtcg4wS9GmKgd4imxQAZLbvK1O8p17Atc19w/WtieRT2KagQ6uebZFO6ZOueZoyyTRU+NeFsrZjEElhcEuBoxoz+xHg4qIiIiIiIiIiMiko0FFRERESkcRDSoMxvI2D7NH8F0Gi5nVhLclKRcDp6lBhamAmW6ZQW2mB2YgtlExQMrSObxhmDWoMBMJ0wxjpGDfrJWd/R5TODP1OVPjMsjMbA7MYILpgUHkam8+NWNQYcCWz2MO4Lh5k5U1rJk1goF5jpsZZhgcxyzDMjh8BkMGb6bxdlgzg76tNKhgcsAsgQmE8mF2wLzB1MpMccw0w9Qpg+QYFJiyGGMCb5lRjrw1uPPg/NUzqFDPtC1mxqH+aF+8yYbhoJG2mUJbxiDA4D7HwWA9A/W0pa4aVNI2yEA+s3hQNxh4eMuO9dd5yzOPMhtUgPJjUuBtat6AxKjCfmjrmEaYUpxrbdVVV41tg3sB55g3cFnCp9bbqZST88p1yZuJ6UwhGEuYzYe13jG4cb1j8sLMwZI+1D/njbeguZ4r3ywsukGF8qZvWTPDEmYU7vHMkMK1QZ3SvjDosD3qm8/wViz3j2rTtVPOrhhU+DvmKwwpmGQ0qIiIiIiIiIiIiEw6GlRERESkdDBwyMwkDLAyxeyQIUPiNLT8vqswWMygLjNfsE3EYC8D7I0ORGJCYVCe6cVZ8gQTAct4sF3KhgmAabcZOMdQ0hUxCI1pgoF8BlcZKGcKZQb6GUDO+w7C+LDnnnvGqY6Z7YJlMxic5viqDZQDx4SB4ZZbbokGBpaFYfCf/VYb3GWQmAFh6oLpfxmYZ2pz1p6nXjC5MBsC22QmCQaBqeNag8V5UA4MIQw4p22gctaISYXj5PhpF0xJjGkJIwp1SZ1yLJwTZsth0BsjSTPHwvaZLYMBeQbQmfq4ctpjtkUZmN6Yczx48OC4HjeD+bXOXSW0QcwL7ANjEMdCW8JMw+A+7Z1psPk9hq9mZmfhHDJ9N2YEzCks7cRsGNVMY7QR/sZxpNcbhiN+V2msaBbqH2MEU2hjDOF4MbQ1274agfNE/dGOaetcI8z2wX5pH9QFdcpsKJhZMAk1es74HOeMdo0pjGuc2Vcwi2HOwLzBvjhfmJq43mqZvCgn7ZjpsbkHsU3OWz24f7FkE1OKsy/uAZhs6rVz6objxRSTnmPaG9dore+x3XSGGoxuzKjCEkocL/cy/s3v2C73PtputWMGysH2OAeY8jB6YYKpV37A7MQ+aEPsm3sZbZZ22sy1JyIiIiIiIiIiImPRoCIiIiKlhcHFVN8lk7rNWuXK/q2ryiPvc7XULF39bvZ7eZpUvstt1SO7rzxNKo1s57vYV7qNvO1M6vZrbbsak7rPanSlLJNCdn95mlTytplVozT7+ZSu7Au6+j3IfjdPzdDV78GkfFdERERERERERET+gwYVEREREREREREREREREREREWkpGlREREREREREREREREREREREpKVoUBERERERERERERERERERERGRlqJBRURERERERERERERERERERERaigYVEREREREREREREREREREREWkpGlREREREREREREREREREREREpKVoUBERERERERERERERERERERGRlqJBRURERERERERERERERERERERaigYVEREREREREREREREREREREWkpGlREREREREREREREREREREREpKVoUBERERERERERERERERERERGRlqJBRURERERERERERERERERERERaigYVEREREREREREREREREREREWkpGlREREREREREREREREREREREpKVoUBERERERERERERERERERERGRlqJBRURERERERERERERERERERERaigYVEREREREREREREREREREREWkpGlREREREREREREREREREREREpKVoUBERERERERERERERERERERGRlqJBRURERERERERERERERERERERaigYVEREREREREREREREREREREWkpGlREREREREREREREREREREREpKVoUBERERERERERERERERERERGRlqJBRURERERERERERERERERERERaigYVEREREREREREREREREREREWkpGlREREREREREREREREREREREpKVoUBERERERERERERERERERERGRlqJBRURERERERERERERERERERERaigYVEREREREREREREREREREREWkpGlREREREREREREREREREREREpKVoUBERERERERERERERERERERGRlqJBRURERERERERERERERERERERaigYVEREREREREREREREREREREWkpGlREREREREREREREREREREREpKVoUBERERERERERERERERERERGRlqJBRURERERERERERERERERERERaigYVEREREREREREREREREREREWkpGlREREREREREREREREREREREpKVoUBERERERERERERERERERERGRlqJBRURERERERERERERERERERERaigYVEREREREREREREREREREREWkpGlREREREREREREREREREREREpKVoUBERERERERERERERERERERGRlqJBRURERERERERERERERERERERaigYVEREREREREREREREREREREWkpGlREREREREREREREREREREREpKVoUBERERERERERERERERERERGRlqJBRURERERERERERERERERERERaigYVEREREREREREREREREREREWkpGlREREREREREREREREREREREpKVoUPn/7doxAQAAAMKg/qk1xT7IAQAAAAAAAAAAKUEFAAAAAAAAAICUoAIAAAAAAAAAQEpQAQAAAAAAAAAgJagAAAAAAAAAAJASVAAAAAAAAAAASAkqAAAAAAAAAACkBBUAAAAAAAAAAFKCCgAAAAAAAAAAKUEFAAAAAAAAAICUoAIAAAAAAAAAQEpQAQAAAAAAAAAgJagAAAAAAAAAAJASVAAAAAAAAAAASAkqAAAAAAAAAACkBBUAAAAAAAAAAFKCCgAAAAAAAAAAKUEFAAAAAAAAAICUoAIAAAAAAAAAQEpQAQAAAAAAAAAgJagAAAAAAAAAAJASVAAAAAAAAAAASAkqAAAAAAAAAACkBBUAAAAAAAAAAELbAQY3YFi1rNhqAAAAAElFTkSuQmCC)"
      ]
    },
    {
      "cell_type": "markdown",
      "metadata": {
        "id": "TeHv3_nhY7Xr"
      },
      "source": [
        "**Word Embedding**\n",
        "\n",
        "The first transformation for both the question and the context tokens is that they are passed through an embedding layer initialized with pre-trained GloVe word vectors. \n",
        "\n",
        "300-dimensional vectors from 840B web crawl version are used here. This version of GLoVe has a vocabulary of 2.2M words. Out of vocabulary or OOV words are initialized by a zero vector. OOV words are the words that are present in your dataset but not in the pretrained vocabulary of GLoVe.\n",
        "\n",
        "These word vectors are used to project/convert a word into a floating point vector which encodes various features associated with the word into its dimensions. Such a conversion is necassary since computers cannot process words as strings but can seamlessly work with a large number of floating point matrices.\n",
        "\n",
        "A dot product between vectors of word that are semantically similar is close to 1 and vice-versa."
      ]
    },
    {
      "cell_type": "code",
      "metadata": {
        "id": "GlWt4xIWtZkP"
      },
      "source": [
        "\n",
        "def create_glove_matrix():\n",
        "    '''\n",
        "    Parses the glove word vectors text file and returns a dictionary with the words as\n",
        "    keys and their respective pretrained word vectors as values.\n",
        "    '''\n",
        "    glove_dict = {}\n",
        "    with open(\"glove.6B.300d.txt\", \"r\", encoding=\"utf-8\") as f:\n",
        "        for line in f:\n",
        "            values = line.split(' ')\n",
        "            word = values[0]\n",
        "            vector = np.asarray(values[1:], dtype=\"float32\")\n",
        "            glove_dict[word] = vector\n",
        "\n",
        "    f.close()\n",
        "    \n",
        "    return glove_dict"
      ],
      "execution_count": null,
      "outputs": []
    },
    {
      "cell_type": "code",
      "metadata": {
        "id": "vnkiw1uhtZiU"
      },
      "source": [
        "\n",
        "glove_dict = create_glove_matrix()"
      ],
      "execution_count": null,
      "outputs": []
    },
    {
      "cell_type": "code",
      "metadata": {
        "id": "QlgjgL4otZfh"
      },
      "source": [
        "def create_word_embedding(glove_dict):\n",
        "    '''\n",
        "    Creates a weight matrix of the words that are common in the GloVe vocab and\n",
        "    the dataset's vocab. Initializes OOV words with a zero vector.\n",
        "    '''\n",
        "    weights_matrix = np.zeros((len(word_vocab), 300))\n",
        "    words_found = 0\n",
        "    for i, word in enumerate(word_vocab):\n",
        "        try:\n",
        "            weights_matrix[i] = glove_dict[word]\n",
        "            words_found += 1\n",
        "        except:\n",
        "            pass\n",
        "    return weights_matrix, words_found"
      ],
      "execution_count": null,
      "outputs": []
    },
    {
      "cell_type": "code",
      "metadata": {
        "id": "FoCGVtkFtZcs"
      },
      "source": [
        "weights_matrix, words_found = create_word_embedding(glove_dict)"
      ],
      "execution_count": null,
      "outputs": []
    },
    {
      "cell_type": "code",
      "metadata": {
        "colab": {
          "base_uri": "https://localhost:8080/"
        },
        "id": "XhIHOhFrtZaY",
        "outputId": "52390cea-3604-43a9-cb51-7f0677013de5"
      },
      "source": [
        "print(\"Total words found in glove vocab: \", words_found)"
      ],
      "execution_count": null,
      "outputs": [
        {
          "output_type": "stream",
          "text": [
            "Total words found in glove vocab:  36585\n"
          ],
          "name": "stdout"
        }
      ]
    },
    {
      "cell_type": "code",
      "metadata": {
        "id": "GTykv4PStZXx"
      },
      "source": [
        "np.save('drqaglove_vt.npy',weights_matrix)"
      ],
      "execution_count": null,
      "outputs": []
    },
    {
      "cell_type": "markdown",
      "metadata": {
        "id": "VAJTnDAeaUye"
      },
      "source": [
        "\n",
        "**Align Question Embedding**\n",
        "\n",
        "This feature enables the model to understand what portion of the context is more important or relevant with respect to the question. The products of projections taken at token level ensure a higher value when similar words from the question and context are multiplied.These features add soft alignments between similar but non-identical words (e.g., car and vehicle).\n",
        "\n",
        "This is achieved via backpropation and training the weights of the dense layer. \n"
      ]
    },
    {
      "cell_type": "code",
      "metadata": {
        "id": "lvRk-iAYtZVZ"
      },
      "source": [
        "class AlignQuestionEmbedding(nn.Module):\n",
        "    \n",
        "    def __init__(self, input_dim):        \n",
        "        \n",
        "        super().__init__()\n",
        "        \n",
        "        self.linear = nn.Linear(input_dim, input_dim)\n",
        "        \n",
        "        self.relu = nn.ReLU()\n",
        "        \n",
        "    def forward(self, context, question, question_mask):\n",
        "    \n",
        "        ctx_ = self.linear(context)\n",
        "        ctx_ = self.relu(ctx_)\n",
        "        \n",
        "        qtn_ = self.linear(question)\n",
        "        qtn_ = self.relu(qtn_)\n",
        "        \n",
        "        qtn_transpose = qtn_.permute(0,2,1)\n",
        "        \n",
        "        align_scores = torch.bmm(ctx_, qtn_transpose)\n",
        "        \n",
        "        qtn_mask = question_mask.unsqueeze(1).expand(align_scores.size())\n",
        "        \n",
        "        # Fills elements of self tensor(align_scores) with value(-float(inf)) where mask is True. \n",
        "        # The shape of mask must be broadcastable with the shape of the underlying tensor.\n",
        "        align_scores = align_scores.masked_fill(qtn_mask == 1, -float('inf'))\n",
        "        \n",
        "        align_scores_flat = align_scores.view(-1, question.size(1))\n",
        "        \n",
        "        alpha = F.softmax(align_scores_flat, dim=1)\n",
        "        alpha = alpha.view(-1, context.shape[1], question.shape[1])\n",
        "        \n",
        "        align_embedding = torch.bmm(alpha, question)\n",
        "        \n",
        "        return align_embedding"
      ],
      "execution_count": null,
      "outputs": []
    },
    {
      "cell_type": "markdown",
      "metadata": {
        "id": "d7e5dwPNZgdc"
      },
      "source": [
        "**Stacked BiLSTM**\n",
        "\n",
        "The paragraph/context encoding which now has two features (glove and $f_{align}$) is then passed to a multilayer (3 layers) bidirectional LSTM.\n",
        "We choose to use a multi-layer bidirectional long short-term memory network (LSTM), and take the concatenation of each layer’s hidden units in the end.\n",
        "\n",
        "To achieve this functionality we cannot directly use the pytorch recurrent layers. Every recurrent layer in pytorch returns a tuple [output, hidden] where output holds the hidden states of all the timesteps from the last layer only. We need to access the hidden states of intermediate layers and then concatenate them at the end. "
      ]
    },
    {
      "cell_type": "markdown",
      "metadata": {
        "id": "Pc8SiL4XZ0TX"
      },
      "source": [
        "We create a nn.ModuleList and add 3 LSTM layers to it. The input size of the first layer remains the same but for subsequent LSTMs, the input size must be twice the hidden size. This is because the output of the first LSTM will have the dimension of [batch_size, seq_len, hidden_size*num_directions] and num_directions is 2 in our case. In the forward method, we loop through the LSTMs, store the hidden states of each layer and finally return the concatenated output."
      ]
    },
    {
      "cell_type": "code",
      "metadata": {
        "id": "IFVvr67wtZMs"
      },
      "source": [
        "class StackedBiLSTM(nn.Module):\n",
        "    \n",
        "    def __init__(self, input_dim, hidden_dim, num_layers, dropout):\n",
        "        \n",
        "        super().__init__()\n",
        "        \n",
        "        self.dropout = dropout\n",
        "        \n",
        "        self.num_layers = num_layers\n",
        "        \n",
        "        self.lstms = nn.ModuleList()\n",
        "        \n",
        "        for i in range(self.num_layers):\n",
        "            \n",
        "            input_dim = input_dim if i == 0 else hidden_dim * 2\n",
        "            \n",
        "            self.lstms.append(nn.LSTM(input_dim, hidden_dim,\n",
        "                                      batch_first=True, bidirectional=True))\n",
        "           \n",
        "    \n",
        "    def forward(self, x):\n",
        "\n",
        "        outputs = [x]\n",
        "        for i in range(self.num_layers):\n",
        "\n",
        "            lstm_input = outputs[-1]\n",
        "            lstm_out = F.dropout(lstm_input, p=self.dropout)\n",
        "            lstm_out, (hidden, cell) = self.lstms[i](lstm_input)\n",
        "           \n",
        "            outputs.append(lstm_out)\n",
        "\n",
        "    \n",
        "        output = torch.cat(outputs[1:], dim=2)\n",
        "        \n",
        "        output = F.dropout(output, p=self.dropout)\n",
        "      \n",
        "        return output"
      ],
      "execution_count": null,
      "outputs": []
    },
    {
      "cell_type": "markdown",
      "metadata": {
        "id": "_7cAo52_bTrS"
      },
      "source": [
        "\n",
        "**Linear Attention Layer**\n",
        "\n",
        "The previous layers were majorly about encoding and representing the context. This layer is used to encode the question and is much simpler than the previous layers. The question tokens are first passed through the glove embedding layer, then passed through the bilstm layer and finally reach this layer. This layer is used to calculate the importance of each word in the question. This can be achieved by simply taking a softmax over the input. However to add more learning capacity to the model, the inputs are multiplied by a trainable weight vector $w$ and then passed through a softmax function."
      ]
    },
    {
      "cell_type": "code",
      "metadata": {
        "id": "2IcKN5QztZIw"
      },
      "source": [
        "class LinearAttentionLayer(nn.Module):\n",
        "    \n",
        "    def __init__(self, input_dim):\n",
        "        \n",
        "        super().__init__()\n",
        "        \n",
        "        self.linear = nn.Linear(input_dim, 1)\n",
        "        \n",
        "    def forward(self, question, question_mask):\n",
        "        \n",
        "        qtn = question.view(-1, question.shape[-1])\n",
        "        \n",
        "        attn_scores = self.linear(qtn)\n",
        "        \n",
        "        attn_scores = attn_scores.view(question.shape[0], question.shape[1])\n",
        "        \n",
        "        attn_scores = attn_scores.masked_fill(question_mask == 1, -float('inf'))\n",
        "        \n",
        "        alpha = F.softmax(attn_scores, dim=1)\n",
        "        \n",
        "        return alpha"
      ],
      "execution_count": null,
      "outputs": []
    },
    {
      "cell_type": "markdown",
      "metadata": {
        "id": "Mby2jd-mbpQa"
      },
      "source": [
        "\n",
        "The following function just multiplies the weights calculated in the previous layer by the outputs of the question bilstm layer. This allows the model to assign higher values to important words in each question."
      ]
    },
    {
      "cell_type": "code",
      "metadata": {
        "id": "1eLz45qetZGS"
      },
      "source": [
        "def weighted_average(x, weights):\n",
        "    \n",
        "    weights = weights.unsqueeze(1)\n",
        "    \n",
        "    w = weights.bmm(x).squeeze(1)\n",
        "    \n",
        "    return w"
      ],
      "execution_count": null,
      "outputs": []
    },
    {
      "cell_type": "markdown",
      "metadata": {
        "id": "09AtxmTzb-rG"
      },
      "source": [
        "**Bilinear Attention**\n",
        "\n",
        "$$ e_{t} = s^{T} W h_{t}$$where $W$ is a trainable weight vector. This is the method used to predict the start and end position of the answer from the context.\n",
        "\n",
        "To implement this layer, we characterise $W$ by a linear layer. First the linear layer is applied to the question, which is equivalent to the product $W.q$. This product is then multiplied by the context using torch.bmm.\n",
        "Note that softmax is not taken over here to get the weights. This is taken care of when we calculate the loss using cross entropy. The following layer does not actually calculate the attention as a weighted sum. It just uses the bilinear term's representation to predict the span."
      ]
    },
    {
      "cell_type": "code",
      "metadata": {
        "id": "U-gxNeAgtZDr"
      },
      "source": [
        "class BilinearAttentionLayer(nn.Module):\n",
        "    \n",
        "    def __init__(self, context_dim, question_dim):\n",
        "        \n",
        "        super().__init__()\n",
        "        \n",
        "        self.linear = nn.Linear(question_dim, context_dim)\n",
        "        \n",
        "    def forward(self, context, question, context_mask):\n",
        "        \n",
        "        qtn_proj = self.linear(question)\n",
        "        \n",
        "        qtn_proj = qtn_proj.unsqueeze(2)\n",
        "        \n",
        "        scores = context.bmm(qtn_proj)\n",
        "        \n",
        "        scores = scores.squeeze(2)\n",
        "        \n",
        "        scores = scores.masked_fill(context_mask == 1, -float('inf'))\n",
        "        \n",
        "        return scores"
      ],
      "execution_count": null,
      "outputs": []
    },
    {
      "cell_type": "code",
      "metadata": {
        "id": "KFhm0nettZB2"
      },
      "source": [
        "class DocumentReader(nn.Module):\n",
        "    \n",
        "    def __init__(self, hidden_dim, embedding_dim, num_layers, num_directions, dropout, device):\n",
        "        \n",
        "        super().__init__()\n",
        "        \n",
        "        self.device = device\n",
        "        \n",
        "        #self.embedding = self.get_glove_embedding()\n",
        "        \n",
        "        self.context_bilstm = StackedBiLSTM(embedding_dim * 2, hidden_dim, num_layers, dropout)\n",
        "        \n",
        "        self.question_bilstm = StackedBiLSTM(embedding_dim, hidden_dim, num_layers, dropout)\n",
        "        \n",
        "        self.glove_embedding = self.get_glove_embedding()\n",
        "        \n",
        "        def tune_embedding(grad, words=1000):\n",
        "            grad[words:] = 0\n",
        "            return grad\n",
        "        \n",
        "        self.glove_embedding.weight.register_hook(tune_embedding)\n",
        "        \n",
        "        self.align_embedding = AlignQuestionEmbedding(embedding_dim)\n",
        "        \n",
        "        self.linear_attn_question = LinearAttentionLayer(hidden_dim*num_layers*num_directions) \n",
        "        \n",
        "        self.bilinear_attn_start = BilinearAttentionLayer(hidden_dim*num_layers*num_directions, \n",
        "                                                          hidden_dim*num_layers*num_directions)\n",
        "        \n",
        "        self.bilinear_attn_end = BilinearAttentionLayer(hidden_dim*num_layers*num_directions,\n",
        "                                                        hidden_dim*num_layers*num_directions)\n",
        "        \n",
        "        self.dropout = nn.Dropout(dropout)\n",
        "   \n",
        "        \n",
        "    def get_glove_embedding(self):\n",
        "        \n",
        "        weights_matrix = np.load('drqaglove_vt.npy')\n",
        "        num_embeddings, embedding_dim = weights_matrix.shape\n",
        "        embedding = nn.Embedding.from_pretrained(torch.FloatTensor(weights_matrix).to(self.device),freeze=False)\n",
        "\n",
        "        return embedding\n",
        "    \n",
        "    \n",
        "    def forward(self, context, question, context_mask, question_mask):\n",
        "        \n",
        "        ctx_embed = self.glove_embedding(context)\n",
        "        \n",
        "        ques_embed = self.glove_embedding(question)\n",
        "\n",
        "        ctx_embed = self.dropout(ctx_embed)\n",
        "     \n",
        "        ques_embed = self.dropout(ques_embed)\n",
        "             \n",
        "        align_embed = self.align_embedding(ctx_embed, ques_embed, question_mask) \n",
        "        \n",
        "        ctx_bilstm_input = torch.cat([ctx_embed, align_embed], dim=2)\n",
        "                \n",
        "        ctx_outputs = self.context_bilstm(ctx_bilstm_input)\n",
        "       \n",
        "        qtn_outputs = self.question_bilstm(ques_embed)\n",
        "    \n",
        "        qtn_weights = self.linear_attn_question(qtn_outputs, question_mask)\n",
        "            \n",
        "        qtn_weighted = weighted_average(qtn_outputs, qtn_weights)\n",
        "        \n",
        "        start_scores = self.bilinear_attn_start(ctx_outputs, qtn_weighted, context_mask)\n",
        "         \n",
        "        end_scores = self.bilinear_attn_end(ctx_outputs, qtn_weighted, context_mask)\n",
        "      \n",
        "        return start_scores, end_scores"
      ],
      "execution_count": null,
      "outputs": []
    },
    {
      "cell_type": "markdown",
      "metadata": {
        "id": "ar50Middcftw"
      },
      "source": [
        "\n",
        "**Hyperparameters**\n",
        "\n",
        "We use 3-layer bidirectional LSTMs with h = 128 hidden units for both paragraph and question encoding. Dropout with p = 0.4 is applied to word embeddings and all the hidden units of LSTMs."
      ]
    },
    {
      "cell_type": "code",
      "metadata": {
        "id": "LH1j-ekEtY-z"
      },
      "source": [
        "device = torch.device('cuda')\n",
        "HIDDEN_DIM = 128\n",
        "EMB_DIM = 300\n",
        "NUM_LAYERS = 3\n",
        "NUM_DIRECTIONS = 2\n",
        "DROPOUT = 0.4\n",
        "device = torch.device('cuda')\n",
        "\n",
        "model = DocumentReader(HIDDEN_DIM,\n",
        "                       EMB_DIM, \n",
        "                       NUM_LAYERS, \n",
        "                       NUM_DIRECTIONS, \n",
        "                       DROPOUT, \n",
        "                       device).to(device)"
      ],
      "execution_count": null,
      "outputs": []
    },
    {
      "cell_type": "markdown",
      "metadata": {
        "id": "uU5znP-GcqOz"
      },
      "source": [
        "## **Training**"
      ]
    },
    {
      "cell_type": "code",
      "metadata": {
        "id": "jgQNbH9jq61l"
      },
      "source": [
        "optimizer = torch.optim.Adamax(model.parameters())"
      ],
      "execution_count": null,
      "outputs": []
    },
    {
      "cell_type": "code",
      "metadata": {
        "colab": {
          "base_uri": "https://localhost:8080/"
        },
        "id": "3i9qzxd8q6yn",
        "outputId": "15fb3b99-3fc5-486b-f1d7-e5248d3de268"
      },
      "source": [
        "def count_parameters(model):\n",
        "    '''Returns the number of trainable parameters in the model.'''\n",
        "    return sum(p.numel() for p in model.parameters() if p.requires_grad)\n",
        "\n",
        "print(f'The model has {count_parameters(model):,} trainable parameters')"
      ],
      "execution_count": null,
      "outputs": [
        {
          "output_type": "stream",
          "text": [
            "The model has 26,539,593 trainable parameters\n"
          ],
          "name": "stdout"
        }
      ]
    },
    {
      "cell_type": "code",
      "metadata": {
        "id": "yGiGs4i5q6wN"
      },
      "source": [
        "def train(model, train_dataset):\n",
        "    '''\n",
        "    Trains the model.\n",
        "    '''\n",
        "    \n",
        "    print(\"Starting training ........\")\n",
        "    \n",
        "    train_loss = 0.\n",
        "    batch_count = 0\n",
        "    \n",
        "    # put the model in training mode\n",
        "    model.train()\n",
        "    \n",
        "    # iterate through training data\n",
        "    for batch in train_dataset:\n",
        "\n",
        "        if batch_count % 500 == 0:\n",
        "            print(f\"Starting batch: {batch_count}\")\n",
        "        batch_count += 1\n",
        "\n",
        "        context, question, context_mask, question_mask, label, ctx, ans, ids = batch\n",
        "        \n",
        "        # place the tensors on GPU\n",
        "        context, context_mask, question, question_mask, label = context.to(device), context_mask.to(device),\\\n",
        "                                    question.to(device), question_mask.to(device), label.to(device)\n",
        "        \n",
        "        # forward pass, get the predictions\n",
        "        preds = model(context, question, context_mask, question_mask)\n",
        "\n",
        "        start_pred, end_pred = preds\n",
        "        \n",
        "        # separate labels for start and end position\n",
        "        start_label, end_label = label[:,0], label[:,1]\n",
        "        \n",
        "        # calculate loss\n",
        "        loss = F.cross_entropy(start_pred, start_label) + F.cross_entropy(end_pred, end_label)\n",
        "        \n",
        "        # backward pass, calculates the gradients\n",
        "        loss.backward()\n",
        "        \n",
        "        # gradient clipping\n",
        "        torch.nn.utils.clip_grad_norm_(model.parameters(), 10)\n",
        "        \n",
        "        # update the gradients\n",
        "        optimizer.step()\n",
        "        \n",
        "        # zero the gradients to prevent them from accumulating\n",
        "        optimizer.zero_grad()\n",
        "\n",
        "        train_loss += loss.item()\n",
        "\n",
        "    return train_loss/len(train_dataset)"
      ],
      "execution_count": null,
      "outputs": []
    },
    {
      "cell_type": "code",
      "metadata": {
        "id": "5KdFjGIAq6f4"
      },
      "source": [
        "def valid(model, valid_dataset):\n",
        "    '''\n",
        "    Performs validation.\n",
        "    '''\n",
        "    \n",
        "    print(\"Starting validation .........\")\n",
        "   \n",
        "    valid_loss = 0.\n",
        "\n",
        "    batch_count = 0\n",
        "    \n",
        "    f1, em = 0., 0.\n",
        "    \n",
        "    # puts the model in eval mode. Turns off dropout\n",
        "    model.eval()\n",
        "    \n",
        "    prediction = []\n",
        "    \n",
        "    for batch in valid_dataset:\n",
        "\n",
        "        if batch_count % 500 == 0:\n",
        "            print(f\"Starting batch {batch_count}\")\n",
        "        batch_count += 1\n",
        "\n",
        "        context, question, context_mask, question_mask, label, context_text, answers, ids = batch\n",
        "\n",
        "        context, context_mask, question, question_mask, label = context.to(device), context_mask.to(device),\\\n",
        "                                    question.to(device), question_mask.to(device), label.to(device)\n",
        "\n",
        "        with torch.no_grad():\n",
        "\n",
        "            preds = model(context, question, context_mask, question_mask)\n",
        "\n",
        "            p1, p2 = preds\n",
        "\n",
        "            y1, y2 = label[:,0], label[:,1]\n",
        "\n",
        "            loss = F.cross_entropy(p1, y1) + F.cross_entropy(p2, y2)\n",
        "\n",
        "            valid_loss += loss.item()\n",
        "\n",
        "            \n",
        "            # get the start and end index positions from the model preds\n",
        "            \n",
        "            batch_size, c_len = p1.size()\n",
        "            ls = nn.LogSoftmax(dim=1)\n",
        "            mask = (torch.ones(c_len, c_len) * float('-inf')).to(device).tril(-1).unsqueeze(0).expand(batch_size, -1, -1)\n",
        "            \n",
        "            score = (ls(p1).unsqueeze(2) + ls(p2).unsqueeze(1)) + mask\n",
        "            score, s_idx = score.max(dim=1)\n",
        "            score, e_idx = score.max(dim=1)\n",
        "            s_idx = torch.gather(s_idx, 1, e_idx.view(-1, 1)).squeeze()\n",
        "            \n",
        "            # stack predictions\n",
        "            for i in range(batch_size):\n",
        "                predictions={}\n",
        "                id = ids[i][:30]\n",
        "                turn_id=ids[i][30:]\n",
        "                pred = context[i][s_idx[i]:e_idx[i]+1]\n",
        "                pred = ' '.join([idx2word[idx.item()] for idx in pred])\n",
        "                predictions['id'] = id\n",
        "                predictions['turn_id']=int(turn_id)\n",
        "                predictions['answer']=pred\n",
        "                prediction.append(predictions)\n",
        "            \n",
        "            \n",
        "    with open('result-{}.json'.format(epoch), 'w') as fp:\n",
        "        json.dump(prediction, fp)\n",
        "    print('result saved')           \n",
        "    return valid_loss/len(valid_dataset)"
      ],
      "execution_count": null,
      "outputs": []
    },
    {
      "cell_type": "code",
      "metadata": {
        "colab": {
          "base_uri": "https://localhost:8080/",
          "height": 505
        },
        "id": "WlAvu5Q5q6YB",
        "outputId": "f2a17372-21d1-43c8-aa9a-971e5c5d1de0"
      },
      "source": [
        "import time\n",
        "import torch.nn.functional as F\n",
        "train_losses = []\n",
        "valid_losses = []\n",
        "ems = []\n",
        "f1s = []\n",
        "epochs = 25\n",
        "\n",
        "for epoch in range(epochs):\n",
        "    print(f\"Epoch {epoch+1}\")\n",
        "    \n",
        "    start_time = time.time()\n",
        "    \n",
        "    train_loss = train(model, train_dataset)\n",
        "    valid(model, valid_dataset)"
      ],
      "execution_count": null,
      "outputs": [
        {
          "output_type": "stream",
          "text": [
            "Epoch 1\n",
            "Starting training ........\n",
            "Starting batch: 0\n",
            "Starting batch: 500\n",
            "Starting batch: 1000\n",
            "Starting batch: 1500\n",
            "Starting batch: 2000\n",
            "Starting validation .........\n",
            "Starting batch 0\n",
            "result saved\n",
            "Epoch 2\n",
            "Starting training ........\n",
            "Starting batch: 0\n",
            "Starting batch: 500\n",
            "Starting batch: 1000\n",
            "Starting batch: 1500\n",
            "Starting batch: 2000\n",
            "Starting validation .........\n",
            "Starting batch 0\n",
            "result saved\n",
            "Epoch 3\n",
            "Starting training ........\n",
            "Starting batch: 0\n",
            "Starting batch: 500\n",
            "Starting batch: 1000\n",
            "Starting batch: 1500\n",
            "Starting batch: 2000\n",
            "Starting validation .........\n",
            "Starting batch 0\n",
            "result saved\n",
            "Epoch 4\n",
            "Starting training ........\n",
            "Starting batch: 0\n",
            "Starting batch: 500\n",
            "Starting batch: 1000\n",
            "Starting batch: 1500\n",
            "Starting batch: 2000\n",
            "Starting validation .........\n",
            "Starting batch 0\n",
            "result saved\n",
            "Epoch 5\n",
            "Starting training ........\n",
            "Starting batch: 0\n",
            "Starting batch: 500\n",
            "Starting batch: 1000\n",
            "Starting batch: 1500\n",
            "Starting batch: 2000\n",
            "Starting validation .........\n",
            "Starting batch 0\n",
            "result saved\n",
            "Epoch 6\n",
            "Starting training ........\n",
            "Starting batch: 0\n",
            "Starting batch: 500\n",
            "Starting batch: 1000\n",
            "Starting batch: 1500\n",
            "Starting batch: 2000\n",
            "Starting validation .........\n",
            "Starting batch 0\n",
            "result saved\n",
            "Epoch 7\n",
            "Starting training ........\n",
            "Starting batch: 0\n",
            "Starting batch: 500\n",
            "Starting batch: 1000\n",
            "Starting batch: 1500\n",
            "Starting batch: 2000\n",
            "Starting validation .........\n",
            "Starting batch 0\n",
            "result saved\n",
            "Epoch 8\n",
            "Starting training ........\n",
            "Starting batch: 0\n",
            "Starting batch: 500\n",
            "Starting batch: 1000\n",
            "Starting batch: 1500\n",
            "Starting batch: 2000\n",
            "Starting validation .........\n",
            "Starting batch 0\n",
            "result saved\n",
            "Epoch 9\n",
            "Starting training ........\n",
            "Starting batch: 0\n",
            "Starting batch: 500\n",
            "Starting batch: 1000\n",
            "Starting batch: 1500\n",
            "Starting batch: 2000\n",
            "Starting validation .........\n",
            "Starting batch 0\n",
            "result saved\n",
            "Epoch 10\n",
            "Starting training ........\n",
            "Starting batch: 0\n",
            "Starting batch: 500\n",
            "Starting batch: 1000\n",
            "Starting batch: 1500\n",
            "Starting batch: 2000\n",
            "Starting validation .........\n",
            "Starting batch 0\n",
            "result saved\n",
            "Epoch 11\n",
            "Starting training ........\n",
            "Starting batch: 0\n",
            "Starting batch: 500\n",
            "Starting batch: 1000\n",
            "Starting batch: 1500\n",
            "Starting batch: 2000\n",
            "Starting validation .........\n",
            "Starting batch 0\n",
            "result saved\n",
            "Epoch 12\n",
            "Starting training ........\n",
            "Starting batch: 0\n",
            "Starting batch: 500\n",
            "Starting batch: 1000\n",
            "Starting batch: 1500\n",
            "Starting batch: 2000\n",
            "Starting validation .........\n",
            "Starting batch 0\n",
            "result saved\n",
            "Epoch 13\n",
            "Starting training ........\n",
            "Starting batch: 0\n",
            "Starting batch: 500\n",
            "Starting batch: 1000\n",
            "Starting batch: 1500\n",
            "Starting batch: 2000\n",
            "Starting validation .........\n",
            "Starting batch 0\n",
            "result saved\n",
            "Epoch 14\n",
            "Starting training ........\n",
            "Starting batch: 0\n",
            "Starting batch: 500\n",
            "Starting batch: 1000\n",
            "Starting batch: 1500\n",
            "Starting batch: 2000\n",
            "Starting validation .........\n",
            "Starting batch 0\n",
            "result saved\n",
            "Epoch 15\n",
            "Starting training ........\n",
            "Starting batch: 0\n",
            "Starting batch: 500\n",
            "Starting batch: 1000\n",
            "Starting batch: 1500\n",
            "Starting batch: 2000\n",
            "Starting validation .........\n",
            "Starting batch 0\n",
            "result saved\n",
            "Epoch 16\n",
            "Starting training ........\n",
            "Starting batch: 0\n",
            "Starting batch: 500\n",
            "Starting batch: 1000\n",
            "Starting batch: 1500\n",
            "Starting batch: 2000\n",
            "Starting validation .........\n",
            "Starting batch 0\n",
            "result saved\n",
            "Epoch 17\n",
            "Starting training ........\n",
            "Starting batch: 0\n",
            "Starting batch: 500\n",
            "Starting batch: 1000\n",
            "Starting batch: 1500\n",
            "Starting batch: 2000\n",
            "Starting validation .........\n",
            "Starting batch 0\n",
            "result saved\n",
            "Epoch 18\n",
            "Starting training ........\n",
            "Starting batch: 0\n",
            "Starting batch: 500\n",
            "Starting batch: 1000\n",
            "Starting batch: 1500\n",
            "Starting batch: 2000\n",
            "Starting validation .........\n",
            "Starting batch 0\n",
            "result saved\n",
            "Epoch 19\n",
            "Starting training ........\n",
            "Starting batch: 0\n",
            "Starting batch: 500\n",
            "Starting batch: 1000\n",
            "Starting batch: 1500\n",
            "Starting batch: 2000\n",
            "Starting validation .........\n",
            "Starting batch 0\n",
            "result saved\n",
            "Epoch 20\n",
            "Starting training ........\n",
            "Starting batch: 0\n",
            "Starting batch: 500\n",
            "Starting batch: 1000\n",
            "Starting batch: 1500\n",
            "Starting batch: 2000\n",
            "Starting validation .........\n",
            "Starting batch 0\n",
            "result saved\n",
            "Epoch 21\n",
            "Starting training ........\n",
            "Starting batch: 0\n",
            "Starting batch: 500\n",
            "Starting batch: 1000\n",
            "Starting batch: 1500\n",
            "Starting batch: 2000\n",
            "Starting validation .........\n",
            "Starting batch 0\n",
            "result saved\n",
            "Epoch 22\n",
            "Starting training ........\n",
            "Starting batch: 0\n",
            "Starting batch: 500\n",
            "Starting batch: 1000\n",
            "Starting batch: 1500\n",
            "Starting batch: 2000\n",
            "Starting validation .........\n",
            "Starting batch 0\n",
            "result saved\n",
            "Epoch 23\n",
            "Starting training ........\n",
            "Starting batch: 0\n",
            "Starting batch: 500\n",
            "Starting batch: 1000\n",
            "Starting batch: 1500\n",
            "Starting batch: 2000\n",
            "Starting validation .........\n",
            "Starting batch 0\n",
            "result saved\n",
            "Epoch 24\n",
            "Starting training ........\n",
            "Starting batch: 0\n",
            "Starting batch: 500\n",
            "Starting batch: 1000\n",
            "Starting batch: 1500\n",
            "Starting batch: 2000\n",
            "Starting validation .........\n",
            "Starting batch 0\n",
            "result saved\n",
            "Epoch 25\n",
            "Starting training ........\n",
            "Starting batch: 0\n",
            "Starting batch: 500\n",
            "Starting batch: 1000\n",
            "Starting batch: 1500\n",
            "Starting batch: 2000\n",
            "Starting validation .........\n",
            "Starting batch 0\n",
            "result saved\n"
          ],
          "name": "stdout"
        },
        {
          "output_type": "execute_result",
          "data": {
            "text/plain": [
              "' \\n    valid_loss = valid(model, valid_dataset)\\n   \\n    end_time = time.time()\\n    \\n    epoch_mins, epoch_secs = epoch_time(start_time, end_time)\\n    \\n    train_losses.append(train_loss)\\n    valid_losses.append(valid_loss)\\n    #ems.append(em)\\n    f1s.append(f1)\\n    \\n    print(f\"Epoch train loss : {train_loss}| Time: {epoch_mins}m {epoch_secs}s\")\\n    print(f\"Epoch valid loss: {valid_loss}\")\\n    #print(f\"Epoch EM: {em}\")\\n    print(f\"Epoch F1: {f1}\")\\n    print(\"====================================================================================\")\\n'"
            ]
          },
          "metadata": {
            "tags": []
          },
          "execution_count": 35
        }
      ]
    }
  ]
}